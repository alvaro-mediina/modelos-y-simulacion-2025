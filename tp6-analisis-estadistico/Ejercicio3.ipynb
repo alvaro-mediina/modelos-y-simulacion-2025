{
 "cells": [
  {
   "cell_type": "code",
   "execution_count": 136,
   "id": "38328c86",
   "metadata": {},
   "outputs": [],
   "source": [
    "from math import sin, cos, sqrt, pi, log\n",
    "from scipy import stats\n",
    "from random import random, seed\n",
    "seed(42)"
   ]
  },
  {
   "cell_type": "markdown",
   "id": "c360d15b",
   "metadata": {},
   "source": [
    "---\n",
    "# Ejercicio 3\n"
   ]
  },
  {
   "cell_type": "markdown",
   "id": "56d2312e",
   "metadata": {},
   "source": [
    "Calcule mediante un método de Monte Carlo las siguientes integrales:\n",
    "\n",
    "**i)**\n",
    "$$\n",
    "    \\int_\\pi^{2\\pi} \\bigg(\\frac{sin(x)}{x}\\bigg)dx\n",
    "$$"
   ]
  },
  {
   "cell_type": "code",
   "execution_count": 163,
   "id": "8f479ecc",
   "metadata": {},
   "outputs": [],
   "source": [
    "def g(x:int) -> float:\n",
    "    \"\"\"\n",
    "    Función dada por el ejercicio I\n",
    "\n",
    "    Args:\n",
    "        x (int): Entradas\n",
    "\n",
    "    Returns:\n",
    "        float: Resultado tras evaluar g en x\n",
    "    \"\"\"\n",
    "    return sin(x) / x\n",
    "\n",
    "def MonteCarlo_map(x:float) -> float:\n",
    "    \"\"\"\n",
    "    Mapeo de MonteCarlo\n",
    "\n",
    "    Args:\n",
    "        x (float): parámetro de entrada\n",
    "\n",
    "    Returns:\n",
    "        float: Mapeo de x evaluado en g hacia el [0,1]\n",
    "    \"\"\"\n",
    "    return g(pi * (1+x)) * pi\n",
    "\n",
    "def integral_estimation(z_alpha_2:float, precision:float) -> list[tuple[int, float, float, float]]:\n",
    "    \"\"\"\n",
    "    Estimación de la integral por el método de Monte Carlo\n",
    "    - Se tiene en cuenta el criterio de parada\n",
    "\n",
    "    Args:\n",
    "        z_alpha_2 (float): Valor de la tabla de la Normal para alpha / 2\n",
    "        precision (float): Según el ejercicio 0.001\n",
    "\n",
    "    Returns:\n",
    "        list[tuple[int, float, float, float]]: Tupla con\n",
    "        - Número de iteraciones\n",
    "        - Estimación de Monte Carlo\n",
    "        - Intervalo de Confianza\n",
    "        - Desvío Estándar\n",
    "    \"\"\"\n",
    "    results = []\n",
    "    mean = MonteCarlo_map(x=random())\n",
    "    Scuad, n = 0, 1\n",
    "    while not (n > 100 and sqrt(Scuad/n) < precision):\n",
    "        n += 1\n",
    "        g_U = MonteCarlo_map(x=random())\n",
    "        prev_mean = mean\n",
    "        mean = prev_mean + (g_U - prev_mean) / n\n",
    "        Scuad = Scuad * (1 - 1/(n-1)) + n * (mean - prev_mean) ** 2\n",
    "        if n == 1000 or n == 5000 or n == 7000:\n",
    "            I = (mean - z_alpha_2 * sqrt(Scuad / n), mean + z_alpha_2 * sqrt(Scuad / n)) \n",
    "            I_Long = I[1] - I[0] \n",
    "            S = sqrt(Scuad / n)\n",
    "            results.append((n, mean, I, I_Long, S))\n",
    "    I = (mean - z_alpha_2 * sqrt(Scuad / n), mean + z_alpha_2 * sqrt(Scuad / n)) \n",
    "    I_Long = I[1] - I[0] \n",
    "    S = sqrt(Scuad / n)\n",
    "    results.append((n, mean, I, I_Long, S))\n",
    "    return results"
   ]
  },
  {
   "cell_type": "code",
   "execution_count": 164,
   "id": "7b6cfdb0",
   "metadata": {},
   "outputs": [],
   "source": [
    "def pretty_print_results(results: list[tuple[int, float, tuple[float, float],float, float]]) -> None:\n",
    "    print(\"=\"*100)\n",
    "    print(f\"{'Iteraciones':>12} | {'Estimación':>12} | {'Intervalo Confianza':^24} | {'Longitud I ':>10}| {'Desvío':>10}\")\n",
    "    print(\"-\"*100)\n",
    "    for n, mean, (lower, upper), I_Long, std in results:\n",
    "        print(f\"{n:12} | {mean:12.4f} | [{lower:10.4f}, {upper:10.4f}] | {I_Long:10.4f} |  {std:10.4f}\")\n",
    "    print(\"=\"*100)"
   ]
  },
  {
   "cell_type": "code",
   "execution_count": 165,
   "id": "5fca6898",
   "metadata": {},
   "outputs": [
    {
     "name": "stdout",
     "output_type": "stream",
     "text": [
      "====================================================================================================\n",
      " Iteraciones |   Estimación |   Intervalo Confianza    | Longitud I |     Desvío\n",
      "----------------------------------------------------------------------------------------------------\n",
      "        1000 |      -0.4317 | [   -0.4450,    -0.4184] |     0.0265 |      0.0068\n",
      "        5000 |      -0.4352 | [   -0.4411,    -0.4293] |     0.0117 |      0.0030\n",
      "        7000 |      -0.4341 | [   -0.4390,    -0.4292] |     0.0099 |      0.0025\n",
      "      169796 |      -0.4346 | [   -0.4356,    -0.4336] |     0.0020 |      0.0005\n",
      "====================================================================================================\n"
     ]
    }
   ],
   "source": [
    "L = 0.001 * 2\n",
    "confiance = 0.95\n",
    "alpha = 1 - confiance\n",
    "z_alpha_2 = abs(stats.norm.ppf(alpha/2))\n",
    "precision = L / (2 * z_alpha_2)\n",
    "results = integral_estimation(z_alpha_2=z_alpha_2, precision=precision)\n",
    "pretty_print_results(results=results)"
   ]
  },
  {
   "cell_type": "markdown",
   "id": "934317e3",
   "metadata": {},
   "source": [
    "🎯 **Valor Real**\n",
    "$$\n",
    "\\int_{\\pi}^{2\\pi} \\frac{sin(x)}{x} dx = −\n",
    "0.4337854758498377\n",
    "$$"
   ]
  },
  {
   "cell_type": "markdown",
   "id": "802c4700",
   "metadata": {},
   "source": [
    "---\n",
    "**ii)**\n",
    "$$\n",
    "    \\int_0^{\\infty} \\frac{3}{3+x⁴}dx\n",
    "$$"
   ]
  },
  {
   "cell_type": "code",
   "execution_count": 166,
   "id": "1d3410c4",
   "metadata": {},
   "outputs": [],
   "source": [
    "def g(x:int) -> float:\n",
    "    \"\"\"\n",
    "    Función dada por el ejercicio II\n",
    "\n",
    "    Args:\n",
    "        x (int): Entradas\n",
    "\n",
    "    Returns:\n",
    "        float: Resultado tras evaluar g en x\n",
    "    \"\"\"\n",
    "    return 3 / (3 + x ** 4)\n",
    "\n",
    "def MonteCarlo_map(x:float) -> float:\n",
    "    \"\"\"\n",
    "    Mapeo de MonteCarlo\n",
    "\n",
    "    Args:\n",
    "        x (float): parámetro de entrada\n",
    "\n",
    "    Returns:\n",
    "        float: Mapeo de x evaluado en g hacia el [0,1]\n",
    "    \"\"\"\n",
    "    return 1 / (x ** 2) * g((1 / x) - 1) "
   ]
  },
  {
   "cell_type": "code",
   "execution_count": 167,
   "id": "11c880e3",
   "metadata": {},
   "outputs": [
    {
     "name": "stdout",
     "output_type": "stream",
     "text": [
      "====================================================================================================\n",
      " Iteraciones |   Estimación |   Intervalo Confianza    | Longitud I |     Desvío\n",
      "----------------------------------------------------------------------------------------------------\n",
      "        1000 |       1.5321 | [    1.4721,     1.5920] |     0.1199 |      0.0306\n",
      "        5000 |       1.4555 | [    1.4288,     1.4822] |     0.0534 |      0.0136\n",
      "        7000 |       1.4427 | [    1.4201,     1.4653] |     0.0453 |      0.0115\n",
      "     3660651 |       1.4616 | [    1.4606,     1.4626] |     0.0020 |      0.0005\n",
      "====================================================================================================\n"
     ]
    }
   ],
   "source": [
    "results = integral_estimation(z_alpha_2=z_alpha_2, precision=precision)\n",
    "pretty_print_results(results=results)"
   ]
  },
  {
   "cell_type": "markdown",
   "id": "c3fcd405",
   "metadata": {},
   "source": [
    "🎯 **Valor Real**\n",
    "$$\n",
    "\\int_{0}^{\\infty} \\frac{3}{3+x⁴} dx = 1.46179069437506\n",
    "$$"
   ]
  }
 ],
 "metadata": {
  "kernelspec": {
   "display_name": "venv",
   "language": "python",
   "name": "python3"
  },
  "language_info": {
   "codemirror_mode": {
    "name": "ipython",
    "version": 3
   },
   "file_extension": ".py",
   "mimetype": "text/x-python",
   "name": "python",
   "nbconvert_exporter": "python",
   "pygments_lexer": "ipython3",
   "version": "3.12.3"
  }
 },
 "nbformat": 4,
 "nbformat_minor": 5
}
