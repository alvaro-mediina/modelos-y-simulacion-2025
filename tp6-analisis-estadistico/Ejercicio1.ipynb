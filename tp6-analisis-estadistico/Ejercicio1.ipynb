{
 "cells": [
  {
   "cell_type": "code",
   "execution_count": 1,
   "id": "b9e4943e",
   "metadata": {},
   "outputs": [],
   "source": [
    "import numpy as np\n",
    "from random import random\n",
    "from math import cos, sin, sqrt, pi, log\n",
    "from Utils import Utils"
   ]
  },
  {
   "cell_type": "markdown",
   "id": "729e7ffe",
   "metadata": {},
   "source": [
    "---\n",
    "# Ejercicio 1\n",
    "Genere n valores de una variable aleatoria normal estándar de manera tal que se cumplan\n",
    "las condiciones: $n \\geq 100$  y S/√n < 0,1, siendo $S$ el estimador de la desviación estándar de los $n$ datos generados."
   ]
  },
  {
   "cell_type": "markdown",
   "id": "e2b991cc",
   "metadata": {},
   "source": [
    "# 🐻‍❄️ Generación de VA Normal Estandar: Método Polar\n",
    "- $100 \\leq n$ muestras\n",
    "- $\\frac{S}{\\sqrt{n}} < 0,1$"
   ]
  },
  {
   "cell_type": "code",
   "execution_count": 2,
   "id": "fea1fe4a",
   "metadata": {},
   "outputs": [],
   "source": [
    "def PolarMethod(mu:float, sigma:float) -> tuple[float, float]:\n",
    "    \"\"\"\n",
    "    Generación de variable aleatoria con distribución normal\n",
    "    Por el método Polar\n",
    "\n",
    "    Args:\n",
    "        mu (float): Parámetro de la distribución\n",
    "        sigma (float): Parámetro de la distribución\n",
    "\n",
    "    Returns:\n",
    "        tuple[float, float]: Punto aleatorio\n",
    "    \"\"\"\n",
    "    Rsquare = -2 * log(1 - random())\n",
    "    Theta = 2 * pi * random() \n",
    "    X = sqrt(Rsquare) * cos(Theta)\n",
    "    Y = sqrt(Rsquare) * sin(Theta)\n",
    "    return (X * sigma + mu, Y * sigma + mu)"
   ]
  },
  {
   "cell_type": "code",
   "execution_count": 4,
   "id": "95220002",
   "metadata": {},
   "outputs": [],
   "source": [
    "def statistics_tool(minNsamples: int, precision: float) -> tuple[int, float, float]:\n",
    "    \"\"\"\n",
    "        Herramienta Estadística\n",
    "\n",
    "    Args:\n",
    "        minNsamples (int): Mínimo número de muestras a generar\n",
    "        precision (float): Precisión\n",
    "\n",
    "    Returns:\n",
    "        tuple[int, float, float]:\n",
    "        - Número de datos generados efectivamente\n",
    "        - Media Muestral\n",
    "        - Varianza Muestral\n",
    "    \"\"\"\n",
    "    mean = PolarMethod(mu=0, sigma=1)[0]\n",
    "    Scuad, n = 0, 1\n",
    "    while not (n >= minNsamples and sqrt(Scuad/n) < precision):\n",
    "        n += 1\n",
    "        x = PolarMethod(mu=0, sigma=1)[0]\n",
    "        prev_mean = mean\n",
    "        mean = prev_mean + (x - prev_mean) / n\n",
    "        Scuad = Scuad * (1 - 1 / (n-1)) + n * (mean - prev_mean) ** 2\n",
    "    return n, mean, Scuad"
   ]
  },
  {
   "cell_type": "code",
   "execution_count": 16,
   "id": "2d90b9e6",
   "metadata": {},
   "outputs": [],
   "source": [
    "MIN_SAMPLES = 100\n",
    "PRECISION = 0.1\n",
    "N, Mean, Scuad = statistics_tool(minNsamples=MIN_SAMPLES, precision=PRECISION)"
   ]
  },
  {
   "cell_type": "markdown",
   "id": "89897486",
   "metadata": {},
   "source": [
    "## Número de datos generados efectivamente"
   ]
  },
  {
   "cell_type": "code",
   "execution_count": 17,
   "id": "a74a55c3",
   "metadata": {},
   "outputs": [
    {
     "name": "stdout",
     "output_type": "stream",
     "text": [
      "👌🏽Números generados efectivamente -> 112\n"
     ]
    }
   ],
   "source": [
    "print(f\"👌🏽Números generados efectivamente -> {N}\")"
   ]
  },
  {
   "cell_type": "markdown",
   "id": "b25e68e1",
   "metadata": {},
   "source": [
    "b) ¿Cuál es la media muestral de los datos generados?"
   ]
  },
  {
   "cell_type": "code",
   "execution_count": 18,
   "id": "ec5eaf8f",
   "metadata": {},
   "outputs": [
    {
     "name": "stdout",
     "output_type": "stream",
     "text": [
      "📊 Media Muestral ➗  -> -0.07203\n"
     ]
    }
   ],
   "source": [
    "print(f\"📊 Media Muestral ➗  -> {Mean:.4}\")"
   ]
  },
  {
   "cell_type": "markdown",
   "id": "d3930bda",
   "metadata": {},
   "source": [
    "c) ¿Cuál es la varianza muestral de los datos generados?"
   ]
  },
  {
   "cell_type": "code",
   "execution_count": 19,
   "id": "0cdb9440",
   "metadata": {},
   "outputs": [
    {
     "name": "stdout",
     "output_type": "stream",
     "text": [
      "📊 Varianza Muestral ➗  -> 1.106\n"
     ]
    }
   ],
   "source": [
    "print(f\"📊 Varianza Muestral ➗  -> {Scuad:.4}\")"
   ]
  }
 ],
 "metadata": {
  "kernelspec": {
   "display_name": "venv",
   "language": "python",
   "name": "python3"
  },
  "language_info": {
   "codemirror_mode": {
    "name": "ipython",
    "version": 3
   },
   "file_extension": ".py",
   "mimetype": "text/x-python",
   "name": "python",
   "nbconvert_exporter": "python",
   "pygments_lexer": "ipython3",
   "version": "3.12.3"
  }
 },
 "nbformat": 4,
 "nbformat_minor": 5
}
