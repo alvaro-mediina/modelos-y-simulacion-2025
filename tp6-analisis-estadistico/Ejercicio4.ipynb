{
 "cells": [
  {
   "cell_type": "code",
   "execution_count": 62,
   "id": "351219cb",
   "metadata": {},
   "outputs": [],
   "source": [
    "from scipy import stats\n",
    "from math import e, sqrt\n",
    "from random import random, seed\n",
    "seed(42)"
   ]
  },
  {
   "cell_type": "markdown",
   "id": "9fc1085e",
   "metadata": {},
   "source": [
    "---\n",
    "# Ejercicio 4\n",
    "Para $U_1,U_2, \\ldots$ variables aleatorias uniformemente distribuidas en el intervalo (0,1), se define:\n",
    "$$\n",
    "N = \\text{Mínimo}\\bigg\\{n: \\sum_{i=1}^{n}U_i > 1 \\bigg\\}\n",
    "$$\n",
    "Esto es, N es igual a la cantidad de números aleatorios que deben sumarse para exceder a 1."
   ]
  },
  {
   "cell_type": "markdown",
   "id": "e3d55b9d",
   "metadata": {},
   "source": [
    "a) Estimar e a partir de la media muestral $\\overline{N} $ con 1000 simulaciones.\n",
    "\n",
    "b) Dar el valor obtenido de la varianza muestral de $\\overline{N}$ correspondiente a 1000 ejecuciones de la simulación.\n"
   ]
  },
  {
   "cell_type": "code",
   "execution_count": null,
   "id": "c17c3f28",
   "metadata": {},
   "outputs": [],
   "source": [
    "def number_estimation(Nsim:int) -> tuple[float, float]:\n",
    "    \"\"\"\n",
    "    Estimación Numérica\n",
    "    - Calcula una estimación del número e.\n",
    "    - Calcula la Varianza Muestral.\n",
    "\n",
    "    Args:\n",
    "        Nsim (int): Número de simulaciones\n",
    "\n",
    "    Returns:\n",
    "        tuple[float, float]: Tupla de:\n",
    "        - Estimación del número e.\n",
    "        - Varianza Muestral.\n",
    "    \"\"\"\n",
    "    mean = 0\n",
    "    Scuad = 0\n",
    "    for i in range(Nsim):\n",
    "        accumulate = random()\n",
    "        n = 1\n",
    "        while not(accumulate > 1):\n",
    "            n += 1\n",
    "            accumulate += random()\n",
    "        N = n\n",
    "        prev_mean = mean\n",
    "        mean = prev_mean + (N - prev_mean) / (i+1)\n",
    "        Scuad = Scuad * (1 - 1 / i) + (i + 1) * (mean - prev_mean) ** 2 if i > 0 else 0\n",
    "    return mean, Scuad"
   ]
  },
  {
   "cell_type": "code",
   "execution_count": 60,
   "id": "58cb0084",
   "metadata": {},
   "outputs": [
    {
     "name": "stdout",
     "output_type": "stream",
     "text": [
      "👉🏽 A\n",
      "🎯 VALOR EXACTO: e = 2.718281828459045\n",
      "🤏🏽   ESTIMACIÓN: e ≈ 2.7059999999999986\n",
      "\n",
      "👉🏽 B\n",
      "😵‍💫 VARIANZA MUESTRAL: 0.7182822822822809\n"
     ]
    }
   ],
   "source": [
    "results = number_estimation(Nsim=1000)\n",
    "print(\"👉🏽 A\")\n",
    "print(f\"🎯 VALOR EXACTO: e = {e}\")\n",
    "print(f\"🤏🏽   ESTIMACIÓN: e ≈ {results[0]}\")\n",
    "print(\"\\n👉🏽 B\")\n",
    "print(f\"😵‍💫 VARIANZA MUESTRAL: {results[1]}\")\n",
    "\n"
   ]
  },
  {
   "cell_type": "markdown",
   "id": "231036b8",
   "metadata": {},
   "source": [
    "c) Dar una estimación de e mediante un intervalo de confianza de 95% con longitud a lo sumo 0.025."
   ]
  },
  {
   "cell_type": "code",
   "execution_count": null,
   "id": "eb5b647e",
   "metadata": {},
   "outputs": [],
   "source": [
    "def number_estimation_w_CI(precision: float) -> float:\n",
    "    \"\"\"\n",
    "    Estimación Numérica\n",
    "    - Calcula una estimación del número e\n",
    "    Utilizando un intervalo de confianza del 95%\n",
    "\n",
    "    Args:\n",
    "        Nsim (int): Número de simulaciones\n",
    "\n",
    "    Returns:\n",
    "        (float): Estimación numérica de e\n",
    "    \"\"\"\n",
    "    mean, Scuad = 0, 0\n",
    "    i = 0\n",
    "    while True:\n",
    "        N = 1\n",
    "        accumulate = random()\n",
    "\n",
    "        while not(accumulate > 1):\n",
    "            N += 1\n",
    "            accumulate += random()\n",
    "        \n",
    "        i += 1\n",
    "\n",
    "        prev_mean = mean\n",
    "        mean = prev_mean + (N - prev_mean) / i\n",
    "        if i > 1:\n",
    "            Scuad = Scuad * (1 - 1 / (i - 1)) + i * (mean - prev_mean) ** 2\n",
    "            \n",
    "            if i > 100 and sqrt(Scuad / i) <= precision:\n",
    "                return mean\n",
    "        else: Scuad = 0"
   ]
  },
  {
   "cell_type": "code",
   "execution_count": null,
   "id": "343ed871",
   "metadata": {},
   "outputs": [
    {
     "name": "stdout",
     "output_type": "stream",
     "text": [
      "👉🏽 C\n",
      "🎯 VALOR EXACTO: e = 2.718281828459045\n",
      "🤏🏽   ESTIMACIÓN: e ≈ 2.712902705319213\n"
     ]
    }
   ],
   "source": [
    "L = 0.025\n",
    "confiance = 0.95\n",
    "alpha = 1 - confiance\n",
    "z_alpha_2 = abs(stats.norm.ppf(alpha/2))\n",
    "precision = L / (2 * z_alpha_2)\n",
    "result = number_estimation_w_CI(precision=precision)\n",
    "print(\"👉🏽 C\")\n",
    "print(f\"🎯 VALOR EXACTO: e = {e}\")\n",
    "print(f\"🤏🏽   ESTIMACIÓN: e ≈ {result}\")"
   ]
  }
 ],
 "metadata": {
  "kernelspec": {
   "display_name": "venv",
   "language": "python",
   "name": "python3"
  },
  "language_info": {
   "codemirror_mode": {
    "name": "ipython",
    "version": 3
   },
   "file_extension": ".py",
   "mimetype": "text/x-python",
   "name": "python",
   "nbconvert_exporter": "python",
   "pygments_lexer": "ipython3",
   "version": "3.12.3"
  }
 },
 "nbformat": 4,
 "nbformat_minor": 5
}
