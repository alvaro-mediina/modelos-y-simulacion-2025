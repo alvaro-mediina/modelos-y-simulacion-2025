{
 "cells": [
  {
   "cell_type": "code",
   "execution_count": null,
   "id": "7dd29f0d",
   "metadata": {},
   "outputs": [],
   "source": [
    "from random import random"
   ]
  },
  {
   "cell_type": "markdown",
   "id": "c04e536f",
   "metadata": {},
   "source": [
    "---\n",
    "# Ejercicio 5\n",
    "Considere una sucesión de números aleatorios $\\{U_i\\}_i$ y sea $M$ el primer $n$ tal que la variable $U_n$ es menor que su variable predecesora. Es decir,\n",
    "$$\n",
    "M = n \\quad \\text{tal que} \\quad U_1 \\leq U_2 \\leq \\ldots \\leq U_{n-1} \\quad \\text{y } U_n < U_{n-1} \n",
    "$$\n",
    "\n",
    "a) Justifique que $P(M > n) = \\frac{1}{n!}, \\quad n \\geqslant 0$"
   ]
  },
  {
   "cell_type": "markdown",
   "id": "a5710d58",
   "metadata": {},
   "source": [
    "Queremos hallar $P(M > n)$, probabilidad de que $M$, el primer $n$ tal que la variable $U_n$ es menor que su variable predecesora, sea *mayor estricto* que el índice de esa variable.\n",
    "\n",
    "Tenemos que $\\{U_i\\}i$ es una sucesión de números aleatorios.\n",
    "\n",
    "La sucesión va arrojando números aleatorios con distribución uniforme en el $(0,1)$, tal que se tienen:\n",
    "$$\n",
    "U_1, U_2, U_3, U_4, \\ldots\n",
    "$$\n",
    "\n",
    "Supongamos por un momento que se almacenan en una lista tal que:\n",
    "$$\n",
    "[U_1, U_2, U_3, U_4, \\ldots]\n",
    "$$\n",
    "\n",
    "Además supongamos que se generaron *n números aleatorios*:\n",
    "$$\n",
    "[U_1, U_2, U_3, U_4, \\ldots, U_n]\n",
    "$$\n",
    "\n",
    "Ahora, podríamos a todos esos elementos permutarlos de *n formas distintas* con $n!$\n",
    "\n",
    "Luego $P(M > n)$ significa que de esa lista de n permutaciones tenemos la combinación tal que:\n",
    "$$\n",
    "\\text{Los } U_i \\text{ están ordenados de menor a mayor} \\wedge U_n < U_{n-1}\n",
    "$$\n",
    "\n",
    "Es decir 1 de las tantas combinaciones.\n",
    "\n",
    "Luego esa combinación particular es 1 en $n!$\n",
    "\n",
    "Luego $P(M > n ) = \\frac{1}{n!}$"
   ]
  },
  {
   "cell_type": "markdown",
   "id": "44aabc2d",
   "metadata": {},
   "source": [
    "---\n",
    "b) Utilice la identidad\n",
    "$$\n",
    "E[M] = \\sum_{n=0}^\\infty P(M > n)\n",
    "$$\n",
    "\n",
    "Para mostrar que $\\displaystyle E[M] = e$"
   ]
  },
  {
   "cell_type": "markdown",
   "id": "4204b10c",
   "metadata": {},
   "source": [
    "Tenemos por *Taylor* que:\n",
    "$$\n",
    " e^x = \\sum_{n=0}^\\infty \\frac{x^n}{n!}\n",
    "$$\n",
    "\n",
    "\n",
    "Supongamos que $x = 1 \\Longrightarrow$\n",
    "$$\n",
    " e = \\sum_{n=0}^\\infty \\frac{1^n}{n!} = \\sum_{n=0}^\\infty \\frac{1}{n!} \\underset{\\text{Ej (a)}}{=} \\sum_{n=0}^\\infty P(M>n) \\underset{Identidad}{=} E[M]\n",
    "$$\n",
    "\n",
    "Luego $$\\boxed{\\displaystyle E[M] = e}$$"
   ]
  },
  {
   "cell_type": "markdown",
   "id": "b1e38dd1",
   "metadata": {},
   "source": [
    "---\n",
    "c) Utilice el resultado del item anterior para dar un estimador de $E[M]$, calcule el valor de su varianza\n",
    "muestral. Mediante una simulación estime el valor de $e$ deteniéndose cuando la varianza muestral sea\n",
    "menor que $0,01$."
   ]
  },
  {
   "cell_type": "code",
   "execution_count": null,
   "id": "e99f2ec6",
   "metadata": {},
   "outputs": [],
   "source": [
    "def M() -> int:\n",
    "    \n",
    "    n = 2\n",
    "    #Caso Base\n",
    "    U_prev = random()\n",
    "    U = random()\n",
    "    if U < U_prev: # En caso de que U_2 < U_1 devuelvo 2\n",
    "        return n\n",
    "\n",
    "    while U_prev < U: # General\n",
    "        n += 1\n",
    "        U_prev = U\n",
    "        U = random()        \n",
    "    return n"
   ]
  },
  {
   "cell_type": "code",
   "execution_count": null,
   "id": "c52f187a",
   "metadata": {},
   "outputs": [],
   "source": []
  }
 ],
 "metadata": {
  "kernelspec": {
   "display_name": "venv",
   "language": "python",
   "name": "python3"
  },
  "language_info": {
   "codemirror_mode": {
    "name": "ipython",
    "version": 3
   },
   "file_extension": ".py",
   "mimetype": "text/x-python",
   "name": "python",
   "nbconvert_exporter": "python",
   "pygments_lexer": "ipython3",
   "version": "3.12.3"
  }
 },
 "nbformat": 4,
 "nbformat_minor": 5
}
