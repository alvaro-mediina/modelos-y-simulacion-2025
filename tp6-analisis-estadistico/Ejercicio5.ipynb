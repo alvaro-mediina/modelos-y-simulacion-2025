{
 "cells": [
  {
   "cell_type": "code",
   "execution_count": 29,
   "id": "7dd29f0d",
   "metadata": {},
   "outputs": [],
   "source": [
    "from random import random\n",
    "from math import sqrt, e\n",
    "from scipy import stats"
   ]
  },
  {
   "cell_type": "markdown",
   "id": "c04e536f",
   "metadata": {},
   "source": [
    "---\n",
    "# Ejercicio 5\n",
    "Considere una sucesión de números aleatorios $\\{U_i\\}_i$ y sea $M$ el primer $n$ tal que la variable $U_n$ es menor que su variable predecesora. Es decir,\n",
    "$$\n",
    "M = n \\quad \\text{tal que} \\quad U_1 \\leq U_2 \\leq \\ldots \\leq U_{n-1} \\quad \\text{y } U_n < U_{n-1} \n",
    "$$\n",
    "\n",
    "a) Justifique que $P(M > n) = \\frac{1}{n!}, \\quad n \\geqslant 0$"
   ]
  },
  {
   "cell_type": "markdown",
   "id": "a5710d58",
   "metadata": {},
   "source": [
    "Queremos hallar $P(M > n)$, probabilidad de que $M$, el primer $n$ tal que la variable $U_n$ es menor que su variable predecesora, sea *mayor estricto* que el índice de esa variable.\n",
    "\n",
    "Tenemos que $\\{U_i\\}i$ es una sucesión de números aleatorios.\n",
    "\n",
    "La sucesión va arrojando números aleatorios con distribución uniforme en el $(0,1)$, tal que se tienen:\n",
    "$$\n",
    "U_1, U_2, U_3, U_4, \\ldots\n",
    "$$\n",
    "\n",
    "Supongamos por un momento que se almacenan en una lista tal que:\n",
    "$$\n",
    "[U_1, U_2, U_3, U_4, \\ldots]\n",
    "$$\n",
    "\n",
    "Además supongamos que se generaron *n números aleatorios*:\n",
    "$$\n",
    "[U_1, U_2, U_3, U_4, \\ldots, U_n]\n",
    "$$\n",
    "\n",
    "Ahora, podríamos a todos esos elementos permutarlos de *n formas distintas* con $n!$\n",
    "\n",
    "Luego $P(M > n)$ significa que de esa lista de n permutaciones tenemos la combinación tal que:\n",
    "$$\n",
    "\\text{Los } U_i \\text{ están ordenados de menor a mayor} \\wedge U_n < U_{n-1}\n",
    "$$\n",
    "\n",
    "Es decir 1 de las tantas combinaciones.\n",
    "\n",
    "Luego esa combinación particular es 1 en $n!$\n",
    "\n",
    "Luego $P(M > n ) = \\frac{1}{n!}$"
   ]
  },
  {
   "cell_type": "markdown",
   "id": "44aabc2d",
   "metadata": {},
   "source": [
    "---\n",
    "b) Utilice la identidad\n",
    "$$\n",
    "E[M] = \\sum_{n=0}^\\infty P(M > n)\n",
    "$$\n",
    "\n",
    "Para mostrar que $\\displaystyle E[M] = e$"
   ]
  },
  {
   "cell_type": "markdown",
   "id": "4204b10c",
   "metadata": {},
   "source": [
    "Tenemos por *Taylor* que:\n",
    "$$\n",
    " e^x = \\sum_{n=0}^\\infty \\frac{x^n}{n!}\n",
    "$$\n",
    "\n",
    "\n",
    "Supongamos que $x = 1 \\Longrightarrow$\n",
    "$$\n",
    " e = \\sum_{n=0}^\\infty \\frac{1^n}{n!} = \\sum_{n=0}^\\infty \\frac{1}{n!} \\underset{\\text{Ej (a)}}{=} \\sum_{n=0}^\\infty P(M>n) \\underset{Identidad}{=} E[M]\n",
    "$$\n",
    "\n",
    "Luego $$\\boxed{\\displaystyle E[M] = e}$$"
   ]
  },
  {
   "cell_type": "markdown",
   "id": "b1e38dd1",
   "metadata": {},
   "source": [
    "---\n",
    "c) Utilice el resultado del item anterior para dar un estimador de $E[M]$, calcule el valor de su varianza\n",
    "muestral. Mediante una simulación estime el valor de $e$ deteniéndose cuando la varianza muestral sea\n",
    "menor que $0,01$."
   ]
  },
  {
   "cell_type": "code",
   "execution_count": 2,
   "id": "e99f2ec6",
   "metadata": {},
   "outputs": [],
   "source": [
    "def M() -> int:\n",
    "    \"\"\"\n",
    "    Variable aleatoria: mínimo n tal que\n",
    "    U_n-1 > U_n AND U_1 <= U_2 <= ... <= U_n-1\n",
    "\n",
    "    Returns:\n",
    "        int: Menor n tal que se cumple lo de antes\n",
    "    \"\"\"\n",
    "    n = 2\n",
    "    #Caso Base\n",
    "    U_prev = random()\n",
    "    U = random()\n",
    "    if U < U_prev: # En caso de que U_2 < U_1 devuelvo 2\n",
    "        return n\n",
    "\n",
    "    while U_prev < U: # General\n",
    "        n += 1\n",
    "        U_prev = U\n",
    "        U = random()        \n",
    "    return n"
   ]
  },
  {
   "cell_type": "code",
   "execution_count": 24,
   "id": "c52f187a",
   "metadata": {},
   "outputs": [],
   "source": [
    "def hope_estimator(precision:float) -> tuple[float, int]:\n",
    "    \"\"\"\n",
    "    Estimación de E[M]\n",
    "\n",
    "    Args:\n",
    "        precision (float): 0.01 según el ejercicio\n",
    "\n",
    "    Returns:\n",
    "        tuple(float, float): Estimación, #iteraciones para calcular la estimación\n",
    "    \"\"\"\n",
    "    i, mean, Scuad = 1, M(), 0\n",
    "    while not(i > 100 and sqrt(Scuad/i) < precision):\n",
    "        i += 1\n",
    "        U_i = M()\n",
    "        prev_mean = mean\n",
    "        mean = prev_mean + (U_i - prev_mean) / i\n",
    "        Scuad = Scuad * (1 - 1 / (i - 1)) + i * (mean - prev_mean) ** 2\n",
    "    return mean, i"
   ]
  },
  {
   "cell_type": "code",
   "execution_count": 53,
   "id": "d871f179",
   "metadata": {},
   "outputs": [
    {
     "name": "stdout",
     "output_type": "stream",
     "text": [
      "🎯 VALOR EXACTO: e = 2.718281828459045\n",
      "🤏🏽   ESTIMACIÓN: e ≈ 2.7315255108597913\n",
      "📝 #ITERACIONES: N = 7781\n",
      "🤬    ERROR ABS: Δ = 0.013243682400746\n"
     ]
    }
   ],
   "source": [
    "results = hope_estimator(precision=0.01)\n",
    "print(f\"🎯 VALOR EXACTO: e = {e}\")\n",
    "print(f\"🤏🏽   ESTIMACIÓN: e ≈ {results[0]}\")\n",
    "print(f\"📝 #ITERACIONES: N = {results[1]}\")\n",
    "print(f\"🤬    ERROR ABS: Δ = {abs(e-results[0]):.15f}\")"
   ]
  },
  {
   "cell_type": "markdown",
   "id": "ef71cdfe",
   "metadata": {},
   "source": [
    "---\n",
    "d) Dé una estimación de $e$ mediante un intervalo de ancho menor que $0,1$ y con una confianza del $95%$"
   ]
  },
  {
   "cell_type": "code",
   "execution_count": 31,
   "id": "c0db8488",
   "metadata": {},
   "outputs": [],
   "source": [
    "def number_estimation_w_CI(precision: float) -> tuple[float, float]:\n",
    "    \"\"\"\n",
    "    Estimación Numérica\n",
    "    - Calcula una estimación del número e\n",
    "    Utilizando un intervalo de confianza del 95%\n",
    "\n",
    "    Args:\n",
    "        Nsim (int): Número de simulaciones\n",
    "\n",
    "    Returns:\n",
    "        tuple(float, float): Estimación numérica de e, #iteraciones para calcular la estimación\n",
    "    \"\"\"\n",
    "    mean, Scuad = M(), 0\n",
    "    i = 1\n",
    "    while not(i > 100 and sqrt(Scuad / i) < precision):\n",
    "        i += 1\n",
    "        X = M()\n",
    "        prev_mean = mean\n",
    "        mean = prev_mean + (X - prev_mean) / i\n",
    "        Scuad = Scuad * (1 - 1 / (i - 1)) + i * (mean - prev_mean) ** 2\n",
    "    return mean, i"
   ]
  },
  {
   "cell_type": "code",
   "execution_count": 54,
   "id": "c2001d19",
   "metadata": {},
   "outputs": [
    {
     "name": "stdout",
     "output_type": "stream",
     "text": [
      "🎯 VALOR EXACTO: e = 2.718281828459045\n",
      "🤏🏽   ESTIMACIÓN: e ≈ 2.743922204213945\n",
      "📝 #ITERACIONES: N = 1234\n",
      "🤬    ERROR ABS: Δ = 0.025640375754900\n"
     ]
    }
   ],
   "source": [
    "L = 0.1\n",
    "confiance = 0.95\n",
    "alpha = 1 - confiance\n",
    "z_alpha_2 = abs(stats.norm.ppf(alpha/2))\n",
    "precision = L / (2 * z_alpha_2)\n",
    "results = number_estimation_w_CI(precision=float(precision))\n",
    "print(f\"🎯 VALOR EXACTO: e = {e}\")\n",
    "print(f\"🤏🏽   ESTIMACIÓN: e ≈ {results[0]}\")\n",
    "print(f\"📝 #ITERACIONES: N = {results[1]}\")\n",
    "print(f\"🤬    ERROR ABS: Δ = {abs(e-results[0]):.15f}\")"
   ]
  },
  {
   "cell_type": "markdown",
   "id": "d4df2145",
   "metadata": {},
   "source": [
    "# Comparaciones de ambos métodos"
   ]
  },
  {
   "cell_type": "markdown",
   "id": "5ff3bcd4",
   "metadata": {},
   "source": [
    "| Método de Estimación                        | 🎯 Valor Exacto (e) | 🤏🏽 Estimación       | 📝 Iteraciones (N) | 🤬 Error Absoluto (Δ) |\n",
    "|--------------------------------------------|---------------------|----------------------|---------------------|------------------------|\n",
    "| Estimación directa de E[M]                 | 2.718281828459045   | ≈ 2.7315255108597913 | 7781                | 0.013243682400746      |\n",
    "| Intervalo de confianza del 95%             | 2.718281828459045   | ≈ 2.743922204213945  | 1234                | 0.025640375754900      |\n"
   ]
  },
  {
   "cell_type": "markdown",
   "id": "e47f37ee",
   "metadata": {},
   "source": [
    "Se puede ver que con muchísimas menos iteraciones con un intervalo de confianza y con la precisión dada podemos\n",
    "aproximarnos mucho y cometer un error dentro de todo bajo a comparación del método por estimación directa de $E[M]$"
   ]
  }
 ],
 "metadata": {
  "kernelspec": {
   "display_name": "venv",
   "language": "python",
   "name": "python3"
  },
  "language_info": {
   "codemirror_mode": {
    "name": "ipython",
    "version": 3
   },
   "file_extension": ".py",
   "mimetype": "text/x-python",
   "name": "python",
   "nbconvert_exporter": "python",
   "pygments_lexer": "ipython3",
   "version": "3.12.3"
  }
 },
 "nbformat": 4,
 "nbformat_minor": 5
}
