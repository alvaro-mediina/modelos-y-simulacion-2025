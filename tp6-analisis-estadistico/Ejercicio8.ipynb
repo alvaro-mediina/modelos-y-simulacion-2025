{
 "cells": [
  {
   "cell_type": "code",
   "execution_count": 35,
   "id": "c9b53cec",
   "metadata": {},
   "outputs": [],
   "source": [
    "from itertools import product"
   ]
  },
  {
   "cell_type": "markdown",
   "id": "5b009434",
   "metadata": {},
   "source": [
    "---\n",
    "# Ejercicio 8\n",
    "Sean $X1,...,Xn$ variables aleatorias independientes e idénticamente distribuidas con varianza $\\sigma²$ desconocida. Se planea estimar $\\sigma^2$ mediante la varianza muestral\n",
    "$$ S² =  \\sum_{i=1}^n \\frac{(X_i - \\overline{X})²}{(n-1)}$$"
   ]
  },
  {
   "cell_type": "markdown",
   "id": "4486c954",
   "metadata": {},
   "source": [
    "a) Si $n = 2, X_1 = 1 \\text{ y } X_2 = 3$, ¿cuál es la estimación “bootstrap” de $Var(S^2)$?"
   ]
  },
  {
   "cell_type": "markdown",
   "id": "6f978b40",
   "metadata": {},
   "source": [
    "Se han obtenido dos muestras de una variable X con distribución F según el ejercicio.\n",
    "\n",
    "Luego la distribución empírica $F_e$ asigna a X la probabilidad:\n",
    "$$\n",
    "p_i = P(X = x_i) = \\frac{\\# \\{j| x_j = x_i\\}}{n} \n",
    "$$ \n",
    "\n",
    "tal que para nuestro caso:\n",
    "$$\n",
    "P_{F_e}(X = x_1) = 0.5 \\quad P_{F_e}(X = x_2) = 0.5\n",
    "$$\n",
    "\n",
    "Así tenemos que una muestra *bootstrap* de tamaño $n^n=2^2=4$, para estimar la varianza, tomada de esta distribución empírica es:\n",
    "$$\n",
    "b_1 = (1, 1), \\quad b_2 = (1, 3), \\quad, b_3 = (3, 1), \\quad b_4 = (3, 3)\n",
    "$$\n",
    "\n",
    "A su vez debemos tener en cuenta que como se quiere hallar $Var(S²) \\Rightarrow \\widehat{\\theta} = S²$\n",
    "\n",
    "Y se calculan las 4 *replicaciones bootstrap* correspondientes:\n",
    "$$\n",
    "\\begin{align*}\n",
    "    \\overline{X}_{b_1}  &= \\theta(1, 1) = \\frac{1 + 1}{2} = 1\\\\[0.3cm]\n",
    "    \\overline{X}_{b_2}  &= \\theta(1, 3) = \\frac{1 + 3}{2} = 2\\\\[0.3cm]\n",
    "    \\overline{X}_{b_3}  &= \\theta(3, 1) = \\frac{3 + 1}{2} = 2\\\\[0.3cm]\n",
    "    \\overline{X}_{b_4}  &= \\theta(3, 3) = \\frac{3 + 3}{2} = 3\\\\[0.3cm]\n",
    "\\end{align*}\n",
    "$$\n",
    "\n",
    "<br>\n",
    "\n",
    "$$\n",
    "\\begin{align*}\n",
    "    \\widehat{\\theta}_{b_1}  &= S_{b_1}^2 = \\frac{1}{2-1}\\cdot \\sum_{i=1}^2 (b_{j_i} - \\overline{X}_{b_1})^2 =\n",
    "    \n",
    "    \\frac{(1-1)^2 + (1-1)^2}{2-1} = 0\\\\[0.3cm]\n",
    "    \\widehat{\\theta}_{b_2}  &= S_{b_2}^2 = \\frac{1}{2-1}\\cdot \\sum_{i=1}^2 (b_{j_i} - \\overline{X}_{b_2})^2 =\n",
    "    \n",
    "    \\frac{(1-2)^2 + (3-2)^2}{2-1} = 2\\\\[0.3cm]\n",
    "    \\widehat{\\theta}_{b_3}  &= S_{b_3}^2 = \\frac{1}{2-1}\\cdot \\sum_{i=1}^2 (b_{j_i} - \\overline{X}_{b_3})^2 =\n",
    "    \n",
    "    \\frac{(3-2)^2 + (1-2)^2}{2-1} = 2\\\\[0.3cm]\n",
    "    \\widehat{\\theta}_{b_4}  &= S_{b_4}^2 = \\frac{1}{2-1}\\cdot \\sum_{i=1}^2 (b_{j_i} - \\overline{X}_{b_4})^2 =\n",
    "    \n",
    "    \\frac{(3-3)^2 + (3-3)^2}{2-1} = 0\\\\[0.3cm]\n",
    "\\end{align*}\n",
    "$$\n",
    "\n",
    "Por último como $Var(S²) = Var(\\widehat{\\theta}) = E[\\widehat{\\theta}²] - E[\\widehat{\\theta}]²$\n",
    "$$\n",
    "E[\\widehat{\\theta}] = \\frac{0+2+2+0}{4} = 1\\\\[0.3cm]\n",
    "$$\n",
    "\n",
    "Luego:\n",
    "$$\n",
    "Var(\\widehat{\\theta}) = \\frac{1}{4-1} \\sum_{i=1}^4 (\\widehat{\\theta}_{b_i} - E[\\widehat{\\theta}])² =\n",
    " \\frac{(0-1)² + (2-1)² + (2-1)² + (0-1)²}{4-1} = 1.3333\\ldots\n",
    "$$\n",
    "\n"
   ]
  },
  {
   "cell_type": "code",
   "execution_count": 47,
   "id": "32b0f2f6",
   "metadata": {},
   "outputs": [],
   "source": [
    "def X_bar(XiS:tuple[int, ...] | list[int | float]) -> float:\n",
    "    \"\"\"\n",
    "    Cálculo de la media de una tupla o una lista\n",
    "\n",
    "    Args:\n",
    "        XiS (tuple[int, ...] | list[int | float] ): Tupla de muestra bootstrap ó lista de muestras bootstrap\n",
    "    \"\"\"\n",
    "    return sum(XiS) / len(XiS)\n",
    "\n",
    "def S_squared(XiS: tuple[int, ...] | list[float]) -> float:\n",
    "    \"\"\"\n",
    "    Varianza muestral (S²) de una tupla\n",
    "\n",
    "    Args:\n",
    "        XiS (tuple[int, ...]): Tupla de muestra bootstrap\n",
    "\n",
    "    Returns:\n",
    "        float: Varianza muestral S²\n",
    "    \"\"\"\n",
    "    n = len(XiS)\n",
    "    if n < 2:\n",
    "        raise ValueError(\"La varianza requiere al menos 2 elementos.\")\n",
    "    \n",
    "    mean = sum(XiS) / n\n",
    "    return sum((x - mean) ** 2 for x in XiS) / (n - 1)\n",
    "\n",
    "def bootstrap_estimation(real_values: list[int]):\n",
    "    \n",
    "    bootstrap_samples = list(product(real_values, repeat=len(real_values))) \n",
    "\n",
    "    X_bar_i = [X_bar(sample) for sample in bootstrap_samples]\n",
    "\n",
    "    widehat_theta_i = [S_squared(sample) for sample in bootstrap_samples]\n",
    "    \n",
    "    return S_squared(XiS=widehat_theta_i)\n",
    "    "
   ]
  },
  {
   "cell_type": "code",
   "execution_count": 46,
   "id": "28ce741a",
   "metadata": {},
   "outputs": [
    {
     "name": "stdout",
     "output_type": "stream",
     "text": [
      "🧮 Estimación de Var(S²): 1.3333\n"
     ]
    }
   ],
   "source": [
    "REAL_VALUES = [1, 3]\n",
    "estimation = bootstrap_estimation(real_values=REAL_VALUES)\n",
    "print(f\"🧮 Estimación de Var(S²): {estimation:.4f}\")"
   ]
  }
 ],
 "metadata": {
  "kernelspec": {
   "display_name": "venv",
   "language": "python",
   "name": "python3"
  },
  "language_info": {
   "codemirror_mode": {
    "name": "ipython",
    "version": 3
   },
   "file_extension": ".py",
   "mimetype": "text/x-python",
   "name": "python",
   "nbconvert_exporter": "python",
   "pygments_lexer": "ipython3",
   "version": "3.12.3"
  }
 },
 "nbformat": 4,
 "nbformat_minor": 5
}
