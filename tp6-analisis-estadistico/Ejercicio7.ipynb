{
 "cells": [
  {
   "cell_type": "code",
   "execution_count": 5,
   "id": "d91c0952",
   "metadata": {},
   "outputs": [],
   "source": [
    "from random import choices"
   ]
  },
  {
   "cell_type": "markdown",
   "id": "255a9cbd",
   "metadata": {},
   "source": [
    "---\n",
    "# Ejercicio 7\n",
    "Sean $X1,...,Xn$ variables aleatorias i.i.d., con media desconocida $\\mu$. Para constantes $a < b$, se\n",
    "quiere estimar $p = P(a < \\sum_{i=1}^nXi/n−\\mu < b)$. Estimar p if $n = 10$ y los valores de $Xi$ son $56, 101, 78, 67, 93, 87, 64, 72, 80\\text{ y } 69$. Tomar $a = −5, b = 5$."
   ]
  },
  {
   "cell_type": "code",
   "execution_count": 6,
   "id": "af72382b",
   "metadata": {},
   "outputs": [],
   "source": [
    "def X_bar(XiS:list[int]) -> float:\n",
    "    \"\"\"\n",
    "    Cálculo de la media de una lista\n",
    "\n",
    "    Args:\n",
    "        XiS (List[int]): Lista de muestras\n",
    "    \"\"\"\n",
    "    return sum(XiS) / len(XiS)\n",
    "\n",
    "def p_estimation(n:int, a:int, b:int, XiS:list[int], replics:int) -> float:\n",
    "    \"\"\"\n",
    "    Estimación de p\n",
    "\n",
    "    Args:\n",
    "        n (int): Número de muestras\n",
    "        a (int): cota inferior\n",
    "        b (int): cota superior\n",
    "        XiS (list[int]): Lista de Muestras reales\n",
    "        replics (int): #Muestras Bootstrap\n",
    "\n",
    "    Returns:\n",
    "        float: Estimación de p\n",
    "    \"\"\"\n",
    "    counting = 0\n",
    "    real_average = X_bar(XiS=XiS)\n",
    "    for _ in range(replics):\n",
    "        samples = choices(XiS, k=n)\n",
    "        sample_average = X_bar(XiS=samples)\n",
    "        diff = sample_average - real_average\n",
    "        if a < diff < b:\n",
    "            counting += 1\n",
    "    return counting / replics"
   ]
  },
  {
   "cell_type": "code",
   "execution_count": 9,
   "id": "c9c12fe2",
   "metadata": {},
   "outputs": [
    {
     "name": "stdout",
     "output_type": "stream",
     "text": [
      "🚀🅱️ ESTIMACIÓN por BOOTSTRAP: 0.7593\n"
     ]
    }
   ],
   "source": [
    "A = -5\n",
    "B = 5\n",
    "N = 10\n",
    "XiS =  [56, 101, 78, 67, 93,\n",
    "        87, 64, 72, 80, 69]\n",
    "REPLICS = 10_000\n",
    "\n",
    "estimation = p_estimation(n=N, a=A, b=B, XiS=XiS, replics=REPLICS)\n",
    "print(f\"🚀🅱️ ESTIMACIÓN por BOOTSTRAP: {estimation}\")"
   ]
  }
 ],
 "metadata": {
  "kernelspec": {
   "display_name": "venv",
   "language": "python",
   "name": "python3"
  },
  "language_info": {
   "codemirror_mode": {
    "name": "ipython",
    "version": 3
   },
   "file_extension": ".py",
   "mimetype": "text/x-python",
   "name": "python",
   "nbconvert_exporter": "python",
   "pygments_lexer": "ipython3",
   "version": "3.12.3"
  }
 },
 "nbformat": 4,
 "nbformat_minor": 5
}
