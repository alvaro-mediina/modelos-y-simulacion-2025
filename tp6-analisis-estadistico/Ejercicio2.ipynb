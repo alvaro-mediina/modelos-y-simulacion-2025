{
 "cells": [
  {
   "cell_type": "code",
   "execution_count": 1,
   "id": "14d89bda",
   "metadata": {},
   "outputs": [],
   "source": [
    "import numpy as np\n",
    "from random import random\n",
    "from math import cos, sin, sqrt, pi, log, e"
   ]
  },
  {
   "cell_type": "markdown",
   "id": "8044e70a",
   "metadata": {},
   "source": [
    "---\n",
    "# Ejercicio 2\n",
    "\n",
    "Estime mediante el método de *Monte Carlo* la integral:\n"
   ]
  },
  {
   "cell_type": "markdown",
   "id": "76f49bf0",
   "metadata": {},
   "source": [
    "i)\n",
    "$$\n",
    "\\int_0^1 \\frac{e^x}{\\sqrt{2x}}dx\n",
    "$$"
   ]
  },
  {
   "cell_type": "code",
   "execution_count": 10,
   "id": "17737576",
   "metadata": {},
   "outputs": [],
   "source": [
    "def g(x:float) -> float:\n",
    "    \"\"\"\n",
    "    Función del enunciado\n",
    "\n",
    "    Args:\n",
    "        x (float): Entrada de la función\n",
    "\n",
    "    Returns:\n",
    "        float: Resultado de evaluar g en x\n",
    "    \"\"\"    \n",
    "    return (e ** x) / (sqrt(2 * x))\n",
    "\n",
    "def conditional_MonteCarlo(minNsamples: int, precision: float) -> list[float]:\n",
    "    \"\"\"\n",
    "        Estimación a través del método de Monte Carlo\n",
    "        pero modificada para terminar cuando:\n",
    "        - Número de simulaciones al menos en minNsamples\n",
    "        - Desviación estándar muestral S del estimador sea menor que 0.01\n",
    "\n",
    "    Args:\n",
    "        minNsamples (int): Mínimo número de muestras a generar\n",
    "        precision (float): Precisión\n",
    "\n",
    "    Returns:\n",
    "        list[float]: Lista de valores generados por el método\n",
    "\n",
    "    \"\"\"\n",
    "    generates_values = []\n",
    "    mean = g(x=random()) \n",
    "    Scuad, n = 0, 1\n",
    "    while not (n >= minNsamples and sqrt(Scuad/n) < precision):\n",
    "        n += 1\n",
    "        U = random()\n",
    "        g_U = g(x=U) \n",
    "        generates_values.append(g_U) \n",
    "        prev_mean = mean\n",
    "        mean = prev_mean + (g_U - prev_mean) / n\n",
    "        Scuad = Scuad * (1 - 1 / (n-1)) + n * (mean - prev_mean) ** 2\n",
    "    return n, mean, Scuad"
   ]
  },
  {
   "cell_type": "code",
   "execution_count": 11,
   "id": "7768f3f4",
   "metadata": {},
   "outputs": [],
   "source": [
    "MIN_SAMPLES = 100\n",
    "PRECISION = 0.01\n",
    "N, Mean, Scuad = conditional_MonteCarlo(minNsamples=MIN_SAMPLES, precision=PRECISION)"
   ]
  },
  {
   "cell_type": "code",
   "execution_count": 12,
   "id": "8b2d5ff1",
   "metadata": {},
   "outputs": [
    {
     "name": "stdout",
     "output_type": "stream",
     "text": [
      "👌🏽Números generados efectivamente -> 27673\n",
      "📊 Media Muestral ➗  -> 2.066\n",
      "📊 Varianza Muestral ➗  -> 2.767\n"
     ]
    }
   ],
   "source": [
    "print(f\"👌🏽Números generados efectivamente -> {N}\")\n",
    "print(f\"📊 Media Muestral ➗  -> {Mean:.4}\")\n",
    "print(f\"📊 Varianza Muestral ➗  -> {Scuad:.4}\")"
   ]
  },
  {
   "cell_type": "markdown",
   "id": "1cf2c7a2",
   "metadata": {},
   "source": [
    "---\n",
    "ii)\n",
    "$$\n",
    "\\int_{-\\infty}^\\infty x^2\\cdot e^{-x^2} dx\n",
    "$$\n"
   ]
  },
  {
   "cell_type": "markdown",
   "id": "e1fc632e",
   "metadata": {},
   "source": [
    "Estamos en el caso donde la integral está definida en todo el rango numérico en \\Re, debemos realizar el procedimiento para mapear los límites de integración en el $[0,1]$\n",
    "\n",
    "Tenemos que:\n",
    "$$\n",
    "\\int_{-\\infty}^\\infty x^2\\cdot e^{-x^2} dx = \\int_{-\\infty}^0 x^2\\cdot e^{-x^2} dx + \\int_{0}^\\infty x^2\\cdot e^{-x^2} dx\n",
    "$$\n"
   ]
  },
  {
   "cell_type": "markdown",
   "id": "c054c239",
   "metadata": {},
   "source": [
    "Pero ahora, como $x²$ es una función par y $e^{-x²}$ también lo es, la multiplicación de ellas resulta par pues:\n",
    "$$\n",
    "\\text{Sea }f \\text{ una función}\\\\\n",
    "f \\text{ es par }\\Longleftrightarrow f(x) = f(-x)\\quad \\forall x \\in \\Re\n",
    "$$"
   ]
  }
 ],
 "metadata": {
  "kernelspec": {
   "display_name": "venv",
   "language": "python",
   "name": "python3"
  },
  "language_info": {
   "codemirror_mode": {
    "name": "ipython",
    "version": 3
   },
   "file_extension": ".py",
   "mimetype": "text/x-python",
   "name": "python",
   "nbconvert_exporter": "python",
   "pygments_lexer": "ipython3",
   "version": "3.12.3"
  }
 },
 "nbformat": 4,
 "nbformat_minor": 5
}
