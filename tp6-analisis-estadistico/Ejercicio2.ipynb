{
 "cells": [
  {
   "cell_type": "code",
   "execution_count": 14,
   "id": "14d89bda",
   "metadata": {},
   "outputs": [],
   "source": [
    "import numpy as np\n",
    "import seaborn as sns\n",
    "from random import random\n",
    "import matplotlib.pyplot as plt\n",
    "from math import cos, sin, sqrt, pi, log, e\n",
    "pallete = sns.color_palette(\"Set2\")\n",
    "sns.set_theme(style='darkgrid')"
   ]
  },
  {
   "cell_type": "markdown",
   "id": "8044e70a",
   "metadata": {},
   "source": [
    "---\n",
    "# Ejercicio 2\n",
    "\n",
    "Estime mediante el método de *Monte Carlo* la integral:\n"
   ]
  },
  {
   "cell_type": "markdown",
   "id": "76f49bf0",
   "metadata": {},
   "source": [
    "i)\n",
    "$$\n",
    "\\int_0^1 \\frac{e^x}{\\sqrt{2x}}dx\n",
    "$$"
   ]
  },
  {
   "cell_type": "code",
   "execution_count": 68,
   "id": "17737576",
   "metadata": {},
   "outputs": [],
   "source": [
    "def g(x:float) -> float:\n",
    "    \"\"\"\n",
    "    Función del enunciado\n",
    "\n",
    "    Args:\n",
    "        x (float): Entrada de la función\n",
    "\n",
    "    Returns:\n",
    "        float: Resultado de evaluar g en x\n",
    "    \"\"\"    \n",
    "    return (e ** x) / (sqrt(2 * x))\n",
    "\n",
    "def conditional_MonteCarlo(minNsamples: int, precision: float) -> tuple[float, float, float]:\n",
    "    \"\"\"\n",
    "        Estimación a través del método de Monte Carlo\n",
    "        pero modificada para terminar cuando:\n",
    "        - Número de simulaciones al menos en minNsamples\n",
    "        - Desviación estándar muestral S del estimador sea menor que 0.01\n",
    "\n",
    "    Args:\n",
    "        minNsamples (int): Mínimo número de muestras a generar\n",
    "        precision (float): Precisión\n",
    "\n",
    "    Returns:\n",
    "        tuple[float, float, float, list[float]]: Tupla que contiene:\n",
    "        - N° de valores generados por el método\n",
    "        - Media muestral\n",
    "        - Varianza muestral\n",
    "\n",
    "    \"\"\"\n",
    "    summation = 0\n",
    "    mean = g(x=random()) \n",
    "    Scuad, n = 0, 1\n",
    "    while not (n >= minNsamples and sqrt(Scuad/n) < precision):\n",
    "        n += 1\n",
    "        U = random()\n",
    "        g_U = g(x=U) \n",
    "        summation += g_U \n",
    "        prev_mean = mean\n",
    "        mean = prev_mean + (g_U - prev_mean) / n\n",
    "        Scuad = Scuad * (1 - 1 / (n-1)) + n * (mean - prev_mean) ** 2\n",
    "    return n, mean, Scuad"
   ]
  },
  {
   "cell_type": "code",
   "execution_count": 69,
   "id": "7768f3f4",
   "metadata": {},
   "outputs": [],
   "source": [
    "MIN_SAMPLES = 100\n",
    "PRECISION = 0.01\n",
    "N, Mean, Scuad = conditional_MonteCarlo(minNsamples=MIN_SAMPLES, precision=PRECISION)"
   ]
  },
  {
   "cell_type": "code",
   "execution_count": null,
   "id": "8b2d5ff1",
   "metadata": {},
   "outputs": [
    {
     "name": "stdout",
     "output_type": "stream",
     "text": [
      "👌🏽Números generados efectivamente -> 59604\n",
      "📊 Media Muestral ➗  -> 2.069\n",
      "📊 Varianza Muestral ➗  -> 5.96\n"
     ]
    }
   ],
   "source": [
    "print(f\"👌🏽Números generados efectivamente -> {N}\")\n",
    "print(f\"📊 Media Muestral ➗  -> {Mean:.4}\")\n",
    "print(f\"📊 Varianza Muestral ➗  -> {Scuad:.4}\")"
   ]
  },
  {
   "cell_type": "markdown",
   "id": "1cf2c7a2",
   "metadata": {},
   "source": [
    "---\n",
    "ii)\n",
    "$$\n",
    "\\int_{-\\infty}^\\infty x^2\\cdot e^{-x^2} dx\n",
    "$$\n"
   ]
  },
  {
   "cell_type": "markdown",
   "id": "e1fc632e",
   "metadata": {},
   "source": [
    "Estamos en el caso donde la integral está definida en todo el rango numérico en \\Re, debemos realizar el procedimiento para mapear los límites de integración en el $[0,1]$\n",
    "\n",
    "Tenemos que:\n",
    "$$\n",
    "\\int_{-\\infty}^\\infty x^2\\cdot e^{-x^2} dx = \\int_{-\\infty}^0 x^2\\cdot e^{-x^2} dx + \\int_{0}^\\infty x^2\\cdot e^{-x^2} dx\n",
    "$$\n"
   ]
  },
  {
   "cell_type": "markdown",
   "id": "c054c239",
   "metadata": {},
   "source": [
    "Pero ahora, como $x²$ es una función par y $e^{-x²}$ también lo es, la multiplicación de ellas resulta par pues:\n",
    "$$\n",
    "\\text{Sea }f \\text{ una función}\\\\\n",
    "f \\text{ es par }\\Longleftrightarrow f(x) = f(-x)\\quad \\forall x \\in \\Re\n",
    "$$"
   ]
  },
  {
   "cell_type": "markdown",
   "id": "e6ba9fbd",
   "metadata": {},
   "source": [
    "Veamos si esto se cumple:\n",
    "Sea $f(x) = x² \\cdot e^{-x²}$\n",
    "\n",
    "\n",
    "$$\n",
    "\\begin{align*}\n",
    "f(-x) &= (-x)² \\cdot e^{-(-x)²} = x² \\cdot e^{-x²} = f(x) \\\\[0.3cm]\n",
    "&\\text{Luego f es par}\n",
    "\\end{align*}\n",
    "$$"
   ]
  },
  {
   "cell_type": "markdown",
   "id": "9dc40ee0",
   "metadata": {},
   "source": [
    "Esto implica que:\n",
    "$$\n",
    "\\int_{-\\infty}^0 x^2\\cdot e^{-x^2} dx = \\int_{0}^\\infty x^2\\cdot e^{-x^2} dx\n",
    "$$ \n",
    "\n",
    "Por ende calcular $$\\int_{-\\infty}^\\infty x^2\\cdot e^{-x^2} dx = 2 \\cdot \\int_{0}^\\infty x^2\\cdot e^{-x^2} dx $$\n",
    "\n",
    "Ahora que tenemos esto, seguimos el procedimiento para calcular una estimación de Monte Carlo con estos límites de integración"
   ]
  },
  {
   "cell_type": "code",
   "execution_count": 8,
   "id": "709c9c04",
   "metadata": {},
   "outputs": [],
   "source": [
    "def g(x:float) -> float:\n",
    "    \"\"\"\n",
    "    Función del enunciado\n",
    "\n",
    "    Args:\n",
    "        x (float): Entrada de la función\n",
    "\n",
    "    Returns:\n",
    "        float: Resultado de evaluar g en x\n",
    "    \"\"\"    \n",
    "    return (x ** 2) * (e** (-x ** 2))\n",
    "\n",
    "def MonteCarlo_mapping(y:float) -> float:\n",
    "    \"\"\"\n",
    "    Mapeo de Monte Carlo\n",
    "    Mapea el intervalo (0; inf) al (0,1)\n",
    "\n",
    "    Args:\n",
    "        y (float): entrada\n",
    "\n",
    "    Returns:\n",
    "        float: Cálculo de función mapeada en el (0,1) para la entrada y\n",
    "    \"\"\"\n",
    "    return (1 / y ** 2) * g(1/y - 1)\n",
    "\n",
    "\n",
    "def conditional_MonteCarlo(minNsamples: int, precision: float) -> tuple[float, float, float]:\n",
    "    \"\"\"\n",
    "        Estimación a través del método de Monte Carlo\n",
    "        pero modificada para terminar cuando:\n",
    "        - Número de simulaciones al menos en minNsamples\n",
    "        - Desviación estándar muestral S del estimador sea menor que 0.01\n",
    "\n",
    "    Args:\n",
    "        minNsamples (int): Mínimo número de muestras a generar\n",
    "        precision (float): Precisión\n",
    "\n",
    "    Returns:\n",
    "        tuple[float, float, float]: Tupla que contiene:\n",
    "        - N° de valores generados por el método\n",
    "        - Media muestral\n",
    "        - Varianza muestral\n",
    "\n",
    "    \"\"\"\n",
    "    generates_values = []\n",
    "    mean = g(x=random()) \n",
    "    Scuad, n = 0, 1\n",
    "    while not (n >= minNsamples and sqrt(Scuad/n) < precision):\n",
    "        n += 1\n",
    "        U = random()\n",
    "        g_U = MonteCarlo_mapping(y=U) \n",
    "        generates_values.append(g_U) \n",
    "        prev_mean = mean\n",
    "        mean = prev_mean + (g_U - prev_mean) / n\n",
    "        Scuad = Scuad * (1 - 1 / (n-1)) + n * (mean - prev_mean) ** 2\n",
    "    return n, mean, Scuad"
   ]
  },
  {
   "cell_type": "code",
   "execution_count": 9,
   "id": "a71cb1d1",
   "metadata": {},
   "outputs": [],
   "source": [
    "MIN_SAMPLES = 100\n",
    "PRECISION = 0.01\n",
    "N, Mean, Scuad = conditional_MonteCarlo(minNsamples=MIN_SAMPLES, precision=PRECISION)"
   ]
  },
  {
   "cell_type": "code",
   "execution_count": 10,
   "id": "38adf6d5",
   "metadata": {},
   "outputs": [
    {
     "name": "stdout",
     "output_type": "stream",
     "text": [
      "👌🏽Números generados efectivamente -> 3294\n",
      "📊 Media Muestral ➗  -> 0.4509\n",
      "📊 Varianza Muestral ➗  -> 0.3293\n"
     ]
    }
   ],
   "source": [
    "print(f\"👌🏽Números generados efectivamente -> {N}\")\n",
    "print(f\"📊 Media Muestral ➗  -> {Mean:.4}\")\n",
    "print(f\"📊 Varianza Muestral ➗  -> {Scuad:.4}\")"
   ]
  }
 ],
 "metadata": {
  "kernelspec": {
   "display_name": "venv",
   "language": "python",
   "name": "python3"
  },
  "language_info": {
   "codemirror_mode": {
    "name": "ipython",
    "version": 3
   },
   "file_extension": ".py",
   "mimetype": "text/x-python",
   "name": "python",
   "nbconvert_exporter": "python",
   "pygments_lexer": "ipython3",
   "version": "3.12.3"
  }
 },
 "nbformat": 4,
 "nbformat_minor": 5
}
