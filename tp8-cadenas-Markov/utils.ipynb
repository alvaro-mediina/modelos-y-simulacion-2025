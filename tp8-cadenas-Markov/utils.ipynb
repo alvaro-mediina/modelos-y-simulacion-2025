{
 "cells": [
  {
   "cell_type": "code",
   "execution_count": 1,
   "id": "18f6dcb2",
   "metadata": {},
   "outputs": [],
   "source": [
    "import numpy as np"
   ]
  },
  {
   "cell_type": "markdown",
   "id": "252c9795",
   "metadata": {},
   "source": [
    "---\n",
    "# Práctico 8 - Cadenas de Markov"
   ]
  },
  {
   "cell_type": "markdown",
   "id": "13c2b01d",
   "metadata": {},
   "source": [
    "# Cálculos matriciales"
   ]
  },
  {
   "cell_type": "code",
   "execution_count": 19,
   "id": "939f5837",
   "metadata": {},
   "outputs": [
    {
     "name": "stdout",
     "output_type": "stream",
     "text": [
      "⎡143  29  143⎤\n",
      "⎢───  ──  ───⎥\n",
      "⎢256  64  256⎥\n",
      "⎢            ⎥\n",
      "⎢75   17  75 ⎥\n",
      "⎢───  ──  ───⎥\n",
      "⎢128  32  128⎥\n",
      "⎢            ⎥\n",
      "⎢109  23  109⎥\n",
      "⎢───  ──  ───⎥\n",
      "⎣128  32  128⎦\n"
     ]
    }
   ],
   "source": [
    "#Elevar una matriz a un d exponente\n",
    "import sympy as sp\n",
    "\n",
    "\n",
    "Q = sp.Matrix([\n",
    "    [sp.Rational(1,4), sp.Rational(1,2), sp.Rational(1,4)],\n",
    "    [sp.Rational(1,2), sp.Rational(0)  , sp.Rational(1,2)],\n",
    "    [sp.Rational(1,2), sp.Rational(1,2), sp.Rational(1,2)]\n",
    "]\n",
    ")\n",
    "\n",
    "sp.pprint(Q @ Q @ Q @ Q)"
   ]
  },
  {
   "cell_type": "code",
   "execution_count": 20,
   "id": "9aa5e71a",
   "metadata": {},
   "outputs": [
    {
     "name": "stdout",
     "output_type": "stream",
     "text": [
      "Matriz Q\n",
      "------ -\n",
      "[0.25  0.50  0.25]\n",
      "[0.50  0.00  0.50]\n",
      "[0.50  0.50  0.50]\n"
     ]
    }
   ],
   "source": [
    "\n",
    "Q = [\n",
    "    [0.25, 0.5, 0.25],\n",
    "    [0.5 ,  0 , 0.5 ],\n",
    "    [0.5 , 0.5, 0.5 ]\n",
    "]\n",
    "\n",
    "n = 3\n",
    "\n",
    "print(\"Matriz Q\")\n",
    "print(\"------ -\")\n",
    "for fila in Q:\n",
    "    print(\"[\" + \"  \".join(f\"{x:>4.2f}\" for x in fila) + \"]\")\n"
   ]
  },
  {
   "cell_type": "code",
   "execution_count": 21,
   "id": "80d30675",
   "metadata": {},
   "outputs": [
    {
     "name": "stdout",
     "output_type": "stream",
     "text": [
      "Matriz Q^4\n",
      "------ ---\n",
      "[0.56  0.45  0.56]\n",
      "[0.59  0.53  0.59]\n",
      "[0.85  0.72  0.85]\n"
     ]
    }
   ],
   "source": [
    "EXPON = 4\n",
    "Q = np.linalg.matrix_power(Q, EXPON)\n",
    "print(f\"Matriz Q^{EXPON}\")\n",
    "print(\"------ ---\")\n",
    "for fila in Q:\n",
    "    print(\"[\" + \"  \".join(f\"{x:>4.2f}\" for x in fila) + \"]\")"
   ]
  }
 ],
 "metadata": {
  "kernelspec": {
   "display_name": ".venv",
   "language": "python",
   "name": "python3"
  },
  "language_info": {
   "codemirror_mode": {
    "name": "ipython",
    "version": 3
   },
   "file_extension": ".py",
   "mimetype": "text/x-python",
   "name": "python",
   "nbconvert_exporter": "python",
   "pygments_lexer": "ipython3",
   "version": "3.12.3"
  }
 },
 "nbformat": 4,
 "nbformat_minor": 5
}
