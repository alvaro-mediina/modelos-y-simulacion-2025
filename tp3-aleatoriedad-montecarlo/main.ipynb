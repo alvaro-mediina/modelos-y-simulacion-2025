{
 "cells": [
  {
   "cell_type": "markdown",
   "id": "6f4efbf9",
   "metadata": {},
   "source": [
    "# Ejercicio 1\n",
    " ---\n"
   ]
  },
  {
   "cell_type": "markdown",
   "id": "35464e1f",
   "metadata": {},
   "source": [
    "**A) Determinar el período de la secuencia de Von Neumann generada a partir de las semillas:**\n",
    "- 3009\n",
    "- 7600\n",
    "- 1234\n",
    "- 4321"
   ]
  },
  {
   "cell_type": "code",
   "execution_count": 1,
   "id": "6a1113d6",
   "metadata": {},
   "outputs": [
    {
     "name": "stdout",
     "output_type": "stream",
     "text": [
      "El periodo de la semilla [3009] es -> 4\n",
      "El periodo de la semilla [7600] es -> 1\n",
      "El periodo de la semilla [1234] es -> 57\n",
      "El periodo de la semilla [4321] es -> 71\n"
     ]
    }
   ],
   "source": [
    "from generators import Von_Neumann\n",
    "\n",
    "seeds = [3009, 7600, 1234, 4321]\n",
    "for seed in seeds:\n",
    "    period = Von_Neumann.period(seed=seed)\n",
    "    print(f\"El periodo de la semilla [{seed}] es -> {period}\")"
   ]
  },
  {
   "cell_type": "markdown",
   "id": "275a2bb7",
   "metadata": {},
   "source": [
    "**B) Dar el valor de c y de a para que cada generador tenga período máximo.**\n",
    "- $y_{i+1}=5y_i+c \\bmod(2⁵)$ -> Generador lineal congruencial **mixto**\n",
    "- $x_{i+1}=ax_i \\bmod(31)$ -> Generador lineal congruencial **multiplicativo**\n",
    "\n",
    "**Considerar el generador** $z_{i+1}=x_i+y_i \\bmod(2⁵)$ **y calcular su período.** "
   ]
  },
  {
   "cell_type": "code",
   "execution_count": 4,
   "id": "d6228b8d",
   "metadata": {},
   "outputs": [
    {
     "name": "stdout",
     "output_type": "stream",
     "text": [
      "El Generador Congruencial Lineal Mixto tiene periodo MÁXIMO -> True\n"
     ]
    }
   ],
   "source": [
    "# Ejemplo del Generador Lineal Congruencial Mixto\n",
    "from generators import LinearCongruentialMixed\n",
    "congruential_mixed = LinearCongruentialMixed.is_maximum_period(a=5, c=3, M=16)\n",
    "print(f\"El Generador Congruencial Lineal Mixto tiene periodo MÁXIMO -> {congruential_mixed}\")"
   ]
  },
  {
   "cell_type": "code",
   "execution_count": 1,
   "id": "524bbd6b",
   "metadata": {},
   "outputs": [
    {
     "name": "stdout",
     "output_type": "stream",
     "text": [
      "Descomposición Prima de 30 -> [2, 3, 5]\n",
      "Los candidatos a raíz primitiva son -> [3, 11, 12, 13, 17, 21, 22, 24]\n"
     ]
    }
   ],
   "source": [
    "# Ejemplo del Generador Lineal Congruencial Multiplicativo\n",
    "from generators import LinearCongruentialMultiplicative\n",
    "primitive_root_candidates = LinearCongruentialMultiplicative.root_primitive_candidates(M=31)\n",
    "print(f\"Los candidatos a raíz primitiva son -> {primitive_root_candidates}\")"
   ]
  },
  {
   "cell_type": "markdown",
   "id": "e6ae51a4",
   "metadata": {},
   "source": [
    "**Representación gráfica de $(y_i,y_i+1), (x_i,x_i+1)$ y $(z_i,z_i+1)$**"
   ]
  },
  {
   "cell_type": "code",
   "execution_count": 1,
   "id": "cfb95a38",
   "metadata": {},
   "outputs": [
    {
     "data": {
      "image/png": "[encoded data removed]",
      "text/plain": [
       "<Figure size 640x480 with 3 Axes>"
      ]
     },
     "metadata": {},
     "output_type": "display_data"
    }
   ],
   "source": [
    "# Generador** $z_{i+1}=x_i+y_i \\bmod(2⁵) y calcular su período. \n",
    "import matplotlib.pyplot as plt\n",
    "from generators import InventedCongruentialWithSumm\n",
    "\n",
    "# Test generador_nuevo\n",
    "ys, xs, zs = InventedCongruentialWithSumm.invented_congruential_sum(a=12, c=9,M=32 ,iterations=1000, X_seed=1, Y_seed=1)\n",
    "\n",
    "fig, ax = plt.subplots(3, 1)\n",
    "ax[0].plot(ys[:-1], ys[1:], 'ro', label='y')\n",
    "ax[1].plot(xs[:-1], xs[1:], 'bo', label='x')\n",
    "ax[2].plot(zs[:-1], zs[1:], 'ko', label='z')\n",
    "plt.show()"
   ]
  },
  {
   "cell_type": "markdown",
   "id": "f0835768",
   "metadata": {},
   "source": [
    "**C) Indicar en cuáles de los siguientes casos el generador:**\n",
    "- $y_{i+1}=ay_i+c \\bmod(M)$\n",
    "\n",
    "**genera una secuencia de período máximo.**"
   ]
  },
  {
   "cell_type": "code",
   "execution_count": null,
   "id": "64c5e7da",
   "metadata": {},
   "outputs": [
    {
     "name": "stdout",
     "output_type": "stream",
     "text": [
      "Los parámetros a:125, c:3, M:512 genera una secuencia de período máximo -> True\n",
      "Los parámetros a:123, c:3, M:512 genera una secuencia de período máximo -> False\n",
      "Los parámetros a:125, c:3, M:512 genera una secuencia de período máximo -> True\n",
      "Los parámetros a:5, c:0, M:71 genera una secuencia de período máximo -> False\n",
      "Los parámetros a:7, c:0, M:71 genera una secuencia de período máximo -> False\n"
     ]
    }
   ],
   "source": [
    "from generators import LinearCongruentialMixed\n",
    "#(a,c,M)\n",
    "inputs = [(125,3,2**9), (123,3,2**9), (125,3,2**9), (5,0,71), (7,0,71)]\n",
    "\n",
    "for inps in inputs:\n",
    "    print(f\"a = {inps[0]}, c = {inps[1]}, M = {inps[2]} genera una secuencia de período máximo -> {LinearCongruentialMixed.is_maximum_period(inps[0],inps[1], inps[2])}\")"
   ]
  }
 ],
 "metadata": {
  "kernelspec": {
   "display_name": "venv",
   "language": "python",
   "name": "python3"
  },
  "language_info": {
   "codemirror_mode": {
    "name": "ipython",
    "version": 3
   },
   "file_extension": ".py",
   "mimetype": "text/x-python",
   "name": "python",
   "nbconvert_exporter": "python",
   "pygments_lexer": "ipython3",
   "version": "3.12.3"
  }
 },
 "nbformat": 4,
 "nbformat_minor": 5
}
