{
 "cells": [
  {
   "cell_type": "markdown",
   "id": "6f4efbf9",
   "metadata": {},
   "source": [
    "# Ejercicio 1\n",
    " ---\n"
   ]
  },
  {
   "cell_type": "markdown",
   "id": "35464e1f",
   "metadata": {},
   "source": [
    "**A) Determinar el período de la secuencia de Von Neumann generada a partir de las semillas:**\n",
    "- 3009\n",
    "- 7600\n",
    "- 1234\n",
    "- 4321"
   ]
  },
  {
   "cell_type": "code",
   "execution_count": 1,
   "id": "6a1113d6",
   "metadata": {},
   "outputs": [
    {
     "name": "stdout",
     "output_type": "stream",
     "text": [
      "El periodo de la semilla [3009] es -> 4\n",
      "El periodo de la semilla [7600] es -> 1\n",
      "El periodo de la semilla [1234] es -> 57\n",
      "El periodo de la semilla [4321] es -> 71\n"
     ]
    }
   ],
   "source": [
    "from generators import Von_Neumann\n",
    "\n",
    "seeds = [3009, 7600, 1234, 4321]\n",
    "for seed in seeds:\n",
    "    period = Von_Neumann.period(seed=seed)\n",
    "    print(f\"El periodo de la semilla [{seed}] es -> {period}\")"
   ]
  },
  {
   "cell_type": "markdown",
   "id": "275a2bb7",
   "metadata": {},
   "source": [
    "**B) Dar el valor de c y de a para que cada generador tenga período máximo.**\n",
    "- $y_{i+1}=5y_i+c \\bmod(2⁵)$ -> Generador lineal congruencial **mixto**\n",
    "- $x_{i+1}=ax_i \\bmod(31)$ -> Generador lineal congruencial **multiplicativo**"
   ]
  },
  {
   "cell_type": "code",
   "execution_count": null,
   "id": "d6228b8d",
   "metadata": {},
   "outputs": [],
   "source": [
    "from generators import LinearCongruentialMixed, LinearCongruentialMixed\n"
   ]
  }
 ],
 "metadata": {
  "kernelspec": {
   "display_name": "venv",
   "language": "python",
   "name": "python3"
  },
  "language_info": {
   "codemirror_mode": {
    "name": "ipython",
    "version": 3
   },
   "file_extension": ".py",
   "mimetype": "text/x-python",
   "name": "python",
   "nbconvert_exporter": "python",
   "pygments_lexer": "ipython3",
   "version": "3.12.3"
  }
 },
 "nbformat": 4,
 "nbformat_minor": 5
}
