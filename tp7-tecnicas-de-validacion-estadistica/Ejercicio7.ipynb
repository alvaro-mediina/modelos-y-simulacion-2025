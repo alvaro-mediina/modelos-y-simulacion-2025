{
 "cells": [
  {
   "cell_type": "code",
   "execution_count": 23,
   "id": "837b76b3",
   "metadata": {},
   "outputs": [],
   "source": [
    "from random import random\n",
    "from math import log\n",
    "import numpy as np\n",
    "from typing import Callable \n",
    "from numpy.typing import ArrayLike\n",
    "from scipy.stats import expon"
   ]
  },
  {
   "cell_type": "markdown",
   "id": "2d690145",
   "metadata": {},
   "source": [
    "---\n",
    "# Ejercicio 7\n",
    "Generar los valores correspondientes a 30 variables aleatorias exponenciales independientes, cada una con media 1. Luego, en base al estadístico de prueba de Kolmogorov-Smirnov, aproxime el $p_{valor}$ de la prueba de que los datos realmente provienen de una distribución exponencial con media 1.\n"
   ]
  },
  {
   "cell_type": "code",
   "execution_count": null,
   "id": "629f09e5",
   "metadata": {},
   "outputs": [],
   "source": [
    "# Variable aleatoria exponenial\n",
    "def XEXP():\n",
    "    U = 1 - random()\n",
    "    return -log(1 - U)\n",
    "\n",
    "# Generamos valores correspondientes a 30 exponenciales independientes\n",
    "samples = [XEXP() for _ in range(30)]\n",
    "#Calculamos la cantidad de muestras -> 30 :v\n",
    "NSAMPLES = len(samples)"
   ]
  },
  {
   "cell_type": "code",
   "execution_count": 31,
   "id": "7137d228",
   "metadata": {},
   "outputs": [],
   "source": [
    "#Definimos el estadístico\n",
    "def KS_statistic(Nsamples:int, samples:ArrayLike, G:Callable[[ArrayLike], ArrayLike]) -> float:\n",
    "    Fe_samples = np.arange(1, Nsamples + 1, 1) / Nsamples\n",
    "    G_values = G(samples)\n",
    "\n",
    "    Fe_minus = np.arange(0, Nsamples) / Nsamples\n",
    "    Fe_plus = np.arange(1, Nsamples + 1) / Nsamples\n",
    "\n",
    "    D_minus = G_values - Fe_minus\n",
    "    D_plus = Fe_plus - G_values\n",
    "    \n",
    "    d = np.max(np.concatenate([D_plus, D_minus]))\n",
    "    return d\n",
    "\n",
    "#Test de Kolomogorov-Smirnov\n",
    "def KS_test(Nsim:int, Nsamples:int,\n",
    "            samples:ArrayLike, alpha:float,\n",
    "            G:Callable[[ArrayLike], ArrayLike]):\n",
    "\n",
    "    p_value = 0\n",
    "    #Ordeño muestras 🐄\n",
    "    samples = np.sort(samples)\n",
    "    #Calculo estadístico inicial\n",
    "    d0 = KS_statistic(Nsamples=Nsamples, samples=samples, G=G)\n",
    "\n",
    "    for _ in range(Nsim):\n",
    "        #Generamos muestras aleatorias para estimar el p_valor\n",
    "        uniform_samples = np.sort([random() for _ in range(Nsamples)])\n",
    "        d_sim = KS_statistic(Nsamples=Nsamples, samples=uniform_samples, G=G)\n",
    "        if d_sim >= d0: \n",
    "            p_value += 1\n",
    "        \n",
    "    p_value = p_value / Nsim\n",
    "    print(f\"☝️ p-valor obtenido: {round(p_value, 4)}\")\n",
    "\n",
    "    if p_value > alpha:\n",
    "        print(f\"😲☝️ Como {p_value} > {alpha}:\")\n",
    "        print(\"\\t 😒 No hay evidencia suficiente para rechazar Ho\")\n",
    "    else:\n",
    "        print(f\"😲☝️ Como {p_value} <= {alpha}:\")\n",
    "        print(f\"\\t 🔴 Se rechaza Ho con una confianza del {int(100 * (1-alpha))}%\")"
   ]
  },
  {
   "cell_type": "code",
   "execution_count": 35,
   "id": "446bc9e1",
   "metadata": {},
   "outputs": [
    {
     "name": "stdout",
     "output_type": "stream",
     "text": [
      "☝️ p-valor obtenido: 1.0\n",
      "😲☝️ Como 1.0 > 0.05:\n",
      "\t 😒 No hay evidencia suficiente para rechazar Ho\n"
     ]
    }
   ],
   "source": [
    "KS_test(Nsim=10_000, Nsamples=NSAMPLES, samples=samples, alpha=0.05, G=expon.cdf)"
   ]
  }
 ],
 "metadata": {
  "kernelspec": {
   "display_name": ".venv",
   "language": "python",
   "name": "python3"
  },
  "language_info": {
   "codemirror_mode": {
    "name": "ipython",
    "version": 3
   },
   "file_extension": ".py",
   "mimetype": "text/x-python",
   "name": "python",
   "nbconvert_exporter": "python",
   "pygments_lexer": "ipython3",
   "version": "3.12.3"
  }
 },
 "nbformat": 4,
 "nbformat_minor": 5
}
