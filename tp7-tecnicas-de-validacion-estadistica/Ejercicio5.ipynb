{
 "cells": [
  {
   "cell_type": "code",
   "execution_count": 54,
   "id": "474a2c41",
   "metadata": {},
   "outputs": [],
   "source": [
    "import seaborn as sns\n",
    "import matplotlib.pyplot as plt\n",
    "import numpy as np\n",
    "from scipy.stats import binom, chi2, chisquare"
   ]
  },
  {
   "cell_type": "markdown",
   "id": "37a490ed",
   "metadata": {},
   "source": [
    "---\n",
    "# Ejercicio 5\n",
    "Calcular una aproximación del *p−valor* de la prueba de que los siguientes datos corresponden\n",
    "a una distribución binomial con parámetros *(n = 8, p)*, donde p no se conoce:\n",
    "$$\n",
    "6, \\quad 7,\\quad 3, \\quad 4, \\quad 7, \\quad 3, \\quad 7, \\quad 2, \\quad 6, \\quad 3, \\quad 7, \\quad 8, \\quad 2, \\quad 1, \\quad 3, \\quad 5, \\quad 8, \\quad 7\n",
    "$$"
   ]
  },
  {
   "cell_type": "markdown",
   "id": "3568ad18",
   "metadata": {},
   "source": [
    "Como en este caso no se conóce el parámetro $p$, entonces primero estimarémos el parámetro $p$, con $\\hat{p}$ y luego calcularemos el estadístico en base a esa estimación tal que:\n",
    "$$\n",
    "D = sup_{x\\in R} |F_e(x) - F_{\\hat{p}}(x)|\n",
    "$$"
   ]
  },
  {
   "cell_type": "markdown",
   "id": "f80cd036",
   "metadata": {},
   "source": [
    "Sea X una v.a con distribución Binomial con parámetros $n=8$ y $p$ desconocido. i.e $X\\sim B(n=8  p)$\n",
    "\n",
    "Sabemos que para esta v.a su esperanza viene dada por:\n",
    "$$\n",
    "E[X] = n\\times p\n",
    "$$\n",
    "\n",
    "Luego:\n",
    "$$\n",
    "\\frac{E[X]}{n} = p\n",
    "$$\n",
    "\n",
    "Pero como queremos estimar p, i.e $\\hat{p}$,  utilizamos un estimador para $E[X]$ tal que:\n",
    "$$\n",
    "\\begin{align*}\n",
    "    \\hat{p} &= \\frac{\\bar{X}(18)}{8}\\\\[0.3cm]\n",
    "    \\hat{p} &= \\frac{1}{8} \\times \\bigg(\\frac{1}{18} \\times \\sum_{i=1}^{18} x_i \\bigg)\\\\[0.3cm]\n",
    "    \\hat{p} &= \\frac{1}{8} \\times \\bigg(\\frac{1}{18} \\times (6 + 7 + 3  + 4  + 7  + 3  + 7  + 2  + 6  + 3  + 7  + 8  + 2  + 1  + 3  + 5  + 8  + 7)\\bigg) \\\\[0.3cm]\n",
    "    \\hat{p} &= \\frac{1}{144} \\times 89 \\\\[0.3cm]\n",
    "    \\hat{p} &\\approx 0.6181\n",
    "\\end{align*}\n",
    "$$\n",
    "\n",
    "Como ya tenemos una estimación de $p$, ahora lo utilizamos para calcular el estadístico. Por el poder de la paja lo voy\n",
    "a hacer directamente en el código. "
   ]
  },
  {
   "cell_type": "code",
   "execution_count": null,
   "id": "89325d04",
   "metadata": {},
   "outputs": [],
   "source": [
    "def p_estimation(samples:list[float], n:int) -> float:\n",
    "    \"\"\"\n",
    "    Estimación del parámetro p\n",
    "\n",
    "    Args:\n",
    "        samples (list[float]): Lista de muestras\n",
    "\n",
    "    Returns:\n",
    "        float: p (sombrero)\n",
    "    \"\"\"\n",
    "    hat_p = 0\n",
    "    bar_x = sum(samples) / len(samples)\n",
    "    hat_p = (1 / n) * bar_x\n",
    "    return hat_p"
   ]
  },
  {
   "cell_type": "code",
   "execution_count": 46,
   "id": "a87ef578",
   "metadata": {},
   "outputs": [
    {
     "data": {
      "text/plain": [
       "0.6181"
      ]
     },
     "execution_count": 46,
     "metadata": {},
     "output_type": "execute_result"
    }
   ],
   "source": [
    "SAMPLES = [\n",
    "    6, 7, 3,\n",
    "    4, 7, 3,\n",
    "    7, 2, 6,\n",
    "    3, 7, 8,\n",
    "    2, 1, 3,\n",
    "    5, 8, 7\n",
    "]\n",
    "NSAMPLES = len(SAMPLES)\n",
    "N = 8\n",
    "\n",
    "#A falta del parámetro P de los datos, lo estimamos\n",
    "# a través de las muestras\n",
    "P_ESTIMATION = round(p_estimation(samples=SAMPLES, n=N), 4)\n",
    "P_ESTIMATION"
   ]
  },
  {
   "cell_type": "markdown",
   "id": "eeabb373",
   "metadata": {},
   "source": [
    "Ahora como queremos saber si los datos provienen de una variable aleatoria discreta, utilizamos el *Test de Pearson*"
   ]
  },
  {
   "cell_type": "code",
   "execution_count": null,
   "id": "2cffd6bb",
   "metadata": {},
   "outputs": [
    {
     "name": "stdout",
     "output_type": "stream",
     "text": [
      "N_0: 0\n",
      "N_1: 1\n",
      "N_2: 2\n",
      "N_3: 4\n",
      "N_4: 1\n",
      "N_5: 1\n",
      "N_6: 2\n",
      "N_7: 5\n",
      "N_8: 2\n"
     ]
    },
    {
     "data": {
      "text/plain": [
       "[0, 1, 2, 4, 1, 1, 2, 5, 2]"
      ]
     },
     "execution_count": 43,
     "metadata": {},
     "output_type": "execute_result"
    }
   ],
   "source": [
    "# Calculamos los N_i: Frecuencias Observadas\n",
    "OBSERVED_FRECUENCIES = np.bincount(SAMPLES, minlength=9)\n",
    "for i, count in enumerate(OBSERVED_FRECUENCIES):\n",
    "    print(f\"N_{i}: {count}\")"
   ]
  },
  {
   "cell_type": "code",
   "execution_count": null,
   "id": "acb5d14b",
   "metadata": {},
   "outputs": [
    {
     "data": {
      "text/plain": [
       "[np.float64(0.00045247779040564345),\n",
       " np.float64(0.005858633616124186),\n",
       " np.float64(0.0331874182598645),\n",
       " np.float64(0.1074267778288674),\n",
       " np.float64(0.21733598905480167),\n",
       " np.float64(0.2814042939717681),\n",
       " np.float64(0.22772452749927968),\n",
       " np.float64(0.10530545052729189),\n",
       " np.float64(0.021304431451596998)]"
      ]
     },
     "execution_count": 33,
     "metadata": {},
     "output_type": "execute_result"
    }
   ],
   "source": [
    "# Con el parámetro p̂ debo calcular los p_i\n",
    "PROBABILITY_VALUES = [binom.pmf(k=i, n=N ,p=P_ESTIMATION) for i in range(len(OBSERVED_FRECUENCIES))]\n",
    "PROBABILITY_VALUES"
   ]
  },
  {
   "cell_type": "markdown",
   "id": "39650de3",
   "metadata": {},
   "source": [
    "Ahora solo resta calcular el estadístico y realizar el *test de Pearson*"
   ]
  },
  {
   "cell_type": "code",
   "execution_count": 52,
   "id": "62b63482",
   "metadata": {},
   "outputs": [],
   "source": [
    "def Pearson_statistic(Nsamples:int, samples:list[int], probability_values:list[float]) -> float:\n",
    "    statistic = 0\n",
    "    for sample, prob_i in zip(samples, probability_values):\n",
    "        statistic += (sample - Nsamples * prob_i) ** 2 / (Nsamples * prob_i)\n",
    "    return statistic\n",
    "\n",
    "def Pearson_test(Nsamples: int, samples:list[int], probability_values:list[float], alpha:float):\n",
    "    T = Pearson_statistic(Nsamples=Nsamples, samples=samples, probability_values=probability_values)\n",
    "    print(f\"🧐 T estadístico:{round(T, 4)}\")\n",
    "\n",
    "    df = len(OBSERVED_FRECUENCIES) - 1 - 1\n",
    "\n",
    "    p_value = round(1 - chi2.cdf(round(T, 4), df=df), 4)\n",
    "\n",
    "    print(f\"☝️ p-valor obtenido: {p_value}\")\n",
    "\n",
    "    if p_value > alpha:\n",
    "        print(f\"☝️😲 Cómo {p_value} > {alpha}\")\n",
    "        print(\"\\t 😒 No hay evidencia suficiente para rechazar Ho\")\n",
    "    else:\n",
    "        print(f\"☝️😲 Cómo {p_value} <= {alpha}\")\n",
    "        print(f\"\\t 🔴 Se rechaza Ho con una confianza del {100 * (1-alpha)}%\")"
   ]
  },
  {
   "cell_type": "code",
   "execution_count": 70,
   "id": "98f80217",
   "metadata": {},
   "outputs": [
    {
     "name": "stdout",
     "output_type": "stream",
     "text": [
      "🧐 T estadístico:31.5019\n",
      "☝️ p-valor obtenido: 0.0001\n",
      "☝️😲 Cómo 0.0001 <= 0.050000000000000044\n",
      "\t 🔴 Se rechaza Ho con una confianza del 95.0%\n"
     ]
    }
   ],
   "source": [
    "ALPHA = 1 - 0.95\n",
    "Pearson_test(\n",
    "        Nsamples=NSAMPLES,\n",
    "        samples=OBSERVED_FRECUENCIES.tolist(),\n",
    "        probability_values=PROBABILITY_VALUES,\n",
    "        alpha=ALPHA\n",
    ")"
   ]
  },
  {
   "cell_type": "markdown",
   "id": "11196377",
   "metadata": {},
   "source": [
    "# 😲 Estimación del p-valor"
   ]
  },
  {
   "cell_type": "code",
   "execution_count": 75,
   "id": "6ec932d7",
   "metadata": {},
   "outputs": [],
   "source": [
    "def p_value_estimation(Nsim:int, Nsamples:int, samples:list[int], probability_values:list[float],  t0:float):\n",
    "    p_value = 0\n",
    "    possible_frequencies = list(range(0, len(samples)))\n",
    "    for _ in range(Nsim):\n",
    "        #Generamos Nsamples muestras de las posibles frecuencias observadas,\n",
    "        #cada una con probabilidad p_i\n",
    "        X_samples = np.random.choice(a=possible_frequencies,  p=probability_values, size=Nsamples)\n",
    "\n",
    "        N_i = np.bincount(X_samples, minlength=len(samples))\n",
    "        \n",
    "        T = Pearson_statistic(Nsamples=Nsamples, samples=N_i, probability_values=probability_values)\n",
    "\n",
    "        if T > t0:\n",
    "            p_value += 1\n",
    "\n",
    "    return p_value / Nsim"
   ]
  },
  {
   "cell_type": "code",
   "execution_count": 82,
   "id": "a7d7db87",
   "metadata": {},
   "outputs": [
    {
     "name": "stdout",
     "output_type": "stream",
     "text": [
      "☝️ p-valor obtenido: 0.0146\n"
     ]
    }
   ],
   "source": [
    "NSIM = 10_000\n",
    "T = 31.5019\n",
    "p_value = p_value_estimation(\n",
    "            Nsim=NSIM,\n",
    "            Nsamples=NSAMPLES,\n",
    "            samples=OBSERVED_FRECUENCIES,\n",
    "            probability_values=PROBABILITY_VALUES,\n",
    "            t0=T)\n",
    "\n",
    "print(f\"☝️ p-valor obtenido: {round(p_value, 4)}\")"
   ]
  },
  {
   "cell_type": "markdown",
   "id": "3b36a9a3",
   "metadata": {},
   "source": [
    "# Implementación chiteada de SCIPY 🐍"
   ]
  },
  {
   "cell_type": "code",
   "execution_count": 62,
   "id": "1a068043",
   "metadata": {},
   "outputs": [
    {
     "name": "stdout",
     "output_type": "stream",
     "text": [
      "🧪 T estadístico (scipy): 31.5019\n",
      "📉 p-valor (scipy): 0.0001\n",
      "☝️😲 Cómo 0.0001 <= 0.050000000000000044\n",
      "\t 🔴 Se rechaza Ho con una confianza del 95.0%\n"
     ]
    }
   ],
   "source": [
    "# Calcular frecuencias esperadas\n",
    "EXPECTED_FREQUENCIES = [NSAMPLES * p_i for p_i in PROBABILITY_VALUES]\n",
    "\n",
    "# Ejecutar el test de chi-cuadrado con 1 grado de libertad menos (por estimar p̂)\n",
    "test_result = chisquare(f_obs=OBSERVED_FRECUENCIES, f_exp=EXPECTED_FREQUENCIES, ddof=1)\n",
    "T = round(test_result.statistic, 4)\n",
    "p_value = round(test_result.pvalue, 4)\n",
    "\n",
    "print(f\"🧪 T estadístico (scipy): {T:.4f}\")\n",
    "print(f\"📉 p-valor (scipy): {p_value:.4f}\")\n",
    "\n",
    "\n",
    "if p_value > ALPHA:\n",
    "    print(f\"☝️😲 Cómo {p_value} > {ALPHA}\")\n",
    "    print(\"\\t 😒 No hay evidencia suficiente para rechazar Ho\")\n",
    "else:\n",
    "    print(f\"☝️😲 Cómo {p_value} <= {ALPHA}\")\n",
    "    print(f\"\\t 🔴 Se rechaza Ho con una confianza del {100 * (1-ALPHA)}%\")"
   ]
  }
 ],
 "metadata": {
  "kernelspec": {
   "display_name": ".venv",
   "language": "python",
   "name": "python3"
  },
  "language_info": {
   "codemirror_mode": {
    "name": "ipython",
    "version": 3
   },
   "file_extension": ".py",
   "mimetype": "text/x-python",
   "name": "python",
   "nbconvert_exporter": "python",
   "pygments_lexer": "ipython3",
   "version": "3.12.3"
  }
 },
 "nbformat": 4,
 "nbformat_minor": 5
}
