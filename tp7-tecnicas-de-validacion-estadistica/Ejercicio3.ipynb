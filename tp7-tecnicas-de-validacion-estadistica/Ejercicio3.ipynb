{
 "cells": [
  {
   "cell_type": "code",
   "execution_count": null,
   "id": "0e692022",
   "metadata": {},
   "outputs": [],
   "source": [
    "import numpy as np\n",
    "from scipy import stats\n",
    "import seaborn as sns\n",
    "import matplotlib.pyplot as plt\n",
    "from typing import Callable \n",
    "from numpy.typing import ArrayLike\n",
    "from random import random\n",
    "sns.set_theme()\n",
    "sns.set_palette(\"magma\")"
   ]
  },
  {
   "cell_type": "markdown",
   "id": "32846fb1",
   "metadata": {},
   "source": [
    "---\n",
    "# Ejercicio 3\n",
    "\n",
    "Calcular una aproximación del p−valor de la hipótesis: “Los siguientes 10 números son aleatorios”:\n",
    "$$\n",
    "0.12, \\quad 0.18,\\quad 0.06,\\quad 0.33,\\quad 0.72,\\quad 0.83,\\quad 0.36,\\quad 0.27,\\quad 0.77,\\quad 0.74.\n",
    "$$"
   ]
  },
  {
   "cell_type": "markdown",
   "id": "1bffe34f",
   "metadata": {},
   "source": [
    "Tenemos que $H_0$:*\"Los 10 números son aleatorios\"*\n",
    "\n",
    "Esto implica que provengan de una distribución F de una variable aleatoria uniforme en el (0,1). Como es una variable aleatoria continua utilizaremos el *Test de Kolmogorov-Smirnov* ya que es adecuado para este tipo de casos:\n",
    "\n",
    "1. Ordenamos los datos.\n",
    "2. Corroboramos de que los datos no están repetidos.\n",
    "3. Para construír el estadístico se comparan las funciones de distribución acumulada de F y la $F_e$ de los datos."
   ]
  },
  {
   "cell_type": "code",
   "execution_count": null,
   "id": "de980e24",
   "metadata": {},
   "outputs": [
    {
     "data": {
      "image/png": "[encoded data removed]",
      "text/plain": [
       "<Figure size 640x480 with 1 Axes>"
      ]
     },
     "metadata": {},
     "output_type": "display_data"
    }
   ],
   "source": [
    "observed_samples = [\n",
    "    0.12, 0.18, 0.06,\n",
    "    0.33, 0.72, 0.83,\n",
    "    0.36, 0.27, 0.77,\n",
    "    0.74\n",
    "]\n",
    "\n",
    "# Ordenamos los datos\n",
    "OBSERVED_SAMPLES = np.sort(observed_samples)\n",
    "NSAMPLES = len(OBSERVED_SAMPLES)\n",
    "\n",
    "x_values = np.concatenate(([0], OBSERVED_SAMPLES, [1]))\n",
    "empirical_data = np.concatenate(([0], np.arange(1, NSAMPLES + 1) / NSAMPLES, [1]))\n",
    "\n",
    "# Distribución real (Uniforme(0,1))\n",
    "real_data = stats.uniform.cdf(x_values)\n",
    "\n",
    "plt.step(x_values, empirical_data, label='Fe(X)', linewidth=3)\n",
    "sns.lineplot(x=x_values, y=real_data, label='F(X)', linewidth=3)\n",
    "\n",
    "plt.legend()\n",
    "plt.show()"
   ]
  },
  {
   "cell_type": "code",
   "execution_count": 88,
   "id": "0056ac20",
   "metadata": {},
   "outputs": [],
   "source": [
    "def KS_statistic(samples: ArrayLike, G: Callable[[ArrayLike], ArrayLike]) -> float:\n",
    "        \"\"\"\n",
    "        Estadistico de Kolmogorov-Smirnov para una muestra\n",
    "\n",
    "        Args:\n",
    "            samples (ArrayLike): muestras que se reciben para el estadistico\n",
    "            G (Callable[[ArrayLike],ArrayLike]): función sobre la que se aplica\n",
    "            el estadistico.\n",
    "        \n",
    "        Returns:\n",
    "            (float): Resultado del estadistico.\n",
    "        \"\"\"\n",
    "        n = len(samples)\n",
    "        # Calculo la empírica\n",
    "        Fe_samples = np.concatenate(([0], np.arange(1, n+1, 1) / n,[1]))\n",
    "        # Distribución Uniforme Real\n",
    "        G_values = G(samples)\n",
    "        \n",
    "        # Calculamos el estadistico\n",
    "        Fe_minus = np.arange(0, n) / n\n",
    "        Fe_plus = np.arange(1, n+1) / n\n",
    "\n",
    "        # D = d\n",
    "        D_plus = Fe_plus - G_values\n",
    "        D_minus = G_values - Fe_minus\n",
    "        d = np.max(np.concatenate([D_plus, D_minus]))\n",
    "        return d\n",
    "\n",
    "def test_Kolmogorov_Smirnov(alpha:float, samples:list[float], Nsamples:int, Nsim: int):\n",
    "    \"\"\"\n",
    "    Test de Kolmogorov_Smirnov con H0: \"las muestras del ejercicio\n",
    "    son uniformes en [0, 1]\" y confianza de 95%.\n",
    "\n",
    "    Args:\n",
    "        Nsamples (int): numero de muestras por iteracion\n",
    "        Samples (List[float]): Muestras del ejercicio\n",
    "        Nsim (int): numero de simulaciones para estimar el p-valor\n",
    "    \"\"\"\n",
    "    # Ordeno las muestras\n",
    "    x_samples = np.sort(list(samples))\n",
    "    # Utiliza como función F la func de distrib acumulada de la unif.\n",
    "    d = KS_statistic(samples=x_samples, G=stats.uniform.cdf)\n",
    "\n",
    "    print(f\"🧐 D estadístico:{round(d, 4)}\")\n",
    "\n",
    "    p_value = 0\n",
    "    for _ in range(Nsim):\n",
    "        samples = list(random() for _ in range(Nsamples))\n",
    "        # Ordeno las muestras\n",
    "        u_samples = np.sort(list(samples))\n",
    "        # Función identidad: G(u) = u\n",
    "        d_sim = KS_statistic(samples=u_samples, G=lambda x: x)\n",
    "        if d_sim >= d:\n",
    "            p_value += 1\n",
    "    \n",
    "    p_value = p_value / Nsim\n",
    "    print(f\"☝️ p-valor obtenido: {round(p_value, 4)}\")\n",
    "\n",
    "    if p_value > alpha:\n",
    "        print(\"😒 No hay evidencia suficiente para rechazar Ho\")\n",
    "    else:\n",
    "        print(f\"🔴 Se rechaza Ho con una confianza del {100 * (100-alpha)}%\")"
   ]
  },
  {
   "cell_type": "code",
   "execution_count": 93,
   "id": "d687bd44",
   "metadata": {},
   "outputs": [
    {
     "name": "stdout",
     "output_type": "stream",
     "text": [
      "🧐 D estadístico:0.24\n",
      "☝️ p-valor obtenido: 0.5407\n",
      "😒 No hay evidencia suficiente para rechazar Ho\n"
     ]
    }
   ],
   "source": [
    "ALPHA = 0.05\n",
    "test_Kolmogorov_Smirnov(alpha=ALPHA, samples=OBSERVED_SAMPLES, Nsamples=NSAMPLES, Nsim=10_000)"
   ]
  },
  {
   "cell_type": "code",
   "execution_count": 90,
   "id": "7e6a3578",
   "metadata": {},
   "outputs": [
    {
     "name": "stdout",
     "output_type": "stream",
     "text": [
      "🧐 D estadístico:0.24\n",
      "☝️ p-valor obtenido: 0.5355\n",
      "😒 No hay evidencia suficiente para rechazar Ho\n"
     ]
    }
   ],
   "source": [
    "# Utilizando la librería de scipy\n",
    "test_result = stats.kstest(OBSERVED_SAMPLES, cdf=\"uniform\")\n",
    "d = test_result[0]\n",
    "p_value = test_result[1]\n",
    "\n",
    "print(f\"🧐 D estadístico:{round(d, 4)}\")\n",
    "print(f\"☝️ p-valor obtenido: {round(p_value, 4)}\")\n",
    "\n",
    "if p_value > ALPHA:\n",
    "    print(\"😒 No hay evidencia suficiente para rechazar Ho\")\n",
    "else:\n",
    "    print(f\"🔴 Se rechaza Ho con una confianza del {100 * (100-alpha)}%\")"
   ]
  }
 ],
 "metadata": {
  "kernelspec": {
   "display_name": ".venv",
   "language": "python",
   "name": "python3"
  },
  "language_info": {
   "codemirror_mode": {
    "name": "ipython",
    "version": 3
   },
   "file_extension": ".py",
   "mimetype": "text/x-python",
   "name": "python",
   "nbconvert_exporter": "python",
   "pygments_lexer": "ipython3",
   "version": "3.12.3"
  }
 },
 "nbformat": 4,
 "nbformat_minor": 5
}
