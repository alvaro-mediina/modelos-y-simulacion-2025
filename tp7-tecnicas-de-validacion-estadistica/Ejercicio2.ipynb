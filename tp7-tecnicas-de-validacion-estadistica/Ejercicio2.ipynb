{
 "cells": [
  {
   "cell_type": "code",
   "execution_count": 9,
   "id": "d9471de1",
   "metadata": {},
   "outputs": [],
   "source": [
    "from scipy.stats import chi2"
   ]
  },
  {
   "cell_type": "markdown",
   "id": "a27f359a",
   "metadata": {},
   "source": [
    "---\n",
    "# Ejercicio 2\n",
    "Para verificar que cierto dado no estaba trucado, se registraron $1000$ lanzamientos, resultando\n",
    "que el número de veces que el dado arrojó el valor i $(i = 1, 2, 3, 4, 5, 6)$ fue, respectivamente, 158, 172, 164, 181, 160, 165. Aproximar el `p−valor` de la prueba: “el dado es honesto”"
   ]
  },
  {
   "cell_type": "markdown",
   "id": "36cf577e",
   "metadata": {},
   "source": [
    "a) utilizando la prueba de **Pearson** con aproximación chi-cuadrada"
   ]
  },
  {
   "cell_type": "markdown",
   "id": "a50f2057",
   "metadata": {},
   "source": [
    "## Parámetros especificados\n",
    "\n",
    "Planteamos entonces como:\n",
    "\n",
    "- *$H_0$: El dado es honesto*\n",
    "\n",
    "Esto implica que como el dado tiene 6 valores posibles, la probabilidad de que salga un valor sea equiprobable con los otros, tal que:\n",
    "\n",
    "$$\n",
    "P(X=1) = P(X=2)= P(X=3) = P(X=4) = P(X=5) = P(X=6) = \\frac{1}{6}\n",
    "$$\n",
    "\n",
    "Donde $X$ es la v.a que devuelve un número de un dado de \"6 caras\".\n",
    "\n",
    "\n",
    "Luego las *frecuencias observadas* fueron $n=1000$:\n",
    "- 158 -> 1\n",
    "- 172 -> 2\n",
    "- 164 -> 3\n",
    "- 181 -> 4\n",
    "- 160 -> 5\n",
    "- 165 -> 6\n",
    "\n"
   ]
  },
  {
   "cell_type": "markdown",
   "id": "9cfd994f",
   "metadata": {},
   "source": [
    "Para aproximar el **p-valor** de esta muestra utilizando la prueba de Pearson con aproximación *Chi-Cuadrada* debemos tener en cuenta el estadístico\n",
    "$$\n",
    "T = \\sum_{i=1}^n \\frac{(N_i-n\\times p_i)²}{n\\times p_i}\n",
    "\n",
    "$$\n",
    "Tal que para nuestro caso tenemos:\n",
    "\n",
    "$$\n",
    "\\begin{align*}\n",
    "T &= \\sum_{i=1}^6 \\frac{(N_i-1000\\times p_i)²}{1000\\times p_i}\\\\[0.3cm]\n",
    "  &=    \\frac{(N_1-1000 \\times p_1)²}{1000 \\times p_1} +\n",
    "        \\frac{(N_2-1000 \\times p_2)²}{1000 \\times p_2} +\n",
    "        \\frac{(N_3-1000 \\times p_3)²}{1000 \\times p_3} +\n",
    "        \\frac{(N_4-1000 \\times p_4)²}{1000 \\times p_4} +\n",
    "        \\frac{(N_5-1000 \\times p_5)²}{1000 \\times p_5} +\n",
    "        \\frac{(N_6-1000 \\times p_6)²}{1000 \\times p_6}\\\\[0.3cm]\n",
    "\n",
    "  &=    \\frac{(158 -1000 \\times \\frac{1}{6})²}{1000 \\times \\frac{1}{6}} +\n",
    "        \\frac{(172 -1000 \\times \\frac{1}{6})²}{1000 \\times \\frac{1}{6}} +\n",
    "        \\frac{(164 -1000 \\times \\frac{1}{6})²}{1000 \\times \\frac{1}{6}} +\n",
    "        \\frac{(181 -1000 \\times \\frac{1}{6})²}{1000 \\times \\frac{1}{6}} +\n",
    "        \\frac{(160 -1000 \\times \\frac{1}{6})²}{1000 \\times \\frac{1}{6}} +\n",
    "        \\frac{(165 -1000 \\times \\frac{1}{6})²}{1000 \\times \\frac{1}{6}}\\\\[0.3cm]\n",
    "  &=   0.451 + 0.170 + 0.043 + 1.232 + 0.267 + 0.017 = \\boxed{2.18}\n",
    "\\end{align*}\n",
    "$$"
   ]
  },
  {
   "cell_type": "markdown",
   "id": "598760e9",
   "metadata": {},
   "source": [
    "Ahora como hemos considerado 6 términos en el estadístico $T$, entonces debemos testear con una distribución $\\chi_{6-1}^2$ tal que:\n",
    "$$\n",
    "p_{valor} = P(\\chi_{5}^2 \\geq 2.18) \\in (0.75, 0.90)\n",
    "$$\n",
    "\n",
    "\n",
    "Ahora teniendo en cuenta que para un nivel de confianza del *95%*, como $p_{valor} > \\alpha= 0.05$, la hipótesis nula *no* se rechaza pero no hay evidencias suficientes para hacerlo."
   ]
  },
  {
   "cell_type": "code",
   "execution_count": 14,
   "id": "56ef1bd5",
   "metadata": {},
   "outputs": [],
   "source": [
    "def Pearson_statistic(Nsamples:int, samples:list[int], probability_values:list[float]) -> float:\n",
    "    statistic = 0\n",
    "    for sample, prob_i in zip(samples, probability_values):\n",
    "        statistic += (sample - Nsamples * prob_i) ** 2 / (Nsamples * prob_i)\n",
    "    return statistic\n",
    "\n",
    "def Pearson_test(Nsamples: int, samples:list[int], probability_values:list[float], alpha:float):\n",
    "    T = Pearson_statistic(Nsamples=Nsamples, samples=samples, probability_values=probability_values)\n",
    "    print(f\"🧐 T estadístico:{round(T, 4)}\")\n",
    "\n",
    "    p_value = 1 - chi2.cdf(round(T, 4), df=len(samples)-1)\n",
    "\n",
    "    print(f\"☝️ p-valor obtenido: {round(p_value, 4)}\")\n",
    "\n",
    "    if p_value > alpha:\n",
    "        print(\"😒 No hay evidencia suficiente para rechazar Ho\")\n",
    "    else:\n",
    "        print(f\"🔴 Se rechaza Ho con una confianza del {100 * (100-alpha)}%\")"
   ]
  },
  {
   "cell_type": "code",
   "execution_count": 15,
   "id": "c8af6c4e",
   "metadata": {},
   "outputs": [
    {
     "name": "stdout",
     "output_type": "stream",
     "text": [
      "🧐 T estadístico:2.18\n",
      "☝️ p-valor obtenido: 0.8237\n",
      "😒 No hay evidencia suficiente para rechazar Ho\n"
     ]
    }
   ],
   "source": [
    "#Valores constantes\n",
    "DICE_SAMPLES = [158, 172, 164, 181, 160, 165] #1, 2, 3, 4, 5 y 6 respect\n",
    "PROBABILITY_VALUES = [1/6] * 6\n",
    "NSAMPLES = 1000\n",
    "\n",
    "alpha = 1 - 0.95 # Test para el 95%\n",
    "\n",
    "Pearson_test(Nsamples=NSAMPLES, samples=DICE_SAMPLES, probability_values=PROBABILITY_VALUES, alpha=alpha)"
   ]
  },
  {
   "cell_type": "markdown",
   "id": "737273b4",
   "metadata": {},
   "source": [
    "---\n",
    "b) realizando una simulación."
   ]
  },
  {
   "cell_type": "markdown",
   "id": "7586b767",
   "metadata": {},
   "source": [
    "A partir del estadístico obtenido $t_0 = 2.18$:"
   ]
  },
  {
   "cell_type": "code",
   "execution_count": 34,
   "id": "c53e7fb4",
   "metadata": {},
   "outputs": [],
   "source": [
    "def p_value_estimation(Nsim:int, Nsamples:int, samples:list[int], probability_values:list[float],  t0:float):\n",
    "    p_value = 0\n",
    "    possible_frequencies = list(range(0, len(samples)))\n",
    "    for _ in range(Nsim):\n",
    "        #Generamos Nsamples muestras de las posibles frecuencias observadas,\n",
    "        #cada una con probabilidad p_i\n",
    "        X_samples = np.random.choice(a=possible_frequencies,  p=probability_values, size=Nsamples)\n",
    "\n",
    "        N_i = np.bincount(X_samples, minlength=len(samples))\n",
    "        \n",
    "        T = Pearson_statistic(Nsamples=Nsamples, samples=N_i, probability_values=probability_values)\n",
    "\n",
    "        if T > t0:\n",
    "            p_value += 1\n",
    "\n",
    "    return p_value / Nsim"
   ]
  },
  {
   "cell_type": "code",
   "execution_count": 35,
   "id": "f198dcb7",
   "metadata": {},
   "outputs": [
    {
     "name": "stdout",
     "output_type": "stream",
     "text": [
      "☝️ p-valor obtenido: 0.8258\n"
     ]
    }
   ],
   "source": [
    "NSIM = 10_000\n",
    "T = 2.18\n",
    "p_value = p_value_estimation(\n",
    "            Nsim=NSIM,\n",
    "            Nsamples=NSAMPLES,\n",
    "            samples=DICE_SAMPLES,\n",
    "            probability_values=PROBABILITY_VALUES,\n",
    "            t0=T)\n",
    "\n",
    "print(f\"☝️ p-valor obtenido: {round(p_value, 4)}\")"
   ]
  }
 ],
 "metadata": {
  "kernelspec": {
   "display_name": ".venv",
   "language": "python",
   "name": "python3"
  },
  "language_info": {
   "codemirror_mode": {
    "name": "ipython",
    "version": 3
   },
   "file_extension": ".py",
   "mimetype": "text/x-python",
   "name": "python",
   "nbconvert_exporter": "python",
   "pygments_lexer": "ipython3",
   "version": "3.12.3"
  }
 },
 "nbformat": 4,
 "nbformat_minor": 5
}
