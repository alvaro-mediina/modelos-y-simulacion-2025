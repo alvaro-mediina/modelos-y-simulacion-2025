{
 "cells": [
  {
   "cell_type": "code",
   "execution_count": 26,
   "id": "5265ba3c",
   "metadata": {},
   "outputs": [],
   "source": [
    "from random import random, gauss, gammavariate\n",
    "from math import erf, sqrt\n",
    "import numpy as np\n",
    "from typing import Callable \n",
    "from numpy.typing import ArrayLike"
   ]
  },
  {
   "cell_type": "markdown",
   "id": "76b009d4",
   "metadata": {},
   "source": [
    "---\n",
    "# Ejercicio 8\n",
    "Se sortean elementos de un conjunto de datos que tiene una distribución t-student de 11 grados\n",
    "de libertad. El investigador, que no conoce la forma verdadera de la distribución, asume que la misma es normal.\n",
    "\n",
    "Analice la validez de esta suposición para muestras de tamaños 10, 20, 100 y 1000 elementos Para ello realice simulaciones numéricas e implemente el test de Kolmogorov-Smirnov a los datos simulados, asumiendo una distribución N(0,1). Presente los resultados en una tabla que contenga el número de elementos de la simulación, el valor del estadístico D y el p−valor\n",
    "\n",
    "Ayuda: Función de probabilidad normal: Para obtener la función de probabilidad normal, se puede usar la función math.erf. Por ejemplo, la cantidad *math.erf(x/math.sqrt(2.))/2.+0.5* equivale a\n",
    "$$\n",
    "\\int_{-\\infty}^x N(0, 1)(t) dt\n",
    "$$\n",
    "Ayuda: Generación de números aleatorios con una distribución t-student: Utilice el siguiente código para\n",
    "generar números aleatorios que siguen una distribución T-student:"
   ]
  },
  {
   "cell_type": "code",
   "execution_count": null,
   "id": "48c9dc93",
   "metadata": {},
   "outputs": [],
   "source": [
    "def cdf_Gaussian(x:float) -> float:\n",
    "    \"\"\"\n",
    "    Función de distribución acumulada Normal\n",
    "    con parámetros μ=0, σ=1\n",
    "\n",
    "    Args:\n",
    "        x (float): Valor a acumular\n",
    "\n",
    "    Returns:\n",
    "        float: Valor acumulado hasta\n",
    "    \"\"\"\n",
    "    return erf(x / sqrt(2.0)) / 2.0 + 0.5"
   ]
  },
  {
   "cell_type": "code",
   "execution_count": null,
   "id": "a099b7c4",
   "metadata": {},
   "outputs": [],
   "source": [
    "# Generación de números aleatorios de T-student\n",
    "def Tstudent(df:int) -> float:\n",
    "    \"\"\"\n",
    "    Genera números aleatorios con distribución T-student\n",
    "    con df grados de libertad.\n",
    "\n",
    "    Args:\n",
    "        df (int): Grados de libertad\n",
    "\n",
    "    Returns:\n",
    "        float: Número aleatorio\n",
    "    \"\"\"\n",
    "    x = gauss(0.0, 1.0)\n",
    "    y = 2.0 * gammavariate(0.5 * df, 2.0)\n",
    "    return x / (sqrt(y / df))"
   ]
  },
  {
   "cell_type": "code",
   "execution_count": 27,
   "id": "00aca5a1",
   "metadata": {},
   "outputs": [],
   "source": [
    "#Definimos el estadístico\n",
    "def KS_statistic(Nsamples:int, samples:ArrayLike, G:Callable[[ArrayLike], ArrayLike]) -> float:\n",
    "    Fe_samples = np.arange(1, Nsamples + 1, 1) / Nsamples\n",
    "    G_values = G(samples)\n",
    "\n",
    "    Fe_minus = np.arange(0, Nsamples) / Nsamples\n",
    "    Fe_plus = np.arange(1, Nsamples + 1) / Nsamples\n",
    "\n",
    "    D_minus = G_values - Fe_minus\n",
    "    D_plus = Fe_plus - G_values\n",
    "    \n",
    "    d = np.max(np.concatenate([D_plus, D_minus]))\n",
    "    return d\n",
    "\n",
    "#Test de Kolomogorov-Smirnov\n",
    "def KS_test(Nsim:int, Nsamples:int,\n",
    "            samples:ArrayLike, alpha:float,\n",
    "            G:Callable[[ArrayLike], ArrayLike]):\n",
    "\n",
    "    p_value = 0\n",
    "    #Ordeño muestras 🐄\n",
    "    samples = np.sort(samples)\n",
    "    #Calculo estadístico inicial\n",
    "    d0 = KS_statistic(Nsamples=Nsamples, samples=samples, G=G)\n",
    "\n",
    "    for _ in range(Nsim):\n",
    "        #Generamos muestras aleatorias para estimar el p_valor\n",
    "        uniform_samples = np.sort([random() for _ in range(Nsamples)])\n",
    "        d_sim = KS_statistic(Nsamples=Nsamples, samples=uniform_samples, G=G)\n",
    "        if d_sim >= d0: \n",
    "            p_value += 1\n",
    "        \n",
    "    p_value = p_value / Nsim\n",
    "    return (d0, p_value)"
   ]
  },
  {
   "cell_type": "code",
   "execution_count": 35,
   "id": "70756182",
   "metadata": {},
   "outputs": [],
   "source": [
    "NSAMPLES = [10, 20, 100, 1000]\n",
    "NSIM = 10_000\n",
    "statistics = []\n",
    "p_values = []\n",
    "\n",
    "for Nsample in NSAMPLES:\n",
    "    samples = [Tstudent(df=11) for _ in range(Nsample)]\n",
    "    results = KS_test(Nsim=NSIM, Nsamples=Nsample,\n",
    "                    samples=samples, alpha=0.05,\n",
    "                    G=np.vectorize(cdf_Gaussian))\n",
    "    statistics.append(round(results[0], 4))\n",
    "    p_values.append(results[1])"
   ]
  },
  {
   "cell_type": "code",
   "execution_count": 36,
   "id": "37e13479",
   "metadata": {},
   "outputs": [
    {
     "name": "stdout",
     "output_type": "stream",
     "text": [
      "|   N   |     D     |  p_valor  |\n",
      "--------------------------------\n",
      "|    10 |  0.1774   |    1.0    |\n",
      "|    20 |  0.1777   |    1.0    |\n",
      "|   100 |  0.1839   |    1.0    |\n",
      "|  1000 |  0.0899   |    1.0    |\n",
      "--------------------------------\n"
     ]
    }
   ],
   "source": [
    "print(f\"| {'N':^5} | {'D':^9} | {'p_valor':^9} |\")\n",
    "print(\"-\" * 32)\n",
    "\n",
    "for Nsample, statistic, p_value in zip(NSAMPLES, statistics, p_values):\n",
    "    print(f\"| {Nsample:>5} | {statistic:^9} | {p_value:^9} |\")\n",
    "\n",
    "print(\"-\" *32)"
   ]
  }
 ],
 "metadata": {
  "kernelspec": {
   "display_name": ".venv",
   "language": "python",
   "name": "python3"
  },
  "language_info": {
   "codemirror_mode": {
    "name": "ipython",
    "version": 3
   },
   "file_extension": ".py",
   "mimetype": "text/x-python",
   "name": "python",
   "nbconvert_exporter": "python",
   "pygments_lexer": "ipython3",
   "version": "3.12.3"
  }
 },
 "nbformat": 4,
 "nbformat_minor": 5
}
