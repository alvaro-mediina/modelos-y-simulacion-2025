{
 "cells": [
  {
   "cell_type": "code",
   "execution_count": 26,
   "id": "49323307",
   "metadata": {},
   "outputs": [],
   "source": [
    "from typing import Callable \n",
    "from numpy.typing import ArrayLike\n",
    "from random import random\n",
    "from scipy.stats import expon, kstest\n",
    "import numpy as np\n",
    "from math import log"
   ]
  },
  {
   "cell_type": "markdown",
   "id": "0ff47d17",
   "metadata": {},
   "source": [
    "---\n",
    "# Ejercicio 9\n",
    "En un estudio de vibraciones, una muestra aleatoria de 15 componentes del avión fueron\n",
    "sometidos a fuertes vibraciones hasta que se evidenciaron fallas estructurales. Los datos proporcionados son los minutos transcurridos hasta que se evidenciaron dichas fallas.\n",
    "$$\n",
    "1.6, \\quad 10.3, \\quad 3.5, \\quad 13.5, \\quad 18.4, \\quad 7.7, \\quad 24.3, \\quad 10.7, \\quad 8.4, \\quad 4.9, \\quad 7.9, \\quad 12, \\quad 16.2, \\quad 6.8, \\quad 14.7\n",
    "$$\n",
    "\n"
   ]
  },
  {
   "cell_type": "markdown",
   "id": "e4dffa7a",
   "metadata": {},
   "source": [
    "Pruebe la hipótesis nula de que estas observaciones pueden ser consideradas como una muestra de la\n",
    "distribución exponencial."
   ]
  },
  {
   "cell_type": "markdown",
   "id": "124986d9",
   "metadata": {},
   "source": [
    "Como desconocemos el parámetro $\\lambda$ de la distribución exponencial debemos estimarlo. Luego aplicamos el método de forma normal."
   ]
  },
  {
   "cell_type": "markdown",
   "id": "04222758",
   "metadata": {},
   "source": [
    "Tenemos que si X es una v.a con distribución exponencial de parámetro $\\lambda$ desconocido su esperanza viene dada por:\n",
    "$$\n",
    "E[X] = \\frac{1}{\\lambda}\n",
    "$$ \n",
    "\n",
    "Como queremos estimar $\\lambda$:\n",
    "$$\n",
    "\\lambda = \\frac{1}{E[X]}\n",
    "$$\n",
    "\n",
    "Luego utilizando que la media muestral es un estimador de $E[X]$ obtenemos que un estimador para $\\hat{\\lambda}$ es:\n",
    "$$\n",
    "\\hat{\\lambda} = \\frac{1}{\\bar{X}(n)} = \\frac{1}{\\sum_{i=0}^n x_i}\n",
    "$$"
   ]
  },
  {
   "cell_type": "markdown",
   "id": "12beca74",
   "metadata": {},
   "source": [
    "# MÉTODO DEL GORDO KOLMOGOROV SMIRNOV 🥴"
   ]
  },
  {
   "cell_type": "code",
   "execution_count": 23,
   "id": "813fd1f9",
   "metadata": {},
   "outputs": [],
   "source": [
    "SAMPLES = [\n",
    "    1.6, 10.3, 3.5,\n",
    "    13.5, 18.4, 7.7,\n",
    "    24.3, 10.7, 8.4,\n",
    "    4.9, 7.9, 12,\n",
    "    16.2, 6.8, 14.7\n",
    "]\n",
    "\n",
    "NSAMPLES = len(SAMPLES)\n",
    "\n",
    "#Estimación del parámetro\n",
    "LAMBDA_HAT = NSAMPLES / sum(SAMPLES)\n",
    "\n",
    "def NEXP(lamda:float) -> float:\n",
    "    U = 1 - random()\n",
    "    return -log(U) / lamda"
   ]
  },
  {
   "cell_type": "code",
   "execution_count": 24,
   "id": "fe4bb0f2",
   "metadata": {},
   "outputs": [],
   "source": [
    "#Definimos el estadístico\n",
    "def KS_statistic(Nsamples:int, samples:ArrayLike, G:Callable[[ArrayLike], ArrayLike]) -> float:\n",
    "    Fe_samples = np.arange(1, Nsamples + 1, 1) / Nsamples\n",
    "    G_values = G(samples)\n",
    "\n",
    "    Fe_minus = np.arange(0, Nsamples) / Nsamples\n",
    "    Fe_plus = np.arange(1, Nsamples + 1) / Nsamples\n",
    "\n",
    "    D_minus = G_values - Fe_minus\n",
    "    D_plus = Fe_plus - G_values\n",
    "    \n",
    "    d = np.max(np.concatenate([D_plus, D_minus]))\n",
    "    return d\n",
    "\n",
    "#Test de Kolomogorov-Smirnov\n",
    "def KS_test(Nsim:int, Nsamples:int,\n",
    "            samples:ArrayLike, alpha:float,\n",
    "            G:Callable[[ArrayLike], ArrayLike]):\n",
    "\n",
    "    p_value = 0\n",
    "    #Ordeño muestras 🐄\n",
    "    samples = np.sort(samples)\n",
    "    #Calculo estadístico inicial\n",
    "    d0 = KS_statistic(Nsamples=Nsamples, samples=samples, G=G)\n",
    "\n",
    "    print(f\"🧐 D estadístico:{round(d0, 4)}\")\n",
    "\n",
    "    for _ in range(Nsim):\n",
    "        #Generamos muestras aleatorias para estimar el p_valor\n",
    "        uniform_samples = np.sort([NEXP(lamda=LAMBDA_HAT) for _ in range(Nsamples)])\n",
    "        d_sim = KS_statistic(Nsamples=Nsamples, samples=uniform_samples, G=G)\n",
    "        if d_sim >= d0: \n",
    "            p_value += 1\n",
    "        \n",
    "    p_value = p_value / Nsim\n",
    "    print(f\"☝️ p-valor obtenido: {round(p_value, 4)}\")\n",
    "\n",
    "    if p_value > alpha:\n",
    "        print(f\"😲☝️ Como {p_value} > {alpha}:\")\n",
    "        print(\"\\t 😒 No hay evidencia suficiente para rechazar Ho\")\n",
    "    else:\n",
    "        print(f\"😲☝️ Como {p_value} <= {alpha}:\")\n",
    "        print(f\"\\t 🔴 Se rechaza Ho con una confianza del {int(100 * (1-alpha))}%\")"
   ]
  },
  {
   "cell_type": "code",
   "execution_count": 25,
   "id": "9cfe4081",
   "metadata": {},
   "outputs": [
    {
     "name": "stdout",
     "output_type": "stream",
     "text": [
      "🧐 D estadístico:0.2695\n",
      "☝️ p-valor obtenido: 0.1914\n",
      "😲☝️ Como 0.1914 > 0.05:\n",
      "\t 😒 No hay evidencia suficiente para rechazar Ho\n"
     ]
    }
   ],
   "source": [
    "ALPHA = 0.05\n",
    "KS_test(Nsim=10_000, Nsamples=NSAMPLES, samples=SAMPLES, alpha=ALPHA, G=expon(scale=1/LAMBDA_HAT).cdf)"
   ]
  },
  {
   "cell_type": "markdown",
   "id": "710d41db",
   "metadata": {},
   "source": [
    "# Implementación chiteada de SCIPY 🐍"
   ]
  },
  {
   "cell_type": "code",
   "execution_count": 31,
   "id": "00fc4e9e",
   "metadata": {},
   "outputs": [
    {
     "name": "stdout",
     "output_type": "stream",
     "text": [
      "📈 D estadístico: 0.2695\n",
      "📊 p-valor: 0.188\n"
     ]
    }
   ],
   "source": [
    "# Aplicamos el test de Kolmogorov-Smirnov contra la exponencial con ese scale\n",
    "D, p_value = kstest(SAMPLES, 'expon', args=(0, 1/LAMBDA_HAT))\n",
    "\n",
    "print(f\"📈 D estadístico: {round(D, 4)}\")\n",
    "print(f\"📊 p-valor: {round(p_value, 4)}\")"
   ]
  }
 ],
 "metadata": {
  "kernelspec": {
   "display_name": ".venv",
   "language": "python",
   "name": "python3"
  },
  "language_info": {
   "codemirror_mode": {
    "name": "ipython",
    "version": 3
   },
   "file_extension": ".py",
   "mimetype": "text/x-python",
   "name": "python",
   "nbconvert_exporter": "python",
   "pygments_lexer": "ipython3",
   "version": "3.12.3"
  }
 },
 "nbformat": 4,
 "nbformat_minor": 5
}
