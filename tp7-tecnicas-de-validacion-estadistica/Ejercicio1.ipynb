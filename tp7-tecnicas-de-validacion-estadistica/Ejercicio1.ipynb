{
 "cells": [
  {
   "cell_type": "markdown",
   "id": "032000f9",
   "metadata": {},
   "source": [
    "---\n",
    "# Ejercicio 1\n",
    "De acuerdo con la teoría genética de *Mendel*, cierta planta de guisantes debe producir flores blancas, rosas o rojas con probabilidad $\\frac{1}{4}$, $\\frac{1}{2}$ y $\\frac{1}{4}$, respectivamente. Para verificar experimentalmente la teoría, se estudió una muestra de $564$ guisantes, donde se encontró que $141$ produjeron flores blancas, $291$ flores rosas y $132$ flores rojas. Aproximar el p-valor de esta muestra:\n",
    "\n",
    "- a) utilizando la prueba de Pearson con aproximación chi-cuadrada,"
   ]
  },
  {
   "cell_type": "markdown",
   "id": "8ae6cd55",
   "metadata": {},
   "source": [
    "## Parámetros especificados\n",
    "Tenemos que :\n",
    "$$\n",
    "p_0 = \\frac{1}{4} = P(X = \\text{blancas}), \\quad \n",
    "p_1 = \\frac{1}{2} = P(X = \\text{rosas}), \\quad\n",
    "p_2 = \\frac{1}{4} = P(X = \\text{rojas})\n",
    "$$\n",
    "\n",
    "Luego las frecuancias observadas $N_i$ son:\n",
    "- $n=$ 564 guistantes.\n",
    "- $N_0 = $ 141 flores blancas\n",
    "- $N_1 = $ 291 flores rosas\n",
    "- $N_2 = $ 132 flores rojas\n",
    "\n",
    "\n",
    "\n"
   ]
  },
  {
   "cell_type": "markdown",
   "id": "ce239ca0",
   "metadata": {},
   "source": [
    "Para aproximar el **p-valor** de esta muestra utilizando la prueba de Pearson con aproximación *Chi-Cuadrada* debemos tener en cuenta el estadístico\n",
    "$$\n",
    "T = \\sum_{i=0}^n \\frac{(N_i-n\\times p_i)²}{n\\times p_i}\n",
    "\n",
    "$$\n",
    "Tal que para nuestro caso tenemos:\n",
    "\n",
    "$$\n",
    "\\begin{align*}\n",
    "T &= \\sum_{i=0}^2 \\frac{(N_i-564\\times p_i)²}{564\\times p_i}\\\\[0.3cm]\n",
    "  &=    \\frac{(N_0-564 \\times p_0)²}{564 \\times p_0} +\n",
    "        \\frac{(N_1-564 \\times p_1)²}{564 \\times p_1} +\n",
    "        \\frac{(N_2-564 \\times p_2)²}{564 \\times p_2}\\\\[0.3cm]\n",
    "  &=    \\frac{(141-564 \\times \\frac{1}{4})²}{564 \\times \\frac{1}{4}} +\n",
    "        \\frac{(291-564 \\times \\frac{1}{2})²}{564 \\times \\frac{1}{2}} +\n",
    "        \\frac{(132-564 \\times \\frac{1}{4})²}{564 \\times \\frac{1}{4}}\\\\[0.3cm]\n",
    "  &=    0\\quad + \\quad \\frac{27}{94} \\quad + \\quad \\frac{27}{47}\\\\[0.3cm]\n",
    "  &= \\frac{81}{94}\n",
    "\\end{align*}\n",
    "$$"
   ]
  }
 ],
 "metadata": {
  "language_info": {
   "name": "python"
  }
 },
 "nbformat": 4,
 "nbformat_minor": 5
}
