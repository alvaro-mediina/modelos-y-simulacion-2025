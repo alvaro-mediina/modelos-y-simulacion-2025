{
 "cells": [
  {
   "cell_type": "code",
   "execution_count": 1,
   "id": "63946fda",
   "metadata": {},
   "outputs": [],
   "source": [
    "from scipy.stats import chi2\n",
    "import numpy as np"
   ]
  },
  {
   "cell_type": "markdown",
   "id": "032000f9",
   "metadata": {},
   "source": [
    "---\n",
    "# Ejercicio 1\n",
    "De acuerdo con la teoría genética de *Mendel*, cierta planta de guisantes debe producir flores blancas, rosas o rojas con probabilidad $\\frac{1}{4}$, $\\frac{1}{2}$ y $\\frac{1}{4}$, respectivamente. Para verificar experimentalmente la teoría, se estudió una muestra de $564$ guisantes, donde se encontró que $141$ produjeron flores blancas, $291$ flores rosas y $132$ flores rojas. Aproximar el p-valor de esta muestra:\n",
    "\n",
    "- a) utilizando la prueba de Pearson con aproximación chi-cuadrada,"
   ]
  },
  {
   "cell_type": "markdown",
   "id": "8ae6cd55",
   "metadata": {},
   "source": [
    "## Parámetros especificados\n",
    "Tenemos que :\n",
    "$$\n",
    "p_0 = \\frac{1}{4} = P(X = \\text{blancas}), \\quad \n",
    "p_1 = \\frac{1}{2} = P(X = \\text{rosas}), \\quad\n",
    "p_2 = \\frac{1}{4} = P(X = \\text{rojas})\n",
    "$$\n",
    "\n",
    "Luego las frecuancias observadas $N_i$ son:\n",
    "- $n=$ 564 guistantes.\n",
    "- $N_0 = $ 141 flores blancas\n",
    "- $N_1 = $ 291 flores rosas\n",
    "- $N_2 = $ 132 flores rojas\n",
    "\n",
    "\n",
    "\n"
   ]
  },
  {
   "cell_type": "markdown",
   "id": "ce239ca0",
   "metadata": {},
   "source": [
    "Para aproximar el **p-valor** de esta muestra utilizando la prueba de Pearson con aproximación *Chi-Cuadrada* debemos tener en cuenta el estadístico\n",
    "$$\n",
    "T = \\sum_{i=0}^n \\frac{(N_i-n\\times p_i)²}{n\\times p_i}\n",
    "\n",
    "$$\n",
    "Tal que para nuestro caso tenemos:\n",
    "\n",
    "$$\n",
    "\\begin{align*}\n",
    "T &= \\sum_{i=0}^2 \\frac{(N_i-564\\times p_i)²}{564\\times p_i}\\\\[0.3cm]\n",
    "  &=    \\frac{(N_0-564 \\times p_0)²}{564 \\times p_0} +\n",
    "        \\frac{(N_1-564 \\times p_1)²}{564 \\times p_1} +\n",
    "        \\frac{(N_2-564 \\times p_2)²}{564 \\times p_2}\\\\[0.3cm]\n",
    "  &=    \\frac{(141-564 \\times \\frac{1}{4})²}{564 \\times \\frac{1}{4}} +\n",
    "        \\frac{(291-564 \\times \\frac{1}{2})²}{564 \\times \\frac{1}{2}} +\n",
    "        \\frac{(132-564 \\times \\frac{1}{4})²}{564 \\times \\frac{1}{4}}\\\\[0.3cm]\n",
    "  &=    0\\quad + \\quad \\frac{27}{94} \\quad + \\quad \\frac{27}{47}\\\\[0.3cm]\n",
    "  &= \\frac{81}{94}\n",
    "\\end{align*}\n",
    "$$\n",
    "\n",
    "Ahora como hemos considerado 3 términos en el estadístico $T$, entonces debemos testear con una distribución $\\chi_{3-1}^2$ tal que:\n",
    "$$\n",
    "p_{valor} = P(\\chi_{2}^2 \\geq 0.8617) \\approx 0.65\n",
    "$$\n",
    "\n",
    "Ahora teniendo en cuenta que para un nivel de confianza del *95%*, como $p_{valor} > \\alpha$, la hipótesis nula no se rechaza pero no hay evidencias suficientes para hacerlo."
   ]
  },
  {
   "cell_type": "code",
   "execution_count": 4,
   "id": "409f1637",
   "metadata": {},
   "outputs": [],
   "source": [
    "def Pearson_statistic(Nsamples:int, samples:list[int], probability_values:list[float]) -> float:\n",
    "    statistic = 0\n",
    "    for sample, prob_i in zip(samples, probability_values):\n",
    "        statistic += (sample - Nsamples * prob_i) ** 2 / (Nsamples * prob_i)\n",
    "    return statistic\n",
    "\n",
    "def Pearson_test(Nsamples: int, samples:list[int], probability_values:list[float], alpha:float):\n",
    "    T = Pearson_statistic(Nsamples=Nsamples, samples=samples, probability_values=probability_values)\n",
    "    print(f\"🧐 T estadístico:{round(T, 4)}\")\n",
    "\n",
    "    p_value = 1 - chi2.cdf(round(T, 4), df=2)\n",
    "\n",
    "    print(f\"☝️ p-valor obtenido: {round(p_value, 4)}\")\n",
    "\n",
    "    if p_value > alpha:\n",
    "        print(\"😒 No hay evidencia suficiente para rechazar Ho\")\n",
    "    else:\n",
    "        print(f\"🔴 Se rechaza Ho con una confianza del {100 * (100-alpha)}%\")"
   ]
  },
  {
   "cell_type": "code",
   "execution_count": 6,
   "id": "b85669b8",
   "metadata": {},
   "outputs": [
    {
     "name": "stdout",
     "output_type": "stream",
     "text": [
      "🧐 T estadístico:0.8617\n",
      "☝️ p-valor obtenido: 0.65\n",
      "😒 No hay evidencia suficiente para rechazar Ho\n"
     ]
    }
   ],
   "source": [
    "#Valores constantes\n",
    "FLOWERS_SAMPLES = [141, 291, 132] #blancas, rosas y rojas respectiv\n",
    "PROBABILITY_VALUES = [1/4, 1/2, 1/4]\n",
    "NSAMPLES = 564\n",
    "\n",
    "alpha = 1 - 0.95 # Test para el 95%\n",
    "\n",
    "Pearson_test(Nsamples=NSAMPLES, samples=FLOWERS_SAMPLES, probability_values=PROBABILITY_VALUES, alpha=alpha)"
   ]
  },
  {
   "cell_type": "markdown",
   "id": "82a022b7",
   "metadata": {},
   "source": [
    "---\n",
    "b) realizando una simulación.\n"
   ]
  },
  {
   "cell_type": "markdown",
   "id": "321b9b6f",
   "metadata": {},
   "source": [
    "Ahora a partir del estadístico obtenido, denominado $t_0= 0.8617$"
   ]
  },
  {
   "cell_type": "code",
   "execution_count": 9,
   "id": "19054b0a",
   "metadata": {},
   "outputs": [],
   "source": [
    "def p_value_estimation(Nsim:int, Nsamples:int, samples:list[int], probability_values:list[float],  t0:float):\n",
    "    p_value = 0\n",
    "    possible_frequencies = list(range(0, len(samples)))\n",
    "    for _ in range(Nsim):\n",
    "        #Generamos Nsamples muestras de las posibles frecuencias observadas,\n",
    "        #cada una con probabilidad p_i\n",
    "        X_samples = np.random.choice(a=possible_frequencies,  p=probability_values, size=Nsamples)\n",
    "\n",
    "        N_i = np.bincount(X_samples, minlength=len(samples))\n",
    "        \n",
    "        T = Pearson_statistic(Nsamples=Nsamples, samples=N_i, probability_values=probability_values)\n",
    "\n",
    "        if T > t0:\n",
    "            p_value += 1\n",
    "\n",
    "    return p_value / Nsim"
   ]
  },
  {
   "cell_type": "code",
   "execution_count": 10,
   "id": "4cfb4d22",
   "metadata": {},
   "outputs": [
    {
     "name": "stdout",
     "output_type": "stream",
     "text": [
      "☝️ p-valor obtenido: 0.6565\n"
     ]
    }
   ],
   "source": [
    "NSIM = 10_000\n",
    "T = 0.8617\n",
    "p_value = p_value_estimation(\n",
    "            Nsim=NSIM,\n",
    "            Nsamples=NSAMPLES,\n",
    "            samples=FLOWERS_SAMPLES,\n",
    "            probability_values=PROBABILITY_VALUES,\n",
    "            t0=T)\n",
    "\n",
    "print(f\"☝️ p-valor obtenido: {round(p_value, 4)}\")"
   ]
  }
 ],
 "metadata": {
  "kernelspec": {
   "display_name": ".venv",
   "language": "python",
   "name": "python3"
  },
  "language_info": {
   "codemirror_mode": {
    "name": "ipython",
    "version": 3
   },
   "file_extension": ".py",
   "mimetype": "text/x-python",
   "name": "python",
   "nbconvert_exporter": "python",
   "pygments_lexer": "ipython3",
   "version": "3.12.3"
  }
 },
 "nbformat": 4,
 "nbformat_minor": 5
}
