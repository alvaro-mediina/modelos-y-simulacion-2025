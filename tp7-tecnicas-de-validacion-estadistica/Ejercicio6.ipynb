{
 "cells": [
  {
   "cell_type": "code",
   "execution_count": 66,
   "id": "7b696de2",
   "metadata": {},
   "outputs": [],
   "source": [
    "from scipy.stats import chi2\n",
    "from numpy import random, bincount\n",
    "from IPython.display import display, Math"
   ]
  },
  {
   "cell_type": "markdown",
   "id": "38b16a76",
   "metadata": {},
   "source": [
    "---\n",
    "# Ejercicio 6\n",
    "Un escribano debe validar un juego en cierto programa de televisión. El mismo consiste\n",
    "en hacer girar una rueda y obtener un premio según el sector de la rueda que coincida con una aguja.\n",
    "Hay 10 premios posibles, y las áreas de la rueda para los distintos premios, numerados del 1 al 10, son respectivamente:\n",
    "$$\n",
    "31\\%, \\quad 22\\%,\\quad 12\\%, \\quad 10\\%,\\quad  8\\%,\\quad 6\\%,\\quad 4\\%,\\quad 4\\%,\\quad 2\\%,\\quad 1\\%\n",
    "$$\n",
    "\n",
    "Los premios con número alto (e.j. un auto 0Km) son mejores que los premios con número bajo (e.j. 2x1\n",
    "para entradas en el cine). El escribano hace girar la rueda hasta que se cansa, y anota cuántas veces sale cada sector. Los resultados, para los premios del 1 al 10, respectivamente, son:\n",
    "$$\n",
    "188, \\quad 138, \\quad 87,\\quad 65,\\quad 48,\\quad 32,\\quad 30,\\quad 34,\\quad 13,\\quad 2\n",
    "$$"
   ]
  },
  {
   "cell_type": "markdown",
   "id": "e32d7042",
   "metadata": {},
   "source": [
    "Esto implica que se ordenan a *mayor prioridad números del fondo*:\n",
    "- 31\\% -> 188 veces **(2x1 para entradas en el cine)**\n",
    "- 22\\% -> 138 veces\n",
    "- 12\\% -> 87  veces \n",
    "- 10\\% -> 65  veces \n",
    "-  8\\% -> 48  veces \n",
    "- 6\\%  -> 32  veces \n",
    "- 4\\%  -> 30  veces \n",
    "- 4\\%  -> 34  veces \n",
    "- 2\\%  -> 13  veces \n",
    "- 1\\%  -> 2   veces **(un auto 0Km)**"
   ]
  },
  {
   "cell_type": "markdown",
   "id": "4610dcfe",
   "metadata": {},
   "source": [
    "Dado que los datos son una muestra de observaciones independientes discretas, vamos a utilizar el `Test de bondad de ajuste de Pearson`"
   ]
  },
  {
   "cell_type": "markdown",
   "id": "cde1bd62",
   "metadata": {},
   "source": [
    "a) Construya una tabla con los datos disponibles"
   ]
  },
  {
   "cell_type": "code",
   "execution_count": 40,
   "id": "e96c8ba5",
   "metadata": {},
   "outputs": [
    {
     "name": "stdout",
     "output_type": "stream",
     "text": [
      "i  |  Nᵢ  |   pᵢ   | Nsamples × pᵢ | ((Nᵢ - Nsamples × pᵢ)^2) / Nsamples × pᵢ |\n",
      "------------------------------------------------------------------------------\n",
      "0  | 188  |  0.31  |    197.47     |                  0.4541                  |\n",
      "1  | 138  |  0.22  |    140.14     |                  0.4868                  |\n",
      "2  |  87  |  0.12  |     76.44     |                  1.9456                  |\n",
      "3  |  65  |  0.10  |     63.7      |                  1.9721                  |\n",
      "4  |  48  |  0.08  |     50.96     |                  2.1440                  |\n",
      "5  |  32  |  0.06  |     38.22     |                  3.1563                  |\n",
      "6  |  30  |  0.04  |     25.48     |                  3.9581                  |\n",
      "7  |  34  |  0.04  |     25.48     |                  6.8070                  |\n",
      "8  |  13  |  0.02  |     12.74     |                  6.8123                  |\n",
      "9  |  2   |  0.01  |     6.37      |                  9.8102                  |\n",
      "------------------------------------------------------------------------------\n",
      "                        Estadístico de Pearson: 9.8102                        |\n",
      "------------------------------------------------------------------------------\n"
     ]
    }
   ],
   "source": [
    "PROBABILITY_VALUES = [\n",
    "    0.31, 0.22, 0.12,\n",
    "    0.10, 0.08, 0.06,\n",
    "    0.04, 0.04, 0.02,\n",
    "    0.01\n",
    "]\n",
    "\n",
    "OBSERVED_FRECUENCIES = [\n",
    "    188, 138, 87,\n",
    "    65,  48,  32,\n",
    "    30,  34,  13,\n",
    "    2\n",
    "]\n",
    "\n",
    "NSAMPLES = sum(OBSERVED_FRECUENCIES)\n",
    "\n",
    "T_statistic = 0\n",
    "\n",
    "print(f\"{'i':^2} | {'Nᵢ':^4} | {'pᵢ':^6} | {'Nsamples × pᵢ':^7} | {'((Nᵢ - Nsamples × pᵢ)^2) / Nsamples × pᵢ':^25} |\")\n",
    "print(\"-\" * 78)\n",
    "\n",
    "for i, (obs, prob) in enumerate(zip(OBSERVED_FRECUENCIES, PROBABILITY_VALUES)):\n",
    "    expected = round(NSAMPLES * prob, 4)\n",
    "    term = round((obs - expected) ** 2 / expected, 4)\n",
    "    T_statistic += term\n",
    "    print(f\"{i:^2} | {obs:^4} | {prob:^6.2f} | {expected:^13} | {T_statistic:^40.4f} |\")\n",
    "\n",
    "print(\"-\" *78)\n",
    "print(f\"Estadístico de Pearson: {T_statistic}\".center(78) + \"|\" )\n",
    "print(\"-\" *78)\n"
   ]
  },
  {
   "cell_type": "markdown",
   "id": "2af7f8fa",
   "metadata": {},
   "source": [
    "---\n",
    "b) Diseñe una prueba de hipótesis para determinar si la rueda es justa.\n",
    "\n",
    "Como *el escribano* durante el testeo obtuvo esas frecuencias con dicho porcentaje de probabilidad, asumimos que una rueda **es justa** si vienen dados por los resultados obtenidos. Es decir, un auto 0km tiene probabilidad de salir del 1%.\n",
    "\n",
    "Dicho esto tenemos:\n",
    "> \"$H_0$: `La rueda es justa`, es decir, los datos observados provienen de una distribución con las probabilidades dadas:\n",
    "> $$ H_0 : P(i)=p_i \\quad \\text{para cada } i=0,…,9$$ \n"
   ]
  },
  {
   "cell_type": "markdown",
   "id": "638115f1",
   "metadata": {},
   "source": [
    "---\n",
    "c) Defina el p-valor a partir de la hipótesis nula\n",
    "\n",
    "Como tenemos que el estadístico de Pearson viene dado por:\n",
    "$$\n",
    "\\boxed{T = 9.8102}\n",
    "$$\n",
    "Como hemos considerado 10 términos en el estadístico T, entonces debemos testear con una distribución $\\chi_{10-1}^2$. En particular:\n",
    "$$\n",
    "p_{valor} = P(\\chi_{9}^2 \\geq 9.8102) \n",
    "$$\n"
   ]
  },
  {
   "cell_type": "markdown",
   "id": "81dc3eb5",
   "metadata": {},
   "source": [
    "---\n",
    "d) Calcule el p-valor bajo la hipótesis de que la rueda es justa, usando la aproximación chi cuadrado"
   ]
  },
  {
   "cell_type": "code",
   "execution_count": 44,
   "id": "ca349980",
   "metadata": {},
   "outputs": [
    {
     "data": {
      "text/plain": [
       "0.3661"
      ]
     },
     "execution_count": 44,
     "metadata": {},
     "output_type": "execute_result"
    }
   ],
   "source": [
    "P_VALUE = 1 - chi2.cdf(round(T_statistic, 4), df=9)\n",
    "round(float(P_VALUE), 4)"
   ]
  },
  {
   "cell_type": "markdown",
   "id": "5b4d4fca",
   "metadata": {},
   "source": [
    "$$\n",
    "p_{valor} = P(\\chi_{9}^2 \\geq 9.8102) \\approx 0.3661\n",
    "$$"
   ]
  },
  {
   "cell_type": "markdown",
   "id": "8e381d6b",
   "metadata": {},
   "source": [
    "Para un nivel de confianza del 95%, no hay evidencia suficiente para rechazar Ho porque el $p_{valor}$ es menor al 5%."
   ]
  },
  {
   "cell_type": "markdown",
   "id": "980e61d7",
   "metadata": {},
   "source": [
    "---\n",
    "e) Calcule el p-valor bajo la hipótesis de que la rueda es justa, usando una simulación."
   ]
  },
  {
   "cell_type": "code",
   "execution_count": 61,
   "id": "95d00112",
   "metadata": {},
   "outputs": [],
   "source": [
    "def Pearson_statistic(freqs, probability_values, Nsamples):\n",
    "    T_statistic = 0\n",
    "    for obs, prob in zip(freqs, probability_values):\n",
    "        expected = Nsamples * prob\n",
    "        term = (obs - expected) ** 2 / expected\n",
    "        T_statistic += term\n",
    "    return T_statistic"
   ]
  },
  {
   "cell_type": "code",
   "execution_count": 70,
   "id": "540cad74",
   "metadata": {},
   "outputs": [
    {
     "data": {
      "text/latex": [
       "$\\displaystyle p_{\\text{valor}} = P(\\chi^2_9 \\geq 9.8102) \\approx 0.3628$"
      ],
      "text/plain": [
       "<IPython.core.display.Math object>"
      ]
     },
     "metadata": {},
     "output_type": "display_data"
    }
   ],
   "source": [
    "p_value = 0\n",
    "t0 = T_statistic\n",
    "Nsim = 10_000\n",
    "possible_frequencies = list(range(0, len(OBSERVED_FRECUENCIES)))\n",
    "\n",
    "for _ in range(Nsim):\n",
    "    simulated_data = random.choice(possible_frequencies, size=NSAMPLES, p=PROBABILITY_VALUES)\n",
    "    simulated_freqs = bincount(simulated_data, minlength=len(OBSERVED_FRECUENCIES))\n",
    "    T = Pearson_statistic(simulated_freqs, PROBABILITY_VALUES, NSAMPLES)\n",
    "\n",
    "    if T >= t0:\n",
    "        p_value += 1\n",
    "\n",
    "p_value /= Nsim\n",
    "display(Math(fr\"p_{{\\text{{valor}}}} = P(\\chi^2_9 \\geq 9.8102) \\approx {p_value:.4f}\"))"
   ]
  }
 ],
 "metadata": {
  "kernelspec": {
   "display_name": ".venv",
   "language": "python",
   "name": "python3"
  },
  "language_info": {
   "codemirror_mode": {
    "name": "ipython",
    "version": 3
   },
   "file_extension": ".py",
   "mimetype": "text/x-python",
   "name": "python",
   "nbconvert_exporter": "python",
   "pygments_lexer": "ipython3",
   "version": "3.12.3"
  }
 },
 "nbformat": 4,
 "nbformat_minor": 5
}
