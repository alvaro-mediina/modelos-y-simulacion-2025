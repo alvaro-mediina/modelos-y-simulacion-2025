{
 "cells": [
  {
   "cell_type": "code",
   "execution_count": 106,
   "id": "e4ac64ad",
   "metadata": {},
   "outputs": [],
   "source": [
    "import numpy as np \n",
    "from math import sqrt, erf\n",
    "from typing import Callable\n",
    "from numpy.typing import ArrayLike\n",
    "from random import random"
   ]
  },
  {
   "cell_type": "markdown",
   "id": "ca54eeb7",
   "metadata": {},
   "source": [
    "---\n",
    "# Parcial 3 2024 \n"
   ]
  },
  {
   "cell_type": "markdown",
   "id": "d28eee9a",
   "metadata": {},
   "source": [
    "\n",
    "##  Ejercicio 2"
   ]
  },
  {
   "cell_type": "markdown",
   "id": "6c21d6ba",
   "metadata": {},
   "source": [
    "### Constantes"
   ]
  },
  {
   "cell_type": "code",
   "execution_count": 48,
   "id": "5c01d79f",
   "metadata": {},
   "outputs": [],
   "source": [
    "SAMPLES = [\n",
    "    1.628, 1.352, 1.800,\n",
    "    1.420, 1.594, 2.132,\n",
    "    1.614, 1.924, 1.692\n",
    "]\n",
    "\n",
    "NSAMPLES = len(SAMPLES)\n",
    "\n",
    "# Muestras ordenadas\n",
    "SORT_SAMPLES = np.sort(SAMPLES)"
   ]
  },
  {
   "cell_type": "markdown",
   "id": "eb81fbc0",
   "metadata": {},
   "source": [
    "### Estimación de los parámetros"
   ]
  },
  {
   "cell_type": "code",
   "execution_count": null,
   "id": "1d267959",
   "metadata": {},
   "outputs": [
    {
     "name": "stdout",
     "output_type": "stream",
     "text": [
      "MU sombrero    -> 1.684\n",
      "SIGMA sombrero -> 0.2418\n"
     ]
    }
   ],
   "source": [
    "# Estimación de los parámetros\n",
    "MU_HAT = round(sum(SAMPLES) / len(SAMPLES), 4)\n",
    "SIGMA_HAT = round(sqrt(sum((x - MU_HAT)** 2 for x in SAMPLES) / (len(SAMPLES) - 1)), 4)\n",
    "print(f\"MU sombrero    -> {MU_HAT}\")\n",
    "print(f\"SIGMA sombrero -> {SIGMA_HAT}\")"
   ]
  },
  {
   "cell_type": "markdown",
   "id": "24c81f7a",
   "metadata": {},
   "source": [
    "### Estadístico"
   ]
  },
  {
   "cell_type": "code",
   "execution_count": 56,
   "id": "b20fed31",
   "metadata": {},
   "outputs": [],
   "source": [
    "# Fda\n",
    "def cdf_Gaussian(x:float, mu:float, sigma:float) -> float:\n",
    "    \"\"\"\n",
    "    Función de distribución acumulada Normal\n",
    "    con parámetros μ=0, σ=1\n",
    "\n",
    "    Args:\n",
    "        x (float): Valor a acumular\n",
    "\n",
    "    Returns:\n",
    "        float: Valor acumulado hasta\n",
    "    \"\"\"\n",
    "    # Estandarizamos\n",
    "    z = (x - mu) / sigma\n",
    "    return erf(z / sqrt(2.0)) / 2.0 + 0.5"
   ]
  },
  {
   "cell_type": "code",
   "execution_count": 128,
   "id": "20729933",
   "metadata": {},
   "outputs": [],
   "source": [
    "def KS_statistic(Nsamples:int, sort_samples:ArrayLike, F:Callable[[float], float]) -> float:\n",
    "    \"\"\"\n",
    "    Calcula el estadístico de Kolmogorov-Smirnov\n",
    "\n",
    "    Args:\n",
    "        Nsamples (int): Número de muestras\n",
    "        sort_samples (float): Lista ordenada de muestras\n",
    "\n",
    "    Returns:\n",
    "        float: estadístico\n",
    "    \"\"\"\n",
    "    F_values = F(sort_samples)\n",
    "    j = np.arange(1, Nsamples + 1)\n",
    "    d_plus = np.max(j / Nsamples - F_values)\n",
    "    d_minus = np.max(F_values - (j - 1) / Nsamples)\n",
    "    return max(d_plus, d_minus)"
   ]
  },
  {
   "cell_type": "code",
   "execution_count": 129,
   "id": "4bb0841a",
   "metadata": {},
   "outputs": [
    {
     "name": "stdout",
     "output_type": "stream",
     "text": [
      "🧐 D estadístico:0.1535\n"
     ]
    }
   ],
   "source": [
    "F_cda = np.vectorize(lambda x: cdf_Gaussian(x=x, mu=MU_HAT, sigma=SIGMA_HAT))\n",
    "d0 = KS_statistic(Nsamples=NSAMPLES,sort_samples=SORT_SAMPLES, F=F_cda)\n",
    "print(f\"🧐 D estadístico:{round(D, 4)}\")"
   ]
  },
  {
   "cell_type": "markdown",
   "id": "71ed6db9",
   "metadata": {},
   "source": [
    "### Test de Kolmogorov-Smirnov"
   ]
  },
  {
   "cell_type": "code",
   "execution_count": 130,
   "id": "acfb26f5",
   "metadata": {},
   "outputs": [],
   "source": [
    "def KS_test(Nsim:int, Nsamples:int,\n",
    "            d0: float, alpha:float):\n",
    "    \"\"\"\n",
    "    Test de Kolmogorov-Smirnov\n",
    "    Decide si rechaza o no una Hipótesis Nula\n",
    "\n",
    "    Args:\n",
    "        Nsim (int): Número de simulaciones\n",
    "        d0 (float): Estadístico basado en las muestras\n",
    "        Nsamples (int): Número de muestras\n",
    "        alpha (float): Nivel de rechazo\n",
    "    \"\"\"\n",
    "    p_value = 0\n",
    "\n",
    "    for _ in range(Nsim):\n",
    "        #Generamos muestras aleatorias para estimar el p_valor\n",
    "        uniform_samples = np.sort([random() for _ in range(Nsamples)])\n",
    "        d_sim = KS_statistic(Nsamples=Nsamples, sort_samples=uniform_samples, F=lambda x:x)\n",
    "        if d_sim >= d0: \n",
    "            p_value += 1\n",
    "        \n",
    "    p_value = round(p_value / Nsim, 4)\n",
    "    print(f\"☝️ p-valor obtenido: {p_value}\")\n",
    "\n",
    "    if p_value > alpha:\n",
    "        print(f\"😲☝️ Como {p_value} > {alpha}:\")\n",
    "        print(\"\\t 😒 No hay evidencia suficiente para rechazar Ho\")\n",
    "    else:\n",
    "        print(f\"😲☝️ Como {p_value} <= {alpha}:\")\n",
    "        print(f\"\\t 🔴 Se rechaza Ho con una confianza del {int(100 * (1-alpha))}%\")"
   ]
  },
  {
   "cell_type": "code",
   "execution_count": 131,
   "id": "6eab5f5c",
   "metadata": {},
   "outputs": [
    {
     "name": "stdout",
     "output_type": "stream",
     "text": [
      "☝️ p-valor obtenido: 0.9621\n",
      "😲☝️ Como 0.9621 > 0.04:\n",
      "\t 😒 No hay evidencia suficiente para rechazar Ho\n"
     ]
    }
   ],
   "source": [
    "KS_test(Nsim=10_000, Nsamples=NSAMPLES,\n",
    "        d0=d0, alpha=0.04)"
   ]
  },
  {
   "cell_type": "markdown",
   "id": "056367a4",
   "metadata": {},
   "source": [
    "---\n",
    "d) Suponer que en una de las simulaciones se obtuvieron los siguientes valores para las simulaciones: U1 = 0.23, U2 = 0.12, U3 = 0.45, U4 = 0.67, U5 = 0.01, U6 = 0.51, U7 = 0.38, U8 = 0.92 y U9 = 0.84.\n",
    "¿Como resulta el valor del estad´ıstico para estos datos, en relaci´on al estad´ıstico observado?"
   ]
  },
  {
   "cell_type": "code",
   "execution_count": null,
   "id": "53468867",
   "metadata": {},
   "outputs": [
    {
     "name": "stdout",
     "output_type": "stream",
     "text": [
      "🧐 D estadístico:0.1535\n"
     ]
    }
   ],
   "source": [
    "NEW_SAMPLES = [\n",
    "    0.23, 0.12, 0.45,\n",
    "    0.67, 0.01, 0.51,\n",
    "    0.38, 0.92, 0.84\n",
    "]\n",
    "\n",
    "NEW_SAMPLES_SORTED = np.sort(NEW_SAMPLES)\n",
    "\n",
    "new_d = KS_statistic(Nsamples=len(NEW_SAMPLES_SORTED), sort_samples=NEW_SAMPLES_SORTED, F=lambda x:x)\n",
    "print(f\"🧐 D estadístico:{round(D, 4)}\")"
   ]
  },
  {
   "cell_type": "code",
   "execution_count": 139,
   "id": "7931ef21",
   "metadata": {},
   "outputs": [
    {
     "name": "stdout",
     "output_type": "stream",
     "text": [
      "d_j: 0.15666666666666662\n"
     ]
    }
   ],
   "source": [
    "_tam_muestra = len(NEW_SAMPLES)\n",
    "_muestra_uniformes = [0.23, 0.12, 0.45, 0.67, 0.01, 0.51, 0.38, 0.92, 0.84]\n",
    "\n",
    "# Calculamos el estadistico como si estuvieramos simulando:\n",
    "\n",
    "_muestra_uniformes_ordenada = np.sort(_muestra_uniformes)\n",
    "# Calculamos el estadistico de Kolmogorov Smirnov\n",
    "d_j = 0\n",
    "for j, u_j in enumerate(_muestra_uniformes_ordenada):\n",
    "    d_j = max(d_j, ((j+1)/_tam_muestra) - u_j, u_j - (j/_tam_muestra))\n",
    "\n",
    "print(f\"d_j: {d_j}\")"
   ]
  }
 ],
 "metadata": {
  "kernelspec": {
   "display_name": ".venv",
   "language": "python",
   "name": "python3"
  },
  "language_info": {
   "codemirror_mode": {
    "name": "ipython",
    "version": 3
   },
   "file_extension": ".py",
   "mimetype": "text/x-python",
   "name": "python",
   "nbconvert_exporter": "python",
   "pygments_lexer": "ipython3",
   "version": "3.12.3"
  }
 },
 "nbformat": 4,
 "nbformat_minor": 5
}
