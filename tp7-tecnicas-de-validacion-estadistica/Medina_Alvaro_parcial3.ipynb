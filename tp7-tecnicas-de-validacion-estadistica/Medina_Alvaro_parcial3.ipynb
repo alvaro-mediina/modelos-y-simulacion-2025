{
 "cells": [
  {
   "cell_type": "code",
   "execution_count": 290,
   "id": "8b36b541",
   "metadata": {},
   "outputs": [],
   "source": [
    "import numpy as np\n",
    "from numpy.typing import ArrayLike\n",
    "from typing import Callable\n",
    "from math import e, log, sqrt\n",
    "from random import random\n",
    "from scipy.stats import binom, chi2, norm"
   ]
  },
  {
   "cell_type": "markdown",
   "id": "cc67c125",
   "metadata": {},
   "source": [
    "---\n",
    "# Parcial 3 - Modelos y Simulación"
   ]
  },
  {
   "cell_type": "markdown",
   "id": "712a889a",
   "metadata": {},
   "source": [
    "## Ejercicio 2"
   ]
  },
  {
   "cell_type": "code",
   "execution_count": 70,
   "id": "86b129fe",
   "metadata": {},
   "outputs": [],
   "source": [
    "# Datos del archivo ordenados\n",
    "SAMPLES = np.sort([\n",
    "    15.22860536, 40.60145536, 33.67482894,\n",
    "    44.03841737, 15.69560109, 16.2321714,\n",
    "    25.02174735, 30.34655637, 3.3181228,\n",
    "    5.69447539, 10.1119561, 49.10266584,\n",
    "    3.6536329, 35.82047148, 3.37816632,\n",
    "    36.72299321, 50.67085322, 3.25476304,\n",
    "    20.12426236, 20.2668814, 17.49593589,\n",
    "    2.70768636, 14.77332745, 1.72267967,\n",
    "    23.34685662, 8.46376635, 9.18330789,\n",
    "    9.97428217, 2.33951729, 137.51657441,\n",
    "    9.79485269, 10.40308179, 1.57849658,\n",
    "    6.26959703, 4.74251574, 1.53479053,\n",
    "    34.74136011, 27.47600572, 9.1075566,\n",
    "    1.88056595, 27.59551348, 6.82283137,\n",
    "    12.45162807, 28.01983651, 0.36890593,\n",
    "    7.82520791, 3.17626161, 46.91791271,\n",
    "    38.08371186, 41.10961135\n",
    "])\n",
    "\n",
    "#Número de muestras\n",
    "NSAMPLES = len(SAMPLES)"
   ]
  },
  {
   "cell_type": "code",
   "execution_count": 169,
   "id": "7c5acae6",
   "metadata": {},
   "outputs": [],
   "source": [
    "LAMDA = 1/0.05\n",
    "# fda exponencial\n",
    "def Fexp(x:int):\n",
    "    return 1 - e**(-x / LAMDA)"
   ]
  },
  {
   "cell_type": "code",
   "execution_count": 158,
   "id": "33123118",
   "metadata": {},
   "outputs": [],
   "source": [
    "def KS_statistic(Nsamples:int, sort_samples:ArrayLike, F:Callable[[float], float]) -> float:\n",
    "    \"\"\"\n",
    "    Calcula el estadístico de Kolmogorov-Smirnov\n",
    "\n",
    "    Args:\n",
    "        Nsamples (int): Número de muestras\n",
    "        sort_samples (float): Lista ordenada de muestras\n",
    "\n",
    "    Returns:\n",
    "        float: estadístico\n",
    "    \"\"\"\n",
    "    F_values = F(sort_samples)\n",
    "    j = np.arange(1, Nsamples + 1)\n",
    "    d_plus = np.max(j / Nsamples - F_values)\n",
    "    d_minus = np.max(F_values - (j - 1) / Nsamples)\n",
    "    return max(d_plus, d_minus)"
   ]
  },
  {
   "cell_type": "code",
   "execution_count": 159,
   "id": "2f2c4671",
   "metadata": {},
   "outputs": [
    {
     "name": "stdout",
     "output_type": "stream",
     "text": [
      "🧐 D estadístico:0.0744\n"
     ]
    }
   ],
   "source": [
    "d0 = KS_statistic(Nsamples=NSAMPLES, sort_samples=SAMPLES, F=Fexp)\n",
    "print(f\"🧐 D estadístico:{round(d0,4)}\")"
   ]
  },
  {
   "cell_type": "markdown",
   "id": "08c34421",
   "metadata": {},
   "source": [
    "---\n",
    "c)\n",
    "Determine si la hipotesis nula es rechazada o no, con un nivel de rechazo del 4%. Para esto, utilizar simulaciones con variables uniformes "
   ]
  },
  {
   "cell_type": "code",
   "execution_count": 170,
   "id": "860d1e2d",
   "metadata": {},
   "outputs": [],
   "source": [
    "#Test de Kolomogorov-Smirnov\n",
    "def KS_test(Nsim:int, Nsamples:int, d0:float,\n",
    "            samples:ArrayLike, alpha:float):\n",
    "\n",
    "    p_value = 0\n",
    "\n",
    "    print(f\"🧐 D estadístico:{round(d0,4)}\")\n",
    "\n",
    "    for _ in range(Nsim):\n",
    "        #Generamos muestras aleatorias para estimar el p_valor\n",
    "        uniform_samples = np.sort([random() for _ in range(Nsamples)])\n",
    "        \n",
    "        #Calculo el estadístico con max{j/Nsamples - U_j, U_j - (j-1) /Nsamples}\n",
    "        d_sim = KS_statistic(Nsamples=Nsamples, sort_samples=uniform_samples, F=lambda x: x)\n",
    "\n",
    "        if d_sim >= d0:\n",
    "            p_value += 1\n",
    "        \n",
    "    p_value = p_value / Nsim\n",
    "    print(f\"☝️ p-valor obtenido: {p_value}\")\n",
    "\n",
    "    if p_value > alpha:\n",
    "        print(f\"😲☝️ Como {p_value} > {alpha}:\")\n",
    "        print(\"\\t 😒 No hay evidencia suficiente para rechazar Ho\")\n",
    "    else:\n",
    "        print(f\"😲☝️ Como {p_value} <= {alpha}:\")\n",
    "        print(f\"\\t 🔴 Se rechaza Ho con una confianza del {int(100 * (1-alpha))}%\")"
   ]
  },
  {
   "cell_type": "code",
   "execution_count": 171,
   "id": "049c9a63",
   "metadata": {},
   "outputs": [
    {
     "name": "stdout",
     "output_type": "stream",
     "text": [
      "🧐 D estadístico:0.0744\n",
      "☝️ p-valor obtenido: 0.9284\n",
      "😲☝️ Como 0.9284 > 0.04:\n",
      "\t 😒 No hay evidencia suficiente para rechazar Ho\n"
     ]
    }
   ],
   "source": [
    "# Nivel de rechazo del 4% -> CONFIANZA 96%\n",
    "ALPHA = 0.04\n",
    "KS_test(Nsim=10_000, Nsamples=NSAMPLES, d0=d0, samples=SAMPLES, alpha=ALPHA)"
   ]
  },
  {
   "cell_type": "markdown",
   "id": "a4c2a453",
   "metadata": {},
   "source": [
    "---\n",
    "d)  Determine si la hipotesis nula es rechazada o no, con un nivel de rechazo del 4%, esta vez simulando variables que verifiquen la hipotesis nula. "
   ]
  },
  {
   "cell_type": "code",
   "execution_count": 172,
   "id": "9bae6afc",
   "metadata": {},
   "outputs": [],
   "source": [
    "def Xexp() -> float:\n",
    "    \"\"\"\n",
    "    Variable aleatoria con distribución exponencial\n",
    "    con LAMBDA = 0.04\n",
    "\n",
    "    Returns:\n",
    "        float: _description_\n",
    "    \"\"\"\n",
    "    U = 1 - random()\n",
    "    return -log(U) / LAMDA"
   ]
  },
  {
   "cell_type": "code",
   "execution_count": 177,
   "id": "1ff0853b",
   "metadata": {},
   "outputs": [],
   "source": [
    "#Test de Kolomogorov-Smirnov\n",
    "def KS_test(Nsim:int, Nsamples:int, d0:float, alpha:float):\n",
    "\n",
    "    p_value = 0\n",
    "\n",
    "    print(f\"🧐 D estadístico:{round(d0, 4)}\")\n",
    "\n",
    "    for _ in range(Nsim):\n",
    "        #Generamos muestras aleatorias para estimar el p_valor\n",
    "        uniform_samples = np.sort([Xexp() for _ in range(Nsamples)])\n",
    "        d_sim = KS_statistic(Nsamples=Nsamples, sort_samples=uniform_samples, F=lambda x: x)\n",
    "        \n",
    "        if d_sim >= d0: \n",
    "            p_value += 1\n",
    "        \n",
    "    p_value = p_value / Nsim\n",
    "    print(f\"☝️ p-valor obtenido: {round(p_value, 4)}\")\n",
    "\n",
    "    if p_value > alpha:\n",
    "        print(f\"😲☝️ Como {p_value} > {alpha}:\")\n",
    "        print(\"\\t 😒 No hay evidencia suficiente para rechazar Ho\")\n",
    "    else:\n",
    "        print(f\"😲☝️ Como {p_value} <= {alpha}:\")\n",
    "        print(f\"\\t 🔴 Se rechaza Ho con una confianza del {int(100 * (1-alpha))}%\")"
   ]
  },
  {
   "cell_type": "code",
   "execution_count": 178,
   "id": "94c07ede",
   "metadata": {},
   "outputs": [
    {
     "name": "stdout",
     "output_type": "stream",
     "text": [
      "🧐 D estadístico:0.0744\n",
      "☝️ p-valor obtenido: 1.0\n",
      "😲☝️ Como 1.0 > 0.04:\n",
      "\t 😒 No hay evidencia suficiente para rechazar Ho\n"
     ]
    }
   ],
   "source": [
    "KS_test(Nsim=10_000, Nsamples=NSAMPLES, d0=d0, alpha=ALPHA)"
   ]
  },
  {
   "cell_type": "markdown",
   "id": "a318b42f",
   "metadata": {},
   "source": [
    "El $p_{valor}$ es 1 pues todos los $d_{sim}$ calculados son mayores que el estadístico $d_0$"
   ]
  },
  {
   "cell_type": "markdown",
   "id": "e72b6413",
   "metadata": {},
   "source": [
    "---\n",
    "# Ejercicio 3\n"
   ]
  },
  {
   "cell_type": "code",
   "execution_count": null,
   "id": "20919eae",
   "metadata": {},
   "outputs": [],
   "source": [
    "OBSERVED_FREQUENCIES = [\n",
    "    38, 144, 342,\n",
    "    287, 164, 25\n",
    "]\n",
    "\n",
    "n = len(OBSERVED_FREQUENCIES)\n",
    "\n",
    "NSAMPLES = 1000\n",
    "\n",
    "Ns = [0, 1, 2, 3, 4, 5]"
   ]
  },
  {
   "cell_type": "code",
   "execution_count": 232,
   "id": "4de35624",
   "metadata": {},
   "outputs": [
    {
     "data": {
      "text/plain": [
       "0.4116666666666667"
      ]
     },
     "execution_count": 232,
     "metadata": {},
     "output_type": "execute_result"
    }
   ],
   "source": [
    "# Estimación de p con la media muestral\n",
    "MEAN = sum(Ni * Xi for Ni, Xi in zip(Ns, OBSERVED_FREQUENCIES)) / NSAMPLES\n",
    "\n",
    "P_HAT = MEAN / n \n",
    "\n",
    "P_HAT"
   ]
  },
  {
   "cell_type": "code",
   "execution_count": 233,
   "id": "b4d93e83",
   "metadata": {},
   "outputs": [
    {
     "data": {
      "text/plain": [
       "[np.float64(0.04147063926608641),\n",
       " np.float64(0.1741061965788672),\n",
       " np.float64(0.3045625393412195),\n",
       " np.float64(0.28414333226546257),\n",
       " np.float64(0.14911487904299417),\n",
       " np.float64(0.04173526926189185)]"
      ]
     },
     "execution_count": 233,
     "metadata": {},
     "output_type": "execute_result"
    }
   ],
   "source": [
    "# Calculamos los valores de las probabilidades\n",
    "PROBABILITY_VALUES = [binom.pmf(k=i, n=n ,p=P_HAT) for i in range(n)]\n",
    "PROBABILITY_VALUES"
   ]
  },
  {
   "cell_type": "code",
   "execution_count": 267,
   "id": "2c871ba9",
   "metadata": {},
   "outputs": [],
   "source": [
    "def Pearson_statistic(Nsamples:int, samples:list[int], probability_values:list[float]) -> float:\n",
    "    statistic = 0\n",
    "    for sample, prob_i in zip(samples, probability_values):\n",
    "        statistic += (sample - Nsamples * prob_i) ** 2 / (Nsamples * prob_i)\n",
    "    return statistic\n",
    "\n",
    "def Pearson_test(Nsamples: int, t0:float, alpha:float):\n",
    "\n",
    "    df = Nsamples - 1 - 1\n",
    "\n",
    "    p_value = round(1 - chi2.cdf(round(t0, 4), df=df), 4)\n",
    "\n",
    "    print(f\"☝️ p-valor obtenido: {p_value}\")\n",
    "\n",
    "    if p_value > alpha:\n",
    "        print(f\"☝️😲 Cómo {p_value} > {alpha}\")\n",
    "        print(\"\\t 😒 No hay evidencia suficiente para rechazar Ho\")\n",
    "    else:\n",
    "        print(f\"☝️😲 Cómo {p_value} <= {alpha}\")\n",
    "        print(f\"\\t 🔴 Se rechaza Ho con una confianza del {100 * (1-alpha)}%\")"
   ]
  },
  {
   "cell_type": "code",
   "execution_count": 271,
   "id": "a36cba67",
   "metadata": {},
   "outputs": [
    {
     "name": "stdout",
     "output_type": "stream",
     "text": [
      "🧐 T estadístico:18.3235\n"
     ]
    }
   ],
   "source": [
    "t0 = Pearson_statistic(Nsamples=NSAMPLES, samples=OBSERVED_FREQUENCIES,\n",
    "                       probability_values=PROBABILITY_VALUES)\n",
    "print(f\"🧐 T estadístico:{round(t0, 4)}\")"
   ]
  },
  {
   "cell_type": "code",
   "execution_count": 272,
   "id": "6088a5d3",
   "metadata": {},
   "outputs": [
    {
     "name": "stdout",
     "output_type": "stream",
     "text": [
      "☝️ p-valor obtenido: 0.0011\n",
      "☝️😲 Cómo 0.0011 <= 0.05\n",
      "\t 🔴 Se rechaza Ho con una confianza del 95.0%\n"
     ]
    }
   ],
   "source": [
    "ALPHA = 0.05\n",
    "Pearson_test(\n",
    "        Nsamples=n,\n",
    "        t0=t0,\n",
    "        alpha=ALPHA\n",
    ")"
   ]
  },
  {
   "cell_type": "code",
   "execution_count": 303,
   "id": "bc859fd3",
   "metadata": {},
   "outputs": [],
   "source": [
    "def XBin(n: int, p: float) -> int:\n",
    "    \"\"\"\n",
    "    Variable aleatoria Binomial\n",
    "\n",
    "    Args:\n",
    "        n (int): ensayos\n",
    "        p (float): probabilidad de éxito\n",
    "\n",
    "    Returns:\n",
    "        tuple: número de éxitos alcanzados\n",
    "    \"\"\"\n",
    "    success = 0\n",
    "    iterations = 0\n",
    "    for _ in range(n):\n",
    "        if random() < p:\n",
    "            success += 1\n",
    "    return success"
   ]
  },
  {
   "cell_type": "code",
   "execution_count": 307,
   "id": "f934f76c",
   "metadata": {},
   "outputs": [],
   "source": [
    "def p_value_estimation(Nsim:int, Nsamples:int, n:int, t0:float):\n",
    "    p_value = 0\n",
    "\n",
    "    for _ in range(Nsim):\n",
    "        mean = 0\n",
    "        p_hat = 0\n",
    "\n",
    "        #Generamos Nsamples muestras de las posibles frecuencias observadas,\n",
    "        #cada una con probabilidad p_i\n",
    "        samples = [XBin(n=n, p=P_HAT) for _ in range(Nsamples)]\n",
    "        \n",
    "        #Cuento la cantidad de frecuencias observadas\n",
    "        N_i = np.bincount(samples, minlength=n+1)\n",
    "\n",
    "        #Calculo las probabilidades\n",
    "        probability_values = [binom.pmf(k=i, n=n ,p=P_HAT) for i in range(n)]\n",
    "        \n",
    "        \n",
    "        T = Pearson_statistic(Nsamples=Nsamples, samples=N_i, probability_values=probability_values)\n",
    "\n",
    "        if T > t0:\n",
    "            p_value += 1\n",
    "\n",
    "    return p_value / Nsim"
   ]
  },
  {
   "cell_type": "code",
   "execution_count": 312,
   "id": "a24f71a3",
   "metadata": {},
   "outputs": [
    {
     "name": "stdout",
     "output_type": "stream",
     "text": [
      "☝️😲 Cómo 0.002 <= 0.05\n",
      "\t 🔴 Se rechaza Ho con una confianza del 95.0%\n"
     ]
    }
   ],
   "source": [
    "p_value = p_value_estimation(\n",
    "            Nsim=1_000,\n",
    "            Nsamples=NSAMPLES,\n",
    "            n=n,\n",
    "            t0=t0\n",
    "            )\n",
    "\n",
    "if p_value > ALPHA:\n",
    "    print(f\"☝️😲 Cómo {p_value} > {ALPHA}\")\n",
    "    print(\"\\t 😒 No hay evidencia suficiente para rechazar Ho\")\n",
    "else:\n",
    "    print(f\"☝️😲 Cómo {p_value} <= {ALPHA}\")\n",
    "    print(f\"\\t 🔴 Se rechaza Ho con una confianza del {100 * (1-ALPHA)}%\")"
   ]
  },
  {
   "cell_type": "markdown",
   "id": "71fd0355",
   "metadata": {},
   "source": [
    "---\n",
    "# Ejercicio 4"
   ]
  },
  {
   "cell_type": "markdown",
   "id": "e80c9bc5",
   "metadata": {},
   "source": [
    "Estimar mediante el metodo de Monte Carlo el valor de la siguiente integral:\n",
    "\n",
    "$$\n",
    "\\int_2³ e^{-x}\\cdot(1-x⁴)dx\n",
    "$$"
   ]
  },
  {
   "cell_type": "code",
   "execution_count": 299,
   "id": "f0a90917",
   "metadata": {},
   "outputs": [],
   "source": [
    "def g(x:int) -> float:\n",
    "    \"\"\"\n",
    "    Función dada por el ejercicio I\n",
    "\n",
    "    Args:\n",
    "        x (int): Entradas\n",
    "\n",
    "    Returns:\n",
    "        float: Resultado tras evaluar g en x\n",
    "    \"\"\"\n",
    "    return (e ** -x) * (1 - x ** 4) \n",
    "\n",
    "def MonteCarlo_map(x:float) -> float:\n",
    "    \"\"\"\n",
    "    Mapeo de MonteCarlo\n",
    "\n",
    "    Args:\n",
    "        x (float): parámetro de entrada\n",
    "\n",
    "    Returns:\n",
    "        float: Mapeo de x evaluado en g hacia el [0,1]\n",
    "    \"\"\"\n",
    "    return g(2 + (3-2) * x) * (3-2)"
   ]
  },
  {
   "cell_type": "code",
   "execution_count": 300,
   "id": "87a1c65d",
   "metadata": {},
   "outputs": [],
   "source": [
    "def integral_estimation(z_alpha_2:float, precision:float) -> list[tuple[int, float, float, float]]:\n",
    "    \"\"\"\n",
    "    Estimación de la integral por el método de Monte Carlo\n",
    "    - Se tiene en cuenta el criterio de parada\n",
    "\n",
    "    Args:\n",
    "        z_alpha_2 (float): Valor de la tabla de la Normal para alpha / 2\n",
    "        precision (float): Según el ejercicio 0.001\n",
    "\n",
    "    Returns:\n",
    "        list[tuple[int, float, float, float]]: Tupla con\n",
    "        - Número de iteraciones\n",
    "        - Estimación de Monte Carlo\n",
    "        - Intervalo de Confianza\n",
    "        - Desvío Estándar\n",
    "    \"\"\"\n",
    "    results = []\n",
    "    mean = MonteCarlo_map(x=random())\n",
    "    Scuad, n = 0, 1\n",
    "    while not (n > 100 and sqrt(Scuad/n) < precision):\n",
    "        n += 1\n",
    "        g_U = MonteCarlo_map(x=random())\n",
    "        prev_mean = mean\n",
    "        mean = prev_mean + (g_U - prev_mean) / n\n",
    "        Scuad = Scuad * (1 - 1/(n-1)) + n * (mean - prev_mean) ** 2\n",
    "        if n == 1000 or n == 5000 or n == 7000:\n",
    "            I = (mean - z_alpha_2 * sqrt(Scuad / n), mean + z_alpha_2 * sqrt(Scuad / n)) \n",
    "            I_Long = I[1] - I[0] \n",
    "            S = sqrt(Scuad / n)\n",
    "            results.append((n, mean, I, I_Long, S))\n",
    "    I = (mean - z_alpha_2 * sqrt(Scuad / n), mean + z_alpha_2 * sqrt(Scuad / n)) \n",
    "    I_Long = I[1] - I[0] \n",
    "    S = sqrt(Scuad / n)\n",
    "    results.append((n, mean, I, I_Long, S))\n",
    "    return results"
   ]
  },
  {
   "cell_type": "code",
   "execution_count": 301,
   "id": "4f735a02",
   "metadata": {},
   "outputs": [],
   "source": [
    "def pretty_print_results(results: list[tuple[int, float, tuple[float, float],float, float]]) -> None:\n",
    "    print(\"=\"*100)\n",
    "    print(f\"{'Iteraciones':>12} | {'Estimación':>12} | {'Intervalo Confianza':^24} | {'Longitud I ':>10}| {'Desvío':>10}\")\n",
    "    print(\"-\"*100)\n",
    "    for n, mean, (lower, upper), I_Long, std in results:\n",
    "        print(f\"{n:12} | {mean:12.4f} | [{lower:10.4f}, {upper:10.4f}] | {I_Long:10.4f} |  {std:10.4f}\")\n",
    "    print(\"=\"*100)"
   ]
  },
  {
   "cell_type": "code",
   "execution_count": 302,
   "id": "06b68882",
   "metadata": {},
   "outputs": [
    {
     "name": "stdout",
     "output_type": "stream",
     "text": [
      "====================================================================================================\n",
      " Iteraciones |   Estimación |   Intervalo Confianza    | Longitud I |     Desvío\n",
      "----------------------------------------------------------------------------------------------------\n",
      "        1000 |      -3.0851 | [   -3.1205,    -3.0496] |     0.0709 |      0.0181\n",
      "        5000 |      -3.1019 | [   -3.1176,    -3.0862] |     0.0313 |      0.0080\n",
      "        7000 |      -3.0963 | [   -3.1096,    -3.0830] |     0.0267 |      0.0068\n",
      "     1251047 |      -3.0845 | [   -3.0855,    -3.0835] |     0.0020 |      0.0005\n",
      "====================================================================================================\n"
     ]
    }
   ],
   "source": [
    "L = 0.001 * 2\n",
    "confiance = 0.95\n",
    "alpha = 1 - confiance\n",
    "z_alpha_2 = abs(norm.ppf(alpha/2))\n",
    "precision = L / (2 * z_alpha_2)\n",
    "results = integral_estimation(z_alpha_2=z_alpha_2, precision=precision)\n",
    "pretty_print_results(results=results)"
   ]
  },
  {
   "cell_type": "markdown",
   "id": "cdb5c4a0",
   "metadata": {},
   "source": [
    "El valor de la última fila de la primer columna de la tabla indica el valor $N_s$"
   ]
  },
  {
   "cell_type": "markdown",
   "id": "057fa4f9",
   "metadata": {},
   "source": [
    "A su vez según lo pedido en el ejercicio:\n",
    "- Estimación -> $\\bar{I}$\n",
    "- Desvío -> S\n",
    "- Intervalo de Confianza -> IC(95 %)"
   ]
  }
 ],
 "metadata": {
  "kernelspec": {
   "display_name": "venv",
   "language": "python",
   "name": "python3"
  },
  "language_info": {
   "codemirror_mode": {
    "name": "ipython",
    "version": 3
   },
   "file_extension": ".py",
   "mimetype": "text/x-python",
   "name": "python",
   "nbconvert_exporter": "python",
   "pygments_lexer": "ipython3",
   "version": "3.12.3"
  }
 },
 "nbformat": 4,
 "nbformat_minor": 5
}
