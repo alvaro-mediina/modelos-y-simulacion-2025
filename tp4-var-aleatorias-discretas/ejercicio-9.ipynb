{
 "cells": [
  {
   "cell_type": "markdown",
   "id": "7b63b6dd",
   "metadata": {},
   "source": [
    "---\n",
    "## Ejercicio 9\n",
    "**(a)** Desarrolle un método para generar una variable aleatoria X cuya distribución de probabilidad está\n",
    "dada por:\n",
    "\n",
    "$$\n",
    "P(X = j) = \\left( \\frac{1}{2} \\right)^{j+1} + \\frac{ (\\frac{1}{2}) \\cdot 2^{j-1}}{3^j}, \\quad j = 1, 2, \\dots\n",
    "$$"
   ]
  },
  {
   "cell_type": "markdown",
   "id": "777f686a",
   "metadata": {},
   "source": [
    "Donde\n",
    "\n",
    "\\begin{align*}\n",
    "P(X = j) \n",
    "&= \\left( \\frac{1}{2} \\right)^{j+1}         &+&\\ \\frac{ \\left(\\frac{1}{2}\\right) \\cdot 2^{j-1} }{3^j}, \\quad j = 1, 2, \\dots \\\\\n",
    "&= \\frac{1}{2^{j+1}}                         &+&\\ \\frac{1}{2} \\cdot \\frac{2^{j-1}}{3^j} \\\\\n",
    "&= \\frac{1}{2} \\cdot \\frac{1}{2^{j}}         &+&\\ \\frac{1}{2} \\cdot \\frac{2^{j-1}}{3^j} \\\\\n",
    "&= \\frac{1}{2} \\cdot \\left(\\frac{1}{2}\\right)^{j} &+&\\ \\frac{1}{2} \\cdot \\frac{1}{3} \\cdot \\left(\\frac{2}{3}\\right)^{j-1} \\\\\n",
    "&= \\frac{1}{2} \\cdot \\left(\\frac{1}{2}\\right)^{j} &+&\\ \\frac{1}{6} \\cdot \\left(\\frac{2}{3}\\right)^{j-1} \\\\\n",
    "&= \\frac{1}{4} \\cdot \\left(\\frac{1}{2}\\right)^{j-1} &+&\\ \\frac{1}{6} \\cdot \\left(\\frac{2}{3}\\right)^{j-1}\n",
    "\\end{align*}\n",
    "\n",
    "\n",
    "\\begin{align*}\n",
    " \\therefore  P(X = j) \n",
    "&= \\underbrace{\\frac{1}{4} \\cdot \\left(\\frac{1}{2}\\right)^{j-1}}_{\\text{Geom($p = \\frac{1}{4}$)}} \n",
    "  + \\underbrace{\\frac{1}{6} \\cdot \\left(\\frac{2}{3}\\right)^{j-1}}_{\\text{Geom($p = \\frac{1}{6}$)}}  \\text{ por composición}\n",
    "\\end{align*}\n"
   ]
  },
  {
   "cell_type": "markdown",
   "id": "f469b429",
   "metadata": {},
   "source": [
    "Por ende la cuestión será implementar dos geométricas con probabilidad de éxito $p=\\frac{1}{4}$ y $p=\\frac{1}{6}$ "
   ]
  },
  {
   "cell_type": "code",
   "execution_count": 7,
   "id": "a0ad8c99",
   "metadata": {},
   "outputs": [],
   "source": [
    "from random import random"
   ]
  },
  {
   "cell_type": "code",
   "execution_count": 8,
   "id": "e5b7cb6f",
   "metadata": {},
   "outputs": [],
   "source": [
    "#Geométrica con transformada inversa\n",
    "def Geom_ITX(p:float) -> int:\n",
    "    \"\"\"\n",
    "    Variable aleatoria Geométrica utilizando transformada inversa\n",
    "\n",
    "    Args:\n",
    "        p (float): Probabilidad de éxito\n",
    "\n",
    "    Returns:\n",
    "        int: Número generado por la variable aleatoria\n",
    "    \"\"\"\n",
    "    U = random()\n",
    "    x = 1\n",
    "    probability = p #Recursiva P(X=1) = p\n",
    "    F = p\n",
    "    while U >= F:\n",
    "        probability *= (1-p) # P(X=x+1) = p * (X=x)\n",
    "        F += probability\n",
    "        x += 1\n",
    "    return x\n",
    "\n",
    "def X_Composition() -> int:\n",
    "    return Geom_ITX(p=1/4) + Geom_ITX(p=1/6)"
   ]
  },
  {
   "cell_type": "markdown",
   "id": "a6346aaf",
   "metadata": {},
   "source": [
    "**b)** Estime $E(X)$ con 1000 repeticiones y compare con la esperanza exacta"
   ]
  },
  {
   "cell_type": "markdown",
   "id": "74869d2d",
   "metadata": {},
   "source": [
    "Como:\n",
    "$$\n",
    "\\begin{align*}\n",
    "E[X] &= \\sum_{j\\geq 1} j \\cdot P(X=j) \\\\\n",
    "     &= \\sum_{j\\geq 1} j \\cdot \\left( \\frac{1}{4} \\cdot \\left(\\frac{1}{2}\\right)^{j-1} +\\ \\frac{1}{6} \\cdot \\left(\\frac{2}{3}\\right)^{j-1} \\right) \\\\\n",
    "     &= \\sum_{j\\geq 1} j \\cdot \\frac{1}{4} \\cdot \\left(\\frac{1}{2}\\right)^{j-1} + j \\cdot \\frac{1}{6} \\cdot \\left(\\frac{2}{3}\\right)^{j-1}\\\\\n",
    "     &= \\sum_{j\\geq 1} j \\cdot \\underbrace{\\frac{1}{4} \\cdot \\left(\\frac{1}{2}\\right)^{j-1}}_{\\substack{P(X_B = j) \\\\[0.2cm] X_A \\sim Geom(p=\\frac{1}{4})}}  + \\sum_{j\\geq 1} j \\cdot \\frac{1}{6} \\cdot \\underbrace{\\left(\\frac{2}{3}\\right)^{j-1}}_{\\substack{P(X_B = j) \\\\[0.2cm] X_B \\sim Geom(p=\\frac{1}{6})}} \\\\[1.5cm]\n",
    "     &= \\sum_{j\\geq 1} j \\cdot P(X_A=j)  + \\sum_{j\\geq 1} j \\cdot P(X_B=j)\\\\[.5cm]\n",
    "     &= E[X_A] + E[X_B]\n",
    "\n",
    "\\end{align*}\n",
    "$$\n",
    "Por ende basta con calcular la esperanza de ambas variables aleatorias y sumarlas"
   ]
  },
  {
   "cell_type": "code",
   "execution_count": 9,
   "id": "c2109c9c",
   "metadata": {},
   "outputs": [],
   "source": [
    "def hope_simulation(Nsim:int) -> float:\n",
    "    hope = 0\n",
    "    for _ in range(Nsim):\n",
    "        hope += X_Composition()\n",
    "    return hope/Nsim\n",
    "\n",
    "def hope(p=float) -> float:\n",
    "    return 1/p"
   ]
  },
  {
   "cell_type": "code",
   "execution_count": 23,
   "id": "fe563971",
   "metadata": {},
   "outputs": [
    {
     "name": "stdout",
     "output_type": "stream",
     "text": [
      "N:1000       E[X] = 9.916\n",
      "(Valor Real) E[X]= 10.0\n"
     ]
    }
   ],
   "source": [
    "print(f\"N:{1_000:<10} E[X] = {hope_simulation(Nsim=1_000)}\")\n",
    "print(f\"(Valor Real) E[X]= {hope(p=1/4)+hope(1/6)}\")"
   ]
  }
 ],
 "metadata": {
  "kernelspec": {
   "display_name": "venv",
   "language": "python",
   "name": "python3"
  },
  "language_info": {
   "codemirror_mode": {
    "name": "ipython",
    "version": 3
   },
   "file_extension": ".py",
   "mimetype": "text/x-python",
   "name": "python",
   "nbconvert_exporter": "python",
   "pygments_lexer": "ipython3",
   "version": "3.12.3"
  }
 },
 "nbformat": 4,
 "nbformat_minor": 5
}
