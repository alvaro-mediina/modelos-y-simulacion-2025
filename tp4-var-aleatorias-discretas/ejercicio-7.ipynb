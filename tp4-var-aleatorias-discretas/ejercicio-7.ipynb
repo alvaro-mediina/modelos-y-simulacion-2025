{
 "cells": [
  {
   "cell_type": "markdown",
   "id": "f297dddc",
   "metadata": {},
   "source": [
    "---\n",
    "## Ejercicio 7\n"
   ]
  },
  {
   "cell_type": "markdown",
   "id": "2a020877",
   "metadata": {},
   "source": [
    "Se pide estimar $P(Y > 2) \\text{ con } \\lambda = 10,\\text{ y }1000$ repeticiones para la variable Poisson, simulando con método de transformada inversa común e inversa mejorado."
   ]
  },
  {
   "cell_type": "code",
   "execution_count": null,
   "id": "70f218bd",
   "metadata": {},
   "outputs": [],
   "source": [
    "from random import random\n",
    "from math import exp\n",
    "#Genero la Poisson con transformada inversa común\n",
    "def PoissonX(lamda:float) -> int:\n",
    "    \"\"\"\n",
    "    Variable Aleatoria X con distribución de Poisson\n",
    "    Utilizando método de la transformada inversa común\n",
    "\n",
    "    Args:\n",
    "        lamda (float): parámetro de la variable aleatoria\n",
    "\n",
    "    Returns:\n",
    "        int: Valor aleatorio desde 0 a inf\n",
    "    \"\"\"\n",
    "    U = random()\n",
    "    iterations = 0; p = exp(-lamda)\n",
    "    F = p\n",
    "    while U >= F:\n",
    "        iterations += 1\n",
    "        p *= lamda / iterations\n",
    "        F = F + p\n",
    "    return iterations"
   ]
  },
  {
   "cell_type": "code",
   "execution_count": null,
   "id": "7d376e6e",
   "metadata": {},
   "outputs": [],
   "source": [
    "def optimized_PoissonX(lamda:float) -> int:\n",
    "    \"\"\"\n",
    "    Variable Aleatoria X con distribución de Poisson\n",
    "    Utilizando método de la transformada inversa común\n",
    "\n",
    "    Args:\n",
    "        lamda (float): parámetro de la variable aleatoria\n",
    "\n",
    "    Returns:\n",
    "        int: Valor aleatorio desde 0 a inf\n",
    "    \"\"\"\n",
    "    p = exp(-lamda); F = p\n",
    "    for j in range(1, int(lamda) + 1):\n",
    "        p *= lamda / j\n",
    "        F += p\n",
    "    U = random()\n",
    "    if U >= F:\n",
    "        j = int(lamda) + 1\n",
    "        while U >= F:\n",
    "            p *= lamda / j; F += p\n",
    "            j += 1\n",
    "        return j - 1\n",
    "    else:\n",
    "        j = int(lamda)\n",
    "        while U < F:\n",
    "            F -= p; p *= j/lamda\n",
    "            j -= 1\n",
    "        return j+1"
   ]
  },
  {
   "cell_type": "code",
   "execution_count": null,
   "id": "2482ee87",
   "metadata": {},
   "outputs": [],
   "source": [
    "from time import time\n",
    "\n",
    "def probability_simulation_optimized_PoissonX(Nsim:int) -> tuple:\n",
    "    \"\"\"\n",
    "    Simulación para estimar la probabilidad para la variable aleatoria de Poisson\n",
    "    con Transformada Inversa Optimizada\n",
    "\n",
    "    Args:\n",
    "        Nsim (int): Número de simulaciones\n",
    "\n",
    "    Returns:\n",
    "        tuple: probabilidad de que la variable sea mayor a 2, tiempo llevado a cabo\n",
    "    \"\"\"\n",
    "    OptPoisson_probability = 0\n",
    "    start_time = time()\n",
    "    for _ in range(Nsim):\n",
    "        OptPoisson_iterations = optimized_PoissonX(lamda=10)\n",
    "        if OptPoisson_iterations > 2:\n",
    "            OptPoisson_probability += 1\n",
    "    elapsed = time() - start_time\n",
    "    return OptPoisson_probability / Nsim, elapsed\n",
    "\n",
    "def probability_simulation_PoissonX(Nsim:int) -> tuple:\n",
    "    \"\"\"\n",
    "    Simulación para estimar la probabilidad para la variable aleatoria de Poisson\n",
    "    con Transformada Inversa cómun\n",
    "\n",
    "    Args:\n",
    "        Nsim (int): Número de simulaciones\n",
    "\n",
    "    Returns:\n",
    "        tuple: probabilidad de que la variable sea mayor a 2, tiempo llevado a cabo\n",
    "    \"\"\"\n",
    "    PoissonX_probability = 0\n",
    "    start_time = time()\n",
    "    for _ in range(Nsim):\n",
    "        PoissonX_iterations = PoissonX(lamda=10)\n",
    "        if PoissonX_iterations > 2:\n",
    "            PoissonX_probability += 1\n",
    "    elapsed = time() - start_time\n",
    "    return PoissonX_probability / Nsim, elapsed\n"
   ]
  },
  {
   "cell_type": "code",
   "execution_count": null,
   "id": "064f8ef2",
   "metadata": {},
   "outputs": [
    {
     "name": "stdout",
     "output_type": "stream",
     "text": [
      "====================================================================================================\n",
      "Poisson c/ITX Optimizado -> P(X>2) = 0.998 | Tiempo = 0.0011577606201171875\n",
      "Poisson c/ITX Compún     -> P(X>2) = 0.996 | Tiempo = 0.0007958412170410156\n",
      "====================================================================================================\n"
     ]
    }
   ],
   "source": [
    "results_PoissonX = probability_simulation_PoissonX(Nsim=1000)\n",
    "results_optimized_PoissonX= probability_simulation_optimized_PoissonX(Nsim=1000)\n",
    "\n",
    "print(\"=\"*100)\n",
    "print(f\"Poisson c/ITX Optimizado -> P(X>2) = {results_optimized_PoissonX[0]} | Tiempo = {results_optimized_PoissonX[1]}\")\n",
    "print(f\"Poisson c/ITX Com ún     -> P(X>2) = {results_PoissonX[0]} | Tiempo = {results_PoissonX[1]}\")\n",
    "print(\"=\"*100)"
   ]
  },
  {
   "cell_type": "markdown",
   "id": "48cd15de",
   "metadata": {},
   "source": [
    "Resultados 😃\n",
    "| Método              | Tiempo total (s) | \n",
    "|---------------------|------------------|\n",
    "| Gordo Poisson con ITX Optimizado      | 0.00115        |\n",
    "| Gordo Poisson con ITX Normal        | 0.00079         | \n",
    "\n",
    "Podemos ver que es un poco más rápido realizar un cálculo con ITX Normal sobre ITX Optimizado pero esto porque se quiere saber si la variable supera un valor muy pequeño."
   ]
  },
  {
   "cell_type": "code",
   "execution_count": null,
   "id": "0e8fd4b0",
   "metadata": {},
   "outputs": [],
   "source": []
  },
  {
   "cell_type": "markdown",
   "id": "2bbb634f",
   "metadata": {},
   "source": []
  }
 ],
 "metadata": {
  "language_info": {
   "name": "python"
  }
 },
 "nbformat": 4,
 "nbformat_minor": 5
}
