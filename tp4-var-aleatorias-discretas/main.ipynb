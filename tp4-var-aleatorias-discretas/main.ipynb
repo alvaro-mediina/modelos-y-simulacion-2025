{
 "cells": [
  {
   "cell_type": "code",
   "execution_count": null,
   "id": "ebdd1c7e",
   "metadata": {},
   "outputs": [
    {
     "name": "stdout",
     "output_type": "stream",
     "text": [
      "Hola\n"
     ]
    }
   ],
   "source": []
  },
  {
   "cell_type": "markdown",
   "id": "4824383e",
   "metadata": {},
   "source": [
    "---\n",
    "\n",
    "# Ejercicio 2\n",
    "\n",
    "Se quiere construir una aproximación de: \n",
    "$$\n",
    "\\sum_{k=1}^{N} \\exp\\left(\\frac{k}{N}\\right)\n",
    "$$\n",
    "donde $N = 10000$"
   ]
  },
  {
   "cell_type": "markdown",
   "id": "18d6d687",
   "metadata": {},
   "source": [
    "a) Se pide escribir un algoritmo para estimar la cantidad deseada"
   ]
  },
  {
   "cell_type": "code",
   "execution_count": 1,
   "id": "14cfe1f1",
   "metadata": {},
   "outputs": [
    {
     "name": "stdout",
     "output_type": "stream",
     "text": [
      "------------------------------\n",
      "SUMATORIA ≈ 17183.67744\n",
      "------------------------------\n"
     ]
    }
   ],
   "source": [
    "from math import e\n",
    "N = 10000\n",
    "def summation_of_exp_of_k_div_N(N:int) -> float:\n",
    "    summation = 0\n",
    "    for k in range(N):\n",
    "        adding = e ** ((k+1)/N)\n",
    "        summation += adding\n",
    "    return summation\n",
    "\n",
    "print(\"-\"*30)\n",
    "print(f\"SUMATORIA ≈ {summation_of_exp_of_k_div_N(N=N):.10}\")\n",
    "print(\"-\"*30)"
   ]
  },
  {
   "cell_type": "markdown",
   "id": "5dc8a101",
   "metadata": {},
   "source": [
    "b) Aproximación sorteando 100 números aleatorios"
   ]
  },
  {
   "cell_type": "code",
   "execution_count": 2,
   "id": "b1f29772",
   "metadata": {},
   "outputs": [
    {
     "name": "stdout",
     "output_type": "stream",
     "text": [
      "----------------------------------------\n",
      "SUMATORIA CON ITERADOR ≈ 17183.67744\n",
      "SUMATORIA CON RANDOMS ≈ 17239.90576\n",
      "ERROR COMETIDO -> 56.2283\n",
      "----------------------------------------\n"
     ]
    }
   ],
   "source": [
    "from random import randint\n",
    "\n",
    "N = 10000\n",
    "def summation_of_random_numbers(N:int) -> float:\n",
    "    summation = 0\n",
    "    for _ in range(N):\n",
    "        R = randint(a=1, b=N)\n",
    "        adding = e ** ((R)/N)\n",
    "        summation += adding\n",
    "    return summation\n",
    "\n",
    "summation_of_exp_of_k_div_N_value = summation_of_exp_of_k_div_N(N=N) \n",
    "summation_of_random_value = summation_of_random_numbers(N=N)\n",
    "\n",
    "print(\"-\"*40)\n",
    "print(f\"SUMATORIA CON ITERADOR ≈ {summation_of_exp_of_k_div_N_value:.10}\")\n",
    "print(f\"SUMATORIA CON RANDOMS ≈ {summation_of_random_value:.10}\")\n",
    "print(f\"ERROR COMETIDO -> {abs(summation_of_exp_of_k_div_N_value\n",
    "                                -summation_of_random_value):.6}\")\n",
    "print(\"-\"*40)\n"
   ]
  },
  {
   "cell_type": "markdown",
   "id": "0af08a67",
   "metadata": {},
   "source": [
    "c) Algoritmo para calcular la suma de los primeros 100 términos"
   ]
  },
  {
   "cell_type": "code",
   "execution_count": 3,
   "metadata": {},
   "outputs": [
    {
     "name": "stdout",
     "output_type": "stream",
     "text": [
      "--------------------------------------------------\n",
      "SUMATORIA PRIMEROS 100 TÉRMINOS ≈ 172.6887557\n",
      "--------------------------------------------------\n"
     ]
    }
   ],
   "source": [
    "#Primeros 100 términos\n",
    "first_100_terms = summation_of_exp_of_k_div_N(N=100)\n",
    "\n",
    "print(\"-\"*50)\n",
    "print(f\"SUMATORIA PRIMEROS 100 TÉRMINOS ≈ {first_100_terms:.10}\")\n",
    "print(\"-\"*50)"
   ]
  },
  {
   "cell_type": "markdown",
   "id": "f53e5a6a",
   "metadata": {},
   "source": [
    "Comparación con los valores y el tiempo de cálculo"
   ]
  },
  {
   "cell_type": "code",
   "execution_count": 41,
   "id": "14ae7f12",
   "metadata": {},
   "outputs": [
    {
     "name": "stdout",
     "output_type": "stream",
     "text": [
      "---------------------CALCULOS---------------------\n",
      "\n",
      "N:10000  EXACTO:17183.67743982  TIEMPO: 0.004677 seg\n",
      "N:10000  APROX.:17067.81393860  TIEMPO: 0.026047 seg\n",
      "N:100    APROX.:172.68875566    TIEMPO: 0.000180 seg\n",
      "\n",
      "---------------------ERRORES---------------------\n",
      "\n",
      "c/Approx1:115.86350       difTiempo:0.021370   seg\n",
      "c/Approx2:17010.98868     difTiempo:0.004497   seg\n",
      "\n",
      "--------------------------------------------------\n"
     ]
    }
   ],
   "source": [
    "from time import time\n",
    "\n",
    "init_time = time() #Inicio la cuenta del tiempo\n",
    "exact_value = summation_of_exp_of_k_div_N(N=10000)\n",
    "end_time = time() #Fin de la cuenta del tiempo\n",
    "time1 = end_time - init_time # Tiempo de cálculo con valor exacto\n",
    "\n",
    "\n",
    "init_time = time()\n",
    "first_approx = summation_of_random_numbers(N=10000)\n",
    "end_time = time()\n",
    "time2 = end_time - init_time\n",
    "\n",
    "init_time = time()\n",
    "first_100_terms_value = summation_of_exp_of_k_div_N(N=100)\n",
    "end_time = time()\n",
    "time3 = end_time - init_time\n",
    "\n",
    "\n",
    "print(\"-\"*21+\"CALCULOS\"+\"-\"*21+\"\\n\")\n",
    "print(f\"N:{10000:<6d} EXACTO:{exact_value:<15.8f} TIEMPO: {time1:.6f} seg\")\n",
    "print(f\"N:{10000:<6d} APROX.:{first_approx:<15.8f} TIEMPO: {time2:.6f} seg\")\n",
    "print(f\"N:{100:<6d} APROX.:{first_100_terms_value:<15.8f} TIEMPO: {time3:.6f} seg\")\n",
    "\n",
    "print(\"\\n\"+\"-\"*21+\"ERRORES\"+\"-\"*21+\"\\n\")\n",
    "print(f\"c/Approx1:{abs(exact_value - first_approx):<15.5f} difTiempo:{abs(time1 - time2):<10.6f} seg\")\n",
    "print(f\"c/Approx2:{abs(exact_value - first_100_terms_value):<15.5f} difTiempo:{abs(time1 - time3):<10.6f} seg\")\n",
    "print(\"\\n\"+\"-\"*50)"
   ]
  },
  {
   "cell_type": "markdown",
   "id": "c3f31733",
   "metadata": {},
   "source": [
    "---\n",
    "# Ejercicio 3\n",
    "\n",
    "Algoritmo\n",
    "1. Se lanzan simultáneamente un par de dados legales.\n",
    "2. Se anota la suma de ambos\n",
    "3. Repetir hasta haber logrado todos los resultados ${2,3,...,12}$ al menos una vez\n"
   ]
  },
  {
   "cell_type": "code",
   "execution_count": null,
   "id": "1f9d2dd2",
   "metadata": {},
   "outputs": [],
   "source": [
    "#Utilizando randint\n",
    "from random import randint\n",
    "\n",
    "def dice_simulation() -> int:\n",
    "    iterations = 0\n",
    "    numbers = set()\n",
    "    while not len(numbers) == 11:\n",
    "        dice_sum = randint(1,6) + randint(1,6)\n",
    "        iterations+=1\n",
    "        if not (dice_sum in numbers):\n",
    "            numbers.add(dice_sum)\n",
    "\n",
    "    return iterations\n"
   ]
  },
  {
   "cell_type": "code",
   "execution_count": 1,
   "id": "ef77c4d3",
   "metadata": {},
   "outputs": [],
   "source": [
    "#Utilizando métodos de generar números aleatorios\n",
    "from random_variables import RandomVariables\n",
    "\n",
    "def rustic_dice_simulation() -> int:\n",
    "    iterations = 0\n",
    "    numbers = set()\n",
    "    while not len(numbers) == 11:\n",
    "        dice_sum = RandomVariables.numbers_between_a_b(a=1,b=6) + RandomVariables.numbers_between_a_b(a=1,b=6)\n",
    "        iterations+=1\n",
    "        if not (dice_sum in numbers):\n",
    "            numbers.add(dice_sum)\n",
    "    return iterations"
   ]
  },
  {
   "cell_type": "code",
   "execution_count": 76,
   "id": "a602ff1c",
   "metadata": {},
   "outputs": [
    {
     "name": "stdout",
     "output_type": "stream",
     "text": [
      "LANZAMIENTOS REALIZADOS: 44\n"
     ]
    }
   ],
   "source": [
    "print(f\"LANZAMIENTOS REALIZADOS: {rustic_dice_simulation()}\")"
   ]
  },
  {
   "cell_type": "markdown",
   "id": "cac29b39",
   "metadata": {},
   "source": [
    "b) Estimación del `valor medio` y de la `desviación estándar` del número de lanzamientos"
   ]
  },
  {
   "cell_type": "code",
   "execution_count": null,
   "id": "a25ff6e9",
   "metadata": {},
   "outputs": [
    {
     "name": "stdout",
     "output_type": "stream",
     "text": [
      "--------VALOR MEDIO--------\n",
      "N:100     E[X]:58.0700\n",
      "N:1000    E[X]:61.4900\n",
      "N:10000   E[X]:60.5459\n",
      "N:100000  E[X]:61.3975\n"
     ]
    }
   ],
   "source": [
    "from random_variables import RandomVariables\n",
    "\n",
    "rolls = []\n",
    "\n",
    "for N in [100, 1000, 10000, 100000]:\n",
    "    iteration_roll = []\n",
    "    for _ in range(N):\n",
    "        iteration_roll.append(rustic_dice_simulation())\n",
    "    rolls.append(iteration_roll)\n",
    "\n",
    "means = [RandomVariables.mean_value(iteration_list) for iteration_list in rolls]\n",
    "\n",
    "print(\"-\"*8+\"VALOR MEDIO\"+\"-\"*8)\n",
    "for N, mean in zip([100, 1000, 10000, 100000], means):\n",
    "    print(f\"N:{N:<7d} E[X]:{mean:.4f}\")\n",
    "\n",
    "\n",
    "print(\"\\n\"+\"-\"*8+\"DESVIACION E\"+\"-\"*8)\n"
   ]
  },
  {
   "cell_type": "code",
   "execution_count": null,
   "id": "59cbc91f",
   "metadata": {},
   "outputs": [],
   "source": []
  },
  {
   "cell_type": "code",
   "execution_count": null,
   "id": "b70f5404",
   "metadata": {},
   "outputs": [],
   "source": []
  }
 ],
 "metadata": {
  "kernelspec": {
   "display_name": "venv",
   "language": "python",
   "name": "python3"
  },
  "language_info": {
   "codemirror_mode": {
    "name": "ipython",
    "version": 3
   },
   "file_extension": ".py",
   "mimetype": "text/x-python",
   "name": "python",
   "nbconvert_exporter": "python",
   "pygments_lexer": "ipython3",
   "version": "3.12.3"
  }
 },
 "nbformat": 4,
 "nbformat_minor": 5
}
