{
 "cells": [
  {
   "cell_type": "markdown",
   "id": "4824383e",
   "metadata": {},
   "source": [
    "---\n",
    "\n",
    "# Ejercicio 2\n",
    "\n",
    "Se quiere construir una aproximación de: \n",
    "$$\n",
    "\\sum_{k=1}^{N} \\exp\\left(\\frac{k}{N}\\right)\n",
    "$$\n",
    "donde $N = 10000$"
   ]
  },
  {
   "cell_type": "markdown",
   "id": "70c47702",
   "metadata": {},
   "source": [
    "Como se quiere realizar una estimación $\\theta = \\sum_{k=1}^{N} \\exp\\left(\\frac{k}{N}\\right)$ $\\\\[0.1cm]$ tenemos que por Monte Carlo $\\theta = E[g(X)] = \\sum_{x} g(x)*p(x) \\\\[0.1cm]$ donde $p$ es la función de probabilidad de masa de una variable aleatoria $X$ discreta con distribución uniforme, $X \\sim U\\{1,N\\} \\\\[0.2cm] $\n",
    "\n",
    "Y $g(x) = e^{\\frac{x}{N}}$ donde N=10000\n",
    "\n",
    "Como  \n",
    "$$\n",
    "\\begin{align*}\n",
    "\\theta &= E[g(X)] \\\\\n",
    "       &= \\sum_{x} g(x) \\cdot p(x) \\\\\n",
    "       &= \\sum_{x} g(x) \\cdot \\frac{1}{n} \\\\\n",
    "       &= \\frac{1}{n} \\cdot \\sum_{x} g(x)  \\\\\n",
    "       &= \\frac{1}{n} \\cdot \\sum_{x} e^{(\\frac{x}{N})}\n",
    "\\end{align*}\n",
    "$$\n",
    "\n",
    "Pero como nosotros queremos $\\sum_{k=1}^{n} e^{(\\frac{k}{N})}$ por ende a la fórmula resultante de Monte Carlo debemos multiplicarla por N, tal que:\n",
    "$$\n",
    "\\begin{align*}\n",
    "\\theta &= N * \\frac{1}{n} \\cdot \\sum_{x} e^{(\\frac{x}{N})} \\\\\n",
    "       &= N * \\frac{g(x_1)+...+g(x_n)}{n} \\\\\n",
    "\\end{align*}\n",
    "$$"
   ]
  },
  {
   "cell_type": "markdown",
   "id": "18d6d687",
   "metadata": {},
   "source": [
    "a) Se pide escribir un algoritmo para estimar la cantidad deseada"
   ]
  },
  {
   "cell_type": "code",
   "execution_count": 13,
   "id": "14cfe1f1",
   "metadata": {},
   "outputs": [],
   "source": [
    "from math import e\n",
    "\n",
    "N = 10_000\n",
    "\n",
    "def g(x:int) -> float:\n",
    "    return e ** (x/N)\n",
    "\n",
    "def monte_carlo(Nsim:int) -> float:\n",
    "    summation = 0\n",
    "    for x_i in range(Nsim):\n",
    "        summation += g(x_i)\n",
    "    theta = summation / Nsim\n",
    "    return theta\n",
    "\n",
    "def summation_of_exp_of_k_div_N(N:int) -> float:\n",
    "    return N * monte_carlo(Nsim=N)\n"
   ]
  },
  {
   "cell_type": "markdown",
   "id": "5dc8a101",
   "metadata": {},
   "source": [
    "b) Aproximación sorteando 100 números aleatorios"
   ]
  },
  {
   "cell_type": "code",
   "execution_count": 16,
   "id": "b1f29772",
   "metadata": {},
   "outputs": [
    {
     "name": "stdout",
     "output_type": "stream",
     "text": [
      "----------------------------------------\n",
      "VALOR EXACTO = 17181.95916\n",
      "CON 100 RANDOMS ≈ 16588.70175\n",
      "ERROR COMETIDO -> 593.257\n",
      "----------------------------------------\n"
     ]
    }
   ],
   "source": [
    "from random import randint\n",
    "\n",
    "N = 10_000\n",
    "\n",
    "def monte_carlo_randoms(Nsim:int) -> float:\n",
    "    summation = 0\n",
    "    for _ in range(Nsim):\n",
    "        x_i = randint(1,N)\n",
    "        summation += g(x_i)\n",
    "    theta = summation / Nsim\n",
    "    return theta\n",
    "\n",
    "def summation_of_random_numbers(Nsim:int) -> float:\n",
    "    return N * monte_carlo_randoms(Nsim=Nsim)\n",
    "\n",
    "summation_of_exp_of_k_div_N_value = summation_of_exp_of_k_div_N(N=10000) \n",
    "summation_of_random_value = summation_of_random_numbers(Nsim=100)\n",
    "\n",
    "print(\"-\"*40)\n",
    "print(f\"VALOR EXACTO = {summation_of_exp_of_k_div_N_value:.10}\")\n",
    "print(f\"CON 100 RANDOMS ≈ {summation_of_random_value:.10}\")\n",
    "print(f\"ERROR COMETIDO -> {abs(summation_of_exp_of_k_div_N_value\n",
    "                                -summation_of_random_value):.6}\")\n",
    "print(\"-\"*40)\n"
   ]
  },
  {
   "cell_type": "markdown",
   "id": "0af08a67",
   "metadata": {},
   "source": [
    "c) Algoritmo para calcular la suma de los primeros 100 términos"
   ]
  },
  {
   "cell_type": "code",
   "execution_count": null,
   "metadata": {},
   "outputs": [
    {
     "name": "stdout",
     "output_type": "stream",
     "text": [
      "----------------------------------------\n",
      "VALOR EXACTO = 17181.95916\n",
      "CON 100 TERMINOS ≈ 100.4966458\n",
      "ERROR COMETIDO -> 17081.5\n",
      "----------------------------------------\n"
     ]
    }
   ],
   "source": [
    "#Primeros 100 términos\n",
    "first_100_terms = summation_of_exp_of_k_div_N(N=100)\n",
    "\n",
    "print(\"-\"*40)\n",
    "print(f\"VALOR EXACTO = {summation_of_exp_of_k_div_N_value:.10}\")\n",
    "print(f\"CON 100 TERMINOS = {first_100_terms:.10}\")\n",
    "print(f\"ERROR COMETIDO -> {abs(summation_of_exp_of_k_div_N_value\n",
    "                                -first_100_terms):.6}\")\n",
    "print(\"-\"*40)"
   ]
  },
  {
   "cell_type": "markdown",
   "id": "f53e5a6a",
   "metadata": {},
   "source": [
    "Comparación con los valores y el tiempo de cálculo"
   ]
  },
  {
   "cell_type": "code",
   "execution_count": 21,
   "id": "14ae7f12",
   "metadata": {},
   "outputs": [
    {
     "name": "stdout",
     "output_type": "stream",
     "text": [
      "---------------------CALCULOS---------------------\n",
      "\n",
      "N:10000  EXACTO:17181.95915800  TIEMPO: 0.005272 seg\n",
      "N:10000  APROX.:17592.81456651  TIEMPO: 0.000222 seg\n",
      "N:100    APROX.:100.49664584    TIEMPO: 0.000104 seg\n",
      "\n",
      "---------------------ERRORES---------------------\n",
      "\n",
      "c/Approx1:410.85541       difTiempo:0.005050   seg\n",
      "c/Approx2:17081.46251     difTiempo:0.005168   seg\n",
      "\n",
      "--------------------------------------------------\n"
     ]
    }
   ],
   "source": [
    "from time import time\n",
    "\n",
    "init_time = time() #Inicio la cuenta del tiempo\n",
    "exact_value = summation_of_exp_of_k_div_N(N=10000)\n",
    "end_time = time() #Fin de la cuenta del tiempo\n",
    "time1 = end_time - init_time # Tiempo de cálculo con valor exacto\n",
    "\n",
    "\n",
    "init_time = time()\n",
    "first_approx = summation_of_random_numbers(Nsim=100)\n",
    "end_time = time()\n",
    "time2 = end_time - init_time\n",
    "\n",
    "init_time = time()\n",
    "first_100_terms_value = summation_of_exp_of_k_div_N(N=100)\n",
    "end_time = time()\n",
    "time3 = end_time - init_time\n",
    "\n",
    "\n",
    "print(\"-\"*21+\"CALCULOS\"+\"-\"*21+\"\\n\")\n",
    "print(f\"N:{10000:<6d} EXACTO:{exact_value:<15.8f} TIEMPO: {time1:.6f} seg\")\n",
    "print(f\"N:{10000:<6d} APROX.:{first_approx:<15.8f} TIEMPO: {time2:.6f} seg\")\n",
    "print(f\"N:{100:<6d} APROX.:{first_100_terms_value:<15.8f} TIEMPO: {time3:.6f} seg\")\n",
    "\n",
    "print(\"\\n\"+\"-\"*21+\"ERRORES\"+\"-\"*21+\"\\n\")\n",
    "print(f\"c/Approx1:{abs(exact_value - first_approx):<15.5f} difTiempo:{abs(time1 - time2):<10.6f} seg\")\n",
    "print(f\"c/Approx2:{abs(exact_value - first_100_terms_value):<15.5f} difTiempo:{abs(time1 - time3):<10.6f} seg\")\n",
    "print(\"\\n\"+\"-\"*50)"
   ]
  },
  {
   "cell_type": "markdown",
   "id": "9ab09bd7",
   "metadata": {},
   "source": [
    "*Conclusión:* Las dos aproximaciones tardan lo mismo pero si utilizamos números aleatorios entre $\\{1,10000\\}$ se aproxima mucho más al resultado exacto que sumando los 100 primeros términos"
   ]
  },
  {
   "cell_type": "markdown",
   "id": "c3f31733",
   "metadata": {},
   "source": [
    "---\n",
    "# Ejercicio 3\n",
    "\n",
    "Algoritmo\n",
    "1. Se lanzan simultáneamente un par de dados legales.\n",
    "2. Se anota la suma de ambos\n",
    "3. Repetir hasta haber logrado todos los resultados ${2,3,...,12}$ al menos una vez\n"
   ]
  },
  {
   "cell_type": "code",
   "execution_count": null,
   "id": "1f9d2dd2",
   "metadata": {},
   "outputs": [],
   "source": [
    "#Utilizando randint\n",
    "from random import randint\n",
    "\n",
    "def dice_simulation() -> int:\n",
    "    iterations = 0\n",
    "    numbers = set()\n",
    "    while not len(numbers) == 11:\n",
    "        dice_sum = randint(1,6) + randint(1,6)\n",
    "        iterations+=1\n",
    "        if not (dice_sum in numbers):\n",
    "            numbers.add(dice_sum)\n",
    "\n",
    "    return iterations\n"
   ]
  },
  {
   "cell_type": "code",
   "execution_count": 1,
   "id": "ef77c4d3",
   "metadata": {},
   "outputs": [],
   "source": [
    "#Utilizando métodos de generar números aleatorios\n",
    "from random_variables import RandomVariables\n",
    "\n",
    "def rustic_dice_simulation() -> int:\n",
    "    iterations = 0\n",
    "    numbers = set()\n",
    "    while not len(numbers) == 11:\n",
    "        dice_sum = RandomVariables.numbers_between_a_b(a=1,b=6) + RandomVariables.numbers_between_a_b(a=1,b=6)\n",
    "        iterations+=1\n",
    "        if not (dice_sum in numbers):\n",
    "            numbers.add(dice_sum)\n",
    "    return iterations"
   ]
  },
  {
   "cell_type": "code",
   "execution_count": 76,
   "id": "a602ff1c",
   "metadata": {},
   "outputs": [
    {
     "name": "stdout",
     "output_type": "stream",
     "text": [
      "LANZAMIENTOS REALIZADOS: 44\n"
     ]
    }
   ],
   "source": [
    "print(f\"LANZAMIENTOS REALIZADOS: {rustic_dice_simulation()}\")"
   ]
  },
  {
   "cell_type": "markdown",
   "id": "cac29b39",
   "metadata": {},
   "source": [
    "b) Estimación del `valor medio` y de la `desviación estándar` del número de lanzamientos"
   ]
  },
  {
   "cell_type": "code",
   "execution_count": null,
   "id": "a25ff6e9",
   "metadata": {},
   "outputs": [
    {
     "name": "stdout",
     "output_type": "stream",
     "text": [
      "--------VALOR MEDIO--------\n",
      "N:100     E[X]:58.0700\n",
      "N:1000    E[X]:61.4900\n",
      "N:10000   E[X]:60.5459\n",
      "N:100000  E[X]:61.3975\n"
     ]
    }
   ],
   "source": [
    "from random_variables import RandomVariables\n",
    "\n",
    "rolls = []\n",
    "\n",
    "for N in [100, 1000, 10000, 100000]:\n",
    "    iteration_roll = []\n",
    "    for _ in range(N):\n",
    "        iteration_roll.append(rustic_dice_simulation())\n",
    "    rolls.append(iteration_roll)\n",
    "\n",
    "means = [RandomVariables.mean_value(iteration_list) for iteration_list in rolls]\n",
    "\n",
    "print(\"-\"*8+\"VALOR MEDIO\"+\"-\"*8)\n",
    "for N, mean in zip([100, 1000, 10000, 100000], means):\n",
    "    print(f\"N:{N:<7d} E[X]:{mean:.4f}\")\n",
    "\n",
    "\n",
    "print(\"\\n\"+\"-\"*8+\"DESVIACION E\"+\"-\"*8)\n"
   ]
  },
  {
   "cell_type": "markdown",
   "id": "c0e2b39c",
   "metadata": {},
   "source": [
    "---\n",
    "# Ejercicio 11"
   ]
  },
  {
   "cell_type": "code",
   "execution_count": null,
   "id": "b70f5404",
   "metadata": {},
   "outputs": [],
   "source": []
  }
 ],
 "metadata": {
  "kernelspec": {
   "display_name": "venv",
   "language": "python",
   "name": "python3"
  },
  "language_info": {
   "codemirror_mode": {
    "name": "ipython",
    "version": 3
   },
   "file_extension": ".py",
   "mimetype": "text/x-python",
   "name": "python",
   "nbconvert_exporter": "python",
   "pygments_lexer": "ipython3",
   "version": "3.12.3"
  }
 },
 "nbformat": 4,
 "nbformat_minor": 5
}
