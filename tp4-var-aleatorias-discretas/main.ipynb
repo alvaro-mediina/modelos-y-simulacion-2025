{
 "cells": [
  {
   "cell_type": "markdown",
   "id": "a626ab86",
   "metadata": {},
   "source": [
    "# Práctico 4: Generación de Variables Aleatorias Discretas"
   ]
  },
  {
   "cell_type": "markdown",
   "id": "4824383e",
   "metadata": {},
   "source": [
    "---\n",
    "\n",
    "# Ejercicio 2\n",
    "\n",
    "Se quiere construir una aproximación de: \n",
    "$$\n",
    "\\sum_{k=1}^{N} \\exp\\left(\\frac{k}{N}\\right)\n",
    "$$\n",
    "donde $N = 10000$"
   ]
  },
  {
   "cell_type": "markdown",
   "id": "70c47702",
   "metadata": {},
   "source": [
    "Como se quiere realizar una estimación $\\theta = \\sum_{k=1}^{N} \\exp\\left(\\frac{k}{N}\\right)$ $\\\\[0.1cm]$ tenemos que por Monte Carlo $\\theta = E[g(X)] = \\sum_{x} g(x)*p(x) \\\\[0.1cm]$ donde $p$ es la función de probabilidad de masa de una variable aleatoria $X$ discreta con distribución uniforme, $X \\sim U\\{1,N\\} \\\\[0.2cm] $\n",
    "\n",
    "Y $g(x) = e^{\\frac{x}{N}}$ donde N=10000\n",
    "\n",
    "Como  \n",
    "$$\n",
    "\\begin{align*}\n",
    "\\theta &= E[g(X)] \\\\\n",
    "       &= \\sum_{x} g(x) \\cdot p(x) \\\\\n",
    "       &= \\sum_{x} g(x) \\cdot \\frac{1}{n} \\\\\n",
    "       &= \\frac{1}{n} \\cdot \\sum_{x} g(x)  \\\\\n",
    "       &= \\frac{1}{n} \\cdot \\sum_{x} e^{(\\frac{x}{N})}\n",
    "\\end{align*}\n",
    "$$\n",
    "\n",
    "Pero como nosotros queremos $\\sum_{k=1}^{n} e^{(\\frac{k}{N})}$ por ende a la fórmula resultante de Monte Carlo debemos multiplicarla por N, tal que:\n",
    "$$\n",
    "\\begin{align*}\n",
    "\\theta &= N * \\frac{1}{n} \\cdot \\sum_{x} e^{(\\frac{x}{N})} \\\\\n",
    "       &= N * \\frac{g(x_1)+...+g(x_n)}{n} \\\\\n",
    "\\end{align*}\n",
    "$$"
   ]
  },
  {
   "cell_type": "markdown",
   "id": "18d6d687",
   "metadata": {},
   "source": [
    "a) Se pide escribir un algoritmo para estimar la cantidad deseada"
   ]
  },
  {
   "cell_type": "code",
   "execution_count": 13,
   "id": "14cfe1f1",
   "metadata": {},
   "outputs": [],
   "source": [
    "from math import e\n",
    "\n",
    "N = 10_000\n",
    "\n",
    "def g(x:int) -> float:\n",
    "    return e ** (x/N)\n",
    "\n",
    "def monte_carlo(Nsim:int) -> float:\n",
    "    summation = 0\n",
    "    for x_i in range(Nsim):\n",
    "        summation += g(x_i)\n",
    "    theta = summation / Nsim\n",
    "    return theta\n",
    "\n",
    "def summation_of_exp_of_k_div_N(N:int) -> float:\n",
    "    return N * monte_carlo(Nsim=N)\n"
   ]
  },
  {
   "cell_type": "markdown",
   "id": "5dc8a101",
   "metadata": {},
   "source": [
    "b) Aproximación sorteando 100 números aleatorios"
   ]
  },
  {
   "cell_type": "code",
   "execution_count": 16,
   "id": "b1f29772",
   "metadata": {},
   "outputs": [
    {
     "name": "stdout",
     "output_type": "stream",
     "text": [
      "----------------------------------------\n",
      "VALOR EXACTO = 17181.95916\n",
      "CON 100 RANDOMS ≈ 16588.70175\n",
      "ERROR COMETIDO -> 593.257\n",
      "----------------------------------------\n"
     ]
    }
   ],
   "source": [
    "from random import randint\n",
    "\n",
    "N = 10_000\n",
    "\n",
    "def monte_carlo_randoms(Nsim:int) -> float:\n",
    "    summation = 0\n",
    "    for _ in range(Nsim):\n",
    "        x_i = randint(1,N)\n",
    "        summation += g(x_i)\n",
    "    theta = summation / Nsim\n",
    "    return theta\n",
    "\n",
    "def summation_of_random_numbers(Nsim:int) -> float:\n",
    "    return N * monte_carlo_randoms(Nsim=Nsim)\n",
    "\n",
    "summation_of_exp_of_k_div_N_value = summation_of_exp_of_k_div_N(N=10000) \n",
    "summation_of_random_value = summation_of_random_numbers(Nsim=100)\n",
    "\n",
    "print(\"-\"*40)\n",
    "print(f\"VALOR EXACTO = {summation_of_exp_of_k_div_N_value:.10}\")\n",
    "print(f\"CON 100 RANDOMS ≈ {summation_of_random_value:.10}\")\n",
    "print(f\"ERROR COMETIDO -> {abs(summation_of_exp_of_k_div_N_value\n",
    "                                -summation_of_random_value):.6}\")\n",
    "print(\"-\"*40)\n"
   ]
  },
  {
   "cell_type": "markdown",
   "id": "0af08a67",
   "metadata": {},
   "source": [
    "c) Algoritmo para calcular la suma de los primeros 100 términos"
   ]
  },
  {
   "cell_type": "code",
   "execution_count": null,
   "id": "f9887d44",
   "metadata": {},
   "outputs": [
    {
     "name": "stdout",
     "output_type": "stream",
     "text": [
      "----------------------------------------\n",
      "VALOR EXACTO = 17181.95916\n",
      "CON 100 TERMINOS ≈ 100.4966458\n",
      "ERROR COMETIDO -> 17081.5\n",
      "----------------------------------------\n"
     ]
    }
   ],
   "source": [
    "#Primeros 100 términos\n",
    "first_100_terms = summation_of_exp_of_k_div_N(N=100)\n",
    "\n",
    "print(\"-\"*40)\n",
    "print(f\"VALOR EXACTO = {summation_of_exp_of_k_div_N_value:.10}\")\n",
    "print(f\"CON 100 TERMINOS = {first_100_terms:.10}\")\n",
    "print(f\"ERROR COMETIDO -> {abs(summation_of_exp_of_k_div_N_value\n",
    "                                -first_100_terms):.6}\")\n",
    "print(\"-\"*40)"
   ]
  },
  {
   "cell_type": "markdown",
   "id": "f53e5a6a",
   "metadata": {},
   "source": [
    "Comparación con los valores y el tiempo de cálculo"
   ]
  },
  {
   "cell_type": "code",
   "execution_count": 21,
   "id": "14ae7f12",
   "metadata": {},
   "outputs": [
    {
     "name": "stdout",
     "output_type": "stream",
     "text": [
      "---------------------CALCULOS---------------------\n",
      "\n",
      "N:10000  EXACTO:17181.95915800  TIEMPO: 0.005272 seg\n",
      "N:10000  APROX.:17592.81456651  TIEMPO: 0.000222 seg\n",
      "N:100    APROX.:100.49664584    TIEMPO: 0.000104 seg\n",
      "\n",
      "---------------------ERRORES---------------------\n",
      "\n",
      "c/Approx1:410.85541       difTiempo:0.005050   seg\n",
      "c/Approx2:17081.46251     difTiempo:0.005168   seg\n",
      "\n",
      "--------------------------------------------------\n"
     ]
    }
   ],
   "source": [
    "from time import time\n",
    "\n",
    "init_time = time() #Inicio la cuenta del tiempo\n",
    "exact_value = summation_of_exp_of_k_div_N(N=10000)\n",
    "end_time = time() #Fin de la cuenta del tiempo\n",
    "time1 = end_time - init_time # Tiempo de cálculo con valor exacto\n",
    "\n",
    "\n",
    "init_time = time()\n",
    "first_approx = summation_of_random_numbers(Nsim=100)\n",
    "end_time = time()\n",
    "time2 = end_time - init_time\n",
    "\n",
    "init_time = time()\n",
    "first_100_terms_value = summation_of_exp_of_k_div_N(N=100)\n",
    "end_time = time()\n",
    "time3 = end_time - init_time\n",
    "\n",
    "\n",
    "print(\"-\"*21+\"CALCULOS\"+\"-\"*21+\"\\n\")\n",
    "print(f\"N:{10000:<6d} EXACTO:{exact_value:<15.8f} TIEMPO: {time1:.6f} seg\")\n",
    "print(f\"N:{10000:<6d} APROX.:{first_approx:<15.8f} TIEMPO: {time2:.6f} seg\")\n",
    "print(f\"N:{100:<6d} APROX.:{first_100_terms_value:<15.8f} TIEMPO: {time3:.6f} seg\")\n",
    "\n",
    "print(\"\\n\"+\"-\"*21+\"ERRORES\"+\"-\"*21+\"\\n\")\n",
    "print(f\"c/Approx1:{abs(exact_value - first_approx):<15.5f} difTiempo:{abs(time1 - time2):<10.6f} seg\")\n",
    "print(f\"c/Approx2:{abs(exact_value - first_100_terms_value):<15.5f} difTiempo:{abs(time1 - time3):<10.6f} seg\")\n",
    "print(\"\\n\"+\"-\"*50)"
   ]
  },
  {
   "cell_type": "markdown",
   "id": "9ab09bd7",
   "metadata": {},
   "source": [
    "*Conclusión:* Las dos aproximaciones tardan lo mismo pero si utilizamos números aleatorios entre $\\{1,10000\\}$ se aproxima mucho más al resultado exacto que sumando los 100 primeros términos"
   ]
  },
  {
   "cell_type": "markdown",
   "id": "c3f31733",
   "metadata": {},
   "source": [
    "---\n",
    "# Ejercicio 3\n",
    "\n",
    "Algoritmo\n",
    "1. Se lanzan simultáneamente un par de dados legales.\n",
    "2. Se anota la suma de ambos\n",
    "3. Repetir hasta haber logrado todos los resultados ${2,3,...,12}$ al menos una vez\n"
   ]
  },
  {
   "cell_type": "code",
   "execution_count": null,
   "id": "1f9d2dd2",
   "metadata": {},
   "outputs": [],
   "source": [
    "#Utilizando randint\n",
    "from random import randint\n",
    "\n",
    "def dice_simulation() -> int:\n",
    "    iterations = 0\n",
    "    numbers = set()\n",
    "    while not len(numbers) == 11:\n",
    "        dice_sum = randint(1,6) + randint(1,6)\n",
    "        iterations+=1\n",
    "        if not (dice_sum in numbers):\n",
    "            numbers.add(dice_sum)\n",
    "\n",
    "    return iterations\n"
   ]
  },
  {
   "cell_type": "code",
   "execution_count": 4,
   "id": "ef77c4d3",
   "metadata": {},
   "outputs": [],
   "source": [
    "#Utilizando métodos de generar números aleatorios\n",
    "from utils import Utils\n",
    "\n",
    "def rustic_dice_simulation() -> int:\n",
    "    iterations = 0\n",
    "    numbers = set()\n",
    "    while not len(numbers) == 11:\n",
    "        dice_sum = Utils.numbers_between_a_b(a=1,b=6) + Utils.numbers_between_a_b(a=1,b=6)\n",
    "        iterations+=1\n",
    "        if not (dice_sum in numbers):\n",
    "            numbers.add(dice_sum)\n",
    "    return iterations"
   ]
  },
  {
   "cell_type": "code",
   "execution_count": 8,
   "id": "a602ff1c",
   "metadata": {},
   "outputs": [
    {
     "name": "stdout",
     "output_type": "stream",
     "text": [
      "LANZAMIENTOS REALIZADOS: 37\n"
     ]
    }
   ],
   "source": [
    "print(f\"LANZAMIENTOS REALIZADOS: {rustic_dice_simulation()}\")"
   ]
  },
  {
   "cell_type": "markdown",
   "id": "cac29b39",
   "metadata": {},
   "source": [
    "b) Estimación del `valor medio` y de la `desviación estándar` del número de lanzamientos"
   ]
  },
  {
   "cell_type": "code",
   "execution_count": 6,
   "id": "a25ff6e9",
   "metadata": {},
   "outputs": [
    {
     "name": "stdout",
     "output_type": "stream",
     "text": [
      "--------VALOR MEDIO--------\n",
      "N:100     E[X]:58.7400\n",
      "N:1000    E[X]:61.4540\n",
      "N:10000   E[X]:60.8039\n",
      "N:100000  E[X]:61.1195\n",
      "\n",
      "--------DESVIACION E--------\n",
      "N:100     σ[X]:31.4393\n",
      "N:1000    σ[X]:37.9364\n",
      "N:10000   σ[X]:35.3398\n",
      "N:100000  σ[X]:35.9156\n"
     ]
    }
   ],
   "source": [
    "from utils import Utils\n",
    "import matplotlib.pyplot as plt \n",
    "\n",
    "rolls = []\n",
    "\n",
    "for N in [100, 1000, 10000, 100000]:\n",
    "    iteration_roll = []\n",
    "    for _ in range(N):\n",
    "        iteration_roll.append(rustic_dice_simulation())\n",
    "    rolls.append(iteration_roll)\n",
    "\n",
    "means = [Utils.mean_value(iteration_list) for iteration_list in rolls]\n",
    "deviations = [Utils.standar_deviation(iteration_list) for iteration_list in rolls]\n",
    "\n",
    "print(\"-\"*8+\"VALOR MEDIO\"+\"-\"*8)\n",
    "for N, mean in zip([100, 1000, 10000, 100000], means):\n",
    "    print(f\"N:{N:<7d} E[X]:{mean:.4f}\")\n",
    "\n",
    "\n",
    "print(\"\\n\"+\"-\"*8+\"DESVIACION E\"+\"-\"*8)\n",
    "for N, deviation in zip([100, 1000, 10000, 100000], deviations):\n",
    "    print(f\"N:{N:<7d} σ[X]:{deviation:.4f}\")\n"
   ]
  },
  {
   "cell_type": "markdown",
   "id": "a08e362f",
   "metadata": {},
   "source": [
    "Además se pide estimar:\n",
    "-  $P(N>=15)$\n",
    "-  $P(N<=9)$\n",
    "\n",
    "Repitiendo el algoritmo para 100, 1000, 10000 y 100000"
   ]
  },
  {
   "cell_type": "code",
   "execution_count": 12,
   "id": "ed82052a",
   "metadata": {},
   "outputs": [],
   "source": [
    "#Simulación de probabilidad\n",
    "def probability_simulation(Nsim:int) -> tuple[float]:\n",
    "    \"\"\"\n",
    "    Simulación de la probabilidad de:\n",
    "    1. P(N >= 15)\n",
    "    2. P(N <= 9)\n",
    "\n",
    "    Args:\n",
    "        Nsim (int): Número de simulaciones\n",
    "\n",
    "    Returns:\n",
    "        tuple[float]: Primer coordenada para la primer probabilidad, la segunda para la segunda.\n",
    "    \"\"\"\n",
    "    probability_1:float = 0\n",
    "    probability_2:float = 0\n",
    "    for _ in range(Nsim):\n",
    "        if rustic_dice_simulation() >= 15:\n",
    "            probability_1 += 1\n",
    "        if rustic_dice_simulation() <= 9:\n",
    "            probability_2 +=1\n",
    "\n",
    "    return (probability_1 / Nsim, probability_2 / Nsim)"
   ]
  },
  {
   "cell_type": "code",
   "execution_count": 17,
   "id": "8f934dc5",
   "metadata": {},
   "outputs": [
    {
     "name": "stdout",
     "output_type": "stream",
     "text": [
      "\n",
      "--------------------ESTIMACIÓN N--------------------\n",
      "N:100     P(N >= 15) ≈ 1.000000  P(N <= 9) ≈ 0.000000\n",
      "N:1000    P(N >= 15) ≈ 1.000000  P(N <= 9) ≈ 0.000000\n",
      "N:10000   P(N >= 15) ≈ 0.998800  P(N <= 9) ≈ 0.000000\n",
      "N:100000  P(N >= 15) ≈ 0.998620  P(N <= 9) ≈ 0.000000\n"
     ]
    }
   ],
   "source": [
    "print(\"\\n\"+\"-\"*20+\"ESTIMACIÓN N\"+\"-\"*20)\n",
    "for N  in [100, 1000, 10000, 100000]:\n",
    "    result = probability_simulation(Nsim=N)\n",
    "    print(f\"N:{N:<7d} P(N >= 15) ≈ {result[0]:>4f}  P(N <= 9) ≈ {result[1]:>4f}\")"
   ]
  },
  {
   "cell_type": "markdown",
   "id": "a302ab3d",
   "metadata": {},
   "source": [
    "---\n",
    "## Ejercicio 4\n",
    "\n",
    "Se pide implementar cuatro métodos para generar una variable $X$ que toma valores en $[1,10]$ con probabilidades:\n",
    "- $p_1=0.11$\n",
    "- $p_2=0.14$\n",
    "- $p_3=0.09$\n",
    "- $p_4=0.08$\n",
    "- $p_5=0.12$\n",
    "- $p_6=0.10$\n",
    "- $p_7=0.09$\n",
    "- $p_8=0.07$\n",
    "- $p_9=0.11$\n",
    "- $p_{10}=0.09$\n",
    "\n",
    "Utilizando:\n",
    "- `Método de rechazo` con una uniforme discreta, buscando la cota c más baja posible\n",
    "\n",
    "- `Método de rechazo` con una uniforme discreta, usando $c=3$\n",
    "\n",
    "- `Transformada inversa`\n",
    "\n",
    "- `Método de la urna` utilizar un arreglo A de tamaño 100 donde cada valor i está en exactamente $p_i*100$ posiciones. El método debe devolver **A[k]** con probabilidad $0.01$ ¿Por qué funciona?"
   ]
  },
  {
   "cell_type": "code",
   "execution_count": 98,
   "id": "c6984979",
   "metadata": {},
   "outputs": [],
   "source": [
    "# Valores globales\n",
    "probabilities = [\n",
    "    0.11, 0.14, 0.09, #p_1, p_2, p_3\n",
    "    0.08, 0.12, 0.10, #p_3, p_5, p_6\n",
    "    0.09, 0.07, 0.11, #p_7, p_8, p_9\n",
    "    0.09              #p_10\n",
    "    ]\n",
    "\n",
    "#Método de aceptación y rechazo para C=3\n",
    "q_Y = 0.1"
   ]
  },
  {
   "cell_type": "code",
   "execution_count": 99,
   "id": "8cd7186c",
   "metadata": {},
   "outputs": [],
   "source": [
    "# Método de la transformada inversa\n",
    "from random import random\n",
    "\n",
    "cum_probs = [0.11, 0.25, 0.34, 0.42, 0.54, 0.64, 0.73, 0.80, 0.91, 1.0]\n",
    "\n",
    "def ITX() -> tuple:\n",
    "    \"\"\"\n",
    "    Generación de variable aleatoria por medio del método de la transformada\n",
    "    inversa\n",
    "\n",
    "    Returns:\n",
    "        int: Número aleatorio entre 1 al 10.\n",
    "    \"\"\"\n",
    "    U = random()\n",
    "    iterations = 0\n",
    "    for i in range(len(cum_probs)):\n",
    "        iterations += 1\n",
    "        if U < cum_probs[i]:\n",
    "            return i+1, iterations\n",
    "    return len(cum_probs), iterations"
   ]
  },
  {
   "cell_type": "code",
   "execution_count": 106,
   "id": "54100b36",
   "metadata": {},
   "outputs": [],
   "source": [
    "#Método de la transformada inversa optimizado\n",
    "from random import random\n",
    "\n",
    "opt_cum_probs = [0.14, 0.26, 0.37, 0.48, 0.58, 0.67, 0.76, 0.85, 0.93, 1.0]\n",
    "opt_values = [2, 5, 1, 9, 6, 3, 7, 10, 4, 8]\n",
    "\n",
    "def ITX_optimized() -> tuple:\n",
    "    \"\"\"\n",
    "    Versión optimizada de ITX() con condiciones ordenadas por prob. descendente\n",
    "\n",
    "    Returns:\n",
    "        tuple: (Número entre 1 y 10, iteraciones hasta salir)\n",
    "    \"\"\"\n",
    "    U = random()\n",
    "    iterations = 0\n",
    "    for i in range(10):\n",
    "        iterations += 1\n",
    "        if U < opt_cum_probs[i]:\n",
    "            return opt_values[i], iterations\n",
    "    return 8, iterations\n"
   ]
  },
  {
   "cell_type": "markdown",
   "id": "b9bae7f2",
   "metadata": {},
   "source": [
    "Para los dos casos anteriores:\n",
    "$$\n",
    "E [ \\#Comparaciones ] = \\sum_{i=1}^{10} (\\text{Número de comparaciones para }X=i) \\cdot P(X=i)\n",
    "$$"
   ]
  },
  {
   "cell_type": "code",
   "execution_count": 138,
   "id": "39611e7c",
   "metadata": {},
   "outputs": [],
   "source": [
    "#Método de aceptación y rechazo con C = 3\n",
    "from random import random\n",
    "\n",
    "def Y_random_variable() -> int:\n",
    "    \"\"\"\n",
    "    Generación de una variable aleatoria que toma los mismos valores\n",
    "    que X a través del método de transformada inversa\n",
    "\n",
    "    Returns:\n",
    "        int: Número entre 1 y 10\n",
    "    \"\"\"\n",
    "    U = random()\n",
    "    if U < 0.10:     # P(Y=1) = 0.10\n",
    "        return 1\n",
    "    elif U < 0.20:   # P(Y=2) = 0.10 -> 0.10 + p_1\n",
    "        return 2\n",
    "    elif U < 0.30:   # P(Y=3) = 0.10 -> 0.10 + p_2\n",
    "        return 3\n",
    "    elif U < 0.40:   # P(Y=4) = 0.10 -> 0.10 + p_3\n",
    "        return 4\n",
    "    elif U < 0.50:   # P(Y=5) = 0.10 -> 0.10 + p_4\n",
    "        return 5\n",
    "    elif U < 0.60:   # P(Y=6) = 0.10 -> 0.10 + p_5\n",
    "        return 6\n",
    "    elif U < 0.70:   # P(Y=7) = 0.10 -> 0.10 + p_6\n",
    "        return 7\n",
    "    elif U < 0.80:   # P(Y=8) = 0.10 -> 0.10 + p_7\n",
    "        return 8\n",
    "    elif U < 0.90:   # P(Y=9) = 0.10 -> 0.10 + p_8\n",
    "        return 9\n",
    "    else:            # P(Y=10) = 0.10 -> 0.10 + p_9\n",
    "        return 10\n",
    "        \n",
    "\n",
    "def RMX(c:int)-> tuple:\n",
    "    \"\"\"\n",
    "    Método de rechazo\n",
    "\n",
    "    Args:\n",
    "        c (int): Cota del método\n",
    "\n",
    "    Returns:\n",
    "        int: Número aleatorio entre 1 y 10\n",
    "    \"\"\"\n",
    "    iterations = 0\n",
    "    #Simulo Y\n",
    "    while True:\n",
    "        iterations += 1\n",
    "        Y = Y_random_variable()\n",
    "        U = random()\n",
    "        if U < probabilities[Y-1] / (c * q_Y): #Definimos q_Y = 0.1 para todo j\n",
    "            return Y, iterations"
   ]
  },
  {
   "cell_type": "markdown",
   "id": "342118df",
   "metadata": {},
   "source": [
    "Ahora para encontrar la cota $c$ más baja posible debo encontrar un $c$ tal que $p_j \\leq c\\cdot q_j\\text{ ,}\\forall j \\geqslant 1  \\\\$\n",
    "\n",
    "Como $q_j=0.1$ por la definición de $Y$ tal que $Y \\text{ v.a que para cualquier entrada devuelve 0.1,}$\n",
    "\n",
    "$q_j = 0.1 \\text{ }\\forall j \\Rightarrow p_j \\geqslant c\\cdot 0.1 \\Longleftrightarrow \\frac{p_j}{0.1} \\geqslant c$\n",
    "\n",
    "$\\text{Ahora }p_j\\text{ como mucho es 0.14 por los datos} \\Rightarrow \\frac{0.14}{0.1} = \\frac{7}{5}\\geqslant c$\n",
    "\n",
    "$\\text{Luego c puede ser más grande pero la cota más ajustada que satisface } p_j \\geqslant c\\cdot 0.1 \\text{ es } c=\\frac{7}{5}$\n",
    "\n"
   ]
  },
  {
   "cell_type": "code",
   "execution_count": 139,
   "id": "bca75a91",
   "metadata": {},
   "outputs": [],
   "source": [
    "#Método de aceptación y rechazo con la cota más baja posible\n",
    "c_adjusted = 7/5"
   ]
  },
  {
   "cell_type": "code",
   "execution_count": 152,
   "id": "c4499848",
   "metadata": {},
   "outputs": [
    {
     "name": "stdout",
     "output_type": "stream",
     "text": [
      "URNX = 0.09\n"
     ]
    }
   ],
   "source": [
    "#Método de la urna\n",
    "import numpy as np\n",
    "from random import random\n",
    "\n",
    "k = 10\n",
    "A = np.repeat(probabilities, k)\n",
    "\n",
    "def URNX_method() -> tuple:\n",
    "    \"\"\"\n",
    "    Método de la urna para generación de v.a discreta X\n",
    "\n",
    "    Returns:\n",
    "        int: Número aleatorio entre 1 y 10\n",
    "    \"\"\"\n",
    "    I = int(random()*len(A))\n",
    "    return A[I], 1 #Siempre hace 1 iteración\n",
    "\n",
    "print(f\"URNX = {URNX_method()[0]}\")\n"
   ]
  },
  {
   "cell_type": "code",
   "execution_count": 102,
   "id": "53566fca",
   "metadata": {},
   "outputs": [
    {
     "name": "stdout",
     "output_type": "stream",
     "text": [
      "N:100    P(X = A[k]) = 0.01\n",
      "N:1000   P(X = A[k]) = 0.01\n",
      "N:10000  P(X = A[k]) = 0.01\n",
      "N:100000 P(X = A[k]) = 0.01\n"
     ]
    }
   ],
   "source": [
    "#Corroboremos que el método devuelve A[k] con prob 0.01\n",
    "from random import randint\n",
    "\n",
    "fixed_k = randint(0, len(A)-1)\n",
    "\n",
    "def probability_simulation(Nsim: int) -> float:\n",
    "    count = 0\n",
    "    for _ in range(Nsim):\n",
    "        I = int(random() * len(A))  \n",
    "        if I == fixed_k:  \n",
    "            count += 1\n",
    "    return count / Nsim\n",
    "\n",
    "for Nsim in [100, 1000, 10000, 100000]:\n",
    "    prob = probability_simulation(Nsim=Nsim)\n",
    "    print(f\"N:{Nsim:<6d} P(X = A[k]) = {prob:.2f}\")\n"
   ]
  },
  {
   "cell_type": "markdown",
   "id": "7274e5bf",
   "metadata": {},
   "source": [
    "Esto funciona porque tenemos en el arreglo A tenemos 100 elementos,\n",
    "teniendo en cuenta que cada valor en A es \"distinto\" tenemos que\n",
    "equiprobabilidad a A[k] con un valor de $\\frac{1}{100} \\equiv 0.01$"
   ]
  },
  {
   "cell_type": "markdown",
   "id": "27fd6f39",
   "metadata": {},
   "source": [
    "Calculamos el número esperado de comparaciones:"
   ]
  },
  {
   "cell_type": "code",
   "execution_count": 117,
   "id": "a288c60f",
   "metadata": {},
   "outputs": [
    {
     "name": "stdout",
     "output_type": "stream",
     "text": [
      "ITX            -> E[#Comparaciones] = 5\n",
      "ITX OPTIMIZADO -> E[#Comparaciones] = 4\n",
      "RMX            -> E[#Comparaciones] = 2\n",
      "RMX_AJUSTADO   -> E[#Comparaciones] = 1\n"
     ]
    }
   ],
   "source": [
    "from utils import DiscreteRandomVariables\n",
    "\n",
    "#Comparaciones ITX\n",
    "comparisons_ITX = sum((i+1) * p for i, p in enumerate(probabilities))\n",
    "\n",
    "#Comparaciones ITX optimizado\n",
    "probabilities_sorted = sorted(probabilities, reverse=True)\n",
    "comparisons_optimized = sum((i + 1) * p for i, p in enumerate(probabilities_sorted))\n",
    "\n",
    "#Comparaciones con método de rechazo con C=3\n",
    "rmx = DiscreteRandomVariables.geometrical(p=1/3)\n",
    "rmx_adjusted = DiscreteRandomVariables.geometrical(p=1/c_adjusted)\n",
    "\n",
    "# --- Impresión alineada ---\n",
    "labels = [\"ITX\", \"ITX OPTIMIZADO\", \"RMX\", \"RMX_AJUSTADO\"]\n",
    "values = [comparisons_ITX, comparisons_optimized, rmx, rmx_adjusted]\n",
    "max_label_len = max(len(label) for label in labels)\n",
    "\n",
    "for label, value in zip(labels, values):\n",
    "    # Alineación: label (ajustado a max_label_len) + \" -> E[#Comparaciones] = \" + valor (8 dígitos)\n",
    "    print(f\"{label.ljust(max_label_len)} -> E[#Comparaciones] = {int(value)}\")"
   ]
  },
  {
   "cell_type": "markdown",
   "id": "ff85805b",
   "metadata": {},
   "source": [
    "De dónde sale que $E[Comparaciones] = E[Geom(\\frac{1}{c})] = c$ 🤔\n",
    "\n",
    "Calculemos $P(\\text{Algoritmo genere } x_j)$\n",
    "$$\n",
    "\\begin{align*}\n",
    "P(\\text{Algoritmo genere }x_j) &= \\sum_{k=1}^{\\infty}P(\\text{Rechazo Y}(k-1)\\text{ veces y aceptar }Y=x_j \\text{ en la k-ésima iteración}) \\\\\n",
    "    &= \\sum_{k=1}^{\\infty}(1-\\frac{1}{c})^{k-1}\\cdot P(\\text{generar }Y=x_j\\text{ y }U<\\frac{p_j}{c\\cdot q_j}) \\\\\n",
    "    &= \\sum_{k=1}^{\\infty}(1-\\frac{1}{c})^{k-1}\\cdot q_j \\cdot \\frac{p_j}{c\\cdot q_j} \\\\\n",
    "    &= p_j \\cdot \\sum_{k=1}^{\\infty}(1-\\frac{1}{c})^{k-1} \\cdot \\frac{1}{c}\\\\\n",
    "    &= p_j \\\\\n",
    "\\end{align*}\n",
    "$$\n",
    "$donde \\sum_{k=1}^{\\infty}(1-\\frac{1}{c})^{k-1} \\cdot \\frac{1}{c} \\equiv  \\text{ Sumas de }p_{masa}\\text{ de }Z\\sim Geom(\\frac{1}{c}) \\equiv P(\\text{Rechazo Y}(k-1)\\text{ veces})$"
   ]
  },
  {
   "cell_type": "code",
   "execution_count": 142,
   "id": "b40b9535",
   "metadata": {},
   "outputs": [],
   "source": [
    "from time import time\n",
    "import numpy as np\n",
    "\n",
    "#Comparación de eficiencia en base a comparaciones a 10000 simulaciones\n",
    "def compare_methods(method, Nsim=10000):\n",
    "    results = {}\n",
    "    start_time = time()\n",
    "    total_iter = 0\n",
    "    values = []\n",
    "    \n",
    "    for _ in range(Nsim):\n",
    "        val, iterations = method()\n",
    "        values.append(val)\n",
    "        total_iter += iterations\n",
    "        \n",
    "    # Calcular estadísticas\n",
    "    elapsed = time() - start_time\n",
    "    avg_iter = total_iter / Nsim\n",
    "    \n",
    "    # Verificar distribución\n",
    "    unique, counts = np.unique(values, return_counts=True)\n",
    "    dist = dict(zip(unique, counts/Nsim))\n",
    "    \n",
    "    results = {\n",
    "        'total_iter': total_iter,\n",
    "        'avg_iter': avg_iter,\n",
    "        'time': elapsed,\n",
    "        'distribution': dist\n",
    "    }\n",
    "    \n",
    "    return results\n",
    "\n",
    "def print_results(name, results):\n",
    "    print(f\"Resultados para {name}:\")\n",
    "    print(f\"  - Tiempo total: {results['time']:.6f} segundos\")\n",
    "    print(f\"  - Iteraciones totales: {results['total_iter']}\")\n",
    "    print(f\"  - Iteraciones promedio: {results['avg_iter']:.4f}\")\n",
    "    print(f\"  - Distribución de valores:\")\n",
    "    for value, prob in sorted(results['distribution'].items()):\n",
    "        print(f\"      Valor {value}: {prob*100:.2f}%\")\n",
    "    print(\"-\" * 50)  # Línea separadora\n"
   ]
  },
  {
   "cell_type": "code",
   "execution_count": 145,
   "id": "0989b65e",
   "metadata": {},
   "outputs": [
    {
     "name": "stdout",
     "output_type": "stream",
     "text": [
      "Resultados para ITX:\n",
      "  - Tiempo total: 0.010495 segundos\n",
      "  - Iteraciones totales: 52847\n",
      "  - Iteraciones promedio: 5.2847\n",
      "  - Distribución de valores:\n",
      "      Valor 1: 10.77%\n",
      "      Valor 2: 14.07%\n",
      "      Valor 3: 8.81%\n",
      "      Valor 4: 7.76%\n",
      "      Valor 5: 12.29%\n",
      "      Valor 6: 10.19%\n",
      "      Valor 7: 8.80%\n",
      "      Valor 8: 6.87%\n",
      "      Valor 9: 11.46%\n",
      "      Valor 10: 8.98%\n",
      "--------------------------------------------------\n"
     ]
    }
   ],
   "source": [
    "results_ITX = compare_methods(ITX, 10000)\n",
    "print_results(\"ITX\", results_ITX)"
   ]
  },
  {
   "cell_type": "code",
   "execution_count": 146,
   "id": "a9cc0db2",
   "metadata": {},
   "outputs": [
    {
     "name": "stdout",
     "output_type": "stream",
     "text": [
      "Resultados para ITX Optimizado:\n",
      "  - Tiempo total: 0.011288 segundos\n",
      "  - Iteraciones totales: 49137\n",
      "  - Iteraciones promedio: 4.9137\n",
      "  - Distribución de valores:\n",
      "      Valor 1: 10.93%\n",
      "      Valor 2: 14.34%\n",
      "      Valor 3: 8.96%\n",
      "      Valor 4: 7.70%\n",
      "      Valor 5: 12.19%\n",
      "      Valor 6: 10.10%\n",
      "      Valor 7: 9.04%\n",
      "      Valor 8: 6.53%\n",
      "      Valor 9: 10.99%\n",
      "      Valor 10: 9.22%\n",
      "--------------------------------------------------\n"
     ]
    }
   ],
   "source": [
    "retults_ITX_optimized = compare_methods(ITX_optimized, 10000)\n",
    "print_results(\"ITX Optimizado\", retults_ITX_optimized)"
   ]
  },
  {
   "cell_type": "code",
   "execution_count": 147,
   "id": "2be85eb2",
   "metadata": {},
   "outputs": [
    {
     "name": "stdout",
     "output_type": "stream",
     "text": [
      "Resultados para RMX con c=3:\n",
      "  - Tiempo total: 0.019951 segundos\n",
      "  - Iteraciones totales: 29887\n",
      "  - Iteraciones promedio: 2.9887\n",
      "  - Distribución de valores:\n",
      "      Valor 1: 10.68%\n",
      "      Valor 2: 14.03%\n",
      "      Valor 3: 8.95%\n",
      "      Valor 4: 7.91%\n",
      "      Valor 5: 12.21%\n",
      "      Valor 6: 9.96%\n",
      "      Valor 7: 9.09%\n",
      "      Valor 8: 6.81%\n",
      "      Valor 9: 11.16%\n",
      "      Valor 10: 9.20%\n",
      "--------------------------------------------------\n"
     ]
    }
   ],
   "source": [
    "\n",
    "results_RMX_3 = compare_methods(lambda: RMX(c=3), 10000)\n",
    "print_results(\"RMX con c=3\", results_RMX_3)"
   ]
  },
  {
   "cell_type": "code",
   "execution_count": 148,
   "id": "bf6518fa",
   "metadata": {},
   "outputs": [
    {
     "name": "stdout",
     "output_type": "stream",
     "text": [
      "Resultados para RMX Optimizado:\n",
      "  - Tiempo total: 0.014911 segundos\n",
      "  - Iteraciones totales: 14112\n",
      "  - Iteraciones promedio: 1.4112\n",
      "  - Distribución de valores:\n",
      "      Valor 1: 10.67%\n",
      "      Valor 2: 14.36%\n",
      "      Valor 3: 8.89%\n",
      "      Valor 4: 8.35%\n",
      "      Valor 5: 12.49%\n",
      "      Valor 6: 10.29%\n",
      "      Valor 7: 9.17%\n",
      "      Valor 8: 6.75%\n",
      "      Valor 9: 10.34%\n",
      "      Valor 10: 8.69%\n",
      "--------------------------------------------------\n"
     ]
    }
   ],
   "source": [
    "result_RMX_opt = compare_methods(lambda: (RMX(c=c_adjusted)), 10000)\n",
    "print_results(\"RMX Optimizado\", result_RMX_opt)"
   ]
  },
  {
   "cell_type": "code",
   "execution_count": 151,
   "id": "e52ef34b",
   "metadata": {},
   "outputs": [
    {
     "name": "stdout",
     "output_type": "stream",
     "text": [
      "Resultados para URNX:\n",
      "  - Tiempo total: 0.012109 segundos\n",
      "  - Iteraciones totales: 10000\n",
      "  - Iteraciones promedio: 1.0000\n",
      "  - Distribución de valores:\n",
      "      Valor 0.07: 10.25%\n",
      "      Valor 0.08: 9.88%\n",
      "      Valor 0.09: 29.60%\n",
      "      Valor 0.1: 9.77%\n",
      "      Valor 0.11: 20.37%\n",
      "      Valor 0.12: 9.92%\n",
      "      Valor 0.14: 10.21%\n",
      "--------------------------------------------------\n"
     ]
    }
   ],
   "source": [
    "results_URNX = compare_methods(URNX_method, 10000)\n",
    "print_results(\"URNX\", results_URNX)"
   ]
  },
  {
   "cell_type": "markdown",
   "id": "c0e2b39c",
   "metadata": {},
   "source": [
    "---\n",
    "# Ejercicio 11"
   ]
  }
 ],
 "metadata": {
  "kernelspec": {
   "display_name": "venv",
   "language": "python",
   "name": "python3"
  },
  "language_info": {
   "codemirror_mode": {
    "name": "ipython",
    "version": 3
   },
   "file_extension": ".py",
   "mimetype": "text/x-python",
   "name": "python",
   "nbconvert_exporter": "python",
   "pygments_lexer": "ipython3",
   "version": "3.12.3"
  }
 },
 "nbformat": 4,
 "nbformat_minor": 5
}
