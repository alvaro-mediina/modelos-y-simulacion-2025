{
 "cells": [
  {
   "cell_type": "markdown",
   "id": "a626ab86",
   "metadata": {},
   "source": [
    "# Práctico 4: Generación de Variables Aleatorias Discretas"
   ]
  },
  {
   "cell_type": "markdown",
   "id": "4824383e",
   "metadata": {},
   "source": [
    "---\n",
    "\n",
    "## Ejercicio 2\n",
    "\n",
    "Se quiere construir una aproximación de: \n",
    "$$\n",
    "\\sum_{k=1}^{N} \\exp\\left(\\frac{k}{N}\\right)\n",
    "$$\n",
    "donde $N = 10000$"
   ]
  },
  {
   "cell_type": "markdown",
   "id": "70c47702",
   "metadata": {},
   "source": [
    "Como se quiere realizar una estimación $\\theta = \\sum_{k=1}^{N} \\exp\\left(\\frac{k}{N}\\right)$ $\\\\[0.1cm]$ tenemos que por Monte Carlo $\\theta = E[g(X)] = \\sum_{x} g(x)*p(x) \\\\[0.1cm]$ donde $p$ es la función de probabilidad de masa de una variable aleatoria $X$ discreta con distribución uniforme, $X \\sim U\\{1,N\\} \\\\[0.2cm] $\n",
    "\n",
    "Y $g(x) = e^{\\frac{x}{N}}$ donde N=10000\n",
    "\n",
    "Como  \n",
    "$$\n",
    "\\begin{align*}\n",
    "\\theta &= E[g(X)] \\\\\n",
    "       &= \\sum_{x} g(x) \\cdot p(x) \\\\\n",
    "       &= \\sum_{x} g(x) \\cdot \\frac{1}{n} \\\\\n",
    "       &= \\frac{1}{n} \\cdot \\sum_{x} g(x)  \\\\\n",
    "       &= \\frac{1}{n} \\cdot \\sum_{x} e^{(\\frac{x}{N})}\n",
    "\\end{align*}\n",
    "$$\n",
    "\n",
    "Pero como nosotros queremos $\\sum_{k=1}^{n} e^{(\\frac{k}{N})}$ por ende a la fórmula resultante de Monte Carlo debemos multiplicarla por N, tal que:\n",
    "$$\n",
    "\\begin{align*}\n",
    "\\theta &= N * \\frac{1}{n} \\cdot \\sum_{x} e^{(\\frac{x}{N})} \\\\\n",
    "       &= N * \\frac{g(x_1)+...+g(x_n)}{n} \\\\\n",
    "\\end{align*}\n",
    "$$"
   ]
  },
  {
   "cell_type": "markdown",
   "id": "18d6d687",
   "metadata": {},
   "source": [
    "a) Se pide escribir un algoritmo para estimar la cantidad deseada"
   ]
  },
  {
   "cell_type": "code",
   "execution_count": 13,
   "id": "14cfe1f1",
   "metadata": {},
   "outputs": [],
   "source": [
    "from math import e\n",
    "\n",
    "N = 10_000\n",
    "\n",
    "def g(x:int) -> float:\n",
    "    return e ** (x/N)\n",
    "\n",
    "def monte_carlo(Nsim:int) -> float:\n",
    "    summation = 0\n",
    "    for x_i in range(Nsim):\n",
    "        summation += g(x_i)\n",
    "    theta = summation / Nsim\n",
    "    return theta\n",
    "\n",
    "def summation_of_exp_of_k_div_N(N:int) -> float:\n",
    "    return N * monte_carlo(Nsim=N)\n"
   ]
  },
  {
   "cell_type": "markdown",
   "id": "5dc8a101",
   "metadata": {},
   "source": [
    "b) Aproximación sorteando 100 números aleatorios"
   ]
  },
  {
   "cell_type": "code",
   "execution_count": 16,
   "id": "b1f29772",
   "metadata": {},
   "outputs": [
    {
     "name": "stdout",
     "output_type": "stream",
     "text": [
      "----------------------------------------\n",
      "VALOR EXACTO = 17181.95916\n",
      "CON 100 RANDOMS ≈ 16588.70175\n",
      "ERROR COMETIDO -> 593.257\n",
      "----------------------------------------\n"
     ]
    }
   ],
   "source": [
    "from random import randint\n",
    "\n",
    "N = 10_000\n",
    "\n",
    "def monte_carlo_randoms(Nsim:int) -> float:\n",
    "    summation = 0\n",
    "    for _ in range(Nsim):\n",
    "        x_i = randint(1,N)\n",
    "        summation += g(x_i)\n",
    "    theta = summation / Nsim\n",
    "    return theta\n",
    "\n",
    "def summation_of_random_numbers(Nsim:int) -> float:\n",
    "    return N * monte_carlo_randoms(Nsim=Nsim)\n",
    "\n",
    "summation_of_exp_of_k_div_N_value = summation_of_exp_of_k_div_N(N=10000) \n",
    "summation_of_random_value = summation_of_random_numbers(Nsim=100)\n",
    "\n",
    "print(\"-\"*40)\n",
    "print(f\"VALOR EXACTO = {summation_of_exp_of_k_div_N_value:.10}\")\n",
    "print(f\"CON 100 RANDOMS ≈ {summation_of_random_value:.10}\")\n",
    "print(f\"ERROR COMETIDO -> {abs(summation_of_exp_of_k_div_N_value\n",
    "                                -summation_of_random_value):.6}\")\n",
    "print(\"-\"*40)\n"
   ]
  },
  {
   "cell_type": "markdown",
   "id": "0af08a67",
   "metadata": {},
   "source": [
    "c) Algoritmo para calcular la suma de los primeros 100 términos"
   ]
  },
  {
   "cell_type": "code",
   "execution_count": null,
   "id": "f9887d44",
   "metadata": {},
   "outputs": [
    {
     "name": "stdout",
     "output_type": "stream",
     "text": [
      "----------------------------------------\n",
      "VALOR EXACTO = 17181.95916\n",
      "CON 100 TERMINOS ≈ 100.4966458\n",
      "ERROR COMETIDO -> 17081.5\n",
      "----------------------------------------\n"
     ]
    }
   ],
   "source": [
    "#Primeros 100 términos\n",
    "first_100_terms = summation_of_exp_of_k_div_N(N=100)\n",
    "\n",
    "print(\"-\"*40)\n",
    "print(f\"VALOR EXACTO = {summation_of_exp_of_k_div_N_value:.10}\")\n",
    "print(f\"CON 100 TERMINOS = {first_100_terms:.10}\")\n",
    "print(f\"ERROR COMETIDO -> {abs(summation_of_exp_of_k_div_N_value\n",
    "                                -first_100_terms):.6}\")\n",
    "print(\"-\"*40)"
   ]
  },
  {
   "cell_type": "markdown",
   "id": "f53e5a6a",
   "metadata": {},
   "source": [
    "Comparación con los valores y el tiempo de cálculo"
   ]
  },
  {
   "cell_type": "code",
   "execution_count": 21,
   "id": "14ae7f12",
   "metadata": {},
   "outputs": [
    {
     "name": "stdout",
     "output_type": "stream",
     "text": [
      "---------------------CALCULOS---------------------\n",
      "\n",
      "N:10000  EXACTO:17181.95915800  TIEMPO: 0.005272 seg\n",
      "N:10000  APROX.:17592.81456651  TIEMPO: 0.000222 seg\n",
      "N:100    APROX.:100.49664584    TIEMPO: 0.000104 seg\n",
      "\n",
      "---------------------ERRORES---------------------\n",
      "\n",
      "c/Approx1:410.85541       difTiempo:0.005050   seg\n",
      "c/Approx2:17081.46251     difTiempo:0.005168   seg\n",
      "\n",
      "--------------------------------------------------\n"
     ]
    }
   ],
   "source": [
    "from time import time\n",
    "\n",
    "init_time = time() #Inicio la cuenta del tiempo\n",
    "exact_value = summation_of_exp_of_k_div_N(N=10000)\n",
    "end_time = time() #Fin de la cuenta del tiempo\n",
    "time1 = end_time - init_time # Tiempo de cálculo con valor exacto\n",
    "\n",
    "\n",
    "init_time = time()\n",
    "first_approx = summation_of_random_numbers(Nsim=100)\n",
    "end_time = time()\n",
    "time2 = end_time - init_time\n",
    "\n",
    "init_time = time()\n",
    "first_100_terms_value = summation_of_exp_of_k_div_N(N=100)\n",
    "end_time = time()\n",
    "time3 = end_time - init_time\n",
    "\n",
    "\n",
    "print(\"-\"*21+\"CALCULOS\"+\"-\"*21+\"\\n\")\n",
    "print(f\"N:{10000:<6d} EXACTO:{exact_value:<15.8f} TIEMPO: {time1:.6f} seg\")\n",
    "print(f\"N:{10000:<6d} APROX.:{first_approx:<15.8f} TIEMPO: {time2:.6f} seg\")\n",
    "print(f\"N:{100:<6d} APROX.:{first_100_terms_value:<15.8f} TIEMPO: {time3:.6f} seg\")\n",
    "\n",
    "print(\"\\n\"+\"-\"*21+\"ERRORES\"+\"-\"*21+\"\\n\")\n",
    "print(f\"c/Approx1:{abs(exact_value - first_approx):<15.5f} difTiempo:{abs(time1 - time2):<10.6f} seg\")\n",
    "print(f\"c/Approx2:{abs(exact_value - first_100_terms_value):<15.5f} difTiempo:{abs(time1 - time3):<10.6f} seg\")\n",
    "print(\"\\n\"+\"-\"*50)"
   ]
  },
  {
   "cell_type": "markdown",
   "id": "9ab09bd7",
   "metadata": {},
   "source": [
    "*Conclusión:* Las dos aproximaciones tardan lo mismo pero si utilizamos números aleatorios entre $\\{1,10000\\}$ se aproxima mucho más al resultado exacto que sumando los 100 primeros términos"
   ]
  },
  {
   "cell_type": "markdown",
   "id": "c3f31733",
   "metadata": {},
   "source": [
    "---\n",
    "## Ejercicio 3\n",
    "\n",
    "Algoritmo\n",
    "1. Se lanzan simultáneamente un par de dados legales.\n",
    "2. Se anota la suma de ambos\n",
    "3. Repetir hasta haber logrado todos los resultados ${2,3,...,12}$ al menos una vez\n"
   ]
  },
  {
   "cell_type": "code",
   "execution_count": null,
   "id": "1f9d2dd2",
   "metadata": {},
   "outputs": [],
   "source": [
    "#Utilizando randint\n",
    "from random import randint\n",
    "\n",
    "def dice_simulation() -> int:\n",
    "    iterations = 0\n",
    "    numbers = set()\n",
    "    while not len(numbers) == 11:\n",
    "        dice_sum = randint(1,6) + randint(1,6)\n",
    "        iterations+=1\n",
    "        if not (dice_sum in numbers):\n",
    "            numbers.add(dice_sum)\n",
    "\n",
    "    return iterations\n"
   ]
  },
  {
   "cell_type": "code",
   "execution_count": 4,
   "id": "ef77c4d3",
   "metadata": {},
   "outputs": [],
   "source": [
    "#Utilizando métodos de generar números aleatorios\n",
    "from utils import Utils\n",
    "\n",
    "def rustic_dice_simulation() -> int:\n",
    "    iterations = 0\n",
    "    numbers = set()\n",
    "    while not len(numbers) == 11:\n",
    "        dice_sum = Utils.numbers_between_a_b(a=1,b=6) + Utils.numbers_between_a_b(a=1,b=6)\n",
    "        iterations+=1\n",
    "        if not (dice_sum in numbers):\n",
    "            numbers.add(dice_sum)\n",
    "    return iterations"
   ]
  },
  {
   "cell_type": "code",
   "execution_count": 8,
   "id": "a602ff1c",
   "metadata": {},
   "outputs": [
    {
     "name": "stdout",
     "output_type": "stream",
     "text": [
      "LANZAMIENTOS REALIZADOS: 37\n"
     ]
    }
   ],
   "source": [
    "print(f\"LANZAMIENTOS REALIZADOS: {rustic_dice_simulation()}\")"
   ]
  },
  {
   "cell_type": "markdown",
   "id": "cac29b39",
   "metadata": {},
   "source": [
    "b) Estimación del `valor medio` y de la `desviación estándar` del número de lanzamientos"
   ]
  },
  {
   "cell_type": "code",
   "execution_count": 6,
   "id": "a25ff6e9",
   "metadata": {},
   "outputs": [
    {
     "name": "stdout",
     "output_type": "stream",
     "text": [
      "--------VALOR MEDIO--------\n",
      "N:100     E[X]:58.7400\n",
      "N:1000    E[X]:61.4540\n",
      "N:10000   E[X]:60.8039\n",
      "N:100000  E[X]:61.1195\n",
      "\n",
      "--------DESVIACION E--------\n",
      "N:100     σ[X]:31.4393\n",
      "N:1000    σ[X]:37.9364\n",
      "N:10000   σ[X]:35.3398\n",
      "N:100000  σ[X]:35.9156\n"
     ]
    }
   ],
   "source": [
    "from utils import Utils\n",
    "import matplotlib.pyplot as plt \n",
    "\n",
    "rolls = []\n",
    "\n",
    "for N in [100, 1000, 10000, 100000]:\n",
    "    iteration_roll = []\n",
    "    for _ in range(N):\n",
    "        iteration_roll.append(rustic_dice_simulation())\n",
    "    rolls.append(iteration_roll)\n",
    "\n",
    "means = [Utils.mean_value(iteration_list) for iteration_list in rolls]\n",
    "deviations = [Utils.standar_deviation(iteration_list) for iteration_list in rolls]\n",
    "\n",
    "print(\"-\"*8+\"VALOR MEDIO\"+\"-\"*8)\n",
    "for N, mean in zip([100, 1000, 10000, 100000], means):\n",
    "    print(f\"N:{N:<7d} E[X]:{mean:.4f}\")\n",
    "\n",
    "\n",
    "print(\"\\n\"+\"-\"*8+\"DESVIACION E\"+\"-\"*8)\n",
    "for N, deviation in zip([100, 1000, 10000, 100000], deviations):\n",
    "    print(f\"N:{N:<7d} σ[X]:{deviation:.4f}\")\n"
   ]
  },
  {
   "cell_type": "markdown",
   "id": "a08e362f",
   "metadata": {},
   "source": [
    "Además se pide estimar:\n",
    "-  $P(N>=15)$\n",
    "-  $P(N<=9)$\n",
    "\n",
    "Repitiendo el algoritmo para 100, 1000, 10000 y 100000"
   ]
  },
  {
   "cell_type": "code",
   "execution_count": 12,
   "id": "ed82052a",
   "metadata": {},
   "outputs": [],
   "source": [
    "#Simulación de probabilidad\n",
    "def probability_simulation(Nsim:int) -> tuple[float]:\n",
    "    \"\"\"\n",
    "    Simulación de la probabilidad de:\n",
    "    1. P(N >= 15)\n",
    "    2. P(N <= 9)\n",
    "\n",
    "    Args:\n",
    "        Nsim (int): Número de simulaciones\n",
    "\n",
    "    Returns:\n",
    "        tuple[float]: Primer coordenada para la primer probabilidad, la segunda para la segunda.\n",
    "    \"\"\"\n",
    "    probability_1:float = 0\n",
    "    probability_2:float = 0\n",
    "    for _ in range(Nsim):\n",
    "        if rustic_dice_simulation() >= 15:\n",
    "            probability_1 += 1\n",
    "        if rustic_dice_simulation() <= 9:\n",
    "            probability_2 +=1\n",
    "\n",
    "    return (probability_1 / Nsim, probability_2 / Nsim)"
   ]
  },
  {
   "cell_type": "code",
   "execution_count": 17,
   "id": "8f934dc5",
   "metadata": {},
   "outputs": [
    {
     "name": "stdout",
     "output_type": "stream",
     "text": [
      "\n",
      "--------------------ESTIMACIÓN N--------------------\n",
      "N:100     P(N >= 15) ≈ 1.000000  P(N <= 9) ≈ 0.000000\n",
      "N:1000    P(N >= 15) ≈ 1.000000  P(N <= 9) ≈ 0.000000\n",
      "N:10000   P(N >= 15) ≈ 0.998800  P(N <= 9) ≈ 0.000000\n",
      "N:100000  P(N >= 15) ≈ 0.998620  P(N <= 9) ≈ 0.000000\n"
     ]
    }
   ],
   "source": [
    "print(\"\\n\"+\"-\"*20+\"ESTIMACIÓN N\"+\"-\"*20)\n",
    "for N  in [100, 1000, 10000, 100000]:\n",
    "    result = probability_simulation(Nsim=N)\n",
    "    print(f\"N:{N:<7d} P(N >= 15) ≈ {result[0]:>4f}  P(N <= 9) ≈ {result[1]:>4f}\")"
   ]
  },
  {
   "cell_type": "markdown",
   "id": "a302ab3d",
   "metadata": {},
   "source": [
    "---\n",
    "## Ejercicio 4\n",
    "\n",
    "Se pide implementar cuatro métodos para generar una variable $X$ que toma valores en $[1,10]$ con probabilidades:\n",
    "- $p_1=0.11$\n",
    "- $p_2=0.14$\n",
    "- $p_3=0.09$\n",
    "- $p_4=0.08$\n",
    "- $p_5=0.12$\n",
    "- $p_6=0.10$\n",
    "- $p_7=0.09$\n",
    "- $p_8=0.07$\n",
    "- $p_9=0.11$\n",
    "- $p_{10}=0.09$\n",
    "\n",
    "Utilizando:\n",
    "- `Método de rechazo` con una uniforme discreta, buscando la cota c más baja posible\n",
    "\n",
    "- `Método de rechazo` con una uniforme discreta, usando $c=3$\n",
    "\n",
    "- `Transformada inversa`\n",
    "\n",
    "- `Método de la urna` utilizar un arreglo A de tamaño 100 donde cada valor i está en exactamente $p_i*100$ posiciones. El método debe devolver **A[k]** con probabilidad $0.01$ ¿Por qué funciona?"
   ]
  },
  {
   "cell_type": "code",
   "execution_count": 10,
   "id": "c6984979",
   "metadata": {},
   "outputs": [],
   "source": [
    "# Valores globales\n",
    "probabilities = [\n",
    "    0.11, 0.14, 0.09, #p_1, p_2, p_3\n",
    "    0.08, 0.12, 0.10, #p_3, p_5, p_6\n",
    "    0.09, 0.07, 0.11, #p_7, p_8, p_9\n",
    "    0.09              #p_10\n",
    "    ]\n",
    "\n",
    "#Método de aceptación y rechazo para C=3\n",
    "q_Y = 0.1"
   ]
  },
  {
   "cell_type": "code",
   "execution_count": 11,
   "id": "8cd7186c",
   "metadata": {},
   "outputs": [],
   "source": [
    "# Método de la transformada inversa\n",
    "from random import random\n",
    "\n",
    "cum_probs = [0.11, 0.25, 0.34, 0.42, 0.54, 0.64, 0.73, 0.80, 0.91, 1.0]\n",
    "\n",
    "def ITX() -> tuple:\n",
    "    \"\"\"\n",
    "    Generación de variable aleatoria por medio del método de la transformada\n",
    "    inversa\n",
    "\n",
    "    Returns:\n",
    "        int: Número aleatorio entre 1 al 10.\n",
    "    \"\"\"\n",
    "    U = random()\n",
    "    iterations = 0\n",
    "    for i in range(len(cum_probs)):\n",
    "        iterations += 1\n",
    "        if U < cum_probs[i]:\n",
    "            return i+1, iterations\n",
    "    return len(cum_probs), iterations"
   ]
  },
  {
   "cell_type": "code",
   "execution_count": 12,
   "id": "54100b36",
   "metadata": {},
   "outputs": [],
   "source": [
    "#Método de la transformada inversa optimizado\n",
    "from random import random\n",
    "\n",
    "opt_cum_probs = [0.14, 0.26, 0.37, 0.48, 0.58, 0.67, 0.76, 0.85, 0.93, 1.0]\n",
    "opt_values = [2, 5, 1, 9, 6, 3, 7, 10, 4, 8]\n",
    "\n",
    "def ITX_optimized() -> tuple:\n",
    "    \"\"\"\n",
    "    Versión optimizada de ITX() con condiciones ordenadas por prob. descendente\n",
    "\n",
    "    Returns:\n",
    "        tuple: (Número entre 1 y 10, iteraciones hasta salir)\n",
    "    \"\"\"\n",
    "    U = random()\n",
    "    iterations = 0\n",
    "    for i in range(10):\n",
    "        iterations += 1\n",
    "        if U < opt_cum_probs[i]:\n",
    "            return opt_values[i], iterations\n",
    "    return 8, iterations\n"
   ]
  },
  {
   "cell_type": "markdown",
   "id": "b9bae7f2",
   "metadata": {},
   "source": [
    "Para los dos casos anteriores:\n",
    "$$\n",
    "E [ \\#Comparaciones ] = \\sum_{i=1}^{10} (\\text{Número de comparaciones para }X=i) \\cdot P(X=i)\n",
    "$$"
   ]
  },
  {
   "cell_type": "code",
   "execution_count": null,
   "id": "39611e7c",
   "metadata": {},
   "outputs": [],
   "source": [
    "#Método de aceptación y rechazo con C = 3\n",
    "from random import random\n",
    "\n",
    "def Y_random_variable() -> int:\n",
    "    \"\"\"\n",
    "    Generación de una variable aleatoria que toma los mismos valores\n",
    "    que X a través del método de transformada inversa\n",
    "\n",
    "    Returns:\n",
    "        int: Número entre 1 y 10\n",
    "    \"\"\"\n",
    "    U = random()\n",
    "    if U < 0.10:     # P(Y=1) = 0.10\n",
    "        return 1\n",
    "    elif U < 0.20:   # P(Y=2) = 0.10 -> 0.10 + p_1\n",
    "        return 2\n",
    "    elif U < 0.30:   # P(Y=3) = 0.10 -> 0.10 + p_2\n",
    "        return 3\n",
    "    elif U < 0.40:   # P(Y=4) = 0.10 -> 0.10 + p_3\n",
    "        return 4\n",
    "    elif U < 0.50:   # P(Y=5) = 0.10 -> 0.10 + p_4\n",
    "        return 5\n",
    "    elif U < 0.60:   # P(Y=6) = 0.10 -> 0.10 + p_5\n",
    "        return 6\n",
    "    elif U < 0.70:   # P(Y=7) = 0.10 -> 0.10 + p_6\n",
    "        return 7\n",
    "    elif U < 0.80:   # P(Y=8) = 0.10 -> 0.10 + p_7\n",
    "        return 8\n",
    "    elif U < 0.90:   # P(Y=9) = 0.10 -> 0.10 + p_8\n",
    "        return 9\n",
    "    else:            # P(Y=10) = 0.10 -> 0.10 + p_9\n",
    "        return 10\n",
    "        \n",
    "\n",
    "def RMX(c:int)-> tuple:\n",
    "    \"\"\"\n",
    "    Método de rechazo\n",
    "\n",
    "    Args:\n",
    "        c (int): Cota del método\n",
    "\n",
    "    Returns:\n",
    "        int: Número aleatorio entre 1 y 10\n",
    "    \"\"\"\n",
    "    iterations = 0\n",
    "    #Simulo Y\n",
    "    while True:\n",
    "        iterations += 1\n",
    "        Y = Y_random_variable()\n",
    "        U = random()\n",
    "        if U < probabilities[Y-1] / (c * q_Y): #Definimos q_Y = 0.1 para todo j\n",
    "            return Y, iterations"
   ]
  },
  {
   "cell_type": "markdown",
   "id": "342118df",
   "metadata": {},
   "source": [
    "Ahora para encontrar la cota $c$ más baja posible debo encontrar un $c$ tal que $p_j \\leq c\\cdot q_j\\text{ ,}\\forall j \\geqslant 1  \\\\$\n",
    "\n",
    "Como $q_j=0.1$ por la definición de $Y$ tal que $Y \\text{ v.a que para cualquier entrada devuelve 0.1,}$\n",
    "\n",
    "$q_j = 0.1 \\text{ }\\forall j \\Rightarrow p_j \\geqslant c\\cdot 0.1 \\Longleftrightarrow \\frac{p_j}{0.1} \\geqslant c$\n",
    "\n",
    "$\\text{Ahora }p_j\\text{ como mucho es 0.14 por los datos} \\Rightarrow \\frac{0.14}{0.1} = \\frac{7}{5}\\geqslant c$\n",
    "\n",
    "$\\text{Luego c puede ser más grande pero la cota más ajustada que satisface } p_j \\geqslant c\\cdot 0.1 \\text{ es } c=\\frac{7}{5}$\n",
    "\n"
   ]
  },
  {
   "cell_type": "code",
   "execution_count": 14,
   "id": "bca75a91",
   "metadata": {},
   "outputs": [],
   "source": [
    "#Método de aceptación y rechazo con la cota más baja posible\n",
    "c_adjusted = 7/5"
   ]
  },
  {
   "cell_type": "code",
   "execution_count": 15,
   "id": "c4499848",
   "metadata": {},
   "outputs": [
    {
     "name": "stdout",
     "output_type": "stream",
     "text": [
      "URNX = 0.12\n"
     ]
    }
   ],
   "source": [
    "#Método de la urna\n",
    "import numpy as np\n",
    "from random import random\n",
    "\n",
    "k = 10\n",
    "A = np.repeat(probabilities, k)\n",
    "\n",
    "def URNX_method() -> tuple:\n",
    "    \"\"\"\n",
    "    Método de la urna para generación de v.a discreta X\n",
    "\n",
    "    Returns:\n",
    "        int: Número aleatorio entre 1 y 10\n",
    "    \"\"\"\n",
    "    I = int(random()*len(A))\n",
    "    return A[I], 1 #Siempre hace 1 iteración\n",
    "\n",
    "print(f\"URNX = {URNX_method()[0]}\")\n"
   ]
  },
  {
   "cell_type": "code",
   "execution_count": 102,
   "id": "53566fca",
   "metadata": {},
   "outputs": [
    {
     "name": "stdout",
     "output_type": "stream",
     "text": [
      "N:100    P(X = A[k]) = 0.01\n",
      "N:1000   P(X = A[k]) = 0.01\n",
      "N:10000  P(X = A[k]) = 0.01\n",
      "N:100000 P(X = A[k]) = 0.01\n"
     ]
    }
   ],
   "source": [
    "#Corroboremos que el método devuelve A[k] con prob 0.01\n",
    "from random import randint\n",
    "\n",
    "fixed_k = randint(0, len(A)-1)\n",
    "\n",
    "def probability_simulation(Nsim: int) -> float:\n",
    "    count = 0\n",
    "    for _ in range(Nsim):\n",
    "        I = int(random() * len(A))  \n",
    "        if I == fixed_k:  \n",
    "            count += 1\n",
    "    return count / Nsim\n",
    "\n",
    "for Nsim in [100, 1000, 10000, 100000]:\n",
    "    prob = probability_simulation(Nsim=Nsim)\n",
    "    print(f\"N:{Nsim:<6d} P(X = A[k]) = {prob:.2f}\")\n"
   ]
  },
  {
   "cell_type": "markdown",
   "id": "7274e5bf",
   "metadata": {},
   "source": [
    "Esto funciona porque tenemos en el arreglo A tenemos 100 elementos,\n",
    "teniendo en cuenta que cada valor en A es \"distinto\" tenemos que\n",
    "equiprobabilidad a A[k] con un valor de $\\frac{1}{100} \\equiv 0.01$"
   ]
  },
  {
   "cell_type": "markdown",
   "id": "27fd6f39",
   "metadata": {},
   "source": [
    "Calculamos el número esperado de comparaciones:"
   ]
  },
  {
   "cell_type": "code",
   "execution_count": 16,
   "id": "a288c60f",
   "metadata": {},
   "outputs": [
    {
     "name": "stdout",
     "output_type": "stream",
     "text": [
      "ITX            -> E[#Comparaciones] = 5\n",
      "ITX OPTIMIZADO -> E[#Comparaciones] = 4\n",
      "RMX            -> E[#Comparaciones] = 10\n",
      "RMX_AJUSTADO   -> E[#Comparaciones] = 2\n"
     ]
    }
   ],
   "source": [
    "from utils import DiscreteRandomVariables\n",
    "\n",
    "#Comparaciones ITX\n",
    "comparisons_ITX = sum((i+1) * p for i, p in enumerate(probabilities))\n",
    "\n",
    "#Comparaciones ITX optimizado\n",
    "probabilities_sorted = sorted(probabilities, reverse=True)\n",
    "comparisons_optimized = sum((i + 1) * p for i, p in enumerate(probabilities_sorted))\n",
    "\n",
    "#Comparaciones con método de rechazo con C=3\n",
    "rmx = DiscreteRandomVariables.geometrical(p=1/3)\n",
    "rmx_adjusted = DiscreteRandomVariables.geometrical(p=1/c_adjusted)\n",
    "\n",
    "# --- Impresión alineada ---\n",
    "labels = [\"ITX\", \"ITX OPTIMIZADO\", \"RMX\", \"RMX_AJUSTADO\"]\n",
    "values = [comparisons_ITX, comparisons_optimized, rmx, rmx_adjusted]\n",
    "max_label_len = max(len(label) for label in labels)\n",
    "\n",
    "for label, value in zip(labels, values):\n",
    "    # Alineación: label (ajustado a max_label_len) + \" -> E[#Comparaciones] = \" + valor (8 dígitos)\n",
    "    print(f\"{label.ljust(max_label_len)} -> E[#Comparaciones] = {int(value)}\")"
   ]
  },
  {
   "cell_type": "markdown",
   "id": "ff85805b",
   "metadata": {},
   "source": [
    "De dónde sale que $E[Comparaciones] = E[Geom(\\frac{1}{c})] = c$ 🤔\n",
    "\n",
    "Calculemos $P(\\text{Algoritmo genere } x_j)$\n",
    "$$\n",
    "\\begin{align*}\n",
    "P(\\text{Algoritmo genere }x_j) &= \\sum_{k=1}^{\\infty}P(\\text{Rechazo Y}(k-1)\\text{ veces y aceptar }Y=x_j \\text{ en la k-ésima iteración}) \\\\\n",
    "    &= \\sum_{k=1}^{\\infty}(1-\\frac{1}{c})^{k-1}\\cdot P(\\text{generar }Y=x_j\\text{ y }U<\\frac{p_j}{c\\cdot q_j}) \\\\\n",
    "    &= \\sum_{k=1}^{\\infty}(1-\\frac{1}{c})^{k-1}\\cdot q_j \\cdot \\frac{p_j}{c\\cdot q_j} \\\\\n",
    "    &= p_j \\cdot \\sum_{k=1}^{\\infty}(1-\\frac{1}{c})^{k-1} \\cdot \\frac{1}{c}\\\\\n",
    "    &= p_j \\\\\n",
    "\\end{align*}\n",
    "$$\n",
    "$donde \\sum_{k=1}^{\\infty}(1-\\frac{1}{c})^{k-1} \\cdot \\frac{1}{c} \\equiv  \\text{ Sumas de }p_{masa}\\text{ de }Z\\sim Geom(\\frac{1}{c}) \\equiv P(\\text{Rechazo Y}(k-1)\\text{ veces})$"
   ]
  },
  {
   "cell_type": "code",
   "execution_count": 6,
   "id": "b40b9535",
   "metadata": {},
   "outputs": [],
   "source": [
    "from time import time\n",
    "import numpy as np\n",
    "\n",
    "#Comparación de eficiencia en base a comparaciones a 10000 simulaciones\n",
    "def compare_methods(method,*args ,Nsim=10000):\n",
    "    results = {}\n",
    "    start_time = time()\n",
    "    total_iter = 0\n",
    "    values = []\n",
    "    \n",
    "    for _ in range(Nsim):\n",
    "        val, iterations = method(*args)\n",
    "        values.append(val)\n",
    "        total_iter += iterations\n",
    "        \n",
    "    # Calcular estadísticas\n",
    "    elapsed = time() - start_time\n",
    "    avg_iter = total_iter / Nsim\n",
    "    \n",
    "    # Verificar distribución\n",
    "    unique, counts = np.unique(values, return_counts=True)\n",
    "    dist = dict(zip(unique, counts/Nsim))\n",
    "    \n",
    "    results = {\n",
    "        'total_iter': total_iter,\n",
    "        'avg_iter': avg_iter,\n",
    "        'time': elapsed,\n",
    "        'distribution': dist\n",
    "    }\n",
    "    \n",
    "    return results\n",
    "\n",
    "def print_results(name, results):\n",
    "    print(f\"Resultados para {name}:\")\n",
    "    print(f\"  - Tiempo total: {results['time']:.6f} segundos\")\n",
    "    print(f\"  - Iteraciones totales: {results['total_iter']}\")\n",
    "    print(f\"  - Iteraciones promedio: {results['avg_iter']:.4f}\")\n",
    "    print(f\"  - Distribución de valores:\")\n",
    "    for value, prob in sorted(results['distribution'].items()):\n",
    "        print(f\"      Valor {value}: {prob*100:.2f}%\")\n",
    "    print(\"-\" * 50)  # Línea separadora\n"
   ]
  },
  {
   "cell_type": "code",
   "execution_count": 20,
   "id": "0989b65e",
   "metadata": {},
   "outputs": [
    {
     "name": "stdout",
     "output_type": "stream",
     "text": [
      "Resultados para ITX:\n",
      "  - Tiempo total: 0.012701 segundos\n",
      "  - Iteraciones totales: 52397\n",
      "  - Iteraciones promedio: 5.2397\n",
      "  - Distribución de valores:\n",
      "      Valor 1: 11.52%\n",
      "      Valor 2: 14.33%\n",
      "      Valor 3: 8.69%\n",
      "      Valor 4: 7.76%\n",
      "      Valor 5: 11.67%\n",
      "      Valor 6: 10.07%\n",
      "      Valor 7: 9.09%\n",
      "      Valor 8: 6.56%\n",
      "      Valor 9: 11.30%\n",
      "      Valor 10: 9.01%\n",
      "--------------------------------------------------\n"
     ]
    }
   ],
   "source": [
    "results_ITX = compare_methods(ITX, Nsim=10000)\n",
    "print_results(\"ITX\", results_ITX)"
   ]
  },
  {
   "cell_type": "code",
   "execution_count": 22,
   "id": "a9cc0db2",
   "metadata": {},
   "outputs": [
    {
     "name": "stdout",
     "output_type": "stream",
     "text": [
      "Resultados para ITX Optimizado:\n",
      "  - Tiempo total: 0.008404 segundos\n",
      "  - Iteraciones totales: 50108\n",
      "  - Iteraciones promedio: 5.0108\n",
      "  - Distribución de valores:\n",
      "      Valor 1: 11.21%\n",
      "      Valor 2: 13.65%\n",
      "      Valor 3: 9.24%\n",
      "      Valor 4: 7.86%\n",
      "      Valor 5: 11.61%\n",
      "      Valor 6: 9.58%\n",
      "      Valor 7: 9.04%\n",
      "      Valor 8: 7.35%\n",
      "      Valor 9: 10.99%\n",
      "      Valor 10: 9.47%\n",
      "--------------------------------------------------\n"
     ]
    }
   ],
   "source": [
    "retults_ITX_optimized = compare_methods(ITX_optimized, Nsim=10000)\n",
    "print_results(\"ITX Optimizado\", retults_ITX_optimized)"
   ]
  },
  {
   "cell_type": "code",
   "execution_count": 23,
   "id": "2be85eb2",
   "metadata": {},
   "outputs": [
    {
     "name": "stdout",
     "output_type": "stream",
     "text": [
      "Resultados para RMX con c=3:\n",
      "  - Tiempo total: 0.021204 segundos\n",
      "  - Iteraciones totales: 29928\n",
      "  - Iteraciones promedio: 2.9928\n",
      "  - Distribución de valores:\n",
      "      Valor 1: 11.08%\n",
      "      Valor 2: 13.72%\n",
      "      Valor 3: 9.03%\n",
      "      Valor 4: 7.94%\n",
      "      Valor 5: 11.76%\n",
      "      Valor 6: 9.99%\n",
      "      Valor 7: 9.15%\n",
      "      Valor 8: 7.19%\n",
      "      Valor 9: 11.13%\n",
      "      Valor 10: 9.01%\n",
      "--------------------------------------------------\n"
     ]
    }
   ],
   "source": [
    "\n",
    "results_RMX_3 = compare_methods(lambda: RMX(c=3), Nsim=10000)\n",
    "print_results(\"RMX con c=3\", results_RMX_3)"
   ]
  },
  {
   "cell_type": "code",
   "execution_count": 25,
   "id": "bf6518fa",
   "metadata": {},
   "outputs": [
    {
     "name": "stdout",
     "output_type": "stream",
     "text": [
      "Resultados para RMX Optimizado:\n",
      "  - Tiempo total: 0.006645 segundos\n",
      "  - Iteraciones totales: 13970\n",
      "  - Iteraciones promedio: 1.3970\n",
      "  - Distribución de valores:\n",
      "      Valor 1: 10.64%\n",
      "      Valor 2: 14.15%\n",
      "      Valor 3: 9.03%\n",
      "      Valor 4: 7.56%\n",
      "      Valor 5: 11.84%\n",
      "      Valor 6: 10.01%\n",
      "      Valor 7: 9.03%\n",
      "      Valor 8: 6.95%\n",
      "      Valor 9: 11.32%\n",
      "      Valor 10: 9.47%\n",
      "--------------------------------------------------\n"
     ]
    }
   ],
   "source": [
    "result_RMX_opt = compare_methods(lambda: (RMX(c=c_adjusted)), Nsim=10000)\n",
    "print_results(\"RMX Optimizado\", result_RMX_opt)"
   ]
  },
  {
   "cell_type": "code",
   "execution_count": 26,
   "id": "e52ef34b",
   "metadata": {},
   "outputs": [
    {
     "name": "stdout",
     "output_type": "stream",
     "text": [
      "Resultados para URNX:\n",
      "  - Tiempo total: 0.010354 segundos\n",
      "  - Iteraciones totales: 10000\n",
      "  - Iteraciones promedio: 1.0000\n",
      "  - Distribución de valores:\n",
      "      Valor 0.07: 10.08%\n",
      "      Valor 0.08: 9.95%\n",
      "      Valor 0.09: 30.37%\n",
      "      Valor 0.1: 9.62%\n",
      "      Valor 0.11: 20.33%\n",
      "      Valor 0.12: 9.95%\n",
      "      Valor 0.14: 9.70%\n",
      "--------------------------------------------------\n"
     ]
    }
   ],
   "source": [
    "results_URNX = compare_methods(URNX_method, Nsim=10000)\n",
    "print_results(\"URNX\", results_URNX)"
   ]
  },
  {
   "cell_type": "markdown",
   "id": "100805a3",
   "metadata": {},
   "source": [
    "Resultados 😃\n",
    "| Método              | Tiempo total (s) | Iteraciones totales | Iteraciones promedio |\n",
    "|---------------------|------------------|----------------------|-----------------------|\n",
    "| ITX                 | 0.010495         | 52847                | 5.2847                |\n",
    "| ITX Optimizado      | 0.011288         | 49137                | 4.9137                |\n",
    "| RMX (c = 3)         | 0.019951         | 29887                | 2.9887                |\n",
    "| RMX Optimizado      | 0.014911         | 14112                | 1.4112                |\n",
    "| URNX                | 0.012109         | 10000                | 1.0000                |\n"
   ]
  },
  {
   "cell_type": "markdown",
   "id": "378943fb",
   "metadata": {},
   "source": [
    "---\n",
    "## Ejercicio 5"
   ]
  },
  {
   "cell_type": "markdown",
   "id": "c1398202",
   "metadata": {},
   "source": [
    "Se pide implementar dos métodos para generar una binomial $Bin(n, p)$\n",
    "- Usando transformada inversa\n",
    "- Simulando n ensayos con probabilidad de éxito p y contando el número de éxitos."
   ]
  },
  {
   "cell_type": "markdown",
   "id": "4bd70076",
   "metadata": {},
   "source": [
    "a) Comparar la eficiencia de ambos algoritmos para $n=10$ y $p=0.3$ evaluando el tiempo necesario para realizar 10000 simulaciones."
   ]
  },
  {
   "cell_type": "code",
   "execution_count": 11,
   "id": "088fb0b1",
   "metadata": {},
   "outputs": [],
   "source": [
    "from random import random\n",
    "\n",
    "def ITX_Bin(n:int, p:float) -> tuple:\n",
    "    \"\"\"\n",
    "    Variable aleatoria Binomial con Transformada inversa\n",
    "\n",
    "    Args:\n",
    "        n (int): ensayos\n",
    "        p (float): probabilidad de éxito\n",
    "\n",
    "    Returns:\n",
    "        tuple: número de éxitos alcanzados, número de iteraciones realizadas\n",
    "    \"\"\"\n",
    "    success = 0\n",
    "    c = p / (1 - p)\n",
    "    prob = (1 - p) ** n\n",
    "    F = prob\n",
    "    U = random()\n",
    "    \n",
    "    while U >= F:\n",
    "        prob *= c * (n - success) / (success + 1)\n",
    "        F += prob\n",
    "        success += 1\n",
    "    \n",
    "    return success, success \n",
    "\n",
    "def Method2_Bin(n: int, p: float) -> tuple:\n",
    "    \"\"\"\n",
    "    Variable aleatoria Binomial, utilizando método 2\n",
    "\n",
    "    Args:\n",
    "        n (int): ensayos\n",
    "        p (float): probabilidad de éxito\n",
    "\n",
    "    Returns:\n",
    "        tuple: número de éxitos alcanzados, número de iteraciones alcanzadas\n",
    "    \"\"\"\n",
    "    success = 0\n",
    "    iterations = 0\n",
    "    for _ in range(n):\n",
    "        if random() < p:\n",
    "            success += 1\n",
    "        iterations += 1\n",
    "    \n",
    "    return success, iterations"
   ]
  },
  {
   "cell_type": "markdown",
   "id": "7a2fd56f",
   "metadata": {},
   "source": [
    "`Incluyo parte b)` Estimar el valor con mayor ocurrencia y la proporción de veces que se obtuvieron los valores 0 y 10 respectivamente"
   ]
  },
  {
   "cell_type": "code",
   "execution_count": 7,
   "id": "00a4a309",
   "metadata": {},
   "outputs": [],
   "source": [
    "#Imprimir resultados\n",
    "\n",
    "def print_results(name, results):\n",
    "    print(\"-\" * 50)\n",
    "    print(f\"Resultados para {name}:\")\n",
    "    print(f\"  - Tiempo total: {results['time']:.6f} segundos\")\n",
    "    print(f\"  - Iteraciones totales: {results['total_iter']}\")\n",
    "    print(f\"  - Iteraciones promedio: {results['avg_iter']:.4f}\")\n",
    "    print(f\"  - Distribución de valores:\")\n",
    "    \n",
    "    max_value = None\n",
    "    max_prob = -1\n",
    "\n",
    "    for value, prob in sorted(results['distribution'].items()):\n",
    "        print(f\"      Valor {int(value)}: {prob*100:.2f}%\")\n",
    "        if prob > max_prob:\n",
    "            max_value = int(value)\n",
    "            max_prob = prob\n",
    "    \n",
    "    # Valor más frecuente\n",
    "    print(f\"  - Valor con mayor ocurrencia: {max_value} ({max_prob*100:.2f}%)\")\n",
    "\n",
    "    # Proporciones específicas para 0 y 10\n",
    "    p0 = results['distribution'].get(0, 0)\n",
    "    p10 = results['distribution'].get(10, 0)\n",
    "    print(f\"  - Proporción de veces que se obtuvo 0: {p0*100:.2f}%\")\n",
    "    print(f\"  - Proporción de veces que se obtuvo 10: {p10*100:.2f}%\")\n",
    "    \n",
    "    print(\"-\" * 50)\n"
   ]
  },
  {
   "cell_type": "code",
   "execution_count": 56,
   "id": "33804d3e",
   "metadata": {},
   "outputs": [
    {
     "name": "stdout",
     "output_type": "stream",
     "text": [
      "--------------------------------------------------\n",
      "Resultados para Binomial con transformada inversa::\n",
      "  - Tiempo total: 0.018747 segundos\n",
      "  - Iteraciones totales: 29953\n",
      "  - Iteraciones promedio: 2.9953\n",
      "  - Distribución de valores:\n",
      "      Valor 0: 2.96%\n",
      "      Valor 1: 12.03%\n",
      "      Valor 2: 23.30%\n",
      "      Valor 3: 27.22%\n",
      "      Valor 4: 19.42%\n",
      "      Valor 5: 10.27%\n",
      "      Valor 6: 3.60%\n",
      "      Valor 7: 1.02%\n",
      "      Valor 8: 0.15%\n",
      "      Valor 9: 0.03%\n",
      "  - Valor con mayor ocurrencia: 3 (27.22%)\n",
      "  - Proporción de veces que se obtuvo 0: 2.96%\n",
      "  - Proporción de veces que se obtuvo 10: 0.00%\n",
      "--------------------------------------------------\n"
     ]
    }
   ],
   "source": [
    "results_ITX_Bin = compare_methods(lambda: ITX_Bin(n=10, p=0.3), Nsim=10000)\n",
    "print_results(\"Binomial con transformada inversa:\", results_ITX_Bin)"
   ]
  },
  {
   "cell_type": "code",
   "execution_count": 58,
   "id": "d3ba346e",
   "metadata": {},
   "outputs": [
    {
     "name": "stdout",
     "output_type": "stream",
     "text": [
      "--------------------------------------------------\n",
      "Resultados para Binomial 'Directo'::\n",
      "  - Tiempo total: 0.016476 segundos\n",
      "  - Iteraciones totales: 100000\n",
      "  - Iteraciones promedio: 10.0000\n",
      "  - Distribución de valores:\n",
      "      Valor 0: 2.68%\n",
      "      Valor 1: 11.73%\n",
      "      Valor 2: 23.73%\n",
      "      Valor 3: 26.62%\n",
      "      Valor 4: 20.32%\n",
      "      Valor 5: 10.25%\n",
      "      Valor 6: 3.42%\n",
      "      Valor 7: 0.99%\n",
      "      Valor 8: 0.24%\n",
      "      Valor 9: 0.02%\n",
      "  - Valor con mayor ocurrencia: 3 (26.62%)\n",
      "  - Proporción de veces que se obtuvo 0: 2.68%\n",
      "  - Proporción de veces que se obtuvo 10: 0.00%\n",
      "--------------------------------------------------\n"
     ]
    }
   ],
   "source": [
    "# Usando lambda correctamente\n",
    "results_Method2_Bin = compare_methods(lambda: Method2_Bin(n=10, p=0.3), Nsim=10000)\n",
    "print_results(\"Binomial 'Directo':\", results_Method2_Bin)"
   ]
  },
  {
   "cell_type": "markdown",
   "id": "b0d9cbcb",
   "metadata": {},
   "source": [
    "| Método                          | Tiempo total (s) | Iteraciones totales | Iteraciones promedio | Valor más frecuente (proporción) | Proporción 0 (%) | Proporción 10 (%) |\n",
    "|:--------------------------------|:-----------------|:--------------------|:---------------------|:-------------------------------|:----------------|:-----------------|\n",
    "| Binomial 'Directo'              | 0.016476          | 100,000              | 10.0000               | 3 (26.62%)                     | 2.68%           | 0.00%             |\n",
    "| Binomial con transformada inversa | 0.018747          | 29,953               | 2.9953                | 3 (27.22%)                     | 2.96%           | 0.00%             |\n",
    "\n",
    "\n",
    "Se puede concluir que la generación de una variable aleatoria con distribución binomial resulta más eficiente mediante el método de la transformada inversa que utilizando el método directo basado en el conteo de éxitos. Aunque ambos métodos reproducen correctamente la distribución teórica (ver dem en el siguiente bloque), la transformada inversa presenta una menor cantidad de iteraciones en promedio, lo cual implica una ejecución más liviana desde el punto de vista computacional."
   ]
  },
  {
   "cell_type": "markdown",
   "id": "bef2f8c0",
   "metadata": {},
   "source": [
    "**Chequeo con valores teóricos:**\n",
    "\n",
    "Tenemos que $P(X = k) = \\binom{n}{k} p^k (1-p)^{n-k}$ es tal que X tiene distribución binomial."
   ]
  },
  {
   "cell_type": "code",
   "execution_count": null,
   "id": "0a084a4d",
   "metadata": {},
   "outputs": [
    {
     "name": "stdout",
     "output_type": "stream",
     "text": [
      "P(X = 0) = 2.8248 %\n",
      "P(X = 1) = 12.1061 %\n",
      "P(X = 2) = 23.3474 %\n",
      "P(X = 3) = 26.6828 %\n",
      "P(X = 4) = 20.0121 %\n",
      "P(X = 5) = 10.2919 %\n",
      "P(X = 6) = 3.6757 %\n",
      "P(X = 7) = 0.9002 %\n",
      "P(X = 8) = 0.1447 %\n",
      "P(X = 9) = 0.0138 %\n",
      "P(X = 10) = 0.0006 %\n"
     ]
    }
   ],
   "source": [
    "#Resultados teóricos\n",
    "from scipy.stats import binom\n",
    "\n",
    "n = 10\n",
    "p = 0.3\n",
    "\n",
    "prob_teoricas = [binom.pmf(k, n, p) for k in range(n+1)]\n",
    "\n",
    "for k, prob in enumerate(prob_teoricas):\n",
    "    print(f\"P(X = {k}) = {prob*100:.4f} %\")"
   ]
  },
  {
   "cell_type": "code",
   "execution_count": null,
   "id": "d73a2eb3",
   "metadata": {},
   "outputs": [
    {
     "data": {
      "image/png": "[encoded data removed]",
      "text/plain": [
       "<Figure size 1000x600 with 1 Axes>"
      ]
     },
     "metadata": {},
     "output_type": "display_data"
    }
   ],
   "source": [
    "#Gráfico\n",
    "import numpy as np\n",
    "import matplotlib.pyplot as plt\n",
    "\n",
    "n = 10\n",
    "\n",
    "x = np.arange(0, n+1) #Posibles valores\n",
    "\n",
    "probs_simuladas = np.zeros(n+1) #Relleno posiciones con zeros\n",
    "\n",
    "for valor, freq in results_ITX_Bin['distribution'].items():\n",
    "    probs_simuladas[int(valor)] = freq\n",
    "\n",
    "plt.figure(figsize=(10, 6))\n",
    "plt.bar(x - 0.2, prob_teoricas, width=0.4, label='Teórico', color='skyblue')\n",
    "plt.bar(x + 0.2, probs_simuladas, width=0.4, label='Simulado', color='salmon')\n",
    "plt.xlabel('Número de éxitos')\n",
    "plt.ylabel('Probabilidad')\n",
    "plt.title('Comparación entre distribución teórica y simulada')\n",
    "plt.xticks(x)\n",
    "plt.legend()\n",
    "plt.grid(axis='y', linestyle='--', alpha=0.7)\n",
    "plt.show()"
   ]
  },
  {
   "cell_type": "markdown",
   "id": "16ccb018",
   "metadata": {},
   "source": [
    "Tushé 🫵😎"
   ]
  },
  {
   "cell_type": "markdown",
   "id": "0ab08769",
   "metadata": {},
   "source": [
    "---\n",
    "## Ejercicio 6"
   ]
  },
  {
   "cell_type": "code",
   "execution_count": 1,
   "id": "0800945e",
   "metadata": {},
   "outputs": [],
   "source": [
    "#Método de la transformada inversa optimizado\n",
    "from random import random\n",
    "problem_probs = [0.35, 0.20, 0.20, 0.15, 0.10]\n",
    "opt_cum_probs = [0.35, 0.55, 0.75, 0.90, 1.0]\n",
    "opt_values = [3, 1, 4, 0, 1]\n",
    "\n",
    "def ITX_optimized() -> tuple:\n",
    "    \"\"\"\n",
    "    Versión optimizada de ITX() con condiciones ordenadas por prob. descendente\n",
    "\n",
    "    Returns:\n",
    "        tuple: (Número entre 0 y 4, iteraciones hasta salir)\n",
    "    \"\"\"\n",
    "    U = random()\n",
    "    iterations = 0\n",
    "    for i in range(5):\n",
    "        iterations += 1\n",
    "        if U < opt_cum_probs[i]:\n",
    "            return opt_values[i], iterations\n",
    "    return 1, iterations"
   ]
  },
  {
   "cell_type": "code",
   "execution_count": null,
   "id": "f03bf126",
   "metadata": {},
   "outputs": [],
   "source": [
    "from scipy.stats import binom\n",
    "#Método de aceptación y rechazo con una variable binomial de soporte\n",
    "\n",
    "def RMX_Bin(n:int, p:float)-> tuple:\n",
    "    \"\"\"\n",
    "    Método de rechazo\n",
    "\n",
    "    Returns:\n",
    "        int: Número aleatorio entre 0 y 4\n",
    "    \"\"\"\n",
    "    iterations = 0\n",
    "    while True:\n",
    "        iterations += 1\n",
    "        #Simulo Y\n",
    "        y = ITX_Bin(n=n, p=p)[0] \n",
    "        q_Y = binom.pmf(y, n, p)\n",
    "        c = max(problem_probs)/q_Y\n",
    "        U = random()\n",
    "        if U < problem_probs[y-1] / (c * q_Y): #Definimos q_Y = 0.1 para todo j\n",
    "            return y, iterations"
   ]
  },
  {
   "cell_type": "code",
   "execution_count": 16,
   "id": "58be64b5",
   "metadata": {},
   "outputs": [],
   "source": [
    "#Imprimir resultados\n",
    "\n",
    "def print_results(name, results):\n",
    "    print(\"-\" * 50)\n",
    "    print(f\"Resultados para {name}:\")\n",
    "    print(f\"  - Tiempo total: {results['time']:.6f} segundos\")\n",
    "    print(f\"  - Iteraciones totales: {results['total_iter']}\")\n",
    "    print(f\"  - Iteraciones promedio: {results['avg_iter']:.4f}\")\n",
    "    print(\"-\" * 50)\n"
   ]
  },
  {
   "cell_type": "code",
   "execution_count": 19,
   "id": "35fda902",
   "metadata": {},
   "outputs": [
    {
     "name": "stdout",
     "output_type": "stream",
     "text": [
      "--------------------------------------------------\n",
      "Resultados para Transformada inversa optimizada::\n",
      "  - Tiempo total: 0.006002 segundos\n",
      "  - Iteraciones totales: 24256\n",
      "  - Iteraciones promedio: 2.4256\n",
      "--------------------------------------------------\n"
     ]
    }
   ],
   "source": [
    "results_ITX_OPT = compare_methods(lambda: ITX_optimized(), Nsim=10000)\n",
    "#Imprimir resultados\n",
    "print_results(\"Transformada inversa optimizada:\", results_ITX_OPT)"
   ]
  },
  {
   "cell_type": "code",
   "execution_count": 20,
   "id": "4bc5ad13",
   "metadata": {},
   "outputs": [
    {
     "name": "stdout",
     "output_type": "stream",
     "text": [
      "--------------------------------------------------\n",
      "Resultados para Rechazo con Binomial::\n",
      "  - Tiempo total: 1.157073 segundos\n",
      "  - Iteraciones totales: 15928\n",
      "  - Iteraciones promedio: 1.5928\n",
      "--------------------------------------------------\n"
     ]
    }
   ],
   "source": [
    "results_ITX_Bin = compare_methods(lambda: RMX_Bin(n=5, p=0.45), Nsim=10000)\n",
    "#Imprimir resultados\n",
    "print_results(\"Rechazo con Binomial:\", results_ITX_Bin)"
   ]
  },
  {
   "cell_type": "markdown",
   "id": "ddb795af",
   "metadata": {},
   "source": [
    "Resultados 😃\n",
    "| Método              | Tiempo total (s) | Iteraciones totales | Iteraciones promedio |\n",
    "|---------------------|------------------|----------------------|-----------------------|\n",
    "| ITX Optimizado      | 0.006002         | 24256                | 2.4256                |\n",
    "| RMX BINOMIAL con C ÓPTIMO        | 1.157073         | 15928                | 1.5928                |\n"
   ]
  }
 ],
 "metadata": {
  "kernelspec": {
   "display_name": "venv",
   "language": "python",
   "name": "python3"
  },
  "language_info": {
   "codemirror_mode": {
    "name": "ipython",
    "version": 3
   },
   "file_extension": ".py",
   "mimetype": "text/x-python",
   "name": "python",
   "nbconvert_exporter": "python",
   "pygments_lexer": "ipython3",
   "version": "3.12.3"
  }
 },
 "nbformat": 4,
 "nbformat_minor": 5
}
