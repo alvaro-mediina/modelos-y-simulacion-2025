{
 "cells": [
  {
   "cell_type": "markdown",
   "id": "ae5a02c4",
   "metadata": {},
   "source": [
    "---\n",
    "## Ejercicio 3\n",
    "\n",
    "Algoritmo\n",
    "1. Se lanzan simultáneamente un par de dados legales.\n",
    "2. Se anota la suma de ambos\n",
    "3. Repetir hasta haber logrado todos los resultados ${2,3,...,12}$ al menos una vez\n"
   ]
  },
  {
   "cell_type": "code",
   "execution_count": null,
   "id": "fdf5de40",
   "metadata": {},
   "outputs": [],
   "source": [
    "#Utilizando randint\n",
    "from random import randint\n",
    "\n",
    "def dice_simulation() -> int:\n",
    "    iterations = 0\n",
    "    numbers = set()\n",
    "    while not len(numbers) == 11:\n",
    "        dice_sum = randint(1,6) + randint(1,6)\n",
    "        iterations+=1\n",
    "        if not (dice_sum in numbers):\n",
    "            numbers.add(dice_sum)\n",
    "\n",
    "    return iterations\n"
   ]
  },
  {
   "cell_type": "code",
   "execution_count": null,
   "id": "89976c8f",
   "metadata": {},
   "outputs": [],
   "source": [
    "#Utilizando métodos de generar números aleatorios\n",
    "from utils import Utils\n",
    "\n",
    "def rustic_dice_simulation() -> int:\n",
    "    iterations = 0\n",
    "    numbers = set()\n",
    "    while not len(numbers) == 11:\n",
    "        dice_sum = Utils.numbers_between_a_b(a=1,b=6) + Utils.numbers_between_a_b(a=1,b=6)\n",
    "        iterations+=1\n",
    "        if not (dice_sum in numbers):\n",
    "            numbers.add(dice_sum)\n",
    "    return iterations"
   ]
  },
  {
   "cell_type": "code",
   "execution_count": null,
   "id": "4f18e227",
   "metadata": {},
   "outputs": [
    {
     "name": "stdout",
     "output_type": "stream",
     "text": [
      "LANZAMIENTOS REALIZADOS: 37\n"
     ]
    }
   ],
   "source": [
    "print(f\"LANZAMIENTOS REALIZADOS: {rustic_dice_simulation()}\")"
   ]
  },
  {
   "cell_type": "markdown",
   "id": "7860003f",
   "metadata": {},
   "source": [
    "b) Estimación del `valor medio` y de la `desviación estándar` del número de lanzamientos"
   ]
  },
  {
   "cell_type": "code",
   "execution_count": null,
   "id": "2574617b",
   "metadata": {},
   "outputs": [
    {
     "name": "stdout",
     "output_type": "stream",
     "text": [
      "--------VALOR MEDIO--------\n",
      "N:100     E[X]:58.7400\n",
      "N:1000    E[X]:61.4540\n",
      "N:10000   E[X]:60.8039\n",
      "N:100000  E[X]:61.1195\n",
      "\n",
      "--------DESVIACION E--------\n",
      "N:100     σ[X]:31.4393\n",
      "N:1000    σ[X]:37.9364\n",
      "N:10000   σ[X]:35.3398\n",
      "N:100000  σ[X]:35.9156\n"
     ]
    }
   ],
   "source": [
    "from utils import Utils\n",
    "import matplotlib.pyplot as plt \n",
    "\n",
    "rolls = []\n",
    "\n",
    "for N in [100, 1000, 10000, 100000]:\n",
    "    iteration_roll = []\n",
    "    for _ in range(N):\n",
    "        iteration_roll.append(rustic_dice_simulation())\n",
    "    rolls.append(iteration_roll)\n",
    "\n",
    "means = [Utils.mean_value(iteration_list) for iteration_list in rolls]\n",
    "deviations = [Utils.standar_deviation(iteration_list) for iteration_list in rolls]\n",
    "\n",
    "print(\"-\"*8+\"VALOR MEDIO\"+\"-\"*8)\n",
    "for N, mean in zip([100, 1000, 10000, 100000], means):\n",
    "    print(f\"N:{N:<7d} E[X]:{mean:.4f}\")\n",
    "\n",
    "\n",
    "print(\"\\n\"+\"-\"*8+\"DESVIACION E\"+\"-\"*8)\n",
    "for N, deviation in zip([100, 1000, 10000, 100000], deviations):\n",
    "    print(f\"N:{N:<7d} σ[X]:{deviation:.4f}\")\n"
   ]
  },
  {
   "cell_type": "markdown",
   "id": "5a313394",
   "metadata": {},
   "source": [
    "Además se pide estimar:\n",
    "-  $P(N>=15)$\n",
    "-  $P(N<=9)$\n",
    "\n",
    "Repitiendo el algoritmo para 100, 1000, 10000 y 100000"
   ]
  },
  {
   "cell_type": "code",
   "execution_count": null,
   "id": "f9fdc6a5",
   "metadata": {},
   "outputs": [],
   "source": [
    "#Simulación de probabilidad\n",
    "def probability_simulation(Nsim:int) -> tuple[float]:\n",
    "    \"\"\"\n",
    "    Simulación de la probabilidad de:\n",
    "    1. P(N >= 15)\n",
    "    2. P(N <= 9)\n",
    "\n",
    "    Args:\n",
    "        Nsim (int): Número de simulaciones\n",
    "\n",
    "    Returns:\n",
    "        tuple[float]: Primer coordenada para la primer probabilidad, la segunda para la segunda.\n",
    "    \"\"\"\n",
    "    probability_1:float = 0\n",
    "    probability_2:float = 0\n",
    "    for _ in range(Nsim):\n",
    "        if rustic_dice_simulation() >= 15:\n",
    "            probability_1 += 1\n",
    "        if rustic_dice_simulation() <= 9:\n",
    "            probability_2 +=1\n",
    "\n",
    "    return (probability_1 / Nsim, probability_2 / Nsim)"
   ]
  },
  {
   "cell_type": "code",
   "execution_count": null,
   "id": "c4e4c388",
   "metadata": {},
   "outputs": [
    {
     "name": "stdout",
     "output_type": "stream",
     "text": [
      "\n",
      "--------------------ESTIMACIÓN N--------------------\n",
      "N:100     P(N >= 15) ≈ 1.000000  P(N <= 9) ≈ 0.000000\n",
      "N:1000    P(N >= 15) ≈ 1.000000  P(N <= 9) ≈ 0.000000\n",
      "N:10000   P(N >= 15) ≈ 0.998800  P(N <= 9) ≈ 0.000000\n",
      "N:100000  P(N >= 15) ≈ 0.998620  P(N <= 9) ≈ 0.000000\n"
     ]
    }
   ],
   "source": [
    "print(\"\\n\"+\"-\"*20+\"ESTIMACIÓN N\"+\"-\"*20)\n",
    "for N  in [100, 1000, 10000, 100000]:\n",
    "    result = probability_simulation(Nsim=N)\n",
    "    print(f\"N:{N:<7d} P(N >= 15) ≈ {result[0]:>4f}  P(N <= 9) ≈ {result[1]:>4f}\")"
   ]
  }
 ],
 "metadata": {
  "language_info": {
   "name": "python"
  }
 },
 "nbformat": 4,
 "nbformat_minor": 5
}
