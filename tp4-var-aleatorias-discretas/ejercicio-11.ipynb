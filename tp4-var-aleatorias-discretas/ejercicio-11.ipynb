{
 "cells": [
  {
   "cell_type": "markdown",
   "id": "a863d2bf",
   "metadata": {},
   "source": [
    "---\n",
    "## Ejercicio 11"
   ]
  },
  {
   "cell_type": "markdown",
   "id": "c8abc60d",
   "metadata": {},
   "source": [
    "Sea X una variable aleatoria cuya distribución de probabilidad es P(X = j) = pj con j =\n",
    "1,2,.... Sea:"
   ]
  },
  {
   "cell_type": "markdown",
   "id": "c9affb16",
   "metadata": {},
   "source": [
    "$$\n",
    "\\begin{equation*}\n",
    "\\lambda_n = P(X=n|X>n-1)= \\frac{p_n}{1-\\sum_{j=1}^{n-1}p_j} \\text{, n=1,2,\\ldots  }\n",
    "\\end{equation*}\n",
    "$$\n",
    "Las cantidades $\\lambda_n$, son las tasas discretas de riesgo. Considerando a $X$ como el tiempo (discreto) de vida de algún artículo, $\\lambda_n$ representa la probabilidad de que habiendo funcionado correctamente hasta el tiempo $n−1$, se rompa en el tiempo $n$\n",
    "\n",
    "\n",
    "**a)** Muestre que $p_1=\\lambda_1$ y que \n",
    "$$\n",
    "\\begin{equation}\n",
    "p_n = (1-\\lambda_1)(1-\\lambda_2) \\ldots (1-\\lambda_{n-1})\\lambda_n\n",
    "\\end{equation}\n",
    "$$\n",
    "Método de la tasa discreta de riesgo para simular variables aleatorias discretas: Se genera una sucesión de números aleatorios que termina cuando el n-ésimo número generado es menor que $\\lambda_n$. El algoritmo puede escribirse como sigue:\n",
    "\n",
    "*Paso 1: \\( X = 1 \\)*\n",
    "\n",
    "*Paso 2: Generar \\( U \\)*\n",
    "\n",
    "*Paso 3: Si \\( U < \\lambda_x \\), terminar*\n",
    "\n",
    "*Paso 4: \\( X = X + 1 \\)*\n",
    "\n",
    "*Paso 5: Ir a Paso 2*"
   ]
  },
  {
   "cell_type": "markdown",
   "id": "2c43a36c",
   "metadata": {},
   "source": [
    "### Desarrollo"
   ]
  },
  {
   "cell_type": "markdown",
   "id": "6d366182",
   "metadata": {},
   "source": [
    "Para resolver el ejercicio aplico el *Principio de Inducción*. Para $n=1$, notemos que:\n",
    "$$\n",
    "p_1 = P(X=1) = P(X=1, X>0) = P(X=1 | X>0) \\cdot P(X>0)\\\\[.5cm]\n",
    "$$\n",
    "\n",
    "Como $P(X>0) = 1 \\implies p_1 = P(X=1 | X>0) = \\lambda_1\\\\[.5cm]$\n",
    "\n",
    "Para $n=2$, de manera análoga vemos que\n",
    "\n",
    "$$\n",
    "\\begin{align*}\n",
    "p_2 &= P(X=2)\\\\\n",
    "    &= P(X=2, X>1)\\\\\n",
    "    &= P(X=2|X>1) \\cdot P(X>1)\\\\\n",
    "    &= \\lambda_2 \\cdot (1- P(X\\leqslant1))\\\\\n",
    "    &= \\lambda_2 \\cdot (1- P(X=1))\\\\\n",
    "    &= \\lambda_2 \\cdot (1-p_1)\\\\\n",
    "\\end{align*}\n",
    "$$\n",
    "\n",
    "Dado que $p_1 = \\lambda_1 \\implies p_2= \\lambda_2 \\cdot (1-\\lambda_1)\\\\[.5cm]$ \n",
    "\n",
    "Supongamos ahora que $(1)$ se cumple para cierto $n \\in \\mathbb{N}$\n",
    "\n",
    "Entonces, para $p_{n+1}$ tenemos que:\n",
    "$$\n",
    "\\begin{align}\n",
    "    p_{n+1} &= P(X=n+1) = P(X=n+1 | X > n) \\cdot P(X>n) \\notag\\\\\n",
    "            &= \\lambda_{n+1} \\cdot (1-\\sum_{j=0}^n p_n) \\notag\\\\\n",
    "            &= \\lambda_{n+1} \\cdot (1- p_1-p_2-\\ldots-p_n) \\tag{2}\n",
    "\\end{align}\n",
    "$$\n",
    "\n",
    "Ahora por hipótesis inductiva tenemos que:\n",
    "$$\n",
    "p_n = (1-\\lambda_1)(1-\\lambda_2) \\ldots (1-\\lambda_n-1) \\cdot \\lambda_n \\tag{3}\n",
    "$$\n",
    "\n",
    "Pero por definición también es cierto que:\n",
    "$$\n",
    "p_n = P(X=n|X>n-1)\\cdot P(X>n-1) = \\lambda_n \\cdot (1-p_1-p_2\\ldots-p_{n-1}) \\tag{4}\n",
    "$$\n",
    "\n",
    "Luego por $(3)\\text{ y }(4)$ resulta que:\n",
    "$$\n",
    "    (1-\\lambda_1)(1-\\lambda_2) \\ldots (1-\\lambda_{n-1})  = (1-p_1-p_2\\ldots-p_{n-1}) \\tag{5}\n",
    "$$\n",
    "\n",
    "Volviendo a $(2)$ tenemos que:\n",
    "$$\n",
    "\\begin{align}\n",
    "    p_{n+1} &= (1-p_1-p_2-\\ldots-p_n) \\cdot \\lambda_{n+1} \\notag\\\\\n",
    "            &= (1-p_1-p_2-\\ldots-p_{n-1}) \\cdot \\lambda_{n+1} - p_n \\cdot \\lambda_{n+1} \\notag\\\\\n",
    "            &= (1-\\lambda_1)(1-\\lambda_2) \\ldots (1-\\lambda_{n-1}) - p_n \\cdot \\lambda_{n+1} \\tag{5}\\\\\n",
    "            &= (1-\\lambda_1)(1-\\lambda_2) \\ldots (1-\\lambda_{n-1}) - (1-\\lambda_1)(1-\\lambda_2) \\ldots (1-\\lambda_{n-1}) \\cdot \\lambda_n \\cdot \\lambda_{n+1} \\tag{HI}\\\\\n",
    "            &= (1-\\lambda_1)(1-\\lambda_2) \\ldots (1-\\lambda_{n-1}) \\cdot (1-\\lambda_n) \\cdot \\lambda_{n+1} \n",
    "\\end{align}\n",
    "$$\n",
    "\n",
    "Por lo tanto, para todo $n \\geq 1$ se cumple que:\n",
    "$$\n",
    "p_n = (1-\\lambda_1)(1-\\lambda_2) \\ldots (1-\\lambda_{n-1})\\lambda_n\n",
    "$$\n",
    "\n",
    "\n",
    "\n"
   ]
  },
  {
   "cell_type": "code",
   "execution_count": 2,
   "id": "fb50585e",
   "metadata": {},
   "outputs": [],
   "source": [
    "#@title Importaciones\n",
    "from random import random"
   ]
  },
  {
   "cell_type": "code",
   "execution_count": 3,
   "id": "b5b4d62b",
   "metadata": {},
   "outputs": [],
   "source": [
    "#@title algoritmo de tasa de riesgo\n",
    "def discrete_rateX(p,**kwargs):\n",
    "    \"\"\"\n",
    "    Metodo de la tasa discreta\n",
    "    \"\"\"\n",
    "    k = 1\n",
    "    sum = 1\n",
    "    l = 1\n",
    "    while True:\n",
    "        u = random()\n",
    "        if k == 1:\n",
    "            pass\n",
    "        else:\n",
    "            sum -= p(x=k-1,**kwargs)\n",
    "            # sum -= l*sum\n",
    "        l = p(x=k,**kwargs)/sum\n",
    "        if u < l:\n",
    "            return k\n",
    "        k += 1"
   ]
  },
  {
   "cell_type": "markdown",
   "id": "9952150a",
   "metadata": {},
   "source": [
    "**b)** Muestre que los valores de X que genera este proceso tienen la distribución de probabilidad deseada."
   ]
  },
  {
   "cell_type": "markdown",
   "id": "fd9ff9d9",
   "metadata": {},
   "source": [
    "Supongamos que $X$ genera al valor $n$, es decir, que para cada $i < n$ se generó un valor $u_i$ aleatorio en $U(0,1)$ que cumplieron $u_i \\geq \\lambda_i$ pero el n-ésimo generado cumplió $u_n < \\lambda_n$ i.e:\n",
    "\n",
    "$$\n",
    "\\begin{align*}\n",
    "P(X = n)&= P(u_1 \\geq \\lambda_1, u_2 \\geq \\lambda_2, \\ldots, u_{n-1} \\geq \\lambda_{n-1}, u_n < \\lambda_n )\\\\\n",
    "        &= \\prod_{i=1}^{n-1} P(u_i > \\lambda_i) \\cdot P(u_n < \\lambda_n) \\\\\n",
    "        &= \\prod_{i=1}^{n-1} (1-\\lambda_i) \\cdot \\lambda_n\\\\\n",
    "        &= p_n\n",
    "\n",
    "\\end{align*}\n",
    "$$"
   ]
  },
  {
   "cell_type": "markdown",
   "id": "109c64e9",
   "metadata": {},
   "source": [
    "**c)**\n",
    "\n",
    "\n",
    "Suponga que \\( X \\) es una variable aleatoria geométrica con parámetro \\( p \\):\n",
    "\n",
    "$$\n",
    "P(X=n) = p (1-p)^{n-1}, \\quad n \\geq 1.\n",
    "$$\n",
    "\n",
    "Determine los valores de $\\lambda_n$, $ n \\geq 1 $. Explique cómo funciona el algoritmo anterior en este caso y por qué es evidente su validez.\n",
    "\n",
    "La acumulada es $P(X \\leq n) = 1 - (1 - p)^n $, por lo tanto:\n",
    "\n",
    "$$\n",
    "P(X > n-1) = 1 - P(X \\leq n-1) = 1 - \\left(1 - (1 - p)^{n-1}\\right) = (1 - p)^{n-1}\n",
    "$$\n",
    "\n",
    "Entonces:\n",
    "\n",
    "$$\n",
    "\\lambda_n = \\frac{p(1 - p)^{n - 1}}{(1 - p)^{n - 1}} = p\n",
    "$$"
   ]
  },
  {
   "cell_type": "code",
   "execution_count": null,
   "id": "7c7c6610",
   "metadata": {},
   "outputs": [],
   "source": [
    "def geom_tasa_discreta(pr):\n",
    "    \"\"\"\n",
    "    Metodo de la tasa discreta para una variable geometrica\n",
    "    \"\"\"\n",
    "\n",
    "    k = 1\n",
    "    while True:\n",
    "        u = random.random()\n",
    "        if u < pr:\n",
    "            return k\n",
    "        k += 1"
   ]
  },
  {
   "cell_type": "markdown",
   "id": "35b83d5c",
   "metadata": {},
   "source": []
  }
 ],
 "metadata": {
  "kernelspec": {
   "display_name": "venv",
   "language": "python",
   "name": "python3"
  },
  "language_info": {
   "codemirror_mode": {
    "name": "ipython",
    "version": 3
   },
   "file_extension": ".py",
   "mimetype": "text/x-python",
   "name": "python",
   "nbconvert_exporter": "python",
   "pygments_lexer": "ipython3",
   "version": "3.12.3"
  }
 },
 "nbformat": 4,
 "nbformat_minor": 5
}
