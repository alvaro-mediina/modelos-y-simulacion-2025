{
 "cells": [
  {
   "cell_type": "markdown",
   "id": "05424f57",
   "metadata": {},
   "source": [
    "---\n",
    "## Ejercicio 4\n",
    "\n",
    "Se pide implementar cuatro métodos para generar una variable $X$ que toma valores en $[1,10]$ con probabilidades:\n",
    "- $p_1=0.11$\n",
    "- $p_2=0.14$\n",
    "- $p_3=0.09$\n",
    "- $p_4=0.08$\n",
    "- $p_5=0.12$\n",
    "- $p_6=0.10$\n",
    "- $p_7=0.09$\n",
    "- $p_8=0.07$\n",
    "- $p_9=0.11$\n",
    "- $p_{10}=0.09$\n",
    "\n",
    "Utilizando:\n",
    "- `Método de rechazo` con una uniforme discreta, buscando la cota c más baja posible\n",
    "\n",
    "- `Método de rechazo` con una uniforme discreta, usando $c=3$\n",
    "\n",
    "- `Transformada inversa`\n",
    "\n",
    "- `Método de la urna` utilizar un arreglo A de tamaño 100 donde cada valor i está en exactamente $p_i*100$ posiciones. El método debe devolver **A[k]** con probabilidad $0.01$ ¿Por qué funciona?"
   ]
  },
  {
   "cell_type": "code",
   "execution_count": null,
   "id": "779217f7",
   "metadata": {},
   "outputs": [],
   "source": [
    "# Valores globales\n",
    "probabilities = [\n",
    "    0.11, 0.14, 0.09, #p_1, p_2, p_3\n",
    "    0.08, 0.12, 0.10, #p_3, p_5, p_6\n",
    "    0.09, 0.07, 0.11, #p_7, p_8, p_9\n",
    "    0.09              #p_10\n",
    "    ]\n",
    "\n",
    "#Método de aceptación y rechazo para C=3\n",
    "q_Y = 0.1"
   ]
  },
  {
   "cell_type": "code",
   "execution_count": null,
   "id": "66530ebc",
   "metadata": {},
   "outputs": [],
   "source": [
    "# Método de la transformada inversa\n",
    "from random import random\n",
    "\n",
    "cum_probs = [0.11, 0.25, 0.34, 0.42, 0.54, 0.64, 0.73, 0.80, 0.91, 1.0]\n",
    "\n",
    "def ITX() -> tuple:\n",
    "    \"\"\"\n",
    "    Generación de variable aleatoria por medio del método de la transformada\n",
    "    inversa\n",
    "\n",
    "    Returns:\n",
    "        int: Número aleatorio entre 1 al 10.\n",
    "    \"\"\"\n",
    "    U = random()\n",
    "    iterations = 0\n",
    "    for i in range(len(cum_probs)):\n",
    "        iterations += 1\n",
    "        if U < cum_probs[i]:\n",
    "            return i+1, iterations\n",
    "    return len(cum_probs), iterations"
   ]
  },
  {
   "cell_type": "code",
   "execution_count": null,
   "id": "8404de42",
   "metadata": {},
   "outputs": [],
   "source": [
    "#Método de la transformada inversa optimizado\n",
    "from random import random\n",
    "\n",
    "opt_cum_probs = [0.14, 0.26, 0.37, 0.48, 0.58, 0.67, 0.76, 0.85, 0.93, 1.0]\n",
    "opt_values = [2, 5, 1, 9, 6, 3, 7, 10, 4, 8]\n",
    "\n",
    "def ITX_optimized() -> tuple:\n",
    "    \"\"\"\n",
    "    Versión optimizada de ITX() con condiciones ordenadas por prob. descendente\n",
    "\n",
    "    Returns:\n",
    "        tuple: (Número entre 1 y 10, iteraciones hasta salir)\n",
    "    \"\"\"\n",
    "    U = random()\n",
    "    iterations = 0\n",
    "    for i in range(10):\n",
    "        iterations += 1\n",
    "        if U < opt_cum_probs[i]:\n",
    "            return opt_values[i], iterations\n",
    "    return 8, iterations\n"
   ]
  },
  {
   "cell_type": "markdown",
   "id": "a1adb3ee",
   "metadata": {},
   "source": [
    "Para los dos casos anteriores:\n",
    "$$\n",
    "E [ \\#Comparaciones ] = \\sum_{i=1}^{10} (\\text{Número de comparaciones para }X=i) \\cdot P(X=i)\n",
    "$$"
   ]
  },
  {
   "cell_type": "code",
   "execution_count": null,
   "id": "05506f11",
   "metadata": {},
   "outputs": [],
   "source": [
    "#Método de aceptación y rechazo con C = 3\n",
    "from random import random\n",
    "\n",
    "def Y_random_variable() -> int:\n",
    "    \"\"\"\n",
    "    Generación de una variable aleatoria que toma los mismos valores\n",
    "    que X a través del método de transformada inversa\n",
    "\n",
    "    Returns:\n",
    "        int: Número entre 1 y 10\n",
    "    \"\"\"\n",
    "    U = random()\n",
    "    if U < 0.10:     # P(Y=1) = 0.10\n",
    "        return 1\n",
    "    elif U < 0.20:   # P(Y=2) = 0.10 -> 0.10 + p_1\n",
    "        return 2\n",
    "    elif U < 0.30:   # P(Y=3) = 0.10 -> 0.10 + p_2\n",
    "        return 3\n",
    "    elif U < 0.40:   # P(Y=4) = 0.10 -> 0.10 + p_3\n",
    "        return 4\n",
    "    elif U < 0.50:   # P(Y=5) = 0.10 -> 0.10 + p_4\n",
    "        return 5\n",
    "    elif U < 0.60:   # P(Y=6) = 0.10 -> 0.10 + p_5\n",
    "        return 6\n",
    "    elif U < 0.70:   # P(Y=7) = 0.10 -> 0.10 + p_6\n",
    "        return 7\n",
    "    elif U < 0.80:   # P(Y=8) = 0.10 -> 0.10 + p_7\n",
    "        return 8\n",
    "    elif U < 0.90:   # P(Y=9) = 0.10 -> 0.10 + p_8\n",
    "        return 9\n",
    "    else:            # P(Y=10) = 0.10 -> 0.10 + p_9\n",
    "        return 10\n",
    "        \n",
    "\n",
    "def RMX(c:int)-> tuple:\n",
    "    \"\"\"\n",
    "    Método de rechazo\n",
    "\n",
    "    Args:\n",
    "        c (int): Cota del método\n",
    "\n",
    "    Returns:\n",
    "        int: Número aleatorio entre 1 y 10\n",
    "    \"\"\"\n",
    "    iterations = 0\n",
    "    #Simulo Y\n",
    "    while True:\n",
    "        iterations += 1\n",
    "        Y = Y_random_variable()\n",
    "        U = random()\n",
    "        if U < probabilities[Y-1] / (c * q_Y): #Definimos q_Y = 0.1 para todo j\n",
    "            return Y, iterations"
   ]
  },
  {
   "cell_type": "markdown",
   "id": "7ac31e25",
   "metadata": {},
   "source": [
    "Ahora para encontrar la cota $c$ más baja posible debo encontrar un $c$ tal que $p_j \\leq c\\cdot q_j\\text{ ,}\\forall j \\geqslant 1  \\\\$\n",
    "\n",
    "Como $q_j=0.1$ por la definición de $Y$ tal que $Y \\text{ v.a que para cualquier entrada devuelve 0.1,}$\n",
    "\n",
    "$q_j = 0.1 \\text{ }\\forall j \\Rightarrow p_j \\geqslant c\\cdot 0.1 \\Longleftrightarrow \\frac{p_j}{0.1} \\geqslant c$\n",
    "\n",
    "$\\text{Ahora }p_j\\text{ como mucho es 0.14 por los datos} \\Rightarrow \\frac{0.14}{0.1} = \\frac{7}{5}\\geqslant c$\n",
    "\n",
    "$\\text{Luego c puede ser más grande pero la cota más ajustada que satisface } p_j \\geqslant c\\cdot 0.1 \\text{ es } c=\\frac{7}{5}$\n",
    "\n"
   ]
  },
  {
   "cell_type": "code",
   "execution_count": null,
   "id": "5d26fbd1",
   "metadata": {},
   "outputs": [],
   "source": [
    "#Método de aceptación y rechazo con la cota más baja posible\n",
    "c_adjusted = 7/5"
   ]
  },
  {
   "cell_type": "code",
   "execution_count": null,
   "id": "989e8552",
   "metadata": {},
   "outputs": [
    {
     "name": "stdout",
     "output_type": "stream",
     "text": [
      "URNX = 0.12\n"
     ]
    }
   ],
   "source": [
    "#Método de la urna\n",
    "import numpy as np\n",
    "from random import random\n",
    "\n",
    "k = 10\n",
    "A = np.repeat(probabilities, k)\n",
    "\n",
    "def URNX_method() -> tuple:\n",
    "    \"\"\"\n",
    "    Método de la urna para generación de v.a discreta X\n",
    "\n",
    "    Returns:\n",
    "        int: Número aleatorio entre 1 y 10\n",
    "    \"\"\"\n",
    "    I = int(random()*len(A))\n",
    "    return A[I], 1 #Siempre hace 1 iteración\n",
    "\n",
    "print(f\"URNX = {URNX_method()[0]}\")\n"
   ]
  },
  {
   "cell_type": "code",
   "execution_count": null,
   "id": "81888cce",
   "metadata": {},
   "outputs": [
    {
     "name": "stdout",
     "output_type": "stream",
     "text": [
      "N:100    P(X = A[k]) = 0.01\n",
      "N:1000   P(X = A[k]) = 0.01\n",
      "N:10000  P(X = A[k]) = 0.01\n",
      "N:100000 P(X = A[k]) = 0.01\n"
     ]
    }
   ],
   "source": [
    "#Corroboremos que el método devuelve A[k] con prob 0.01\n",
    "from random import randint\n",
    "\n",
    "fixed_k = randint(0, len(A)-1)\n",
    "\n",
    "def probability_simulation(Nsim: int) -> float:\n",
    "    count = 0\n",
    "    for _ in range(Nsim):\n",
    "        I = int(random() * len(A))  \n",
    "        if I == fixed_k:  \n",
    "            count += 1\n",
    "    return count / Nsim\n",
    "\n",
    "for Nsim in [100, 1000, 10000, 100000]:\n",
    "    prob = probability_simulation(Nsim=Nsim)\n",
    "    print(f\"N:{Nsim:<6d} P(X = A[k]) = {prob:.2f}\")\n"
   ]
  },
  {
   "cell_type": "markdown",
   "id": "26413b83",
   "metadata": {},
   "source": [
    "Esto funciona porque tenemos en el arreglo A tenemos 100 elementos,\n",
    "teniendo en cuenta que cada valor en A es \"distinto\" tenemos que\n",
    "equiprobabilidad a A[k] con un valor de $\\frac{1}{100} \\equiv 0.01$"
   ]
  },
  {
   "cell_type": "markdown",
   "id": "f4a1a95d",
   "metadata": {},
   "source": [
    "Calculamos el número esperado de comparaciones:"
   ]
  },
  {
   "cell_type": "code",
   "execution_count": null,
   "id": "8eda5869",
   "metadata": {},
   "outputs": [
    {
     "name": "stdout",
     "output_type": "stream",
     "text": [
      "ITX            -> E[#Comparaciones] = 5\n",
      "ITX OPTIMIZADO -> E[#Comparaciones] = 4\n",
      "RMX            -> E[#Comparaciones] = 10\n",
      "RMX_AJUSTADO   -> E[#Comparaciones] = 2\n"
     ]
    }
   ],
   "source": [
    "from utils import DiscreteRandomVariables\n",
    "\n",
    "#Comparaciones ITX\n",
    "comparisons_ITX = sum((i+1) * p for i, p in enumerate(probabilities))\n",
    "\n",
    "#Comparaciones ITX optimizado\n",
    "probabilities_sorted = sorted(probabilities, reverse=True)\n",
    "comparisons_optimized = sum((i + 1) * p for i, p in enumerate(probabilities_sorted))\n",
    "\n",
    "#Comparaciones con método de rechazo con C=3\n",
    "rmx = DiscreteRandomVariables.geometrical(p=1/3)\n",
    "rmx_adjusted = DiscreteRandomVariables.geometrical(p=1/c_adjusted)\n",
    "\n",
    "# --- Impresión alineada ---\n",
    "labels = [\"ITX\", \"ITX OPTIMIZADO\", \"RMX\", \"RMX_AJUSTADO\"]\n",
    "values = [comparisons_ITX, comparisons_optimized, rmx, rmx_adjusted]\n",
    "max_label_len = max(len(label) for label in labels)\n",
    "\n",
    "for label, value in zip(labels, values):\n",
    "    # Alineación: label (ajustado a max_label_len) + \" -> E[#Comparaciones] = \" + valor (8 dígitos)\n",
    "    print(f\"{label.ljust(max_label_len)} -> E[#Comparaciones] = {int(value)}\")"
   ]
  },
  {
   "cell_type": "markdown",
   "id": "d6bd9957",
   "metadata": {},
   "source": [
    "De dónde sale que $E[Comparaciones] = E[Geom(\\frac{1}{c})] = c$ 🤔\n",
    "\n",
    "Calculemos $P(\\text{Algoritmo genere } x_j)$\n",
    "$$\n",
    "\\begin{align*}\n",
    "P(\\text{Algoritmo genere }x_j) &= \\sum_{k=1}^{\\infty}P(\\text{Rechazo Y}(k-1)\\text{ veces y aceptar }Y=x_j \\text{ en la k-ésima iteración}) \\\\\n",
    "    &= \\sum_{k=1}^{\\infty}(1-\\frac{1}{c})^{k-1}\\cdot P(\\text{generar }Y=x_j\\text{ y }U<\\frac{p_j}{c\\cdot q_j}) \\\\\n",
    "    &= \\sum_{k=1}^{\\infty}(1-\\frac{1}{c})^{k-1}\\cdot q_j \\cdot \\frac{p_j}{c\\cdot q_j} \\\\\n",
    "    &= p_j \\cdot \\sum_{k=1}^{\\infty}(1-\\frac{1}{c})^{k-1} \\cdot \\frac{1}{c}\\\\\n",
    "    &= p_j \\\\\n",
    "\\end{align*}\n",
    "$$\n",
    "$donde \\sum_{k=1}^{\\infty}(1-\\frac{1}{c})^{k-1} \\cdot \\frac{1}{c} \\equiv  \\text{ Sumas de }p_{masa}\\text{ de }Z\\sim Geom(\\frac{1}{c}) \\equiv P(\\text{Rechazo Y}(k-1)\\text{ veces})$"
   ]
  },
  {
   "cell_type": "code",
   "execution_count": null,
   "id": "36bc5462",
   "metadata": {},
   "outputs": [],
   "source": [
    "from time import time\n",
    "import numpy as np\n",
    "\n",
    "#Comparación de eficiencia en base a comparaciones a 10000 simulaciones\n",
    "def compare_methods(method,*args ,Nsim=10000):\n",
    "    results = {}\n",
    "    start_time = time()\n",
    "    total_iter = 0\n",
    "    values = []\n",
    "    \n",
    "    for _ in range(Nsim):\n",
    "        val, iterations = method(*args)\n",
    "        values.append(val)\n",
    "        total_iter += iterations\n",
    "        \n",
    "    # Calcular estadísticas\n",
    "    elapsed = time() - start_time\n",
    "    avg_iter = total_iter / Nsim\n",
    "    \n",
    "    # Verificar distribución\n",
    "    unique, counts = np.unique(values, return_counts=True)\n",
    "    dist = dict(zip(unique, counts/Nsim))\n",
    "    \n",
    "    results = {\n",
    "        'total_iter': total_iter,\n",
    "        'avg_iter': avg_iter,\n",
    "        'time': elapsed,\n",
    "        'distribution': dist\n",
    "    }\n",
    "    \n",
    "    return results\n",
    "\n",
    "def print_results(name, results):\n",
    "    print(f\"Resultados para {name}:\")\n",
    "    print(f\"  - Tiempo total: {results['time']:.6f} segundos\")\n",
    "    print(f\"  - Iteraciones totales: {results['total_iter']}\")\n",
    "    print(f\"  - Iteraciones promedio: {results['avg_iter']:.4f}\")\n",
    "    print(f\"  - Distribución de valores:\")\n",
    "    for value, prob in sorted(results['distribution'].items()):\n",
    "        print(f\"      Valor {value}: {prob*100:.2f}%\")\n",
    "    print(\"-\" * 50)  # Línea separadora\n"
   ]
  },
  {
   "cell_type": "code",
   "execution_count": null,
   "id": "2c4f67d2",
   "metadata": {},
   "outputs": [
    {
     "name": "stdout",
     "output_type": "stream",
     "text": [
      "Resultados para ITX:\n",
      "  - Tiempo total: 0.012701 segundos\n",
      "  - Iteraciones totales: 52397\n",
      "  - Iteraciones promedio: 5.2397\n",
      "  - Distribución de valores:\n",
      "      Valor 1: 11.52%\n",
      "      Valor 2: 14.33%\n",
      "      Valor 3: 8.69%\n",
      "      Valor 4: 7.76%\n",
      "      Valor 5: 11.67%\n",
      "      Valor 6: 10.07%\n",
      "      Valor 7: 9.09%\n",
      "      Valor 8: 6.56%\n",
      "      Valor 9: 11.30%\n",
      "      Valor 10: 9.01%\n",
      "--------------------------------------------------\n"
     ]
    }
   ],
   "source": [
    "results_ITX = compare_methods(ITX, Nsim=10000)\n",
    "print_results(\"ITX\", results_ITX)"
   ]
  },
  {
   "cell_type": "code",
   "execution_count": null,
   "id": "edc296dd",
   "metadata": {},
   "outputs": [
    {
     "name": "stdout",
     "output_type": "stream",
     "text": [
      "Resultados para ITX Optimizado:\n",
      "  - Tiempo total: 0.008404 segundos\n",
      "  - Iteraciones totales: 50108\n",
      "  - Iteraciones promedio: 5.0108\n",
      "  - Distribución de valores:\n",
      "      Valor 1: 11.21%\n",
      "      Valor 2: 13.65%\n",
      "      Valor 3: 9.24%\n",
      "      Valor 4: 7.86%\n",
      "      Valor 5: 11.61%\n",
      "      Valor 6: 9.58%\n",
      "      Valor 7: 9.04%\n",
      "      Valor 8: 7.35%\n",
      "      Valor 9: 10.99%\n",
      "      Valor 10: 9.47%\n",
      "--------------------------------------------------\n"
     ]
    }
   ],
   "source": [
    "retults_ITX_optimized = compare_methods(ITX_optimized, Nsim=10000)\n",
    "print_results(\"ITX Optimizado\", retults_ITX_optimized)"
   ]
  },
  {
   "cell_type": "code",
   "execution_count": null,
   "id": "39c389a2",
   "metadata": {},
   "outputs": [
    {
     "name": "stdout",
     "output_type": "stream",
     "text": [
      "Resultados para RMX con c=3:\n",
      "  - Tiempo total: 0.021204 segundos\n",
      "  - Iteraciones totales: 29928\n",
      "  - Iteraciones promedio: 2.9928\n",
      "  - Distribución de valores:\n",
      "      Valor 1: 11.08%\n",
      "      Valor 2: 13.72%\n",
      "      Valor 3: 9.03%\n",
      "      Valor 4: 7.94%\n",
      "      Valor 5: 11.76%\n",
      "      Valor 6: 9.99%\n",
      "      Valor 7: 9.15%\n",
      "      Valor 8: 7.19%\n",
      "      Valor 9: 11.13%\n",
      "      Valor 10: 9.01%\n",
      "--------------------------------------------------\n"
     ]
    }
   ],
   "source": [
    "\n",
    "results_RMX_3 = compare_methods(lambda: RMX(c=3), Nsim=10000)\n",
    "print_results(\"RMX con c=3\", results_RMX_3)"
   ]
  },
  {
   "cell_type": "code",
   "execution_count": null,
   "id": "b445ecbf",
   "metadata": {},
   "outputs": [
    {
     "name": "stdout",
     "output_type": "stream",
     "text": [
      "Resultados para RMX Optimizado:\n",
      "  - Tiempo total: 0.006645 segundos\n",
      "  - Iteraciones totales: 13970\n",
      "  - Iteraciones promedio: 1.3970\n",
      "  - Distribución de valores:\n",
      "      Valor 1: 10.64%\n",
      "      Valor 2: 14.15%\n",
      "      Valor 3: 9.03%\n",
      "      Valor 4: 7.56%\n",
      "      Valor 5: 11.84%\n",
      "      Valor 6: 10.01%\n",
      "      Valor 7: 9.03%\n",
      "      Valor 8: 6.95%\n",
      "      Valor 9: 11.32%\n",
      "      Valor 10: 9.47%\n",
      "--------------------------------------------------\n"
     ]
    }
   ],
   "source": [
    "result_RMX_opt = compare_methods(lambda: (RMX(c=c_adjusted)), Nsim=10000)\n",
    "print_results(\"RMX Optimizado\", result_RMX_opt)"
   ]
  },
  {
   "cell_type": "code",
   "execution_count": null,
   "id": "ae453e05",
   "metadata": {},
   "outputs": [
    {
     "name": "stdout",
     "output_type": "stream",
     "text": [
      "Resultados para URNX:\n",
      "  - Tiempo total: 0.010354 segundos\n",
      "  - Iteraciones totales: 10000\n",
      "  - Iteraciones promedio: 1.0000\n",
      "  - Distribución de valores:\n",
      "      Valor 0.07: 10.08%\n",
      "      Valor 0.08: 9.95%\n",
      "      Valor 0.09: 30.37%\n",
      "      Valor 0.1: 9.62%\n",
      "      Valor 0.11: 20.33%\n",
      "      Valor 0.12: 9.95%\n",
      "      Valor 0.14: 9.70%\n",
      "--------------------------------------------------\n"
     ]
    }
   ],
   "source": [
    "results_URNX = compare_methods(URNX_method, Nsim=10000)\n",
    "print_results(\"URNX\", results_URNX)"
   ]
  },
  {
   "cell_type": "markdown",
   "id": "394694f5",
   "metadata": {},
   "source": [
    "Resultados 😃\n",
    "| Método              | Tiempo total (s) | Iteraciones totales | Iteraciones promedio |\n",
    "|---------------------|------------------|----------------------|-----------------------|\n",
    "| ITX                 | 0.010495         | 52847                | 5.2847                |\n",
    "| ITX Optimizado      | 0.011288         | 49137                | 4.9137                |\n",
    "| RMX (c = 3)         | 0.019951         | 29887                | 2.9887                |\n",
    "| RMX Optimizado      | 0.014911         | 14112                | 1.4112                |\n",
    "| URNX                | 0.012109         | 10000                | 1.0000                |\n"
   ]
  }
 ],
 "metadata": {
  "language_info": {
   "name": "python"
  }
 },
 "nbformat": 4,
 "nbformat_minor": 5
}
