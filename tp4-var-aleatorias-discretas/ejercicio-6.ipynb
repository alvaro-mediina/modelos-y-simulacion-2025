{
 "cells": [
  {
   "cell_type": "markdown",
   "id": "5c70f21e",
   "metadata": {},
   "source": [
    "---\n",
    "## Ejercicio 6"
   ]
  },
  {
   "cell_type": "code",
   "execution_count": null,
   "id": "39226f53",
   "metadata": {},
   "outputs": [],
   "source": [
    "#Método de la transformada inversa optimizado\n",
    "from random import random\n",
    "problem_probs = [0.35, 0.20, 0.20, 0.15, 0.10]\n",
    "opt_cum_probs = [0.35, 0.55, 0.75, 0.90, 1.0]\n",
    "opt_values = [3, 1, 4, 0, 1]\n",
    "\n",
    "def ITX_optimized() -> tuple:\n",
    "    \"\"\"\n",
    "    Versión optimizada de ITX() con condiciones ordenadas por prob. descendente\n",
    "\n",
    "    Returns:\n",
    "        tuple: (Número entre 0 y 4, iteraciones hasta salir)\n",
    "    \"\"\"\n",
    "    U = random()\n",
    "    iterations = 0\n",
    "    for i in range(5):\n",
    "        iterations += 1\n",
    "        if U < opt_cum_probs[i]:\n",
    "            return opt_values[i], iterations\n",
    "    return 1, iterations"
   ]
  },
  {
   "cell_type": "code",
   "execution_count": null,
   "id": "2967430c",
   "metadata": {},
   "outputs": [],
   "source": [
    "from scipy.stats import binom\n",
    "#Método de aceptación y rechazo con una variable binomial de soporte\n",
    "\n",
    "def RMX_Bin(n:int, p:float)-> tuple:\n",
    "    \"\"\"\n",
    "    Método de rechazo\n",
    "\n",
    "    Returns:\n",
    "        int: Número aleatorio entre 0 y 4\n",
    "    \"\"\"\n",
    "    iterations = 0\n",
    "    while True:\n",
    "        iterations += 1\n",
    "        #Simulo Y\n",
    "        y = ITX_Bin(n=n, p=p)[0] \n",
    "        q_Y = binom.pmf(y, n, p)\n",
    "        c = max(problem_probs)/q_Y\n",
    "        U = random()\n",
    "        if U < problem_probs[y-1] / (c * q_Y): #Definimos q_Y = 0.1 para todo j\n",
    "            return y, iterations"
   ]
  },
  {
   "cell_type": "code",
   "execution_count": null,
   "id": "df0cf8f5",
   "metadata": {},
   "outputs": [],
   "source": [
    "#Imprimir resultados\n",
    "def print_results(name, results):\n",
    "    print(\"-\" * 50)\n",
    "    print(f\"Resultados para {name}:\")\n",
    "    print(f\"  - Tiempo total: {results['time']:.6f} segundos\")\n",
    "    print(f\"  - Iteraciones totales: {results['total_iter']}\")\n",
    "    print(f\"  - Iteraciones promedio: {results['avg_iter']:.4f}\")\n",
    "    print(\"-\" * 50)\n"
   ]
  },
  {
   "cell_type": "code",
   "execution_count": null,
   "id": "8f1a6e21",
   "metadata": {},
   "outputs": [
    {
     "name": "stdout",
     "output_type": "stream",
     "text": [
      "--------------------------------------------------\n",
      "Resultados para Transformada inversa optimizada::\n",
      "  - Tiempo total: 0.009285 segundos\n",
      "  - Iteraciones totales: 24568\n",
      "  - Iteraciones promedio: 2.4568\n",
      "--------------------------------------------------\n"
     ]
    }
   ],
   "source": [
    "results_ITX_OPT = compare_methods(lambda: ITX_optimized(), Nsim=10000)\n",
    "#Imprimir resultados\n",
    "print_results(\"Transformada inversa optimizada:\", results_ITX_OPT)"
   ]
  },
  {
   "cell_type": "code",
   "execution_count": null,
   "id": "8972893e",
   "metadata": {},
   "outputs": [
    {
     "name": "stdout",
     "output_type": "stream",
     "text": [
      "--------------------------------------------------\n",
      "Resultados para Rechazo con Binomial::\n",
      "  - Tiempo total: 1.135878 segundos\n",
      "  - Iteraciones totales: 15983\n",
      "  - Iteraciones promedio: 1.5983\n",
      "--------------------------------------------------\n"
     ]
    }
   ],
   "source": [
    "results_ITX_Bin = compare_methods(lambda: RMX_Bin(n=5, p=0.45), Nsim=10000)\n",
    "#Imprimir resultados\n",
    "print_results(\"Rechazo con Binomial:\", results_ITX_Bin)"
   ]
  },
  {
   "cell_type": "markdown",
   "id": "899c09ae",
   "metadata": {},
   "source": [
    "Resultados 😃\n",
    "| Método              | Tiempo total (s) | Iteraciones totales | Iteraciones promedio |\n",
    "|---------------------|------------------|----------------------|-----------------------|\n",
    "| ITX Optimizado      | 0.006002         | 24256                | 2.4256                |\n",
    "| RMX BINOMIAL con C ÓPTIMO        | 1.157073         | 15928                | 1.5928                |\n"
   ]
  }
 ],
 "metadata": {
  "language_info": {
   "name": "python"
  }
 },
 "nbformat": 4,
 "nbformat_minor": 5
}
