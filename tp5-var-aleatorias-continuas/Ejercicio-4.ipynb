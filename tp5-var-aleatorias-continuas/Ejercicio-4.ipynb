{
 "cells": [
  {
   "cell_type": "markdown",
   "id": "f7ca57c7",
   "metadata": {},
   "source": [
    "---\n",
    "# Ejercicio 4\n",
    "Desarrolle un método para generar la variable aleatoria con función de distribución\n",
    "$$\n",
    "F(x) = \\int_{0}^{\\infty} x^y e^{-y} \\, dy, \\quad 0 \\leq x \\leq 1.\n",
    "$$\n",
    "Piense en el método de composición del ejercicio anterior. En particular, sea F la función de distribución\n",
    "de X y suponga que la distribución condicional de X dado Y = y es\n",
    "$$\n",
    "P(X \\leq x \\mid Y = y) = x^y, \\quad 0 \\leq x \\leq 1\n",
    "$$\n",
    "\n",
    "Con la ayuda anterior y como la integral está respecto a $y$ tenemos que:\n",
    "$$\n",
    "F(X) = \\int_0^{\\infty} P(X\\leq x \\mid Y=y) \\cdot e^{-y} dy \\Longrightarrow f_Y(y)=e^y ,\\quad 0\\leq y\n",
    "$$\n",
    "\n",
    "Luego $Y\\thicksim \\mathcal{E} (1)$ dado que la densidad de una v.a con distro. exponencial está dada por: $\\lambda \\cdot e^{-\\lambda \\cdot y}$ y en este caso:\n",
    "\n",
    "$$\n",
    "    \n",
    "     f_Y(y) = \\lambda \\cdot e^{-\\lambda \\cdot y} = 1 \\cdot e^{-1 \\cdot y} = e^{-y}\n",
    "$$\n",
    "\n",
    "Entonces para generar F, debemos primero generar Y. Como es una exponencial, es fácil pero antes chequeemos con resultados teóricos\n",
    "\n",
    "---\n",
    "## Resultados Teóricos\n",
    "\n",
    "- Tenemos como dato que $P(X \\leq x \\mid Y = y) = x^y, \\quad 0 \\leq x \\leq 1\\text{ la cual representa a } f_{X\\mid Y=y}\\\\[0.3cm]$\n",
    "- Luego $X\\mid Y=y \\thicksim Beta(\\alpha=y, \\beta=1)$ (Dem muy larga pero la verda es posta [Distribución Beta](https://es.wikipedia.org/wiki/Distribuci%C3%B3n_beta) y ChatGPT)\n",
    "- Por resultados teóricos tenemos que $F'(X) = f(x) \\text{(cuando la derivada existe)}$. Luego derivando obtenemos que:\n",
    "$$\n",
    "f_{X\\mid Y=y}(x) = y\\cdot x^{y-1}, \\quad \\text{para }0<x<1 \\\\[0.5cm]\n",
    "$$\n",
    "\n",
    "- Por otro lado la densidad conjunta $f_{X,Y}(x,y) = f_{X\\mid Y=y}(x) \\cdot f_Y(y)$ por definición, luego:\n",
    "$$\n",
    "f_{X,Y}(x,y) = y\\cdot x^{y-1}\\cdot e^{-y}\n",
    "$$\n",
    "\n",
    "- Si calculamos la marginal $f_X$, obtenemos que:\n",
    "$$\n",
    "f_X(x) = \\int_0^{\\infty} f_{X,Y}(x,y) dy = \\int_0^{\\infty} y\\cdot x^{y-1}\\cdot e^{-y} dy =  \\int_0^{\\infty} \\frac{d}{dx}(x^y \\cdot e^{-y}) dy = \\frac{d}{dx}F(X) = F'(X)\n",
    "$$\n",
    "---\n",
    "Luego de generar Y con el método de la transformada inversa, nos queda generar la condicional.\n",
    "\n",
    " Como vimos que $P(X\\leq x \\mid Y=y) = x^y \\Rightarrow U = x^y \\Rightarrow \\sqrt[y]{U} = x $\n",
    " \n",
    "Luego generamos el algoritmo:"
   ]
  },
  {
   "cell_type": "code",
   "execution_count": 9,
   "id": "e8d4fbf3",
   "metadata": {},
   "outputs": [],
   "source": [
    "from random import random\n",
    "from math import log\n",
    "import seaborn as sns\n",
    "import  matplotlib.pyplot as plt"
   ]
  },
  {
   "cell_type": "code",
   "execution_count": 5,
   "id": "aeee9b97",
   "metadata": {},
   "outputs": [],
   "source": [
    "def Y(lamda:float) -> float:\n",
    "    \"\"\"\n",
    "    Variable aleatoria con distribución exponencial\n",
    "\n",
    "    Args:\n",
    "        lamda (float): parámetro de la distribución\n",
    "\n",
    "    Returns:\n",
    "        float: Valor aleatorio\n",
    "    \"\"\"\n",
    "    U = 1 - random()\n",
    "    return -log(U) / lamda\n",
    "\n",
    "def X_given_Y(y:float) -> float:\n",
    "    \"\"\"\n",
    "    Variable aleatoria X dado Y=y\n",
    "\n",
    "    Args:\n",
    "        y (float): valor de y\n",
    "\n",
    "    Returns:\n",
    "        float: Valor aleatorio x dado que Y=y\n",
    "    \"\"\"\n",
    "    return random() ** (1/y)"
   ]
  },
  {
   "cell_type": "code",
   "execution_count": 21,
   "id": "04200528",
   "metadata": {},
   "outputs": [
    {
     "data": {
      "image/png": "[encoded data removed]",
      "text/plain": [
       "<Figure size 640x480 with 1 Axes>"
      ]
     },
     "metadata": {},
     "output_type": "display_data"
    }
   ],
   "source": [
    "lamda = 1\n",
    "Nsim = 100_000\n",
    "\n",
    "Y_samples = [Y(lamda=lamda) for _ in range(Nsim)]\n",
    "X_given_Y_samples = [X_given_Y(y) for y in Y_samples]\n",
    "\n",
    "sns.set_theme(style='darkgrid')\n",
    "sns.histplot(Y_samples, stat='density', label=\"Y ~ Exp(1)\")\n",
    "sns.histplot(X_given_Y_samples, stat='density', label=\"X | Y=y\")\n",
    "plt.title(\"Distribuciones de Y y de X | Y\")\n",
    "plt.xlabel(\"Valor\")\n",
    "plt.ylabel(\"Densidad\")\n",
    "plt.xlim(-0.5,5)\n",
    "plt.legend()\n",
    "plt.show()"
   ]
  }
 ],
 "metadata": {
  "kernelspec": {
   "display_name": "venv",
   "language": "python",
   "name": "python3"
  },
  "language_info": {
   "codemirror_mode": {
    "name": "ipython",
    "version": 3
   },
   "file_extension": ".py",
   "mimetype": "text/x-python",
   "name": "python",
   "nbconvert_exporter": "python",
   "pygments_lexer": "ipython3",
   "version": "3.12.3"
  }
 },
 "nbformat": 4,
 "nbformat_minor": 5
}
