{
 "cells": [
  {
   "cell_type": "code",
   "execution_count": 28,
   "id": "ff519085",
   "metadata": {},
   "outputs": [],
   "source": [
    "from random import random\n",
    "import seaborn as sns\n",
    "import matplotlib.pyplot as plt\n",
    "import numpy as np\n",
    "from typing import Literal\n",
    "from math import log\n",
    "sns.set_theme(style='darkgrid')\n",
    "pallete = sns.color_palette('crest')"
   ]
  },
  {
   "cell_type": "markdown",
   "id": "6a7d4a43",
   "metadata": {},
   "source": [
    "---\n",
    "# Ejercicio 1\n",
    "El siguiente codigo simula valores de una variable aleatoria $X$:\n"
   ]
  },
  {
   "cell_type": "code",
   "execution_count": 7,
   "id": "04b26115",
   "metadata": {},
   "outputs": [],
   "source": [
    "def variableX() -> int:\n",
    "    \"\"\"\n",
    "    Variable aleatoria del ejercicio\n",
    "\n",
    "    Returns:\n",
    "        int: Número aleatorio entre [0,3]\n",
    "    \"\"\"\n",
    "    U = random()\n",
    "    V = random()\n",
    "    if U < 0.3:\n",
    "        if V < 0.8: return 0\n",
    "        else:       return 2\n",
    "    elif U < 0.75:\n",
    "        if V < 0.2: return 1\n",
    "        else:       return 3\n",
    "    else:           return 2"
   ]
  },
  {
   "cell_type": "markdown",
   "id": "f9a471ab",
   "metadata": {},
   "source": [
    "**a)** Dar la distribucion de probabilidad de la variable X."
   ]
  },
  {
   "cell_type": "code",
   "execution_count": 25,
   "id": "34edb3e1",
   "metadata": {},
   "outputs": [],
   "source": [
    "def p_X(x: int) -> float:\n",
    "    \"\"\"\n",
    "    Función de probabilidad de masa de X\n",
    "\n",
    "    Args:\n",
    "        x (int): Valor en el dominio de p\n",
    "\n",
    "    Returns:\n",
    "        float: Probabilidad para x\n",
    "    \"\"\"\n",
    "    probs = {\n",
    "        0: 0.24,\n",
    "        1: 0.09,\n",
    "        2: 0.31,\n",
    "        3: 0.36\n",
    "    }\n",
    "    return probs.get(x, 0.0)"
   ]
  },
  {
   "cell_type": "markdown",
   "id": "3de62aa6",
   "metadata": {},
   "source": [
    "**b)** Explicar el metodo de la transformada inversa para generar valores de esta variable.\n",
    "\n",
    "**c)** Implementar el codigo utilizando el método explicado en **(b)**."
   ]
  },
  {
   "cell_type": "code",
   "execution_count": 34,
   "id": "898a88e3",
   "metadata": {},
   "outputs": [],
   "source": [
    "def TIX() -> int:\n",
    "    U = random()\n",
    "    if   U < 0.24: return 0\n",
    "    elif U < 0.33: return 1\n",
    "    elif U < 0.64: return 2\n",
    "    else:          return 3"
   ]
  },
  {
   "cell_type": "code",
   "execution_count": 58,
   "id": "533af2dc",
   "metadata": {},
   "outputs": [
    {
     "data": {
      "image/png": "[encoded data removed]",
      "text/plain": [
       "<Figure size 640x480 with 1 Axes>"
      ]
     },
     "metadata": {},
     "output_type": "display_data"
    }
   ],
   "source": [
    "Nsim = 100_000\n",
    "samples = [variableX() for _ in range(Nsim)]\n",
    "TIX_samples = [TIX() for _ in range(Nsim)]\n",
    "\n",
    "p_X_values = [p_X(x) for x in range(4)]\n",
    "\n",
    "sns.barplot(x=[0, 1, 2, 3],\n",
    "            y=p_X_values,\n",
    "            color=pallete[4],\n",
    "            label=\"Teórica\")\n",
    "sns.histplot(samples,\n",
    "            stat='density',\n",
    "            discrete=True,\n",
    "            alpha=0.5,\n",
    "            label=\"variableX\",\n",
    "            color=pallete[3])\n",
    "\n",
    "sns.histplot(TIX_samples,\n",
    "            stat='density',\n",
    "            discrete=True,\n",
    "            label=\"TIX\",\n",
    "            color=pallete[5],\n",
    "            alpha=0.1,\n",
    "            edgecolor=\"black\",\n",
    "            linewidth=2)\n",
    "\n",
    "plt.legend()\n",
    "plt.show()"
   ]
  },
  {
   "cell_type": "markdown",
   "id": "6ad42bcd",
   "metadata": {},
   "source": [
    "--\n",
    "# Ejercicio 2\n",
    "La funcion de densidad de una variable aleatoria X esta dada por:\n",
    "$$\n",
    "f(x)=\n",
    "\\begin{cases}\n",
    "    \\frac{1}{4} \\quad 0\\leq x < 2\\\\[0.3cm]\n",
    "    \\frac{1}{x²} \\quad 2 \\leq x\\\\[0.3cm]\n",
    "    0 \\quad x<0\n",
    "\\end{cases}\n",
    "$$"
   ]
  },
  {
   "cell_type": "code",
   "execution_count": 2,
   "id": "8ebc0cdc",
   "metadata": {},
   "outputs": [],
   "source": [
    "def f(x:float) -> float:\n",
    "    return  np.where(\n",
    "        (0 <= x) & (x < 2), 1/4, \n",
    "        np.where((2 <= x), 1/(x**2), 0)\n",
    ")"
   ]
  },
  {
   "cell_type": "code",
   "execution_count": null,
   "id": "027dfe24",
   "metadata": {},
   "outputs": [],
   "source": [
    "def TIX() -> float:\n",
    "    \"\"\"\n",
    "    Generacion de variable aleatoria X\n",
    "    utilizando Método de la Transformada Inversa.\n",
    "\n",
    "    Returns:\n",
    "        float: Valor de v.a continua\n",
    "    \"\"\"\n",
    "    U = random()\n",
    "    if U < 1/2:\n",
    "        return 4*U\n",
    "    else: return 1/(1-U)"
   ]
  },
  {
   "cell_type": "code",
   "execution_count": 5,
   "id": "89f38202",
   "metadata": {},
   "outputs": [
    {
     "name": "stderr",
     "output_type": "stream",
     "text": [
      "/tmp/ipykernel_84893/42691029.py:4: RuntimeWarning: divide by zero encountered in divide\n",
      "  np.where((2 <= x), 1/(x**2), 0)\n"
     ]
    },
    {
     "data": {
      "image/png": "[encoded data removed]",
      "text/plain": [
       "<Figure size 640x480 with 1 Axes>"
      ]
     },
     "metadata": {},
     "output_type": "display_data"
    }
   ],
   "source": [
    "Nsim = 100_000\n",
    "x = np.linspace(-5,10, 1000)\n",
    "TIX_samples = [TIX() for _ in range(Nsim)]\n",
    "TIX_samples = [x for x in TIX_samples if x < 1000]\n",
    "\n",
    "sns.lineplot(x=x, y=f(x),label=\"fdp\", color=pallete[0])\n",
    "sns.histplot(TIX_samples, stat='density', color=pallete[1], label=\"TIX\")\n",
    "plt.xlim(-5,10)\n",
    "plt.legend()\n",
    "plt.show()"
   ]
  },
  {
   "cell_type": "markdown",
   "id": "e7cdfc71",
   "metadata": {},
   "source": [
    "**b)** Escribir un codigo en Python que genere valores de X utilizando el metodo dado en **a)**. Utilizar este codigo para estimar $P(X ≤ 3)$ con 10000 simulaciones. Imprimir este valor"
   ]
  },
  {
   "cell_type": "code",
   "execution_count": 7,
   "id": "d2f958fe",
   "metadata": {},
   "outputs": [],
   "source": [
    "def probability_simulation(Nsim:int) -> float:\n",
    "    \"\"\"\n",
    "    Simulación de probabilidad para el ejercicio\n",
    "    P(X <= 3)\n",
    "\n",
    "    Args:\n",
    "        Nsim (int): Número de simulaciones\n",
    "\n",
    "    Returns:\n",
    "        float: Probabilidad que X sea menor o igual a 3\n",
    "    \"\"\"\n",
    "    probability = 0\n",
    "    for _ in range(Nsim):\n",
    "        X = TIX()\n",
    "        if X <= 3:\n",
    "            probability += 1\n",
    "    return probability / Nsim"
   ]
  },
  {
   "cell_type": "code",
   "execution_count": 9,
   "id": "6b9710f2",
   "metadata": {},
   "outputs": [
    {
     "name": "stdout",
     "output_type": "stream",
     "text": [
      "Nsim:10000\t P(X <= 3) = 0.6607\n"
     ]
    }
   ],
   "source": [
    "Nsim = 10_000\n",
    "print(f\"Nsim:{Nsim}\\t P(X <= 3) = {probability_simulation(Nsim=Nsim)}\")"
   ]
  },
  {
   "cell_type": "markdown",
   "id": "52d5c822",
   "metadata": {},
   "source": [
    "---\n",
    "# Ejercicio 3\n",
    "Sea Y una variable aleatoria con distribucion geometrica,  $Y \\thicksim Geom(0.6)$, y sea $X$ una variable aleatoria que tiene una distribucion dada por:\n",
    "$$\n",
    "P(X=i) = P(Y=i | Y \\leq 20)\n",
    "$$\n",
    "1. Explicar como puede aplicarse el método de aceptación y rechazo utilizando $Y$ como rechazo, para\n",
    "generar valores de $X$\n",
    "\n",
    "**EN HOJA**"
   ]
  },
  {
   "cell_type": "markdown",
   "id": "90dd1704",
   "metadata": {},
   "source": [
    " 2. Escribir un codigo en Python que genere valores de X utilizando el metodo dado en a)"
   ]
  },
  {
   "cell_type": "code",
   "execution_count": 11,
   "id": "eef023de",
   "metadata": {},
   "outputs": [],
   "source": [
    "def Geom_Y(p:float):\n",
    "    U = random()\n",
    "    return int(log(1-U)/log(1-p)) + 1\n",
    "\n",
    "def MRX () -> int:\n",
    "    \"\"\"\n",
    "    Generación de X a través del método de rechazo\n",
    "\n",
    "    Returns:\n",
    "        int: Número aleatorio\n",
    "        con distribución P( Y=i | Y <= 20)\n",
    "    \"\"\"\n",
    "    while True:\n",
    "        #Simulo Y\n",
    "        c = 1.0001\n",
    "        Y = Geom_Y(p=0.6)\n",
    "        q_Y = 0.6 * (1-0.6)**(Y-1)\n",
    "        U = random()\n",
    "        if  U < 1/ c * q_Y:\n",
    "            return Y\n"
   ]
  },
  {
   "cell_type": "code",
   "execution_count": 20,
   "id": "09f68e55",
   "metadata": {},
   "outputs": [
    {
     "name": "stdout",
     "output_type": "stream",
     "text": [
      "VALORES GENERADOS POR EL MÉTODO DE RECHAZO🚫🎲 -> [1, 2, 1, 1, 1, 1, 1, 1, 2, 1]\n"
     ]
    }
   ],
   "source": [
    "samples = [MRX() for _ in range(10)]\n",
    "print(f\"VALORES GENERADOS POR EL MÉTODO DE RECHAZO🚫🎲 -> {samples}\")"
   ]
  },
  {
   "cell_type": "markdown",
   "id": "d5ab5181",
   "metadata": {},
   "source": [
    "---\n",
    "# Ejercicio 4\n",
    "Una compania de seguros tiene 1000 clientes, cada uno de los cuales puede presentar un reclamo en forma independiente en el proximo mes con probabilidad $p= 0.05$. Se asume que los montos de los reclamos son variables aleatorias independientes con distribucion exponencial con media $800."
   ]
  },
  {
   "cell_type": "markdown",
   "id": "dbe07a77",
   "metadata": {},
   "source": [
    "**a)** Disenar una simulación de los reclamos de clientes a lo largo del próximo mes. Describir las variables aleatorias utilizadas en la simulacion.\n"
   ]
  },
  {
   "cell_type": "markdown",
   "id": "aea872f1",
   "metadata": {},
   "source": [
    "**__Datos__**\n",
    "- 1000 clientes\n",
    "- Cada cliente $X_1,\\ldots,X_{1000}$ puede presentar de forma independiente en el próximo mes un reclamo con probabilidad $p=0.05$\n",
    "- Montos de los reclamos son variables aleatorias independientes con $\\thicksim \\mathcal{E}(\\lambda=800) $\n",
    "\n",
    "- Se pide simular los reclamos de clientes a lo largo del próximo mes.\n",
    "\n",
    "# Descripciópn de las variables aleatorias utilizadas.\n",
    "- Se utilizarán 1000 variables aleatorias de Bernulli con probabilidad $p=0.05$ ya que cada cliente tiene esa probabilidad de generar un reclamo.\n",
    "- Se utilizará una variable aleatoria con distribución exponencial y media de 1/800. i.e $M_1,\\ldots,M_n \\thicksim \\mathcal{E}(\\lambda=\\frac{1}{800})$ donde $n$ son el número de reclamos realizados.\n"
   ]
  },
  {
   "cell_type": "markdown",
   "id": "ae6ddfff",
   "metadata": {},
   "source": [
    "**b)** Implementar la simulacion descripta en a) y utilizarla para estimar la probabilidad de que la suma de esos reclamos exceda los $50000 con 10000 simulaciones.\n",
    "i.e estimar $P(\\text{Suma de reclamos} >= 50000)$ con 10000 simulaciones"
   ]
  },
  {
   "cell_type": "code",
   "execution_count": null,
   "id": "c85909a8",
   "metadata": {},
   "outputs": [],
   "source": [
    "def customers_claiming(p:float) -> Literal[0, 1]:\n",
    "    \"\"\"\n",
    "    - Determina con una probabilidad de p si el cliente RECLAMA o NO RECLAMA\n",
    "    - Variable aleatoria de Bernulli\n",
    "\n",
    "    Returns:\n",
    "        {0,1}: 0 en caso de que no reclame\n",
    "            1 si reclama\n",
    "    \"\"\"\n",
    "    U = random()\n",
    "    if U < p: return 1\n",
    "    else: return 0\n",
    "\n",
    "def claim_amount(lamda:float) -> float:\n",
    "    \"\"\"\n",
    "    - Monto del reclamo\n",
    "    - Variable aleatoria Exponencial de media lambda\n",
    "\n",
    "    Args:\n",
    "        lamda (float): Parámetro de la variable\n",
    "\n",
    "    Returns:\n",
    "        float: _description_\n",
    "    \"\"\"\n",
    "    return -log(1 - random()) / lamda\n",
    "\n",
    "def claiming_simulation() -> int:\n",
    "    \"\"\"\n",
    "    - Simulación del RECLAMO o NO RECLAMO de 1000 clientes \n",
    "\n",
    "    Returns:\n",
    "        int: Cantidad de reclamantes\n",
    "    \"\"\"\n",
    "    claimers = 0\n",
    "    for _ in range(1000):\n",
    "        X = customers_claiming(p=0.05)\n",
    "        if X: claimers +=1\n",
    "    return claimers\n",
    "\n",
    "\n",
    "def problematic_one_simulation() -> float:\n",
    "    \"\"\"\n",
    "    UNA simulación a la problemática\n",
    "\n",
    "    Returns:\n",
    "        float: Suma del monto por reclamos\n",
    "    \"\"\"\n",
    "    claimers = claiming_simulation()\n",
    "    amount_of_claims = 0\n",
    "    for _ in range(claimers):\n",
    "        amount_of_claims += claim_amount(lamda=1/800)\n",
    "    return amount_of_claims\n",
    "\n",
    "\n",
    "def simulation(Nsim:int) -> float:\n",
    "    \"\"\"\n",
    "    Probabilidad de que la suma de reclamos sea mayor a $50000\n",
    "\n",
    "    Args:\n",
    "        Nsim (int): Número de simulaciones\n",
    "\n",
    "    Returns:\n",
    "        float: Probabilidad\n",
    "    \"\"\"\n",
    "    probability = 0\n",
    "    for _ in range(Nsim):\n",
    "        amount_of_claims = problematic_one_simulation()\n",
    "        if amount_of_claims > 50000:\n",
    "            probability += 1 \n",
    "    return probability / Nsim"
   ]
  },
  {
   "cell_type": "code",
   "execution_count": 30,
   "id": "5415ca0c",
   "metadata": {},
   "outputs": [
    {
     "name": "stdout",
     "output_type": "stream",
     "text": [
      "(Suma de reclamos > 50000) = 0.1092\n"
     ]
    }
   ],
   "source": [
    "print(f\"(Suma de reclamos > 50000) = {simulation(Nsim=10_000)}\")"
   ]
  }
 ],
 "metadata": {
  "kernelspec": {
   "display_name": "venv",
   "language": "python",
   "name": "python3"
  },
  "language_info": {
   "codemirror_mode": {
    "name": "ipython",
    "version": 3
   },
   "file_extension": ".py",
   "mimetype": "text/x-python",
   "name": "python",
   "nbconvert_exporter": "python",
   "pygments_lexer": "ipython3",
   "version": "3.12.3"
  }
 },
 "nbformat": 4,
 "nbformat_minor": 5
}
