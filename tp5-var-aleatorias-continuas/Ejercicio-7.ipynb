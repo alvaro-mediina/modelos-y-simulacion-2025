{
 "cells": [
  {
   "cell_type": "markdown",
   "id": "7c77d0aa",
   "metadata": {},
   "source": [
    "---\n",
    "# Ejercicio 7"
   ]
  },
  {
   "cell_type": "markdown",
   "id": "41382046",
   "metadata": {},
   "source": [
    "**a)** Desarrolle dos métodos para generar una variable aleatoria X con densidad de probabilidad:\n",
    "\n",
    "$$\n",
    "f(x) =\n",
    "\\begin{cases}\n",
    "\\frac{1}{x}\\quad \\text{si } 1\\leq x \\leq e \\\\\n",
    "0          \\quad \\text{cc}\n",
    "\\end{cases}\n",
    "$$\n",
    "\n",
    "i. Aplicando Transformada inversa\n",
    "\n",
    "ii. Aplicando el método de aceptación y rechazo con una variable uniforme."
   ]
  },
  {
   "cell_type": "code",
   "execution_count": 5,
   "id": "d0d212f5",
   "metadata": {},
   "outputs": [],
   "source": [
    "from typing import Callable\n",
    "from random import random\n",
    "from time import time\n",
    "import numpy as np\n",
    "import seaborn as sns\n",
    "import matplotlib.pyplot as plt\n",
    "from math import e, log\n",
    "sns.set_theme(style=\"darkgrid\")"
   ]
  },
  {
   "cell_type": "markdown",
   "id": "f11c60de",
   "metadata": {},
   "source": [
    "---\n",
    "# Transformada Inversa"
   ]
  },
  {
   "cell_type": "markdown",
   "id": "4f1d7b50",
   "metadata": {},
   "source": [
    "Para aplicar el método de la transformada inversa primero debo obtener $F$ función de distribución acumulada de X.\n",
    "\n",
    "Para ello tenemos por resultados teóricos que $F'(x) = f(x)$ por ende debo hallar la antiderivada de la función, integrar :P"
   ]
  },
  {
   "cell_type": "markdown",
   "id": "6a0e5742",
   "metadata": {},
   "source": [
    "- **Si x < 1:**\n",
    "$$\n",
    "\\begin{align*}\n",
    "    \\int_{-\\infty}^{x} f(x) dx = 0\n",
    "\\end{align*}\n",
    "$$\n",
    "\n",
    "- **Si 1 $\\leq$ x**\n",
    "$$\n",
    "\\begin{align*}\n",
    "    \\int_{1}^{x} f(t) dt &= \\int_{1}^{x} \\frac{1}{t}dt\\\\[0.4cm]\n",
    "                         &= \\int_{1}^{x} t^{-1}dt\\\\[0.4cm]\n",
    "                         &= ln(t)\\bigg|_1^x \\\\[0.4cm]\n",
    "                         &= ln(x) - ln(1) \\\\[0.4cm]\n",
    "                         &= ln(x) \\\\[0.4cm]\n",
    "\\end{align*}\n",
    "$$\n",
    "\n",
    "- **Si x $\\leq$ e**\n",
    "$$\n",
    "\\begin{align*}\n",
    "    \\int_{-\\infty}^{x} f(t) dt &= \\int_{1}^{e} \\frac{1}{t}dt \\\\[0.4cm]\n",
    "                         &= \\int_{1}^{e} t^{-1}dt\\\\[0.4cm]\n",
    "                         &= ln(t)\\bigg|_1^e \\\\[0.4cm]\n",
    "                         &= ln(e) - ln(1) \\\\[0.4cm]\n",
    "                         &= 1 \\\\[0.4cm]\n",
    "\\end{align*}\n",
    "$$\n",
    "\n",
    "\n",
    "Luego resulta que $F$ está dada por:\n",
    "$$\n",
    "F(x) =\n",
    "\\begin{cases}\n",
    "0          \\quad \\text{si } x < 1  \\\\\n",
    "ln(x)      \\quad \\text{si } 1\\leq x < e \\\\\n",
    "1          \\quad \\text{si } e \\leq x \n",
    "\\end{cases}\n",
    "$$"
   ]
  },
  {
   "cell_type": "markdown",
   "id": "dc55db65",
   "metadata": {},
   "source": [
    "Luego utilizando el método de la transformada inversa resulta que:\n",
    "$$U = F^{-1}(x)$$\n",
    "\n",
    "Por ende despejando x, tenemos que:\n",
    "$$\n",
    "\\begin{align*}\n",
    "    U   &= F^{-1}(x) \\\\[0.4cm]\n",
    "    U   &= (ln(x)) \\\\[0.4cm]\n",
    "    e^U &= e^{ln(x)} \\\\[0.4cm]\n",
    "    e^U &= x\n",
    "\\end{align*}\n",
    "$$\n",
    "\n",
    "Obteniendo así:"
   ]
  },
  {
   "cell_type": "code",
   "execution_count": 4,
   "id": "7263537a",
   "metadata": {},
   "outputs": [],
   "source": [
    "def TIX() -> float:\n",
    "    \"\"\"\n",
    "    Generación de variable aleatoria\n",
    "    Por el método de la transformada inversa\n",
    "\n",
    "    Args:\n",
    "        N (int): Parámetro de función de distro. acumulada\n",
    "        (Del ejercicio) \n",
    "\n",
    "    Returns:\n",
    "        float: Valor aleatorio\n",
    "    \"\"\"\n",
    "    U = random()\n",
    "    return e ** U"
   ]
  },
  {
   "cell_type": "markdown",
   "id": "fe93cbd5",
   "metadata": {},
   "source": [
    "---\n",
    "# Método de aceptación y rechazo con uniforme\n",
    "\n",
    "Para aplicar el método de aceptación y rechazo debemos generar una variable aleatoria que simule $f(x)$, para ello se utiliza una variable $Y$ aleatoria que se supone que se sabe simular, en este caso una $Y$ que simule $g(y)$ con $g(y)=1, \\forall y \\in Dom(f)$ puesto a que se debe cumplir:\n",
    "\n",
    "$$\n",
    "\\frac{f(x)}{g(x)} \\leq c, \\quad \\text{con x para donde f y g estén definidas}\n",
    "$$\n",
    "\n",
    "Sea $h(x) = \\frac{f(x)}{g(x)}, \\forall x \\in [1, e]$\n",
    "\n",
    "Luego como: $g(x) = 1 \\Longrightarrow h(x) = f(x)$\n",
    "\n",
    "Ahora para encontrar una cota de $f$ debo analizarla, como en *Análisis Matemático I*\n",
    "- $f(x) \\text{ con } 1 \\leq x \\leq e$, i.e $\\displaystyle \\frac{1}{x}$ es una función decreciente \n",
    "- Por ende alcanza su punto máximo en el mínimo valor de $x$\n",
    "- Evaluando f en $x=1 \\Longrightarrow f(1) = 1 \\Longrightarrow c=1$ "
   ]
  },
  {
   "cell_type": "code",
   "execution_count": 19,
   "id": "5604c74a",
   "metadata": {},
   "outputs": [],
   "source": [
    "def uniform(a:float, b:float) -> float:\n",
    "    \"\"\"\n",
    "    Variable aleatoria con distro. uniforme en el (a,b)\n",
    "\n",
    "    Args:\n",
    "        a (float): Lim. inferior\n",
    "        b (float): Lim. superior\n",
    "\n",
    "    Returns:\n",
    "        float: valor aleatorio entre (a, b)\n",
    "    \"\"\"\n",
    "    return random() * (b - a) + a\n",
    "\n",
    "\n",
    "def MR() -> float:\n",
    "    \"\"\"\n",
    "    Generación de variable aleatoria\n",
    "    Por el método de rechazo\n",
    "\n",
    "    Returns:\n",
    "        float: Valor aleatorio\n",
    "    \"\"\"\n",
    "    while True:\n",
    "        Y = uniform(a=1, b=e) # Simulo f\n",
    "        f_y = 1/Y\n",
    "        U = random()\n",
    "        if U < f_y:\n",
    "            return Y"
   ]
  },
  {
   "cell_type": "markdown",
   "id": "08e664c8",
   "metadata": {},
   "source": [
    "---\n",
    "**b)** Compare la eficiencia de ambos métodos realizando $10.000$ simulaciones y comparando el promedio de los valores obtenidos. Compruebe que se obtiene un valor aproximado del valor esperado de $X$."
   ]
  },
  {
   "cell_type": "markdown",
   "id": "1a7c87d0",
   "metadata": {},
   "source": [
    "# Valor Esperado de X\n",
    "\n",
    "Tenemos que\n",
    "$$\n",
    "E[X] = \\int_{-\\infty}^{\\infty} x \\cdot f(x) dx\n",
    "$$\n",
    "\n",
    "Luego:\n",
    "$$\n",
    "\\begin{align*}\n",
    "E[X] &= \\int_{-\\infty}^{\\infty} x \\cdot f(x) dx \\\\[0.4cm]\n",
    "     &= \\int_{-\\infty}^{\\infty} x \\cdot \\frac{1}{x} \\cdot \\mathbb{I}_{(1,e)}(x) dx\\\\[0.4cm]\n",
    "     &= \\int_{1}^{e} 1 dx\\\\[0.4cm]\n",
    "     &= x \\bigg|_1^e\\\\[0.4cm]\n",
    "     &= e - 1\n",
    "\\end{align*}\n",
    "$$"
   ]
  },
  {
   "cell_type": "markdown",
   "id": "9bc98b08",
   "metadata": {},
   "source": [
    "\n",
    "# Comparativa de gráficas"
   ]
  },
  {
   "cell_type": "code",
   "execution_count": 20,
   "id": "827df333",
   "metadata": {},
   "outputs": [],
   "source": [
    "def f(x:float) -> float:\n",
    "    \"\"\"\n",
    "    Función de densidad del ejercicio\n",
    "\n",
    "    Args:\n",
    "        x (float): parámetro de entrada\n",
    "\n",
    "    Returns:\n",
    "        float: densidad de x\n",
    "    \"\"\"\n",
    "    return np.where(\n",
    "        (1 <= x) & (x <= e),\n",
    "        1 / x,\n",
    "        0\n",
    "    )"
   ]
  },
  {
   "cell_type": "code",
   "execution_count": 21,
   "id": "bfe855ee",
   "metadata": {},
   "outputs": [],
   "source": [
    "def efitienty_methods(methods:list[Callable[[int],float]] ,Nsim=int) -> dict:\n",
    "    results = {}\n",
    "    \n",
    "    #Simulaciones\n",
    "    for method in methods:\n",
    "        init_time = time()\n",
    "        method_name =  method.__name__\n",
    "        samples = []\n",
    "\n",
    "        for _ in range(Nsim):\n",
    "            sample = method()\n",
    "            samples.append(sample)\n",
    "        \n",
    "        elapsed_time = time() - init_time \n",
    "        mean = sum(samples) / Nsim\n",
    "        results[method_name] = {\n",
    "            \"mean\": mean,\n",
    "            \"samples\": samples,\n",
    "            \"time\": elapsed_time\n",
    "        }\n",
    "    \n",
    "    return results"
   ]
  },
  {
   "cell_type": "code",
   "execution_count": 31,
   "id": "66da185f",
   "metadata": {},
   "outputs": [
    {
     "data": {
      "image/png": "[encoded data removed]",
      "text/plain": [
       "<Figure size 640x480 with 1 Axes>"
      ]
     },
     "metadata": {},
     "output_type": "display_data"
    },
    {
     "name": "stdout",
     "output_type": "stream",
     "text": [
      "COMPARACIÓN DEL NÚMERO PROMEDIO DE VALORES\n",
      "----------- --- ------ -------- -- -------\n",
      "(MR)  🍪 -> 1.723414\n",
      "(TIX) 🍪 -> 1.719391\n",
      "(E[X])🍪 -> 1.718282\n",
      "\n",
      "COMPARACIÓN DEL TIEMPO\n",
      "----------- --- ------\n",
      "(MR) ⌛ -> 0.007762 seg\n",
      "(TIX)⌛ -> 0.003151 seg\n"
     ]
    }
   ],
   "source": [
    "\n",
    "x = np.linspace(1,e, 1000)\n",
    "Nsim = 10_000\n",
    "\n",
    "methods = [MR, TIX]\n",
    "results: dict = efitienty_methods(\n",
    "    methods=methods,\n",
    "    Nsim=Nsim\n",
    ")\n",
    "\n",
    "\n",
    "sns.set_palette(\"Spectral\")\n",
    "sns.lineplot(x=x, y=f(x=x), label=\"f(Densidad)\")\n",
    "sns.lineplot(x=x, y=1, label=\"c(Cota)\")\n",
    "sns.histplot(results[\"MR\"][\"samples\"], stat='density', label=\"MR(BARRAS)\")\n",
    "sns.histplot(results[\"TIX\"][\"samples\"], stat='density', label=\"TIX(BARRAS)\")\n",
    "plt.title(\"Comparativa de gráficas\")\n",
    "plt.legend()\n",
    "plt.show()\n",
    "\n",
    "mean = e - 1\n",
    "\n",
    "print(\"COMPARACIÓN DEL NÚMERO PROMEDIO DE VALORES\")\n",
    "print(\"----------- --- ------ -------- -- -------\")\n",
    "print(f\"(MR)  🍪 -> {results[\"MR\"][\"mean\"]:4f}\")\n",
    "print(f\"(TIX) 🍪 -> {results[\"TIX\"][\"mean\"]:4f}\")\n",
    "print(f\"(E[X])🍪 -> {mean:4f}\")\n",
    "\n",
    "print(\"\\nCOMPARACIÓN DEL TIEMPO\")\n",
    "print(\"----------- --- ------\")\n",
    "\n",
    "print(f\"(MR) ⌛ -> {results[\"MR\"][\"time\"]:4f} seg\")\n",
    "print(f\"(TIX)⌛ -> {results[\"TIX\"][\"time\"]:4f} seg\")"
   ]
  },
  {
   "cell_type": "markdown",
   "id": "e2dbb0e2",
   "metadata": {},
   "source": [
    "---\n",
    "**c)** Estime la probabilidad $P(X ≤ 2)$ y compárela con el valor real."
   ]
  },
  {
   "cell_type": "markdown",
   "id": "623147dc",
   "metadata": {},
   "source": [
    "Tenemos que:\n",
    "$$\n",
    "P(X ≤ 2) = \\int_{-\\infty}^2 f(x) dx = \\int_{-\\infty}^2 \\frac{1}{x} \\cdot \\mathbb{I}_{(1,e)}(x) dx = \\int_{1}^2 \\frac{1}{x} dx = ln(x)\\bigg|_1^2 = ln(2) - ln(1) = ln(2)\n",
    "$$"
   ]
  },
  {
   "cell_type": "markdown",
   "id": "b31aae57",
   "metadata": {},
   "source": [
    "Como se puede ver en la comparativa, el método de la *Transformada Inversa* es mejor por ende utilizo esa para simular la probabilidad"
   ]
  },
  {
   "cell_type": "code",
   "execution_count": 35,
   "id": "d43a8653",
   "metadata": {},
   "outputs": [],
   "source": [
    "def probability_simulation(Nsim:int) -> float:\n",
    "    \"\"\"\n",
    "    Simulación de P(X<=2) con TIX\n",
    "\n",
    "    Args:\n",
    "        Nsim (int): Número de simulaciones\n",
    "\n",
    "    Returns:\n",
    "        float: estimación de P(X <= 2)\n",
    "    \"\"\"\n",
    "    summation = 0\n",
    "    for _ in range(Nsim):\n",
    "        if TIX() <= 2:\n",
    "            summation += 1\n",
    "    return summation / Nsim\n",
    "\n",
    "#Valor real de la probabilidad\n",
    "probability_real_value = log(2)"
   ]
  },
  {
   "cell_type": "code",
   "execution_count": 36,
   "id": "1787b876",
   "metadata": {},
   "outputs": [
    {
     "name": "stdout",
     "output_type": "stream",
     "text": [
      "\n",
      "COMPARACIÓN DE P(X<=2)\n",
      "----------- -- -------\n",
      "EXACTO 👌🏽 -> 0.693147 \n",
      "SIMUL. 🧪 -> 0.686300\n"
     ]
    }
   ],
   "source": [
    "print(\"\\nCOMPARACIÓN DE P(X<=2)\")\n",
    "print(\"----------- -- -------\")\n",
    "\n",
    "print(f\"EXACTO 👌🏽 -> {probability_real_value:4f} \")\n",
    "print(f\"SIMUL. 🧪 -> {probability_simulation(Nsim=10_000):4f}\")"
   ]
  }
 ],
 "metadata": {
  "kernelspec": {
   "display_name": "venv",
   "language": "python",
   "name": "python3"
  },
  "language_info": {
   "codemirror_mode": {
    "name": "ipython",
    "version": 3
   },
   "file_extension": ".py",
   "mimetype": "text/x-python",
   "name": "python",
   "nbconvert_exporter": "python",
   "pygments_lexer": "ipython3",
   "version": "3.12.3"
  }
 },
 "nbformat": 4,
 "nbformat_minor": 5
}
