{
 "cells": [
  {
   "cell_type": "markdown",
   "id": "43275d42",
   "metadata": {},
   "source": [
    "---\n",
    "# Ejercicio 13\n",
    "Los autobuses que llevan los aficionados a un encuentro deportivo llegan a destino de acuerdo\n",
    "con un proceso de Poisson a razón de cinco por hora. La capacidad de los autobuses es una variable\n",
    "aleatoria que toma valores en el conjunto: $\\{20,21,...,40\\}$ con igual probabilidad. A su vez, las capacidades de dos autobuses distintos son variables independientes. Escriba un algoritmo para simular la llegada de aficionados al encuentro en el instante $t = 1$ hora."
   ]
  },
  {
   "cell_type": "markdown",
   "id": "d8b3e9cd",
   "metadata": {},
   "source": [
    "Sea $\\{N(t),t>0\\}$ un proceso de Poisson no homogéneo con taza $\\lambda = 5$ por hora tal que:\n",
    "- $N(t):$\"Cantidad de autobuses que llegan a destino hasta el tiempo t\"\n",
    "\n",
    "Por otro lado tenemos que la capacidad de los autobuses es una v.a $X$ que toma valores en $\\{20,\\ldots,40\\}$, por ende:\n",
    "$$\n",
    "X \\thicksim U\\{20,40\\}\n",
    "$$\n",
    "\n",
    "Por ende su función de probabilidad de masa está dada por:\n",
    "$$\n",
    "p_X(x) =\n",
    "\\begin{cases}\n",
    "    \\frac{1}{21} \\quad \\text{si } 20\\leq x\\leq 40 \\\\[0.4cm]\n",
    "    0    \\quad \\text{cc}\n",
    "\\end{cases}\n",
    "$$"
   ]
  },
  {
   "cell_type": "markdown",
   "id": "19f4a34a",
   "metadata": {},
   "source": [
    "Queremos saber cuántos **aficionados**, llegan en la *primera* hora."
   ]
  },
  {
   "cell_type": "code",
   "execution_count": 16,
   "id": "af479bdd",
   "metadata": {},
   "outputs": [],
   "source": [
    "from random import random\n",
    "from math import log\n",
    "import numpy as np\n",
    "# Ejercicio 12\n",
    "def Poisson_process(lamda:float, T:float) -> int :\n",
    "    \"\"\"\n",
    "    Calcula el número de eventos en las primeras T unidades de tiempo\n",
    "\n",
    "    Args:\n",
    "        T (float): Cota hasta donde se calculan el numero\n",
    "        de eventos y tiempos de arribo\n",
    "\n",
    "    Returns:\n",
    "        int: Número de eventos ocurridos\n",
    "    \"\"\"\n",
    "    t = 0\n",
    "    NT = 0\n",
    "    while t < T:\n",
    "        U = 1 - random()\n",
    "        t += -log(U) / lamda\n",
    "        if t <= T:\n",
    "            NT += 1\n",
    "    return NT"
   ]
  },
  {
   "cell_type": "code",
   "execution_count": 18,
   "id": "de320e64",
   "metadata": {},
   "outputs": [],
   "source": [
    "def random_variable_aficionates() -> float:\n",
    "    \"\"\"\n",
    "    Variable aleatoria con distribución uniforme en {20,...,40}\n",
    "\n",
    "    Returns:\n",
    "        float: Número aleatorio entre 20 y 40\n",
    "    \"\"\"\n",
    "    return int(random() * (40-20+1)) + 20"
   ]
  },
  {
   "cell_type": "markdown",
   "id": "b892e14b",
   "metadata": {},
   "source": [
    "# Simulamos la llegada de los 🚌."
   ]
  },
  {
   "cell_type": "code",
   "execution_count": 33,
   "id": "317742b8",
   "metadata": {},
   "outputs": [
    {
     "name": "stdout",
     "output_type": "stream",
     "text": [
      "EN LA PRIMER HORA ⏰, LLEGARON 3 🚌 AL EVENTO.\n"
     ]
    }
   ],
   "source": [
    "def bus_arrival() -> int:\n",
    "    buses = Poisson_process(lamda=5, T=1)\n",
    "    return buses\n",
    "\n",
    "buses = bus_arrival()\n",
    "print(f\"EN LA PRIMER HORA ⏰, LLEGARON {buses} 🚌 AL EVENTO.\")"
   ]
  },
  {
   "cell_type": "code",
   "execution_count": 34,
   "id": "93660f61",
   "metadata": {},
   "outputs": [],
   "source": [
    "def aficionates_counter(buses:int) -> int:\n",
    "    \"\"\"\n",
    "    Contador de aficionados\n",
    "\n",
    "    Args:\n",
    "        buses (int): Cantidad de autobuses que llegaron\n",
    "\n",
    "    Returns:\n",
    "        int: Cantidad de aficionados en los buses que llegaron\n",
    "    \"\"\"\n",
    "    aficionates = 0\n",
    "    for _ in range(buses):\n",
    "        bus_capacity = random_variable_aficionates()\n",
    "        aficionates += bus_capacity\n",
    "    return aficionates \n"
   ]
  },
  {
   "cell_type": "code",
   "execution_count": 84,
   "id": "02f56b47",
   "metadata": {},
   "outputs": [
    {
     "name": "stdout",
     "output_type": "stream",
     "text": [
      "EN TOTAL LLEGARON 🙋‍♂️🎉 90 aficionados.\n"
     ]
    }
   ],
   "source": [
    "print(f\"EN TOTAL LLEGARON 🙋‍♂️🎉 {aficionates_counter(buses=buses)} aficionados.\")"
   ]
  },
  {
   "cell_type": "code",
   "execution_count": 39,
   "id": "9cf15c8c",
   "metadata": {},
   "outputs": [],
   "source": [
    "#Promedio de llegadas\n",
    "def mean_aficionate_arrival(Nsim:int) -> float:\n",
    "    aficionates_samples = []\n",
    "    for _ in range(Nsim):\n",
    "        bus = bus_arrival()\n",
    "        aficionates_samples.append(aficionates_counter(buses=bus))\n",
    "    sample_mean = np.mean(aficionates_samples)\n",
    "    print(f\"EN PROMEDIO SUELEN LLEGAR 🙋‍♂️🎉 {int(np.mean(sample_mean))} aficionados.\")"
   ]
  },
  {
   "cell_type": "code",
   "execution_count": 40,
   "id": "bbc608ad",
   "metadata": {},
   "outputs": [
    {
     "name": "stdout",
     "output_type": "stream",
     "text": [
      "EN PROMEDIO SUELEN LLEGAR 🙋‍♂️🎉 150 aficionados.\n"
     ]
    }
   ],
   "source": [
    "mean_aficionate_arrival(Nsim=10000)"
   ]
  }
 ],
 "metadata": {
  "kernelspec": {
   "display_name": "venv",
   "language": "python",
   "name": "python3"
  },
  "language_info": {
   "codemirror_mode": {
    "name": "ipython",
    "version": 3
   },
   "file_extension": ".py",
   "mimetype": "text/x-python",
   "name": "python",
   "nbconvert_exporter": "python",
   "pygments_lexer": "ipython3",
   "version": "3.12.3"
  }
 },
 "nbformat": 4,
 "nbformat_minor": 5
}
