{
 "cells": [
  {
   "cell_type": "markdown",
   "id": "c05bd4c4",
   "metadata": {},
   "source": [
    "# Ejercicio 3: Método de la composición\n",
    "**a)** Suponga que es relativamente fácil generar $n$ variables aleatorias a partir de sus distribuciones de probabilidad $ F_i $, $i = 1, \\ldots, n $. Implemente un método para generar una variable aleatoria cuya distribución de probabilidad es:\n"
   ]
  },
  {
   "cell_type": "markdown",
   "id": "b45cb5ef",
   "metadata": {},
   "source": [
    "$$\n",
    "\\displaystyle F(x) = \\sum_{i=1}^{n} p_i \\cdot F_i(x) \n",
    "$$\n",
    "\n",
    "donde $p_i$ son números no negativos cuya suma es 1."
   ]
  },
  {
   "cell_type": "code",
   "execution_count": 8,
   "id": "99943858",
   "metadata": {},
   "outputs": [],
   "source": [
    "#Importaciones\n",
    "from typing import Callable\n",
    "from itertools import accumulate\n",
    "from random import random\n",
    "from math import log"
   ]
  },
  {
   "cell_type": "code",
   "execution_count": 31,
   "id": "9f760912",
   "metadata": {},
   "outputs": [],
   "source": [
    "def Fs_generator(accumulate_ps:list[float], Fs:list[Callable[[float], float]]) -> Callable[[float],float]:\n",
    "    \"\"\"\n",
    "    Generador de funciones de distribución acumulada\n",
    "\n",
    "    Args:\n",
    "        accumulate_ps (list[float]): Lista de valores acumulados\n",
    "        Fs (list[Callable[[float], float]]): Lista de funciones de distribución acumulada\n",
    "\n",
    "    Returns:\n",
    "        Callable[[float],float]: Función de distribución acumulada\n",
    "    \"\"\"\n",
    "    U = random()\n",
    "    for i in range(len(accumulate_ps)):\n",
    "        if U <= accumulate_ps[i]:\n",
    "            return Fs[i]()\n",
    "    return Fs[-1]() \n",
    "\n",
    "\n",
    "from random import random\n",
    "from math import log\n",
    "from itertools import accumulate\n",
    "from typing import Callable, List\n",
    "\n",
    "def Fs_generator(accumulate_ps: List[float], Fs: List[Callable[[], float]]) -> Callable[[], float]:\n",
    "    \"\"\"\n",
    "    Generador de variables aleatorias por composición.\n",
    "\n",
    "    Args:\n",
    "        accumulate_ps (List[float]): Probabilidades acumuladas.\n",
    "        Fs (List[Callable[[], float]]): Lista de generadores de variables aleatorias.\n",
    "\n",
    "    Returns:\n",
    "        Callable[[], float]: Función que genera valores según la mezcla.\n",
    "    \"\"\"\n",
    "    def generar_valor():\n",
    "        U = random()\n",
    "        for i, p_acum in enumerate(accumulate_ps):\n",
    "            if U <= p_acum:\n",
    "                return Fs[i]()\n",
    "        return Fs[-1]()  # Por si hay errores de redondeo\n",
    "    return generar_valor  # Devuelve una función, no un valor\n",
    "\n",
    "def F(Fs: List[Callable[[], float]], ps: List[float]) -> Callable[[], float]:\n",
    "    \"\"\"\n",
    "    Función de distribución compuesta por método de composición.\n",
    "\n",
    "    Args:\n",
    "        Fs (List[Callable[[], float]]): Generadores de variables aleatorias.\n",
    "        ps (List[float]): Probabilidades de cada componente.\n",
    "\n",
    "    Returns:\n",
    "        Callable[[], float]: Generador compuesto.\n",
    "    \"\"\"\n",
    "    assert all(p > 0 for p in ps), \"Probabilidades deben ser positivas.\"\n",
    "    assert abs(sum(ps) - 1) < 1e-9, \"Las probabilidades deben sumar 1.\"\n",
    "    assert len(Fs) == len(ps), \"Debe haber una probabilidad por cada distribución.\"\n",
    "\n",
    "    accumulate_ps = list(accumulate(ps))\n",
    "    return Fs_generator(accumulate_ps, Fs)"
   ]
  },
  {
   "cell_type": "markdown",
   "id": "c1477532",
   "metadata": {},
   "source": [
    "**b)** Genere datos usando tres exponenciales independientes con media $3$, $5$ y $7$ respectivamente y $p =\n",
    "(0.5,0.3,0.2)$. Calcule la esperanza exacta de la mezcla y estime con 10.000 repeticiones. Tenga\n",
    "cuidado con la parametrización que este usando!!"
   ]
  },
  {
   "cell_type": "code",
   "execution_count": null,
   "id": "e328398d",
   "metadata": {},
   "outputs": [],
   "source": [
    "def Exponential(lamda:float) -> float:\n",
    "    \"\"\"\n",
    "    Variable aleatoria exponencial con parámetro lambda\n",
    "\n",
    "    Args:\n",
    "        lamda (float): Parámetro de la distribución\n",
    "\n",
    "    Returns:\n",
    "        float: Valor aleatorio con distribución exponencial\n",
    "    \"\"\"\n",
    "    return -log(1-random()) / lamda\n",
    "\n",
    "\n",
    "def theorical_hope(ps: List[float], lamdas: List[float]) -> float:\n",
    "    \"\"\"\n",
    "    Calcula la esperanza exacta de una mezcla de exponenciales.\n",
    "\n",
    "    Args:\n",
    "        ps (List[float]): Probabilidades de mezcla.\n",
    "        lamdas (List[float]): Parámetros de las exponenciales.\n",
    "\n",
    "    Returns:\n",
    "        float: Esperanza teórica.\n",
    "    \"\"\"\n",
    "    return sum(p / lamda for p, lamda in zip(ps, lamdas))\n",
    "\n",
    "def hope_estimation(samples: List[float]) -> float:\n",
    "    \"\"\"Estimación de la esperanza por Monte Carlo.\"\"\"\n",
    "    return sum(samples) / len(samples)"
   ]
  },
  {
   "cell_type": "code",
   "execution_count": 60,
   "id": "ed41908a",
   "metadata": {},
   "outputs": [
    {
     "name": "stdout",
     "output_type": "stream",
     "text": [
      "E[F] = 4.4\n",
      "  θ  ≈ 4.370477\n"
     ]
    }
   ],
   "source": [
    "ps = [0.5, 0.3, 0.2]\n",
    "lamdas = [1/3, 1/5, 1/7]\n",
    "Nsim = 10_000\n",
    "Fs = [lambda lamda=lamda: Exponential(lamda) for lamda in lamdas]\n",
    "\n",
    "# F es un generador compuesto\n",
    "Z = F(Fs=Fs, ps=ps)\n",
    "\n",
    "# Generamos muestras\n",
    "samples = [Z() for _ in range(Nsim)]\n",
    "\n",
    "print(f\"E[F] = {theorical_hope(ps=ps, lamdas=lamdas)}\")\n",
    "print(f\"  θ  ≈ {hope_estimation(samples=samples):3f}\")\n"
   ]
  }
 ],
 "metadata": {
  "kernelspec": {
   "display_name": "venv",
   "language": "python",
   "name": "python3"
  },
  "language_info": {
   "codemirror_mode": {
    "name": "ipython",
    "version": 3
   },
   "file_extension": ".py",
   "mimetype": "text/x-python",
   "name": "python",
   "nbconvert_exporter": "python",
   "pygments_lexer": "ipython3",
   "version": "3.12.3"
  }
 },
 "nbformat": 4,
 "nbformat_minor": 5
}
