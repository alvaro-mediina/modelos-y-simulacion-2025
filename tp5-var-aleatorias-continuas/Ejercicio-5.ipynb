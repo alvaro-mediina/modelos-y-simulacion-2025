{
 "cells": [
  {
   "cell_type": "markdown",
   "id": "733c6df7",
   "metadata": {},
   "source": [
    "---\n",
    "# Ejercicio 5\n",
    "**a)** Considere que es sencillo generar una variable aleatoria a partir de cualquiera de las distribuciones $F_i, i = 1,...,n$. Explique cómo generar variables aleatorias a partir de las siguientes distribuciones.\n",
    "\n",
    "**Sugerencia** Si $X_i , i = 1,...,n$, son variables aleatorias independientes, donde $Xi$ tiene distribución $Fi$\n",
    ", ¿cuál variable aleatoria tiene como distribución a $F$ en cada caso?\n"
   ]
  },
  {
   "cell_type": "markdown",
   "id": "9a63e923",
   "metadata": {},
   "source": [
    "$$\n",
    "\\displaystyle F_M(x) = \\prod_{i=1}^n F_i(x)\n",
    "$$"
   ]
  },
  {
   "cell_type": "markdown",
   "id": "d5786f63",
   "metadata": {},
   "source": [
    "Tenemos que:\n",
    "$$\n",
    "\\begin{align*}\n",
    "    \\displaystyle F_M(x) &= \\prod_{i=1}^n F_i(x)\\\\[0.4cm]\n",
    "    &= F_1(x) \\ldots F_n(x)\n",
    "\\end{align*}\n",
    "$$\n",
    "\n",
    "Como $F_i(x)m i=1,\\ldots,n$, distribución de $X_i$ y los $X_i$ 's son independientes tenemos que:\n",
    "$$\n",
    "F_i(x) = P(X_i \\leq x), \\quad i=1,\\ldots,n \n",
    "$$\n",
    "\n",
    "Sea M a la variable aleatoria que es el máximo de las $X_i$:\n",
    "$$\n",
    "M = máx\\{X_1,X_2,\\ldots,X_n\\}\n",
    "$$\n",
    "Luego su función de distribución acumulada está dada por:\n",
    "\n",
    "$$\n",
    "\\displaystyle F_M(x) = \\prod_{i=1}^n F_i(x), \\quad EUREKA\n",
    "$$\n",
    "\n",
    "Luego para generar la variable aleatoria $M$ debemos seleccionar el máximo $X_i$"
   ]
  },
  {
   "cell_type": "code",
   "execution_count": 17,
   "id": "c4755538",
   "metadata": {},
   "outputs": [],
   "source": [
    "from typing import Callable\n",
    "from random import random\n",
    "from math import log\n",
    "import seaborn as sns\n",
    "import matplotlib.pyplot as plt"
   ]
  },
  {
   "cell_type": "code",
   "execution_count": 32,
   "id": "c9421e99",
   "metadata": {},
   "outputs": [],
   "source": [
    "def M(Xs:list[Callable[[],float]]) -> float:\n",
    "    \"\"\"\n",
    "    Variable aleatoria Máx{X_1,...,X_n}\n",
    "\n",
    "    Args:\n",
    "        Xs (list[Callable[[],float]]): Lista de variables aleatorias\n",
    "\n",
    "    Returns:\n",
    "        float: Máximo valor generado por las variables aleatorias\n",
    "    \"\"\"    \n",
    "    samples = [X_i() for X_i in Xs]\n",
    "    return max(samples)\n",
    "\n",
    "def M_simulation(xs: list[float]) -> float:\n",
    "    \"\"\"\n",
    "    Variable aleatoria Máx{X_1,...,X_n}\n",
    "\n",
    "    Args:\n",
    "        Xs (list[float]]): Lista de muestras aleatorias\n",
    "\n",
    "    Returns:\n",
    "        float: Máximo valor generado por las muestras aleatorias\n",
    "    \"\"\"    \n",
    "    return max(xs)"
   ]
  },
  {
   "cell_type": "markdown",
   "id": "1b0af3b4",
   "metadata": {},
   "source": [
    "$$\n",
    "\\displaystyle F_m(x) = 1 - \\prod_{i=1}^n (1 - F_i(x))\n",
    "$$"
   ]
  },
  {
   "cell_type": "markdown",
   "id": "90e5a49e",
   "metadata": {},
   "source": [
    "Tenemos por definición que $F_i(x) = P(X_i \\leq x)$, luego:\n",
    "$$\n",
    "\\begin{align*}\n",
    "    \\displaystyle F_m(x) &= 1 - \\prod_{i=1}^n (1 - F_i(x)) \\quad\\textbf{(1)} \\\\[0.3cm]\n",
    "    &= 1 - \\prod_{i=1}^n (1 - P(X_i \\leq x)) \\\\[0.3cm]\n",
    "    &= 1- \\prod_{i=1}^n P(X_i > x) \\quad\\textbf{(2)}\\\\\n",
    "\\end{align*}\n",
    "$$"
   ]
  },
  {
   "cell_type": "markdown",
   "id": "777ac4c4",
   "metadata": {},
   "source": [
    "Por otro lado como $\\displaystyle P(min(X_1,\\ldots, X_n) > x) = P(X_1 > x,\\ldots, X_n > x) = \\prod_{i=1}^n(1-F_i(x)) \\quad \\textbf{(3)} $\n",
    "\n",
    "Por **(1)** y **(2)** y **(3)** $ \\displaystyle \\Longrightarrow P(min(X_1,\\ldots, X_n) > x) = 1 - P(min(X_1,\\ldots, X_n) \\leq x)$ \n",
    "\n",
    "donde $min\\{X_1,\\ldots,X_n\\} = m \\quad \\text{variable aleatoria}$\n",
    "\n",
    "Luego $\\displaystyle P(m > x) = \\prod_{i=1}^n(1-F_i(x)) = 1 - P(m \\leq x)$\n",
    "\n"
   ]
  },
  {
   "cell_type": "code",
   "execution_count": 33,
   "id": "58796246",
   "metadata": {},
   "outputs": [],
   "source": [
    "def m(Xs:list[Callable[[],float]]) -> float:\n",
    "    \"\"\"\n",
    "    Variable aleatoria Min{X_1,...,X_n}\n",
    "\n",
    "    Args:\n",
    "        Xs (list[Callable[[],float]]): Lista de variables aleatorias\n",
    "\n",
    "    Returns:\n",
    "        float: Máximo valor generado por las variables aleatorias\n",
    "    \"\"\"    \n",
    "    samples = [X_i() for X_i in Xs]\n",
    "    return min(samples)\n",
    "\n",
    "def m_simulation(xs: list[float]) -> float:\n",
    "    \"\"\"\n",
    "    Variable aleatoria Min{X_1,...,X_n}\n",
    "\n",
    "    Args:\n",
    "        Xs (list[float]]): Lista de muestras aleatorias\n",
    "\n",
    "    Returns:\n",
    "        float: Máximo valor generado por las muestras aleatorias\n",
    "    \"\"\"    \n",
    "    return min(xs)"
   ]
  },
  {
   "cell_type": "markdown",
   "id": "0ea3f749",
   "metadata": {},
   "source": [
    "**b)** Genere una muestra de 10 valores de las variables $M$ y $m$ con distribuciones $F_M$ y $F_m$ si $X_i$ son\n",
    "exponenciales independientes con parámetros 1, 2 y 3 respectivamente."
   ]
  },
  {
   "cell_type": "code",
   "execution_count": 34,
   "id": "7097e62c",
   "metadata": {},
   "outputs": [],
   "source": [
    "def exponential(lamda:float) -> float:\n",
    "    \"\"\"\n",
    "    Variable aleatoria con distribución exponencial de parámetro lambda\n",
    "\n",
    "    Args:\n",
    "        lamda (float): parámetro de la distribución\n",
    "\n",
    "    Returns:\n",
    "        float: valor aleatorio\n",
    "    \"\"\"\n",
    "    U = 1 - random()\n",
    "    return -log(U)/lamda"
   ]
  },
  {
   "cell_type": "code",
   "execution_count": 51,
   "id": "f0d96297",
   "metadata": {},
   "outputs": [
    {
     "name": "stdout",
     "output_type": "stream",
     "text": [
      "[Muestras M] -> [5.032208867182478, 1.0909741316486257, 11.994859988032651, 1.9811217347279668, 2.4432413428512008, 4.658351735352485, 4.4478721279173605, 4.606142490400777, 1.7998212631967376, 1.9223312388521645]\n",
      "[Muestras m] -> [0.42923338735007716, 1.3294661901552776, 1.0395644842832708, 0.009166252655439508, 0.19727358686800373, 0.2981477257784472, 0.8499072171106653, 0.09293273056913082, 0.05120507273030546, 0.13686304760110193]\n"
     ]
    }
   ],
   "source": [
    "#Usando 10 muestras\n",
    "Nsamples = 10\n",
    "Xs = [\n",
    "    lambda: exponential(lamda=1),\n",
    "    lambda: exponential(lamda=1/2),\n",
    "    lambda: exponential(lamda=1/3)\n",
    "]\n",
    "\n",
    "M_samples = [M(Xs=Xs) for _ in range(Nsamples)] \n",
    "m_samples = [m(Xs=Xs) for _ in range(Nsamples)]\n",
    "\n",
    "print(f\"[Muestras M] -> {M_samples}\")\n",
    "print(f\"[Muestras m] -> {m_samples}\" )"
   ]
  },
  {
   "cell_type": "code",
   "execution_count": 40,
   "id": "d5a01f8c",
   "metadata": {},
   "outputs": [
    {
     "data": {
      "image/png": "[encoded data removed]",
      "text/plain": [
       "<Figure size 1000x500 with 1 Axes>"
      ]
     },
     "metadata": {},
     "output_type": "display_data"
    }
   ],
   "source": [
    "#Usando 5000 muestras de las generadas por las exponenciales\n",
    "Nsamples = 5000\n",
    "Xs = [\n",
    "    lambda: exponential(lamda=1),\n",
    "    lambda: exponential(lamda=1/2),\n",
    "    lambda: exponential(lamda=1/3)\n",
    "]\n",
    "\n",
    "M_samples = []\n",
    "m_samples = []\n",
    "for _ in range(Nsamples):\n",
    "    sample = [X_i() for X_i in Xs]\n",
    "    M_samples.append(M_simulation(xs=sample))\n",
    "    m_samples.append(m_simulation(xs=sample))\n",
    "\n",
    "\n",
    "sns.set_theme(style='darkgrid')\n",
    "plt.figure(figsize=(10, 5))\n",
    "sns.histplot(m_samples, stat='density', label=\"m\", color=\"salmon\")\n",
    "sns.histplot(M_samples, stat='density', label=\"M\", color=\"skyblue\")\n",
    "plt.title(\"Distribuciones de M y m (10 muestras)\")\n",
    "plt.xlabel(\"Valor\")\n",
    "plt.ylabel(\"Densidad\")\n",
    "plt.legend()\n",
    "plt.show()"
   ]
  }
 ],
 "metadata": {
  "kernelspec": {
   "display_name": "venv",
   "language": "python",
   "name": "python3"
  },
  "language_info": {
   "codemirror_mode": {
    "name": "ipython",
    "version": 3
   },
   "file_extension": ".py",
   "mimetype": "text/x-python",
   "name": "python",
   "nbconvert_exporter": "python",
   "pygments_lexer": "ipython3",
   "version": "3.12.3"
  }
 },
 "nbformat": 4,
 "nbformat_minor": 5
}
