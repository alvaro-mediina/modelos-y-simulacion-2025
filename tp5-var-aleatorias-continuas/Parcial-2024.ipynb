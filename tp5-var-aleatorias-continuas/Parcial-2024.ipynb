{
 "cells": [
  {
   "cell_type": "markdown",
   "id": "72b7dfe7",
   "metadata": {},
   "source": [
    "---\n",
    "# Ejercicio 1\n",
    "El siguiente codigo simula valores de una variable aleatoria X."
   ]
  },
  {
   "cell_type": "code",
   "execution_count": 21,
   "id": "282f04cf",
   "metadata": {},
   "outputs": [],
   "source": [
    "from random import random\n",
    "from typing import Callable\n",
    "import seaborn as sns\n",
    "import numpy as np\n",
    "import matplotlib.pyplot as plt\n",
    "sns.set_theme(style='darkgrid')\n",
    "pallete = sns.color_palette('rocket')"
   ]
  },
  {
   "cell_type": "code",
   "execution_count": null,
   "id": "327de81e",
   "metadata": {},
   "outputs": [],
   "source": [
    "A = [0,1,1,2,2,2,3,3,3]\n",
    "B = [0,0,0,1,1,2,2,2,2,2]\n",
    "\n",
    "def UrnaX():\n",
    "    U = random()\n",
    "    if U < 0.9:\n",
    "        return A[int(random() * 9)]\n",
    "    else:\n",
    "        return B[int(random() * 10)]\n",
    "\n",
    "    "
   ]
  },
  {
   "cell_type": "markdown",
   "id": "42489ebd",
   "metadata": {},
   "source": [
    "**a)** Dar la funcion de probabilidad de masa de la variable X\n",
    "\n",
    "La fpm de X está dada por:\n",
    "$$\n",
    "p_X(x) =\n",
    "\\begin{cases}\n",
    "    0.13 \\quad \\text{si } x = 0\\\\[0.3cm]\n",
    "    0.22 \\quad \\text{si } x = 1\\\\[0.3cm]\n",
    "    0.35 \\quad \\text{si } x = 2\\\\[0.3cm]\n",
    "    0.30 \\quad \\text{si } x = 3\n",
    "\\end{cases}\n",
    "$$\n"
   ]
  },
  {
   "cell_type": "code",
   "execution_count": 18,
   "id": "24f22ac3",
   "metadata": {},
   "outputs": [],
   "source": [
    "def p_X(x: int) -> float:\n",
    "    \"\"\"\n",
    "    Función de probabilidad de masa de X\n",
    "\n",
    "    Args:\n",
    "        x (int): Valor en el dominio de p\n",
    "\n",
    "    Returns:\n",
    "        float: Probabilidad para x\n",
    "    \"\"\"\n",
    "    probs = {\n",
    "        0: 0.13,\n",
    "        1: 0.22,\n",
    "        2: 0.35,\n",
    "        3: 0.30\n",
    "    }\n",
    "    return probs.get(x, 0.0)"
   ]
  },
  {
   "cell_type": "markdown",
   "id": "1af430a0",
   "metadata": {},
   "source": [
    "**b)** Dar un algoritmo basado en el metodo de aceptación y rechazo para generar valores de la misma variable. \n",
    "\n",
    "▶ Escribir el correspondiente codigo en Python *algo_x(p)* cuyo argumento sea el vector de probabilidades\n",
    "de X."
   ]
  },
  {
   "cell_type": "code",
   "execution_count": 19,
   "id": "c85d8c9b",
   "metadata": {},
   "outputs": [],
   "source": [
    "def uniformX(a:int, b:int) -> int:\n",
    "    return int(random() * (b - a + 1)) + a\n",
    "\n",
    "\n",
    "def algo_x(p:Callable[[int], float]) -> int:\n",
    "    \"\"\"\n",
    "    Variable aleatoria X\n",
    "    Utilizando Método de rechazo\n",
    "\n",
    "    Args:\n",
    "        p (Callable[[int], float]): Función de probabilidad de masa\n",
    "\n",
    "    Returns:\n",
    "        int: Valor generado entre 0 y 3\n",
    "    \"\"\"\n",
    "    while True:\n",
    "        #Simular Y\n",
    "        Y = uniformX(a=0, b=3)\n",
    "        q_Y = 1/4\n",
    "        U = random()\n",
    "        c = 0.30 #Máximo valor de probabilidad en la fpm\n",
    "        if U < p(Y) / c * q_Y:\n",
    "            return Y\n"
   ]
  },
  {
   "cell_type": "code",
   "execution_count": 45,
   "id": "013f8388",
   "metadata": {},
   "outputs": [
    {
     "data": {
      "image/png": "[encoded data removed]",
      "text/plain": [
       "<Figure size 640x480 with 1 Axes>"
      ]
     },
     "metadata": {},
     "output_type": "display_data"
    }
   ],
   "source": [
    "Nsim = 10_000\n",
    "\n",
    "MR_samples = [algo_x(p=p_X) for _ in range(Nsim)]\n",
    "Urn_samples = [UrnaX() for _ in range(Nsim)]\n",
    "x_values = [0,1,2,3]\n",
    "p_X_values = [p_X(x) for x in x_values]\n",
    "\n",
    "sns.barplot(x=x_values, y=p_X_values, color='red' , label=\"Teórica\")\n",
    "sns.histplot(Urn_samples, stat='density', discrete=True, alpha=0.5, color=pallete[0], label=\"Urna\")\n",
    "sns.histplot(MR_samples, stat='density', discrete=True, alpha=0.5, color=pallete[1], label=\"Rechazo\")\n",
    "\n",
    "plt.legend()\n",
    "plt.show()\n"
   ]
  }
 ],
 "metadata": {
  "kernelspec": {
   "display_name": "venv",
   "language": "python",
   "name": "python3"
  },
  "language_info": {
   "codemirror_mode": {
    "name": "ipython",
    "version": 3
   },
   "file_extension": ".py",
   "mimetype": "text/x-python",
   "name": "python",
   "nbconvert_exporter": "python",
   "pygments_lexer": "ipython3",
   "version": "3.12.3"
  }
 },
 "nbformat": 4,
 "nbformat_minor": 5
}
