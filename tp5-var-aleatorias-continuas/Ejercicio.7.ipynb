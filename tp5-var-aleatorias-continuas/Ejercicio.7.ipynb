{
 "cells": [
  {
   "cell_type": "markdown",
   "id": "7c77d0aa",
   "metadata": {},
   "source": [
    "---\n",
    "# Ejercicio 7"
   ]
  },
  {
   "cell_type": "markdown",
   "id": "41382046",
   "metadata": {},
   "source": [
    "**a)** Desarrolle dos métodos para generar una variable aleatoria X con densidad de probabilidad:\n",
    "\n",
    "$$\n",
    "f(x) =\n",
    "\\begin{cases}\n",
    "\\frac{1}{x}\\quad \\text{si } 1\\leq x \\leq e \\\\\n",
    "0          \\quad \\text{cc}\n",
    "\\end{cases}\n",
    "$$\n",
    "\n",
    "i. Aplicando Transformada inversa\n",
    "\n",
    "ii. Aplicando el método de aceptación y rechazo con una variable uniforme."
   ]
  },
  {
   "cell_type": "code",
   "execution_count": 5,
   "id": "d0d212f5",
   "metadata": {},
   "outputs": [],
   "source": [
    "from typing import Callable\n",
    "from random import random\n",
    "from time import time\n",
    "import numpy as np\n",
    "import seaborn as sns\n",
    "import matplotlib.pyplot as plt\n",
    "from math import e, log\n",
    "sns.set_theme(style=\"darkgrid\")"
   ]
  },
  {
   "cell_type": "markdown",
   "id": "f11c60de",
   "metadata": {},
   "source": [
    "---\n",
    "# Transformada Inversa"
   ]
  },
  {
   "cell_type": "markdown",
   "id": "4f1d7b50",
   "metadata": {},
   "source": [
    "Para aplicar el método de la transformada inversa primero debo obtener $F$ función de distribución acumulada de X.\n",
    "\n",
    "Para ello tenemos por resultados teóricos que $F'(x) = f(x)$ por ende debo hallar la antiderivada de la función, integrar :P"
   ]
  },
  {
   "cell_type": "markdown",
   "id": "6a0e5742",
   "metadata": {},
   "source": [
    "- **Si x < 1:**\n",
    "$$\n",
    "\\begin{align*}\n",
    "    \\int_{-\\infty}^{x} f(x) dx = 0\n",
    "\\end{align*}\n",
    "$$\n",
    "\n",
    "- **Si 1 $\\leq$ x**\n",
    "$$\n",
    "\\begin{align*}\n",
    "    \\int_{1}^{x} f(t) dt &= \\int_{1}^{x} \\frac{1}{t}dt\\\\[0.4cm]\n",
    "                         &= \\int_{1}^{x} t^{-1}dt\\\\[0.4cm]\n",
    "                         &= ln(t)\\bigg|_1^x \\\\[0.4cm]\n",
    "                         &= ln(x) - ln(1) \\\\[0.4cm]\n",
    "                         &= ln(x) \\\\[0.4cm]\n",
    "\\end{align*}\n",
    "$$\n",
    "\n",
    "- **Si x $\\leq$ e**\n",
    "$$\n",
    "\\begin{align*}\n",
    "    \\int_{-\\infty}^{x} f(t) dt &= \\int_{1}^{e} \\frac{1}{t}dt \\\\[0.4cm]\n",
    "                         &= \\int_{1}^{e} t^{-1}dt\\\\[0.4cm]\n",
    "                         &= ln(t)\\bigg|_1^e \\\\[0.4cm]\n",
    "                         &= ln(e) - ln(1) \\\\[0.4cm]\n",
    "                         &= 1 \\\\[0.4cm]\n",
    "\\end{align*}\n",
    "$$\n",
    "\n",
    "\n",
    "Luego resulta que $F$ está dada por:\n",
    "$$\n",
    "F(x) =\n",
    "\\begin{cases}\n",
    "0          \\quad \\text{si } x < 1  \\\\\n",
    "ln(x)      \\quad \\text{si } 1\\leq x < e \\\\\n",
    "1          \\quad \\text{si } e \\leq x \n",
    "\\end{cases}\n",
    "$$"
   ]
  },
  {
   "cell_type": "markdown",
   "id": "dc55db65",
   "metadata": {},
   "source": [
    "Luego utilizando el método de la transformada inversa resulta que:\n",
    "$$U = F^{-1}(x)$$\n",
    "\n",
    "Por ende despejando x, tenemos que:\n",
    "$$\n",
    "\\begin{align*}\n",
    "    U   &= F^{-1}(x) \\\\[0.4cm]\n",
    "    U   &= (ln(x)) \\\\[0.4cm]\n",
    "    e^U &= e^{ln(x)} \\\\[0.4cm]\n",
    "    e^U &= x\n",
    "\\end{align*}\n",
    "$$\n",
    "\n",
    "Obteniendo así:"
   ]
  },
  {
   "cell_type": "code",
   "execution_count": 4,
   "id": "7263537a",
   "metadata": {},
   "outputs": [],
   "source": [
    "def TIX() -> float:\n",
    "    \"\"\"\n",
    "    Generación de variable aleatoria\n",
    "    Por el método de la transformada inversa\n",
    "\n",
    "    Args:\n",
    "        N (int): Parámetro de función de distro. acumulada\n",
    "        (Del ejercicio) \n",
    "\n",
    "    Returns:\n",
    "        float: Valor aleatorio\n",
    "    \"\"\"\n",
    "    U = random()\n",
    "    return e ** U"
   ]
  },
  {
   "cell_type": "markdown",
   "id": "fe93cbd5",
   "metadata": {},
   "source": [
    "---\n",
    "# Método de aceptación y rechazo con uniforme\n",
    "\n",
    "Para aplicar el método de aceptación y rechazo debemos generar una variable aleatoria que simule $f(x)$, para ello se utiliza una variable $Y$ aleatoria que se supone que se sabe simular, en este caso una $Y$ que simule $g(y)$ con $g(y)=1, \\forall y \\in Dom(f)$ puesto a que se debe cumplir:\n",
    "\n",
    "$$\n",
    "\\frac{f(x)}{g(x)} \\leq c, \\quad \\text{con x para donde f y g estén definidas}\n",
    "$$\n",
    "\n",
    "Sea $h(x) = \\frac{f(x)}{g(x)}, \\forall x \\in [1, e]$\n",
    "\n",
    "Luego como: $g(x) = 1 \\Longrightarrow h(x) = f(x)$\n",
    "\n",
    "Ahora para encontrar una cota de $f$ debo analizarla, como en *Análisis Matemático I*\n",
    "- $f(x) \\text{ con } 1 \\leq x \\leq e$, i.e $\\displaystyle \\frac{1}{x}$ es una función decreciente \n",
    "- Por ende alcanza su punto máximo en el mínimo valor de $x$\n",
    "- Evaluando f en $x=1 \\Longrightarrow f(1) = 1 \\Longrightarrow c=1$ "
   ]
  },
  {
   "cell_type": "code",
   "execution_count": 13,
   "id": "5604c74a",
   "metadata": {},
   "outputs": [],
   "source": [
    "def uniform(a:float, b:float) -> float:\n",
    "    \"\"\"\n",
    "    Variable aleatoria discreta con distro. uniforme en el (a,b)\n",
    "\n",
    "    Args:\n",
    "        a (float): Lim. inferior\n",
    "        b (float): Lim. superior\n",
    "\n",
    "    Returns:\n",
    "        float: valor aleatorio entre (a, b)\n",
    "    \"\"\"\n",
    "    return int(random() * (b - a + 1)) + a\n",
    "\n",
    "def MR() -> float:\n",
    "    \"\"\"\n",
    "    Generación de variable aleatoria\n",
    "    Por el método de rechazo\n",
    "\n",
    "    Returns:\n",
    "        float: Valor aleatorio\n",
    "    \"\"\"\n",
    "    while True:\n",
    "        Y = uniform(a=1, b=e) # Simulo f\n",
    "        f_y = 1/Y\n",
    "        U = random()\n",
    "        if U < f_y:\n",
    "            return Y"
   ]
  },
  {
   "cell_type": "markdown",
   "id": "9bc98b08",
   "metadata": {},
   "source": [
    "---\n",
    "# Comparativa de gráficas"
   ]
  },
  {
   "cell_type": "code",
   "execution_count": 10,
   "id": "827df333",
   "metadata": {},
   "outputs": [],
   "source": [
    "def f(x:float) -> float:\n",
    "    \"\"\"\n",
    "    Función de densidad del ejercicio\n",
    "\n",
    "    Args:\n",
    "        x (float): parámetro de entrada\n",
    "\n",
    "    Returns:\n",
    "        float: densidad de x\n",
    "    \"\"\"\n",
    "    return np.where(\n",
    "        (1 <= x) & (x <= e),\n",
    "        1 / x,\n",
    "        0\n",
    "    )"
   ]
  },
  {
   "cell_type": "code",
   "execution_count": null,
   "id": "66da185f",
   "metadata": {},
   "outputs": [
    {
     "data": {
      "image/png": "[encoded data removed]",
      "text/plain": [
       "<Figure size 640x480 with 1 Axes>"
      ]
     },
     "metadata": {},
     "output_type": "display_data"
    }
   ],
   "source": [
    "\n",
    "x = np.linspace(1,e, 1000)\n",
    "\n",
    "\n",
    "sns.set_palette(\"Spectral\")\n",
    "sns.lineplot(x=x, y=f(x=x), label=\"f(Densidad)\")\n",
    "sns.lineplot(x=x, y=1, label=\"c(Cota)\")\n",
    "plt.title(\"Comparativa de gráficas\")\n",
    "plt.show()"
   ]
  },
  {
   "cell_type": "markdown",
   "id": "6f65e963",
   "metadata": {},
   "source": []
  }
 ],
 "metadata": {
  "kernelspec": {
   "display_name": "venv",
   "language": "python",
   "name": "python3"
  },
  "language_info": {
   "codemirror_mode": {
    "name": "ipython",
    "version": 3
   },
   "file_extension": ".py",
   "mimetype": "text/x-python",
   "name": "python",
   "nbconvert_exporter": "python",
   "pygments_lexer": "ipython3",
   "version": "3.12.3"
  }
 },
 "nbformat": 4,
 "nbformat_minor": 5
}
